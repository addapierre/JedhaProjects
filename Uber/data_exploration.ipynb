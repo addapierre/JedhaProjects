{
 "cells": [
  {
   "cell_type": "code",
   "execution_count": 84,
   "metadata": {},
   "outputs": [],
   "source": [
    "import pandas as pd\n",
    "import numpy as np\n",
    "import re\n",
    "import json\n",
    "\n",
    "from sklearn.cluster import KMeans\n",
    "from sklearn.metrics import silhouette_score\n"
   ]
  },
  {
   "cell_type": "code",
   "execution_count": 7,
   "metadata": {},
   "outputs": [
    {
     "name": "stdout",
     "output_type": "stream",
     "text": [
      "<class 'pandas.core.frame.DataFrame'>\n",
      "RangeIndex: 796121 entries, 0 to 796120\n",
      "Data columns (total 4 columns):\n",
      " #   Column     Non-Null Count   Dtype  \n",
      "---  ------     --------------   -----  \n",
      " 0   Date/Time  796121 non-null  object \n",
      " 1   Lat        796121 non-null  float64\n",
      " 2   Lon        796121 non-null  float64\n",
      " 3   Base       796121 non-null  object \n",
      "dtypes: float64(2), object(2)\n",
      "memory usage: 24.3+ MB\n"
     ]
    }
   ],
   "source": [
    "jul = pd.read_csv('uber-trip-data/Juillet.csv')\n",
    "jul.info()"
   ]
  },
  {
   "cell_type": "code",
   "execution_count": 114,
   "metadata": {},
   "outputs": [],
   "source": [
    "df = pd.read_csv('uber-trip-data/Juillet.csv', usecols=['Date/Time', 'Lat', 'Lon'], dtype={'Lat' : np.float32, 'Lon' : np.float32 })\n",
    "df.rename(columns={'Date/Time':'date'}, inplace = True)\n",
    "df['hour'] = df.date.apply(lambda x: int(re.search(' \\d*\\d:', x).group()[:-1]))\n",
    "df.date = df.date.apply( lambda x : re.match(r'\\d+/\\d+/\\d+ ', x).group(0))\n",
    "df.date = pd.to_datetime(df.date)\n",
    "df['dayofweek'] = df.date.dt.dayofweek\n",
    "df.to_csv('uber-trip-data/Juillet.csv', index = False)"
   ]
  },
  {
   "cell_type": "code",
   "execution_count": 118,
   "metadata": {},
   "outputs": [],
   "source": [
    "df = pd.read_csv('uber-trip-data/Aout.csv', usecols=['Date/Time', 'Lat', 'Lon'], dtype={'Lat' : np.float32, 'Lon' : np.float32 })\n",
    "df.rename(columns={'Date/Time':'date'}, inplace = True)\n",
    "df['hour'] = df.date.apply(lambda x: int(re.search(' \\d*\\d:', x).group()[:-1]))\n",
    "df.date = df.date.apply( lambda x : re.match(r'\\d+/\\d+/\\d+ ', x).group(0))\n",
    "df.date = pd.to_datetime(df.date)\n",
    "df['dayofweek'] = df.date.dt.dayofweek\n",
    "df.to_csv('uber-trip-data/Aout.csv', index = False)"
   ]
  },
  {
   "cell_type": "code",
   "execution_count": 120,
   "metadata": {},
   "outputs": [],
   "source": [
    "df = pd.read_csv('uber-trip-data/Juin.csv', usecols=['Date/Time', 'Lat', 'Lon'], dtype={'Lat' : np.float32, 'Lon' : np.float32 })\n",
    "df.rename(columns={'Date/Time':'date'}, inplace = True)\n",
    "df['hour'] = df.date.apply(lambda x: int(re.search(' \\d*\\d:', x).group()[:-1]))\n",
    "df.date = df.date.apply( lambda x : re.match(r'\\d+/\\d+/\\d+ ', x).group(0))\n",
    "df.date = pd.to_datetime(df.date)\n",
    "df['dayofweek'] = df.date.dt.dayofweek\n",
    "df.to_csv('uber-trip-data/Juin.csv', index = False)"
   ]
  },
  {
   "cell_type": "code",
   "execution_count": 121,
   "metadata": {},
   "outputs": [],
   "source": [
    "df = pd.read_csv('uber-trip-data/Mai.csv', usecols=['Date/Time', 'Lat', 'Lon'], dtype={'Lat' : np.float32, 'Lon' : np.float32 })\n",
    "df.rename(columns={'Date/Time':'date'}, inplace = True)\n",
    "df['hour'] = df.date.apply(lambda x: int(re.search(' \\d*\\d:', x).group()[:-1]))\n",
    "df.date = df.date.apply( lambda x : re.match(r'\\d+/\\d+/\\d+ ', x).group(0))\n",
    "df.date = pd.to_datetime(df.date)\n",
    "df['dayofweek'] = df.date.dt.dayofweek\n",
    "df.to_csv('uber-trip-data/Mai.csv', index = False)"
   ]
  },
  {
   "cell_type": "code",
   "execution_count": 123,
   "metadata": {},
   "outputs": [
    {
     "data": {
      "text/html": [
       "<div>\n",
       "<style scoped>\n",
       "    .dataframe tbody tr th:only-of-type {\n",
       "        vertical-align: middle;\n",
       "    }\n",
       "\n",
       "    .dataframe tbody tr th {\n",
       "        vertical-align: top;\n",
       "    }\n",
       "\n",
       "    .dataframe thead th {\n",
       "        text-align: right;\n",
       "    }\n",
       "</style>\n",
       "<table border=\"1\" class=\"dataframe\">\n",
       "  <thead>\n",
       "    <tr style=\"text-align: right;\">\n",
       "      <th></th>\n",
       "      <th>date</th>\n",
       "      <th>Lat</th>\n",
       "      <th>Lon</th>\n",
       "      <th>hour</th>\n",
       "      <th>dayofweek</th>\n",
       "    </tr>\n",
       "  </thead>\n",
       "  <tbody>\n",
       "    <tr>\n",
       "      <th>0</th>\n",
       "      <td>2014-05-01</td>\n",
       "      <td>40.752102</td>\n",
       "      <td>-73.991402</td>\n",
       "      <td>0</td>\n",
       "      <td>3</td>\n",
       "    </tr>\n",
       "    <tr>\n",
       "      <th>1</th>\n",
       "      <td>2014-05-01</td>\n",
       "      <td>40.696499</td>\n",
       "      <td>-73.971497</td>\n",
       "      <td>0</td>\n",
       "      <td>3</td>\n",
       "    </tr>\n",
       "    <tr>\n",
       "      <th>2</th>\n",
       "      <td>2014-05-01</td>\n",
       "      <td>40.746399</td>\n",
       "      <td>-73.983803</td>\n",
       "      <td>0</td>\n",
       "      <td>3</td>\n",
       "    </tr>\n",
       "    <tr>\n",
       "      <th>3</th>\n",
       "      <td>2014-05-01</td>\n",
       "      <td>40.746300</td>\n",
       "      <td>-74.001099</td>\n",
       "      <td>0</td>\n",
       "      <td>3</td>\n",
       "    </tr>\n",
       "    <tr>\n",
       "      <th>4</th>\n",
       "      <td>2014-05-01</td>\n",
       "      <td>40.759399</td>\n",
       "      <td>-73.973396</td>\n",
       "      <td>0</td>\n",
       "      <td>3</td>\n",
       "    </tr>\n",
       "    <tr>\n",
       "      <th>...</th>\n",
       "      <td>...</td>\n",
       "      <td>...</td>\n",
       "      <td>...</td>\n",
       "      <td>...</td>\n",
       "      <td>...</td>\n",
       "    </tr>\n",
       "    <tr>\n",
       "      <th>652430</th>\n",
       "      <td>2014-05-31</td>\n",
       "      <td>40.730900</td>\n",
       "      <td>-74.001404</td>\n",
       "      <td>23</td>\n",
       "      <td>5</td>\n",
       "    </tr>\n",
       "    <tr>\n",
       "      <th>652431</th>\n",
       "      <td>2014-05-31</td>\n",
       "      <td>40.752800</td>\n",
       "      <td>-73.979797</td>\n",
       "      <td>23</td>\n",
       "      <td>5</td>\n",
       "    </tr>\n",
       "    <tr>\n",
       "      <th>652432</th>\n",
       "      <td>2014-05-31</td>\n",
       "      <td>40.715801</td>\n",
       "      <td>-73.951897</td>\n",
       "      <td>23</td>\n",
       "      <td>5</td>\n",
       "    </tr>\n",
       "    <tr>\n",
       "      <th>652433</th>\n",
       "      <td>2014-05-31</td>\n",
       "      <td>40.696098</td>\n",
       "      <td>-73.899696</td>\n",
       "      <td>23</td>\n",
       "      <td>5</td>\n",
       "    </tr>\n",
       "    <tr>\n",
       "      <th>652434</th>\n",
       "      <td>2014-05-31</td>\n",
       "      <td>40.739300</td>\n",
       "      <td>-73.991898</td>\n",
       "      <td>23</td>\n",
       "      <td>5</td>\n",
       "    </tr>\n",
       "  </tbody>\n",
       "</table>\n",
       "<p>652435 rows × 5 columns</p>\n",
       "</div>"
      ],
      "text/plain": [
       "             date        Lat        Lon  hour  dayofweek\n",
       "0      2014-05-01  40.752102 -73.991402     0          3\n",
       "1      2014-05-01  40.696499 -73.971497     0          3\n",
       "2      2014-05-01  40.746399 -73.983803     0          3\n",
       "3      2014-05-01  40.746300 -74.001099     0          3\n",
       "4      2014-05-01  40.759399 -73.973396     0          3\n",
       "...           ...        ...        ...   ...        ...\n",
       "652430 2014-05-31  40.730900 -74.001404    23          5\n",
       "652431 2014-05-31  40.752800 -73.979797    23          5\n",
       "652432 2014-05-31  40.715801 -73.951897    23          5\n",
       "652433 2014-05-31  40.696098 -73.899696    23          5\n",
       "652434 2014-05-31  40.739300 -73.991898    23          5\n",
       "\n",
       "[652435 rows x 5 columns]"
      ]
     },
     "execution_count": 123,
     "metadata": {},
     "output_type": "execute_result"
    }
   ],
   "source": [
    "df"
   ]
  },
  {
   "cell_type": "code",
   "execution_count": 39,
   "metadata": {},
   "outputs": [],
   "source": [
    "ddf = ddf.to_json()"
   ]
  },
  {
   "cell_type": "code",
   "execution_count": 37,
   "metadata": {},
   "outputs": [],
   "source": [
    "pd.read_json(ddf, dtype={'Lat' : np.float16, 'Lon' : np.float16 })"
   ]
  },
  {
   "cell_type": "code",
   "execution_count": 43,
   "metadata": {},
   "outputs": [
    {
     "data": {
      "text/plain": [
       "array([[ 40.75, -74.  ],\n",
       "       [ 40.75, -74.  ],\n",
       "       [ 40.72, -74.  ],\n",
       "       ...,\n",
       "       [ 40.7 , -73.94],\n",
       "       [ 40.72, -74.  ],\n",
       "       [ 40.72, -74.  ]], dtype=float16)"
      ]
     },
     "execution_count": 43,
     "metadata": {},
     "output_type": "execute_result"
    }
   ],
   "source": [
    "df[['Lat', 'Lon']].values"
   ]
  },
  {
   "cell_type": "code",
   "execution_count": 45,
   "metadata": {},
   "outputs": [
    {
     "data": {
      "text/plain": [
       "14"
      ]
     },
     "execution_count": 45,
     "metadata": {},
     "output_type": "execute_result"
    }
   ],
   "source": [
    "range(1,15)[-1]"
   ]
  },
  {
   "cell_type": "code",
   "execution_count": 60,
   "metadata": {},
   "outputs": [],
   "source": [
    "tt = [4,5,6]\n",
    "kk = 4\n",
    "pp = {'tt' : tt, 'kk' : kk}\n",
    "ll = json.dumps(pp)"
   ]
  },
  {
   "cell_type": "code",
   "execution_count": 61,
   "metadata": {},
   "outputs": [
    {
     "data": {
      "text/plain": [
       "'{\"tt\": [4, 5, 6], \"kk\": 4}'"
      ]
     },
     "execution_count": 61,
     "metadata": {},
     "output_type": "execute_result"
    }
   ],
   "source": [
    "ll"
   ]
  },
  {
   "cell_type": "code",
   "execution_count": 64,
   "metadata": {},
   "outputs": [
    {
     "data": {
      "text/plain": [
       "{'tt': [4, 5, 6], 'kk': 4}"
      ]
     },
     "execution_count": 64,
     "metadata": {},
     "output_type": "execute_result"
    }
   ],
   "source": [
    "json.loads(ll)"
   ]
  },
  {
   "cell_type": "code",
   "execution_count": 98,
   "metadata": {},
   "outputs": [],
   "source": [
    "    filepath = './uber-trip-data/' + 'Juillet' + '.csv'\n",
    "    full_month =  pd.read_csv(filepath, usecols=['Date/Time', 'Lat', 'Lon'], dtype={'Lat' : np.float32, 'Lon' : np.float32 })\n",
    "    full_month.rename(columns={'Date/Time':'date'}, inplace = True)\n",
    "\n",
    "    # Selection des heures\n",
    "    hour = full_month.date.apply(lambda x: int(re.search(' \\d*\\d:', x).group()[:-1]))\n",
    "    full_month.date = full_month.date.apply( lambda x : re.match(r'\\d+/\\d+/\\d+ ', x).group(0))\n",
    "    full_month = full_month.loc[(hour >= 10 ) & (hour <= 11 ), :].copy()\n",
    "\n",
    "    # Selection du jour\n",
    "    full_month.loc[:, 'date'] = pd.to_datetime(full_month['date'])\n",
    "    full_month = full_month.loc[full_month.date.dt.dayofweek == 0, :]\n",
    "    df = full_month.copy()"
   ]
  },
  {
   "cell_type": "code",
   "execution_count": 94,
   "metadata": {},
   "outputs": [],
   "source": [
    "\n",
    "elbow = []\n",
    "kmeans_list = []\n",
    "k = []\n",
    "best_elbow = 0\n",
    "X = df[['Lat', 'Lon']].values\n",
    "\n",
    "    \n",
    "\n",
    "for i in (range_elbow := range(1, 15)) :\n",
    "    kmeans = KMeans(n_clusters=i, random_state=0)\n",
    "    kmeans.fit(X)\n",
    "    kmeans_list.append(kmeans.labels_.tolist())\n",
    "    elbow.append(kmeans.inertia_)\n",
    "    k.append(i)\n",
    "elbow = np.asarray(elbow)\n",
    "elbow = elbow / elbow[0]\n",
    "#Approximation du meilleur elbow\n",
    "pente = (elbow[-1]-elbow[0])/(range_elbow[-1]-range_elbow[0])\n",
    "for i in range_elbow[1:]:\n",
    "    d_elbow = elbow[i]-elbow[i-1]\n",
    "    if d_elbow > pente:\n",
    "        best_elbow = i\n",
    "        break\n",
    "\n",
    "    \n",
    "elbow_json = json.dumps({'kmeans_list' : kmeans_list, 'best_elbow': best_elbow})\n",
    "\n"
   ]
  },
  {
   "cell_type": "code",
   "execution_count": 93,
   "metadata": {},
   "outputs": [
    {
     "data": {
      "text/plain": [
       "int"
      ]
     },
     "execution_count": 93,
     "metadata": {},
     "output_type": "execute_result"
    }
   ],
   "source": [
    "type(json.loads(elbow_json)['kmeans_list'][1][0])"
   ]
  },
  {
   "cell_type": "code",
   "execution_count": 95,
   "metadata": {},
   "outputs": [],
   "source": [
    "kmeans_list, best_elbow  = json.loads(elbow_json)['kmeans_list'], json.loads(elbow_json)['best_elbow']\n",
    "\n",
    "X = np.asarray(df[['Lat', 'Lon']])\n",
    "\n",
    "##global best_sil, best_kmeans\n",
    "sil = []\n",
    "k = []\n",
    "if best_elbow + 6 < 15:\n",
    "    for i in range(best_elbow, best_elbow + 6):\n",
    "        sil.append(silhouette_score(X, kmeans_list[i]))\n",
    "        k.append(i)\n",
    "else:\n",
    "    for i in range(best_elbow, 15):\n",
    "        sil.append(silhouette_score(X, kmeans_list[i]))\n",
    "        k.append(i)\n",
    "sil = np.asarray(sil)\n",
    "best_sil = k[sil.argsort()[-1]]\n",
    "best_kmeans = kmeans_list[best_sil]\n",
    "\n",
    "best_json = json.dumps({'best_sil' : best_sil, 'best_kmeans' : best_kmeans})\n"
   ]
  },
  {
   "cell_type": "code",
   "execution_count": 99,
   "metadata": {},
   "outputs": [
    {
     "data": {
      "text/html": [
       "<div>\n",
       "<style scoped>\n",
       "    .dataframe tbody tr th:only-of-type {\n",
       "        vertical-align: middle;\n",
       "    }\n",
       "\n",
       "    .dataframe tbody tr th {\n",
       "        vertical-align: top;\n",
       "    }\n",
       "\n",
       "    .dataframe thead th {\n",
       "        text-align: right;\n",
       "    }\n",
       "</style>\n",
       "<table border=\"1\" class=\"dataframe\">\n",
       "  <thead>\n",
       "    <tr style=\"text-align: right;\">\n",
       "      <th></th>\n",
       "      <th>date</th>\n",
       "      <th>Lat</th>\n",
       "      <th>Lon</th>\n",
       "    </tr>\n",
       "  </thead>\n",
       "  <tbody>\n",
       "    <tr>\n",
       "      <th>4865</th>\n",
       "      <td>2014-07-07</td>\n",
       "      <td>40.644699</td>\n",
       "      <td>-73.782303</td>\n",
       "    </tr>\n",
       "    <tr>\n",
       "      <th>4866</th>\n",
       "      <td>2014-07-07</td>\n",
       "      <td>40.746799</td>\n",
       "      <td>-73.995796</td>\n",
       "    </tr>\n",
       "    <tr>\n",
       "      <th>4867</th>\n",
       "      <td>2014-07-07</td>\n",
       "      <td>40.768299</td>\n",
       "      <td>-73.862198</td>\n",
       "    </tr>\n",
       "    <tr>\n",
       "      <th>4868</th>\n",
       "      <td>2014-07-07</td>\n",
       "      <td>40.768299</td>\n",
       "      <td>-73.862198</td>\n",
       "    </tr>\n",
       "    <tr>\n",
       "      <th>4869</th>\n",
       "      <td>2014-07-07</td>\n",
       "      <td>40.765301</td>\n",
       "      <td>-73.975197</td>\n",
       "    </tr>\n",
       "    <tr>\n",
       "      <th>...</th>\n",
       "      <td>...</td>\n",
       "      <td>...</td>\n",
       "      <td>...</td>\n",
       "    </tr>\n",
       "    <tr>\n",
       "      <th>795008</th>\n",
       "      <td>2014-07-28</td>\n",
       "      <td>40.723999</td>\n",
       "      <td>-73.989998</td>\n",
       "    </tr>\n",
       "    <tr>\n",
       "      <th>795009</th>\n",
       "      <td>2014-07-28</td>\n",
       "      <td>40.750702</td>\n",
       "      <td>-73.992599</td>\n",
       "    </tr>\n",
       "    <tr>\n",
       "      <th>795010</th>\n",
       "      <td>2014-07-28</td>\n",
       "      <td>40.759602</td>\n",
       "      <td>-73.967903</td>\n",
       "    </tr>\n",
       "    <tr>\n",
       "      <th>795011</th>\n",
       "      <td>2014-07-28</td>\n",
       "      <td>40.743999</td>\n",
       "      <td>-73.987801</td>\n",
       "    </tr>\n",
       "    <tr>\n",
       "      <th>795012</th>\n",
       "      <td>2014-07-28</td>\n",
       "      <td>40.768299</td>\n",
       "      <td>-73.957603</td>\n",
       "    </tr>\n",
       "  </tbody>\n",
       "</table>\n",
       "<p>6915 rows × 3 columns</p>\n",
       "</div>"
      ],
      "text/plain": [
       "             date        Lat        Lon\n",
       "4865   2014-07-07  40.644699 -73.782303\n",
       "4866   2014-07-07  40.746799 -73.995796\n",
       "4867   2014-07-07  40.768299 -73.862198\n",
       "4868   2014-07-07  40.768299 -73.862198\n",
       "4869   2014-07-07  40.765301 -73.975197\n",
       "...           ...        ...        ...\n",
       "795008 2014-07-28  40.723999 -73.989998\n",
       "795009 2014-07-28  40.750702 -73.992599\n",
       "795010 2014-07-28  40.759602 -73.967903\n",
       "795011 2014-07-28  40.743999 -73.987801\n",
       "795012 2014-07-28  40.768299 -73.957603\n",
       "\n",
       "[6915 rows x 3 columns]"
      ]
     },
     "execution_count": 99,
     "metadata": {},
     "output_type": "execute_result"
    }
   ],
   "source": [
    "df"
   ]
  },
  {
   "cell_type": "code",
   "execution_count": 124,
   "metadata": {},
   "outputs": [
    {
     "data": {
      "text/plain": [
       "'{\"kmeans_list\": [], \"i\": 0}'"
      ]
     },
     "execution_count": 124,
     "metadata": {},
     "output_type": "execute_result"
    }
   ],
   "source": [
    "json.dumps({'kmeans_list' : [], 'i': 0})\n"
   ]
  },
  {
   "cell_type": "code",
   "execution_count": 127,
   "metadata": {},
   "outputs": [
    {
     "data": {
      "text/plain": [
       "[1]"
      ]
     },
     "execution_count": 127,
     "metadata": {},
     "output_type": "execute_result"
    }
   ],
   "source": [
    "#e&&!!e.circular}"
   ]
  }
 ],
 "metadata": {
  "interpreter": {
   "hash": "dc828690f4a5a1e139d778a9da2b25ae0eb3628e122c41d57ce95a321c89e00f"
  },
  "kernelspec": {
   "display_name": "Python 3.9.7 64-bit ('uberenv': conda)",
   "language": "python",
   "name": "python3"
  },
  "language_info": {
   "codemirror_mode": {
    "name": "ipython",
    "version": 3
   },
   "file_extension": ".py",
   "mimetype": "text/x-python",
   "name": "python",
   "nbconvert_exporter": "python",
   "pygments_lexer": "ipython3",
   "version": "3.9.7"
  },
  "orig_nbformat": 4
 },
 "nbformat": 4,
 "nbformat_minor": 2
}
