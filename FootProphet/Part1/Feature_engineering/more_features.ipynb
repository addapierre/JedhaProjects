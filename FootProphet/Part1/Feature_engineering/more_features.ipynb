{
 "cells": [
  {
   "cell_type": "code",
   "execution_count": 53,
   "metadata": {},
   "outputs": [],
   "source": [
    "import pandas as pd\n",
    "import numpy as np\n",
    "import os\n",
    "from tqdm import tqdm\n",
    "tqdm.pandas()\n",
    "pd.options.display.max_columns = None"
   ]
  },
  {
   "cell_type": "code",
   "execution_count": 4,
   "metadata": {},
   "outputs": [],
   "source": [
    "clubs = pd.read_csv('../data/games/clubs.csv', index_col = 0)\n",
    "leagues = pd.read_csv('../data/games/leagues.csv', index_col = 0)\n",
    "games = pd.read_csv('../data/games/games.csv', index_col = 0,\n",
    "                   dtype = {'game_id' : np.int32, 'season' : np.int16, 'home_club_id' : np.int32, 'home_club_id' : np.int32,\n",
    "                           'home_club_goals' : np.int8, 'away_club_goals' : np.int8})\n",
    "\n",
    "players = pd.read_csv('../data/games/players.csv', index_col = 0,\n",
    "                     dtype = {'player_id' : np.int32, 'player_club_id' : np.int16})\n",
    "\n",
    "appearance = pd.read_csv('../data/games/appearance.csv', index_col = 0)\n"
   ]
  },
  {
   "cell_type": "code",
   "execution_count": 5,
   "metadata": {},
   "outputs": [],
   "source": [
    "train_df = pd.read_csv(\"../data/training_data/train_final.csv\", index_col = 0)\n",
    "train_df = train_df.astype(dtype={x:np.float16 for x in train_df.columns[1:-1]})\n",
    "\n"
   ]
  },
  {
   "cell_type": "code",
   "execution_count": 13,
   "metadata": {},
   "outputs": [],
   "source": [
    "games.date = pd.to_datetime(games.date)"
   ]
  },
  {
   "cell_type": "code",
   "execution_count": 15,
   "metadata": {},
   "outputs": [
    {
     "data": {
      "text/html": [
       "<div>\n",
       "<style scoped>\n",
       "    .dataframe tbody tr th:only-of-type {\n",
       "        vertical-align: middle;\n",
       "    }\n",
       "\n",
       "    .dataframe tbody tr th {\n",
       "        vertical-align: top;\n",
       "    }\n",
       "\n",
       "    .dataframe thead th {\n",
       "        text-align: right;\n",
       "    }\n",
       "</style>\n",
       "<table border=\"1\" class=\"dataframe\">\n",
       "  <thead>\n",
       "    <tr style=\"text-align: right;\">\n",
       "      <th></th>\n",
       "      <th>game_id</th>\n",
       "      <th>H_GK</th>\n",
       "      <th>H_GK_overall</th>\n",
       "      <th>H_GK_potential</th>\n",
       "      <th>H_GK_attacking_crossing</th>\n",
       "      <th>H_GK_attacking_heading_accuracy</th>\n",
       "      <th>H_GK_skill_curve</th>\n",
       "      <th>H_GK_skill_fk_accuracy</th>\n",
       "      <th>H_GK_movement_agility</th>\n",
       "      <th>H_GK_movement_reactions</th>\n",
       "      <th>...</th>\n",
       "      <th>A_MF_movement_reactions</th>\n",
       "      <th>A_MF_movement_balance</th>\n",
       "      <th>A_MF_power_shot_power</th>\n",
       "      <th>A_MF_power_jumping</th>\n",
       "      <th>A_MF_power_stamina</th>\n",
       "      <th>A_MF_mentality_aggression</th>\n",
       "      <th>A_MF_mentality_positioning</th>\n",
       "      <th>A_MF_mentality_penalties</th>\n",
       "      <th>A_MF_mentality_composure</th>\n",
       "      <th>Home_result</th>\n",
       "    </tr>\n",
       "  </thead>\n",
       "  <tbody>\n",
       "    <tr>\n",
       "      <th>0</th>\n",
       "      <td>2457642</td>\n",
       "      <td>1.0</td>\n",
       "      <td>70.0</td>\n",
       "      <td>70.0</td>\n",
       "      <td>25.0</td>\n",
       "      <td>25.0</td>\n",
       "      <td>25.0</td>\n",
       "      <td>25.0</td>\n",
       "      <td>36.0</td>\n",
       "      <td>65.0</td>\n",
       "      <td>...</td>\n",
       "      <td>75.25</td>\n",
       "      <td>73.5</td>\n",
       "      <td>73.5625</td>\n",
       "      <td>63.375</td>\n",
       "      <td>78.8125</td>\n",
       "      <td>59.28125</td>\n",
       "      <td>74.75</td>\n",
       "      <td>67.125</td>\n",
       "      <td>0.0</td>\n",
       "      <td>1</td>\n",
       "    </tr>\n",
       "  </tbody>\n",
       "</table>\n",
       "<p>1 rows × 176 columns</p>\n",
       "</div>"
      ],
      "text/plain": [
       "   game_id  H_GK  H_GK_overall  H_GK_potential  H_GK_attacking_crossing  \\\n",
       "0  2457642   1.0          70.0            70.0                     25.0   \n",
       "\n",
       "   H_GK_attacking_heading_accuracy  H_GK_skill_curve  H_GK_skill_fk_accuracy  \\\n",
       "0                             25.0              25.0                    25.0   \n",
       "\n",
       "   H_GK_movement_agility  H_GK_movement_reactions  ...  \\\n",
       "0                   36.0                     65.0  ...   \n",
       "\n",
       "   A_MF_movement_reactions  A_MF_movement_balance  A_MF_power_shot_power  \\\n",
       "0                    75.25                   73.5                73.5625   \n",
       "\n",
       "   A_MF_power_jumping  A_MF_power_stamina  A_MF_mentality_aggression  \\\n",
       "0              63.375             78.8125                   59.28125   \n",
       "\n",
       "   A_MF_mentality_positioning  A_MF_mentality_penalties  \\\n",
       "0                       74.75                    67.125   \n",
       "\n",
       "   A_MF_mentality_composure  Home_result  \n",
       "0                       0.0            1  \n",
       "\n",
       "[1 rows x 176 columns]"
      ]
     },
     "execution_count": 15,
     "metadata": {},
     "output_type": "execute_result"
    }
   ],
   "source": [
    "train_df.head(1)"
   ]
  },
  {
   "cell_type": "code",
   "execution_count": 29,
   "metadata": {},
   "outputs": [],
   "source": [
    "games.drop(columns = ['competition_code', 'season', 'round','home_club_position', 'away_club_position', 'stadium', 'attendance',\n",
    "       'referee', 'url'], inplace = True)\n",
    "       \n",
    "appearance.drop(columns = ['player_id','appearance_id', 'competition_id', 'goals', 'assists', 'minutes_played'], inplace = True)"
   ]
  },
  {
   "cell_type": "code",
   "execution_count": 91,
   "metadata": {},
   "outputs": [],
   "source": [
    "appearance = appearance.astype(dtype={ 'player_club_id':np.int32, 'yellow_cards':np.int8, 'red_cards':np.int8})"
   ]
  },
  {
   "cell_type": "code",
   "execution_count": 84,
   "metadata": {},
   "outputs": [],
   "source": [
    "def get_home_history(game_id):\n",
    "    target_game = games.loc[games.game_id == game_id,:]\n",
    "    ten_last_games = games.loc[((games.home_club_id == target_game['home_club_id'].values[0]) | (games.away_club_id == target_game['home_club_id'].values[0]))\\\n",
    "        & (games.date < target_game['date'].values[0]) ,:].sort_values('date',ascending=False)[:10]\n",
    "        \n",
    "    last_results = ten_last_games.results.value_counts()\n",
    "    try:\n",
    "        wins = last_results['W']\n",
    "    except:\n",
    "        wins = 0\n",
    "    try:\n",
    "        draws = last_results['D']\n",
    "    except:\n",
    "        draws = 0\n",
    "    try:\n",
    "        loss = last_results['L']\n",
    "    except:\n",
    "        loss = 0\n",
    "\n",
    "    goal_scored = ten_last_games.loc[ten_last_games.home_club_id == target_game['home_club_id'].values[0],'home_club_goals'].sum()\\\n",
    "        + ten_last_games.loc[ten_last_games.away_club_id == target_game['home_club_id'].values[0],'away_club_goals'].sum()\n",
    "\n",
    "    goals_conceded = ten_last_games.loc[ten_last_games.home_club_id == target_game['home_club_id'].values[0],'away_club_goals'].sum()\\\n",
    "        + ten_last_games.loc[ten_last_games.away_club_id == target_game['home_club_id'].values[0],'home_club_goals'].sum()\n",
    "\n",
    "    cards = appearance.loc[(appearance.game_id.isin(ten_last_games.game_id.values)) \\\n",
    "        & (appearance.player_club_id == target_game['home_club_id'].values[0]),\\\n",
    "            ['yellow_cards','red_cards']].sum()\n",
    "    \n",
    "    res = {'H_wins': wins, 'H_draws': draws , 'H_loss': loss,\\\n",
    "        'H_goal_scored': goal_scored, 'H_goals_conceded' : goals_conceded, 'H_yellow_cards' : cards['yellow_cards'], 'H_red_cards' : cards['red_cards']}\n",
    "    \n",
    "    return pd.Series(res)\n",
    "    \n",
    "    \n"
   ]
  },
  {
   "cell_type": "code",
   "execution_count": 102,
   "metadata": {},
   "outputs": [],
   "source": [
    "def get_away_history(game_id):\n",
    "    target_game = games.loc[games.game_id == game_id,:]\n",
    "    target_club = target_game['away_club_id'].values[0]\n",
    "    ten_last_games = games.loc[((games.home_club_id == target_club) | (games.away_club_id == target_club))\\\n",
    "        & (games.date < target_game['date'].values[0]) ,:].sort_values('date',ascending=False)[:10]\n",
    "        \n",
    "    last_results = ten_last_games.results.value_counts()\n",
    "    try:\n",
    "        wins = last_results['W']\n",
    "    except:\n",
    "        wins = 0\n",
    "    try:\n",
    "        draws = last_results['D']\n",
    "    except:\n",
    "        draws = 0\n",
    "    try:\n",
    "        loss = last_results['L']\n",
    "    except:\n",
    "        loss = 0\n",
    "\n",
    "    goal_scored = ten_last_games.loc[ten_last_games.home_club_id == target_club,'home_club_goals'].sum()\\\n",
    "        + ten_last_games.loc[ten_last_games.away_club_id == target_club,'away_club_goals'].sum()\n",
    "\n",
    "    goals_conceded = ten_last_games.loc[ten_last_games.home_club_id == target_club,'away_club_goals'].sum()\\\n",
    "        + ten_last_games.loc[ten_last_games.away_club_id == target_club,'home_club_goals'].sum()\n",
    "\n",
    "    cards = appearance.loc[(appearance.game_id.isin(ten_last_games.game_id.values)) \\\n",
    "        & (appearance.player_club_id == target_club),\\\n",
    "            ['yellow_cards','red_cards']].sum()\n",
    "    \n",
    "    res = {'A_wins': wins, 'A_draws': draws , 'A_loss': loss,\\\n",
    "        'A_goal_scored': goal_scored, 'A_goals_conceded' : goals_conceded, 'A_yellow_cards' : cards['yellow_cards'], 'A_red_cards' : cards['red_cards']}\n",
    "    \n",
    "    return pd.Series(res)\n",
    "    \n",
    "    \n"
   ]
  },
  {
   "cell_type": "code",
   "execution_count": 92,
   "metadata": {},
   "outputs": [
    {
     "name": "stderr",
     "output_type": "stream",
     "text": [
      "100%|██████████| 29545/29545 [13:17<00:00, 37.06it/s]\n"
     ]
    }
   ],
   "source": [
    "home_features = train_df.game_id.progress_apply(get_home_history)"
   ]
  },
  {
   "cell_type": "code",
   "execution_count": 103,
   "metadata": {},
   "outputs": [
    {
     "name": "stderr",
     "output_type": "stream",
     "text": [
      "100%|██████████| 29545/29545 [13:22<00:00, 36.84it/s]\n"
     ]
    }
   ],
   "source": [
    "away_features = train_df.game_id.progress_apply(get_away_history)"
   ]
  },
  {
   "cell_type": "code",
   "execution_count": 109,
   "metadata": {},
   "outputs": [],
   "source": [
    "home_features = home_features.astype(dtype={'H_wins':np.int8, 'H_draws':np.int8, 'H_loss':np.int8, 'H_goal_scored':np.int8, 'H_goals_conceded':np.int8,\n",
    "       'H_yellow_cards':np.int8, 'H_red_cards':np.int8})\n",
    "away_features = away_features.astype(dtype={'A_wins':np.int8, 'A_draws':np.int8, 'A_loss':np.int8, 'A_goal_scored':np.int8, 'A_goals_conceded':np.int8,\n",
    "       'A_yellow_cards':np.int8, 'A_red_cards':np.int8})"
   ]
  },
  {
   "cell_type": "code",
   "execution_count": 110,
   "metadata": {},
   "outputs": [
    {
     "data": {
      "text/plain": [
       "((29545, 7), (29545, 176))"
      ]
     },
     "execution_count": 110,
     "metadata": {},
     "output_type": "execute_result"
    }
   ],
   "source": [
    "away_features.shape, train_df.shape"
   ]
  },
  {
   "cell_type": "code",
   "execution_count": 112,
   "metadata": {},
   "outputs": [],
   "source": [
    "train_more_features = pd.concat([home_features,away_features,train_df],axis =1)"
   ]
  },
  {
   "cell_type": "code",
   "execution_count": 113,
   "metadata": {},
   "outputs": [],
   "source": [
    "train_more_features.to_csv('../data/training_data/train_more_features.csv')"
   ]
  },
  {
   "cell_type": "code",
   "execution_count": null,
   "metadata": {},
   "outputs": [],
   "source": []
  }
 ],
 "metadata": {
  "interpreter": {
   "hash": "7487845996c7ba5663e8475bda763caf28d03a7733caf66b680b36d8ed7e8fd6"
  },
  "kernelspec": {
   "display_name": "Python 3.9.7 64-bit ('foot_env': conda)",
   "language": "python",
   "name": "python3"
  },
  "language_info": {
   "codemirror_mode": {
    "name": "ipython",
    "version": 3
   },
   "file_extension": ".py",
   "mimetype": "text/x-python",
   "name": "python",
   "nbconvert_exporter": "python",
   "pygments_lexer": "ipython3",
   "version": "3.9.7"
  },
  "orig_nbformat": 4
 },
 "nbformat": 4,
 "nbformat_minor": 2
}
