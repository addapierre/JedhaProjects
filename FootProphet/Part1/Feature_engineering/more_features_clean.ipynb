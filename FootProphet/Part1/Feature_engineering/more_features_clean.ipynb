{
 "cells": [
  {
   "cell_type": "code",
   "execution_count": 21,
   "metadata": {},
   "outputs": [],
   "source": [
    "import pandas as pd\n",
    "import numpy as np\n",
    "import os\n",
    "from tqdm import tqdm\n",
    "tqdm.pandas()\n",
    "pd.options.display.max_columns = None"
   ]
  },
  {
   "cell_type": "code",
   "execution_count": 23,
   "metadata": {},
   "outputs": [],
   "source": [
    "games = pd.read_csv('../data/games/games.csv', index_col = 0,\n",
    "                   dtype = {'game_id' : np.int32, 'season' : np.int16, 'home_club_id' : np.int32, 'home_club_id' : np.int32,\n",
    "                           'home_club_goals' : np.int8, 'away_club_goals' : np.int8})\n",
    "\n",
    "appearance = pd.read_csv('../data/games/appearance.csv', index_col = 0)\n"
   ]
  },
  {
   "cell_type": "code",
   "execution_count": 22,
   "metadata": {},
   "outputs": [],
   "source": [
    "train_df = pd.read_csv(\"../data/training_data/train_final.csv\", index_col = 0)\n",
    "train_df = train_df.astype(dtype={x:np.float16 for x in train_df.columns[1:-1]})\n",
    "\n"
   ]
  },
  {
   "cell_type": "code",
   "execution_count": 24,
   "metadata": {},
   "outputs": [],
   "source": [
    "games.date = pd.to_datetime(games.date)"
   ]
  },
  {
   "cell_type": "code",
   "execution_count": 25,
   "metadata": {},
   "outputs": [
    {
     "data": {
      "text/html": [
       "<div>\n",
       "<style scoped>\n",
       "    .dataframe tbody tr th:only-of-type {\n",
       "        vertical-align: middle;\n",
       "    }\n",
       "\n",
       "    .dataframe tbody tr th {\n",
       "        vertical-align: top;\n",
       "    }\n",
       "\n",
       "    .dataframe thead th {\n",
       "        text-align: right;\n",
       "    }\n",
       "</style>\n",
       "<table border=\"1\" class=\"dataframe\">\n",
       "  <thead>\n",
       "    <tr style=\"text-align: right;\">\n",
       "      <th></th>\n",
       "      <th>game_id</th>\n",
       "      <th>H_GK</th>\n",
       "      <th>H_GK_overall</th>\n",
       "      <th>H_GK_potential</th>\n",
       "      <th>H_GK_attacking_crossing</th>\n",
       "      <th>H_GK_attacking_heading_accuracy</th>\n",
       "      <th>H_GK_skill_curve</th>\n",
       "      <th>H_GK_skill_fk_accuracy</th>\n",
       "      <th>H_GK_movement_agility</th>\n",
       "      <th>H_GK_movement_reactions</th>\n",
       "      <th>H_GK_movement_balance</th>\n",
       "      <th>H_GK_power_shot_power</th>\n",
       "      <th>H_GK_power_jumping</th>\n",
       "      <th>H_GK_power_stamina</th>\n",
       "      <th>H_GK_mentality_aggression</th>\n",
       "      <th>H_GK_mentality_positioning</th>\n",
       "      <th>H_GK_mentality_penalties</th>\n",
       "      <th>H_GK_goalkeeping_diving</th>\n",
       "      <th>H_GK_goalkeeping_speed</th>\n",
       "      <th>H_attack</th>\n",
       "      <th>H_ATK_overall</th>\n",
       "      <th>H_ATK_potential</th>\n",
       "      <th>H_ATK_pace</th>\n",
       "      <th>H_ATK_shooting</th>\n",
       "      <th>H_ATK_passing</th>\n",
       "      <th>H_ATK_dribbling</th>\n",
       "      <th>H_ATK_defending</th>\n",
       "      <th>H_ATK_physic</th>\n",
       "      <th>H_ATK_attacking_crossing</th>\n",
       "      <th>H_ATK_attacking_heading_accuracy</th>\n",
       "      <th>H_ATK_skill_curve</th>\n",
       "      <th>H_ATK_skill_fk_accuracy</th>\n",
       "      <th>H_ATK_movement_agility</th>\n",
       "      <th>H_ATK_movement_reactions</th>\n",
       "      <th>H_ATK_movement_balance</th>\n",
       "      <th>H_ATK_power_shot_power</th>\n",
       "      <th>H_ATK_power_jumping</th>\n",
       "      <th>H_ATK_power_stamina</th>\n",
       "      <th>H_ATK_mentality_aggression</th>\n",
       "      <th>H_ATK_mentality_positioning</th>\n",
       "      <th>H_ATK_mentality_penalties</th>\n",
       "      <th>H_ATK_mentality_composure</th>\n",
       "      <th>H_defense</th>\n",
       "      <th>H_DEF_overall</th>\n",
       "      <th>H_DEF_potential</th>\n",
       "      <th>H_DEF_pace</th>\n",
       "      <th>H_DEF_shooting</th>\n",
       "      <th>H_DEF_passing</th>\n",
       "      <th>H_DEF_dribbling</th>\n",
       "      <th>H_DEF_defending</th>\n",
       "      <th>H_DEF_physic</th>\n",
       "      <th>H_DEF_attacking_crossing</th>\n",
       "      <th>H_DEF_attacking_heading_accuracy</th>\n",
       "      <th>H_DEF_skill_curve</th>\n",
       "      <th>H_DEF_skill_fk_accuracy</th>\n",
       "      <th>H_DEF_movement_agility</th>\n",
       "      <th>H_DEF_movement_reactions</th>\n",
       "      <th>H_DEF_movement_balance</th>\n",
       "      <th>H_DEF_power_shot_power</th>\n",
       "      <th>H_DEF_power_jumping</th>\n",
       "      <th>H_DEF_power_stamina</th>\n",
       "      <th>H_DEF_mentality_aggression</th>\n",
       "      <th>H_DEF_mentality_positioning</th>\n",
       "      <th>H_DEF_mentality_penalties</th>\n",
       "      <th>H_DEF_mentality_composure</th>\n",
       "      <th>H_midfield</th>\n",
       "      <th>H_MF_overall</th>\n",
       "      <th>H_MF_potential</th>\n",
       "      <th>H_MF_pace</th>\n",
       "      <th>H_MF_shooting</th>\n",
       "      <th>H_MF_passing</th>\n",
       "      <th>H_MF_dribbling</th>\n",
       "      <th>H_MF_defending</th>\n",
       "      <th>H_MF_physic</th>\n",
       "      <th>H_MF_attacking_crossing</th>\n",
       "      <th>H_MF_attacking_heading_accuracy</th>\n",
       "      <th>H_MF_skill_curve</th>\n",
       "      <th>H_MF_skill_fk_accuracy</th>\n",
       "      <th>H_MF_movement_agility</th>\n",
       "      <th>H_MF_movement_reactions</th>\n",
       "      <th>H_MF_movement_balance</th>\n",
       "      <th>H_MF_power_shot_power</th>\n",
       "      <th>H_MF_power_jumping</th>\n",
       "      <th>H_MF_power_stamina</th>\n",
       "      <th>H_MF_mentality_aggression</th>\n",
       "      <th>H_MF_mentality_positioning</th>\n",
       "      <th>H_MF_mentality_penalties</th>\n",
       "      <th>H_MF_mentality_composure</th>\n",
       "      <th>A_GK</th>\n",
       "      <th>A_GK_overall</th>\n",
       "      <th>A_GK_potential</th>\n",
       "      <th>A_GK_attacking_crossing</th>\n",
       "      <th>A_GK_attacking_heading_accuracy</th>\n",
       "      <th>A_GK_skill_curve</th>\n",
       "      <th>A_GK_skill_fk_accuracy</th>\n",
       "      <th>A_GK_movement_agility</th>\n",
       "      <th>A_GK_movement_reactions</th>\n",
       "      <th>A_GK_movement_balance</th>\n",
       "      <th>A_GK_power_shot_power</th>\n",
       "      <th>A_GK_power_jumping</th>\n",
       "      <th>A_GK_power_stamina</th>\n",
       "      <th>A_GK_mentality_aggression</th>\n",
       "      <th>A_GK_mentality_positioning</th>\n",
       "      <th>A_GK_mentality_penalties</th>\n",
       "      <th>A_GK_goalkeeping_diving</th>\n",
       "      <th>A_GK_goalkeeping_speed</th>\n",
       "      <th>A_attack</th>\n",
       "      <th>A_ATK_overall</th>\n",
       "      <th>A_ATK_potential</th>\n",
       "      <th>A_ATK_pace</th>\n",
       "      <th>A_ATK_shooting</th>\n",
       "      <th>A_ATK_passing</th>\n",
       "      <th>A_ATK_dribbling</th>\n",
       "      <th>A_ATK_defending</th>\n",
       "      <th>A_ATK_physic</th>\n",
       "      <th>A_ATK_attacking_crossing</th>\n",
       "      <th>A_ATK_attacking_heading_accuracy</th>\n",
       "      <th>A_ATK_skill_curve</th>\n",
       "      <th>A_ATK_skill_fk_accuracy</th>\n",
       "      <th>A_ATK_movement_agility</th>\n",
       "      <th>A_ATK_movement_reactions</th>\n",
       "      <th>A_ATK_movement_balance</th>\n",
       "      <th>A_ATK_power_shot_power</th>\n",
       "      <th>A_ATK_power_jumping</th>\n",
       "      <th>A_ATK_power_stamina</th>\n",
       "      <th>A_ATK_mentality_aggression</th>\n",
       "      <th>A_ATK_mentality_positioning</th>\n",
       "      <th>A_ATK_mentality_penalties</th>\n",
       "      <th>A_ATK_mentality_composure</th>\n",
       "      <th>A_defense</th>\n",
       "      <th>A_DEF_overall</th>\n",
       "      <th>A_DEF_potential</th>\n",
       "      <th>A_DEF_pace</th>\n",
       "      <th>A_DEF_shooting</th>\n",
       "      <th>A_DEF_passing</th>\n",
       "      <th>A_DEF_dribbling</th>\n",
       "      <th>A_DEF_defending</th>\n",
       "      <th>A_DEF_physic</th>\n",
       "      <th>A_DEF_attacking_crossing</th>\n",
       "      <th>A_DEF_attacking_heading_accuracy</th>\n",
       "      <th>A_DEF_skill_curve</th>\n",
       "      <th>A_DEF_skill_fk_accuracy</th>\n",
       "      <th>A_DEF_movement_agility</th>\n",
       "      <th>A_DEF_movement_reactions</th>\n",
       "      <th>A_DEF_movement_balance</th>\n",
       "      <th>A_DEF_power_shot_power</th>\n",
       "      <th>A_DEF_power_jumping</th>\n",
       "      <th>A_DEF_power_stamina</th>\n",
       "      <th>A_DEF_mentality_aggression</th>\n",
       "      <th>A_DEF_mentality_positioning</th>\n",
       "      <th>A_DEF_mentality_penalties</th>\n",
       "      <th>A_DEF_mentality_composure</th>\n",
       "      <th>A_midfield</th>\n",
       "      <th>A_MF_overall</th>\n",
       "      <th>A_MF_potential</th>\n",
       "      <th>A_MF_pace</th>\n",
       "      <th>A_MF_shooting</th>\n",
       "      <th>A_MF_passing</th>\n",
       "      <th>A_MF_dribbling</th>\n",
       "      <th>A_MF_defending</th>\n",
       "      <th>A_MF_physic</th>\n",
       "      <th>A_MF_attacking_crossing</th>\n",
       "      <th>A_MF_attacking_heading_accuracy</th>\n",
       "      <th>A_MF_skill_curve</th>\n",
       "      <th>A_MF_skill_fk_accuracy</th>\n",
       "      <th>A_MF_movement_agility</th>\n",
       "      <th>A_MF_movement_reactions</th>\n",
       "      <th>A_MF_movement_balance</th>\n",
       "      <th>A_MF_power_shot_power</th>\n",
       "      <th>A_MF_power_jumping</th>\n",
       "      <th>A_MF_power_stamina</th>\n",
       "      <th>A_MF_mentality_aggression</th>\n",
       "      <th>A_MF_mentality_positioning</th>\n",
       "      <th>A_MF_mentality_penalties</th>\n",
       "      <th>A_MF_mentality_composure</th>\n",
       "      <th>Home_result</th>\n",
       "    </tr>\n",
       "  </thead>\n",
       "  <tbody>\n",
       "    <tr>\n",
       "      <th>0</th>\n",
       "      <td>2457642</td>\n",
       "      <td>1.0</td>\n",
       "      <td>70.0</td>\n",
       "      <td>70.0</td>\n",
       "      <td>25.0</td>\n",
       "      <td>25.0</td>\n",
       "      <td>25.0</td>\n",
       "      <td>25.0</td>\n",
       "      <td>36.0</td>\n",
       "      <td>65.0</td>\n",
       "      <td>41.0</td>\n",
       "      <td>27.0</td>\n",
       "      <td>45.0</td>\n",
       "      <td>40.0</td>\n",
       "      <td>30.0</td>\n",
       "      <td>25.0</td>\n",
       "      <td>45.0</td>\n",
       "      <td>68.0</td>\n",
       "      <td>38.0</td>\n",
       "      <td>0.555664</td>\n",
       "      <td>63.53125</td>\n",
       "      <td>73.4375</td>\n",
       "      <td>72.75</td>\n",
       "      <td>59.84375</td>\n",
       "      <td>57.25</td>\n",
       "      <td>65.3125</td>\n",
       "      <td>26.984375</td>\n",
       "      <td>61.21875</td>\n",
       "      <td>61.0</td>\n",
       "      <td>57.1875</td>\n",
       "      <td>53.90625</td>\n",
       "      <td>34.75</td>\n",
       "      <td>64.1875</td>\n",
       "      <td>47.46875</td>\n",
       "      <td>60.71875</td>\n",
       "      <td>66.9375</td>\n",
       "      <td>53.1875</td>\n",
       "      <td>68.0625</td>\n",
       "      <td>64.875</td>\n",
       "      <td>58.28125</td>\n",
       "      <td>62.1875</td>\n",
       "      <td>0.0</td>\n",
       "      <td>4.0</td>\n",
       "      <td>65.75</td>\n",
       "      <td>68.0</td>\n",
       "      <td>62.0</td>\n",
       "      <td>51.5</td>\n",
       "      <td>59.75</td>\n",
       "      <td>63.0</td>\n",
       "      <td>66.0</td>\n",
       "      <td>68.0</td>\n",
       "      <td>50.5</td>\n",
       "      <td>61.75</td>\n",
       "      <td>61.25</td>\n",
       "      <td>52.0</td>\n",
       "      <td>58.75</td>\n",
       "      <td>64.0</td>\n",
       "      <td>64.5</td>\n",
       "      <td>62.5</td>\n",
       "      <td>64.75</td>\n",
       "      <td>68.5</td>\n",
       "      <td>59.25</td>\n",
       "      <td>53.5</td>\n",
       "      <td>64.25</td>\n",
       "      <td>0.0</td>\n",
       "      <td>5.445312</td>\n",
       "      <td>69.1875</td>\n",
       "      <td>74.75</td>\n",
       "      <td>71.4375</td>\n",
       "      <td>59.09375</td>\n",
       "      <td>65.375</td>\n",
       "      <td>71.125</td>\n",
       "      <td>49.125</td>\n",
       "      <td>61.28125</td>\n",
       "      <td>57.71875</td>\n",
       "      <td>50.78125</td>\n",
       "      <td>54.46875</td>\n",
       "      <td>49.25</td>\n",
       "      <td>73.4375</td>\n",
       "      <td>66.625</td>\n",
       "      <td>71.9375</td>\n",
       "      <td>61.1875</td>\n",
       "      <td>62.90625</td>\n",
       "      <td>73.0</td>\n",
       "      <td>52.09375</td>\n",
       "      <td>64.375</td>\n",
       "      <td>56.34375</td>\n",
       "      <td>0.0</td>\n",
       "      <td>1.0</td>\n",
       "      <td>77.0</td>\n",
       "      <td>77.0</td>\n",
       "      <td>25.0</td>\n",
       "      <td>25.0</td>\n",
       "      <td>25.0</td>\n",
       "      <td>25.0</td>\n",
       "      <td>68.0</td>\n",
       "      <td>79.0</td>\n",
       "      <td>58.0</td>\n",
       "      <td>23.0</td>\n",
       "      <td>82.0</td>\n",
       "      <td>42.0</td>\n",
       "      <td>34.0</td>\n",
       "      <td>25.0</td>\n",
       "      <td>29.0</td>\n",
       "      <td>82.0</td>\n",
       "      <td>58.0</td>\n",
       "      <td>3.0</td>\n",
       "      <td>71.0</td>\n",
       "      <td>82.4375</td>\n",
       "      <td>75.8125</td>\n",
       "      <td>62.25</td>\n",
       "      <td>65.3125</td>\n",
       "      <td>72.4375</td>\n",
       "      <td>32.90625</td>\n",
       "      <td>58.15625</td>\n",
       "      <td>63.40625</td>\n",
       "      <td>62.34375</td>\n",
       "      <td>67.5</td>\n",
       "      <td>55.28125</td>\n",
       "      <td>75.3125</td>\n",
       "      <td>66.25</td>\n",
       "      <td>66.625</td>\n",
       "      <td>68.8125</td>\n",
       "      <td>59.25</td>\n",
       "      <td>63.6875</td>\n",
       "      <td>45.53125</td>\n",
       "      <td>63.1875</td>\n",
       "      <td>55.96875</td>\n",
       "      <td>0.0</td>\n",
       "      <td>4.433594</td>\n",
       "      <td>72.125</td>\n",
       "      <td>76.0</td>\n",
       "      <td>72.625</td>\n",
       "      <td>43.78125</td>\n",
       "      <td>61.1875</td>\n",
       "      <td>67.4375</td>\n",
       "      <td>71.1875</td>\n",
       "      <td>70.4375</td>\n",
       "      <td>55.53125</td>\n",
       "      <td>72.5625</td>\n",
       "      <td>48.5</td>\n",
       "      <td>31.390625</td>\n",
       "      <td>66.5</td>\n",
       "      <td>70.1875</td>\n",
       "      <td>64.9375</td>\n",
       "      <td>61.84375</td>\n",
       "      <td>78.3125</td>\n",
       "      <td>73.0</td>\n",
       "      <td>70.0625</td>\n",
       "      <td>55.3125</td>\n",
       "      <td>40.0</td>\n",
       "      <td>0.0</td>\n",
       "      <td>2.566406</td>\n",
       "      <td>75.1875</td>\n",
       "      <td>78.8125</td>\n",
       "      <td>73.5</td>\n",
       "      <td>71.375</td>\n",
       "      <td>71.5625</td>\n",
       "      <td>76.125</td>\n",
       "      <td>54.8125</td>\n",
       "      <td>65.5625</td>\n",
       "      <td>62.3125</td>\n",
       "      <td>60.96875</td>\n",
       "      <td>68.9375</td>\n",
       "      <td>59.8125</td>\n",
       "      <td>75.3125</td>\n",
       "      <td>75.25</td>\n",
       "      <td>73.5</td>\n",
       "      <td>73.5625</td>\n",
       "      <td>63.375</td>\n",
       "      <td>78.8125</td>\n",
       "      <td>59.28125</td>\n",
       "      <td>74.75</td>\n",
       "      <td>67.125</td>\n",
       "      <td>0.0</td>\n",
       "      <td>1</td>\n",
       "    </tr>\n",
       "  </tbody>\n",
       "</table>\n",
       "</div>"
      ],
      "text/plain": [
       "   game_id  H_GK  H_GK_overall  H_GK_potential  H_GK_attacking_crossing  \\\n",
       "0  2457642   1.0          70.0            70.0                     25.0   \n",
       "\n",
       "   H_GK_attacking_heading_accuracy  H_GK_skill_curve  H_GK_skill_fk_accuracy  \\\n",
       "0                             25.0              25.0                    25.0   \n",
       "\n",
       "   H_GK_movement_agility  H_GK_movement_reactions  H_GK_movement_balance  \\\n",
       "0                   36.0                     65.0                   41.0   \n",
       "\n",
       "   H_GK_power_shot_power  H_GK_power_jumping  H_GK_power_stamina  \\\n",
       "0                   27.0                45.0                40.0   \n",
       "\n",
       "   H_GK_mentality_aggression  H_GK_mentality_positioning  \\\n",
       "0                       30.0                        25.0   \n",
       "\n",
       "   H_GK_mentality_penalties  H_GK_goalkeeping_diving  H_GK_goalkeeping_speed  \\\n",
       "0                      45.0                     68.0                    38.0   \n",
       "\n",
       "   H_attack  H_ATK_overall  H_ATK_potential  H_ATK_pace  H_ATK_shooting  \\\n",
       "0  0.555664       63.53125          73.4375       72.75        59.84375   \n",
       "\n",
       "   H_ATK_passing  H_ATK_dribbling  H_ATK_defending  H_ATK_physic  \\\n",
       "0          57.25          65.3125        26.984375      61.21875   \n",
       "\n",
       "   H_ATK_attacking_crossing  H_ATK_attacking_heading_accuracy  \\\n",
       "0                      61.0                           57.1875   \n",
       "\n",
       "   H_ATK_skill_curve  H_ATK_skill_fk_accuracy  H_ATK_movement_agility  \\\n",
       "0           53.90625                    34.75                 64.1875   \n",
       "\n",
       "   H_ATK_movement_reactions  H_ATK_movement_balance  H_ATK_power_shot_power  \\\n",
       "0                  47.46875                60.71875                 66.9375   \n",
       "\n",
       "   H_ATK_power_jumping  H_ATK_power_stamina  H_ATK_mentality_aggression  \\\n",
       "0              53.1875              68.0625                      64.875   \n",
       "\n",
       "   H_ATK_mentality_positioning  H_ATK_mentality_penalties  \\\n",
       "0                     58.28125                    62.1875   \n",
       "\n",
       "   H_ATK_mentality_composure  H_defense  H_DEF_overall  H_DEF_potential  \\\n",
       "0                        0.0        4.0          65.75             68.0   \n",
       "\n",
       "   H_DEF_pace  H_DEF_shooting  H_DEF_passing  H_DEF_dribbling  \\\n",
       "0        62.0            51.5          59.75             63.0   \n",
       "\n",
       "   H_DEF_defending  H_DEF_physic  H_DEF_attacking_crossing  \\\n",
       "0             66.0          68.0                      50.5   \n",
       "\n",
       "   H_DEF_attacking_heading_accuracy  H_DEF_skill_curve  \\\n",
       "0                             61.75              61.25   \n",
       "\n",
       "   H_DEF_skill_fk_accuracy  H_DEF_movement_agility  H_DEF_movement_reactions  \\\n",
       "0                     52.0                   58.75                      64.0   \n",
       "\n",
       "   H_DEF_movement_balance  H_DEF_power_shot_power  H_DEF_power_jumping  \\\n",
       "0                    64.5                    62.5                64.75   \n",
       "\n",
       "   H_DEF_power_stamina  H_DEF_mentality_aggression  \\\n",
       "0                 68.5                       59.25   \n",
       "\n",
       "   H_DEF_mentality_positioning  H_DEF_mentality_penalties  \\\n",
       "0                         53.5                      64.25   \n",
       "\n",
       "   H_DEF_mentality_composure  H_midfield  H_MF_overall  H_MF_potential  \\\n",
       "0                        0.0    5.445312       69.1875           74.75   \n",
       "\n",
       "   H_MF_pace  H_MF_shooting  H_MF_passing  H_MF_dribbling  H_MF_defending  \\\n",
       "0    71.4375       59.09375        65.375          71.125          49.125   \n",
       "\n",
       "   H_MF_physic  H_MF_attacking_crossing  H_MF_attacking_heading_accuracy  \\\n",
       "0     61.28125                 57.71875                         50.78125   \n",
       "\n",
       "   H_MF_skill_curve  H_MF_skill_fk_accuracy  H_MF_movement_agility  \\\n",
       "0          54.46875                   49.25                73.4375   \n",
       "\n",
       "   H_MF_movement_reactions  H_MF_movement_balance  H_MF_power_shot_power  \\\n",
       "0                   66.625                71.9375                61.1875   \n",
       "\n",
       "   H_MF_power_jumping  H_MF_power_stamina  H_MF_mentality_aggression  \\\n",
       "0            62.90625                73.0                   52.09375   \n",
       "\n",
       "   H_MF_mentality_positioning  H_MF_mentality_penalties  \\\n",
       "0                      64.375                  56.34375   \n",
       "\n",
       "   H_MF_mentality_composure  A_GK  A_GK_overall  A_GK_potential  \\\n",
       "0                       0.0   1.0          77.0            77.0   \n",
       "\n",
       "   A_GK_attacking_crossing  A_GK_attacking_heading_accuracy  A_GK_skill_curve  \\\n",
       "0                     25.0                             25.0              25.0   \n",
       "\n",
       "   A_GK_skill_fk_accuracy  A_GK_movement_agility  A_GK_movement_reactions  \\\n",
       "0                    25.0                   68.0                     79.0   \n",
       "\n",
       "   A_GK_movement_balance  A_GK_power_shot_power  A_GK_power_jumping  \\\n",
       "0                   58.0                   23.0                82.0   \n",
       "\n",
       "   A_GK_power_stamina  A_GK_mentality_aggression  A_GK_mentality_positioning  \\\n",
       "0                42.0                       34.0                        25.0   \n",
       "\n",
       "   A_GK_mentality_penalties  A_GK_goalkeeping_diving  A_GK_goalkeeping_speed  \\\n",
       "0                      29.0                     82.0                    58.0   \n",
       "\n",
       "   A_attack  A_ATK_overall  A_ATK_potential  A_ATK_pace  A_ATK_shooting  \\\n",
       "0       3.0           71.0          82.4375     75.8125           62.25   \n",
       "\n",
       "   A_ATK_passing  A_ATK_dribbling  A_ATK_defending  A_ATK_physic  \\\n",
       "0        65.3125          72.4375         32.90625      58.15625   \n",
       "\n",
       "   A_ATK_attacking_crossing  A_ATK_attacking_heading_accuracy  \\\n",
       "0                  63.40625                          62.34375   \n",
       "\n",
       "   A_ATK_skill_curve  A_ATK_skill_fk_accuracy  A_ATK_movement_agility  \\\n",
       "0               67.5                 55.28125                 75.3125   \n",
       "\n",
       "   A_ATK_movement_reactions  A_ATK_movement_balance  A_ATK_power_shot_power  \\\n",
       "0                     66.25                  66.625                 68.8125   \n",
       "\n",
       "   A_ATK_power_jumping  A_ATK_power_stamina  A_ATK_mentality_aggression  \\\n",
       "0                59.25              63.6875                    45.53125   \n",
       "\n",
       "   A_ATK_mentality_positioning  A_ATK_mentality_penalties  \\\n",
       "0                      63.1875                   55.96875   \n",
       "\n",
       "   A_ATK_mentality_composure  A_defense  A_DEF_overall  A_DEF_potential  \\\n",
       "0                        0.0   4.433594         72.125             76.0   \n",
       "\n",
       "   A_DEF_pace  A_DEF_shooting  A_DEF_passing  A_DEF_dribbling  \\\n",
       "0      72.625        43.78125        61.1875          67.4375   \n",
       "\n",
       "   A_DEF_defending  A_DEF_physic  A_DEF_attacking_crossing  \\\n",
       "0          71.1875       70.4375                  55.53125   \n",
       "\n",
       "   A_DEF_attacking_heading_accuracy  A_DEF_skill_curve  \\\n",
       "0                           72.5625               48.5   \n",
       "\n",
       "   A_DEF_skill_fk_accuracy  A_DEF_movement_agility  A_DEF_movement_reactions  \\\n",
       "0                31.390625                    66.5                   70.1875   \n",
       "\n",
       "   A_DEF_movement_balance  A_DEF_power_shot_power  A_DEF_power_jumping  \\\n",
       "0                 64.9375                61.84375              78.3125   \n",
       "\n",
       "   A_DEF_power_stamina  A_DEF_mentality_aggression  \\\n",
       "0                 73.0                     70.0625   \n",
       "\n",
       "   A_DEF_mentality_positioning  A_DEF_mentality_penalties  \\\n",
       "0                      55.3125                       40.0   \n",
       "\n",
       "   A_DEF_mentality_composure  A_midfield  A_MF_overall  A_MF_potential  \\\n",
       "0                        0.0    2.566406       75.1875         78.8125   \n",
       "\n",
       "   A_MF_pace  A_MF_shooting  A_MF_passing  A_MF_dribbling  A_MF_defending  \\\n",
       "0       73.5         71.375       71.5625          76.125         54.8125   \n",
       "\n",
       "   A_MF_physic  A_MF_attacking_crossing  A_MF_attacking_heading_accuracy  \\\n",
       "0      65.5625                  62.3125                         60.96875   \n",
       "\n",
       "   A_MF_skill_curve  A_MF_skill_fk_accuracy  A_MF_movement_agility  \\\n",
       "0           68.9375                 59.8125                75.3125   \n",
       "\n",
       "   A_MF_movement_reactions  A_MF_movement_balance  A_MF_power_shot_power  \\\n",
       "0                    75.25                   73.5                73.5625   \n",
       "\n",
       "   A_MF_power_jumping  A_MF_power_stamina  A_MF_mentality_aggression  \\\n",
       "0              63.375             78.8125                   59.28125   \n",
       "\n",
       "   A_MF_mentality_positioning  A_MF_mentality_penalties  \\\n",
       "0                       74.75                    67.125   \n",
       "\n",
       "   A_MF_mentality_composure  Home_result  \n",
       "0                       0.0            1  "
      ]
     },
     "execution_count": 25,
     "metadata": {},
     "output_type": "execute_result"
    }
   ],
   "source": [
    "train_df.head(1)"
   ]
  },
  {
   "cell_type": "code",
   "execution_count": 26,
   "metadata": {},
   "outputs": [],
   "source": [
    "games.drop(columns = ['competition_code', 'season', 'round','home_club_position', 'away_club_position', 'stadium', 'attendance',\n",
    "       'referee', 'url'], inplace = True)\n",
    "       \n",
    "appearance.drop(columns = ['player_id','appearance_id', 'competition_id', 'goals', 'assists', 'minutes_played'], inplace = True)"
   ]
  },
  {
   "cell_type": "code",
   "execution_count": 27,
   "metadata": {},
   "outputs": [],
   "source": [
    "appearance = appearance.astype(dtype={ 'player_club_id':np.int32, 'yellow_cards':np.int8, 'red_cards':np.int8})"
   ]
  },
  {
   "cell_type": "code",
   "execution_count": 29,
   "metadata": {},
   "outputs": [
    {
     "data": {
      "text/html": [
       "<div>\n",
       "<style scoped>\n",
       "    .dataframe tbody tr th:only-of-type {\n",
       "        vertical-align: middle;\n",
       "    }\n",
       "\n",
       "    .dataframe tbody tr th {\n",
       "        vertical-align: top;\n",
       "    }\n",
       "\n",
       "    .dataframe thead th {\n",
       "        text-align: right;\n",
       "    }\n",
       "</style>\n",
       "<table border=\"1\" class=\"dataframe\">\n",
       "  <thead>\n",
       "    <tr style=\"text-align: right;\">\n",
       "      <th></th>\n",
       "      <th>game_id</th>\n",
       "      <th>date</th>\n",
       "      <th>home_club_id</th>\n",
       "      <th>away_club_id</th>\n",
       "      <th>home_club_goals</th>\n",
       "      <th>away_club_goals</th>\n",
       "    </tr>\n",
       "  </thead>\n",
       "  <tbody>\n",
       "    <tr>\n",
       "      <th>0</th>\n",
       "      <td>2457642</td>\n",
       "      <td>2014-08-03</td>\n",
       "      <td>1269</td>\n",
       "      <td>610</td>\n",
       "      <td>1</td>\n",
       "      <td>0</td>\n",
       "    </tr>\n",
       "  </tbody>\n",
       "</table>\n",
       "</div>"
      ],
      "text/plain": [
       "   game_id       date  home_club_id  away_club_id  home_club_goals  \\\n",
       "0  2457642 2014-08-03          1269           610                1   \n",
       "\n",
       "   away_club_goals  \n",
       "0                0  "
      ]
     },
     "execution_count": 29,
     "metadata": {},
     "output_type": "execute_result"
    }
   ],
   "source": [
    "games.head(1)"
   ]
  },
  {
   "cell_type": "code",
   "execution_count": 30,
   "metadata": {},
   "outputs": [
    {
     "name": "stderr",
     "output_type": "stream",
     "text": [
      "100%|██████████| 42592/42592 [00:01<00:00, 33754.34it/s]\n"
     ]
    }
   ],
   "source": [
    "games['results'] = games.progress_apply(lambda x: 'W' if x['home_club_goals']>x['away_club_goals'] else \\\n",
    "    ('L' if x['home_club_goals']<x['away_club_goals'] else 'D')\n",
    "    , axis = 1)"
   ]
  },
  {
   "cell_type": "code",
   "execution_count": 18,
   "metadata": {},
   "outputs": [],
   "source": [
    "def get_home_history(game_id):\n",
    "    N = 5   #how many games we are looking for in club's history\n",
    "    \n",
    "    target_game = games.loc[games.game_id == game_id,:]\n",
    "    N_last_games = games.loc[((games.home_club_id == target_game['home_club_id'].values[0]) | (games.away_club_id == target_game['home_club_id'].values[0]))\\\n",
    "        & (games.date < target_game['date'].values[0]) ,:].sort_values('date',ascending=False)[:N]\n",
    "        \n",
    "    last_results = N_last_games.results.value_counts()\n",
    "    try:\n",
    "        wins = last_results['W']\n",
    "    except:\n",
    "        wins = 0\n",
    "    try:\n",
    "        draws = last_results['D']\n",
    "    except:\n",
    "        draws = 0\n",
    "    try:\n",
    "        loss = last_results['L']\n",
    "    except:\n",
    "        loss = 0\n",
    "\n",
    "    goal_scored = N_last_games.loc[N_last_games.home_club_id == target_game['home_club_id'].values[0],'home_club_goals'].sum()\\\n",
    "        + N_last_games.loc[N_last_games.away_club_id == target_game['home_club_id'].values[0],'away_club_goals'].sum()\n",
    "\n",
    "    goals_conceded = N_last_games.loc[N_last_games.home_club_id == target_game['home_club_id'].values[0],'away_club_goals'].sum()\\\n",
    "        + N_last_games.loc[N_last_games.away_club_id == target_game['home_club_id'].values[0],'home_club_goals'].sum()\n",
    "\n",
    "    cards = appearance.loc[(appearance.game_id.isin(N_last_games.game_id.values)) \\\n",
    "        & (appearance.player_club_id == target_game['home_club_id'].values[0]),\\\n",
    "            ['yellow_cards','red_cards']].sum()\n",
    "    \n",
    "    res = {'H_wins': wins, 'H_draws': draws , 'H_loss': loss,\\\n",
    "        'H_goal_scored': goal_scored, 'H_goals_conceded' : goals_conceded, 'H_yellow_cards' : cards['yellow_cards'], 'H_red_cards' : cards['red_cards']}\n",
    "    \n",
    "    return pd.Series(res)\n",
    "    \n",
    "    \n"
   ]
  },
  {
   "cell_type": "code",
   "execution_count": 19,
   "metadata": {},
   "outputs": [],
   "source": [
    "def get_away_history(game_id):\n",
    "    N=5\n",
    "    target_game = games.loc[games.game_id == game_id,:]\n",
    "    target_club = target_game['away_club_id'].values[0]\n",
    "    N_last_games = games.loc[((games.home_club_id == target_club) | (games.away_club_id == target_club))\\\n",
    "        & (games.date < target_game['date'].values[0]) ,:].sort_values('date',ascending=False)[:N]\n",
    "        \n",
    "    last_results = N_last_games.results.value_counts()\n",
    "    try:\n",
    "        wins = last_results['W']\n",
    "    except:\n",
    "        wins = 0\n",
    "    try:\n",
    "        draws = last_results['D']\n",
    "    except:\n",
    "        draws = 0\n",
    "    try:\n",
    "        loss = last_results['L']\n",
    "    except:\n",
    "        loss = 0\n",
    "\n",
    "    goal_scored = N_last_games.loc[N_last_games.home_club_id == target_club,'home_club_goals'].sum()\\\n",
    "        + N_last_games.loc[N_last_games.away_club_id == target_club,'away_club_goals'].sum()\n",
    "\n",
    "    goals_conceded = N_last_games.loc[N_last_games.home_club_id == target_club,'away_club_goals'].sum()\\\n",
    "        + N_last_games.loc[N_last_games.away_club_id == target_club,'home_club_goals'].sum()\n",
    "\n",
    "    cards = appearance.loc[(appearance.game_id.isin(N_last_games.game_id.values)) \\\n",
    "        & (appearance.player_club_id == target_club),\\\n",
    "            ['yellow_cards','red_cards']].sum()\n",
    "    \n",
    "    res = {'A_wins': wins, 'A_draws': draws , 'A_loss': loss,\\\n",
    "        'A_goal_scored': goal_scored, 'A_goals_conceded' : goals_conceded, 'A_yellow_cards' : cards['yellow_cards'], 'A_red_cards' : cards['red_cards']}\n",
    "    \n",
    "    return pd.Series(res)\n",
    "    \n",
    "    \n"
   ]
  },
  {
   "cell_type": "code",
   "execution_count": 31,
   "metadata": {},
   "outputs": [
    {
     "name": "stderr",
     "output_type": "stream",
     "text": [
      "100%|██████████| 29545/29545 [12:35<00:00, 39.12it/s]\n"
     ]
    }
   ],
   "source": [
    "home_features = train_df.game_id.progress_apply(get_home_history)"
   ]
  },
  {
   "cell_type": "code",
   "execution_count": 32,
   "metadata": {},
   "outputs": [
    {
     "name": "stderr",
     "output_type": "stream",
     "text": [
      "100%|██████████| 29545/29545 [12:31<00:00, 39.30it/s]\n"
     ]
    }
   ],
   "source": [
    "away_features = train_df.game_id.progress_apply(get_away_history)"
   ]
  },
  {
   "cell_type": "code",
   "execution_count": 33,
   "metadata": {},
   "outputs": [],
   "source": [
    "home_features = home_features.astype(dtype={'H_wins':np.int8, 'H_draws':np.int8, 'H_loss':np.int8, 'H_goal_scored':np.int8, 'H_goals_conceded':np.int8,\n",
    "       'H_yellow_cards':np.int8, 'H_red_cards':np.int8})\n",
    "away_features = away_features.astype(dtype={'A_wins':np.int8, 'A_draws':np.int8, 'A_loss':np.int8, 'A_goal_scored':np.int8, 'A_goals_conceded':np.int8,\n",
    "       'A_yellow_cards':np.int8, 'A_red_cards':np.int8})"
   ]
  },
  {
   "cell_type": "code",
   "execution_count": 34,
   "metadata": {},
   "outputs": [
    {
     "data": {
      "text/plain": [
       "((29545, 7), (29545, 176))"
      ]
     },
     "execution_count": 34,
     "metadata": {},
     "output_type": "execute_result"
    }
   ],
   "source": [
    "away_features.shape, train_df.shape"
   ]
  },
  {
   "cell_type": "code",
   "execution_count": 35,
   "metadata": {},
   "outputs": [],
   "source": [
    "train_more_features = pd.concat([home_features,away_features,train_df],axis =1)"
   ]
  },
  {
   "cell_type": "code",
   "execution_count": 36,
   "metadata": {},
   "outputs": [],
   "source": [
    "train_more_features.to_csv('../data/training_data/train_more_features5.csv')"
   ]
  },
  {
   "cell_type": "markdown",
   "metadata": {},
   "source": [
    "# model training"
   ]
  },
  {
   "cell_type": "code",
   "execution_count": 38,
   "metadata": {},
   "outputs": [],
   "source": [
    "from sklearn.model_selection import train_test_split\n",
    "from sklearn.metrics import confusion_matrix, ConfusionMatrixDisplay\n",
    "from sklearn.neural_network import MLPClassifier\n",
    "\n",
    "import matplotlib.pyplot as plt\n",
    "import pickle"
   ]
  },
  {
   "cell_type": "code",
   "execution_count": 39,
   "metadata": {},
   "outputs": [],
   "source": [
    "def cm_metrics(true_label,pred_label, labels_):\n",
    "  cm = confusion_matrix(true_label,pred_label,labels = labels_)\n",
    "  cmDisp = ConfusionMatrixDisplay(cm,display_labels=labels_)\n",
    "  recall = { i:cm[i][i]/cm[i].sum()  for i in range(len(cm))}\n",
    "  precision = { i:cm[i][i]/cm[:,i].sum()  for i in range(len(cm))}\n",
    "  F1_score = { i: 2 / (1/recall[i] + 1/precision[i]) for i in range(len(cm))}\n",
    "  accuracy = (cm[0][0]+cm[1][1]+cm[2][2])/cm.sum()\n",
    "  print('accuracy: ', accuracy)\n",
    "  print('Recall: \\n',recall,'\\nPrecision: \\n', precision,'\\nF1-score: \\n',F1_score)\n",
    "  cmDisp.plot()\n",
    "  plt.show()\n",
    "  return None"
   ]
  },
  {
   "cell_type": "code",
   "execution_count": 57,
   "metadata": {},
   "outputs": [],
   "source": [
    "train_df = pd.read_csv('../data/training_data/train_more_features5.csv', index_col=0)"
   ]
  },
  {
   "cell_type": "code",
   "execution_count": 58,
   "metadata": {},
   "outputs": [],
   "source": [
    "train_df.drop(columns = ['game_id'], inplace = True)\n",
    "train_df = train_df.astype(dtype={x:np.int8 for x in train_df.columns[:14]})\n",
    "train_df = train_df.astype(dtype={x:np.float16 for x in train_df.columns[14:-1]})"
   ]
  },
  {
   "cell_type": "markdown",
   "metadata": {},
   "source": [
    "##### normalisation"
   ]
  },
  {
   "cell_type": "code",
   "execution_count": 59,
   "metadata": {},
   "outputs": [],
   "source": [
    "col_select = ['H_GK', 'H_attack', 'H_defense', 'H_midfield','A_GK', 'A_attack', 'A_defense', 'A_midfield']\n",
    "train_df.loc[:,col_select]=train_df.loc[:,col_select]/5\n"
   ]
  },
  {
   "cell_type": "code",
   "execution_count": 60,
   "metadata": {},
   "outputs": [],
   "source": [
    "col_select = np.append(col_select ,train_df.columns[:14])\n",
    "col_select = np.append(col_select ,['Home_result'])\n",
    "col_mask = [x  for x in train_df.columns if (x not in col_select)]\n",
    "train_df.loc[:,col_mask]=train_df.loc[:,col_mask]/100\n"
   ]
  },
  {
   "cell_type": "code",
   "execution_count": 61,
   "metadata": {},
   "outputs": [],
   "source": [
    "train_df.H_yellow_cards = train_df.H_yellow_cards/10\n",
    "train_df.A_yellow_cards = train_df.A_yellow_cards/10\n",
    "train_df[['H_goal_scored','H_goals_conceded','A_goal_scored','A_goals_conceded']]= \\\n",
    "    train_df[['H_goal_scored','H_goals_conceded','A_goal_scored','A_goals_conceded']]/7"
   ]
  },
  {
   "cell_type": "markdown",
   "metadata": {},
   "source": [
    "### transformation de la target\n",
    "0 = HomeWin   \n",
    "1 = Draw   \n",
    "2 = AwayWin"
   ]
  },
  {
   "cell_type": "code",
   "execution_count": 80,
   "metadata": {},
   "outputs": [],
   "source": [
    "train_df.Home_result=train_df.Home_result.apply(lambda x: np.int8(0) if x>0 else (np.int8(2) if x<0 else np.int8(1)))"
   ]
  },
  {
   "cell_type": "markdown",
   "metadata": {},
   "source": [
    "### Préparation des données pour l'entrainement"
   ]
  },
  {
   "cell_type": "code",
   "execution_count": 82,
   "metadata": {},
   "outputs": [],
   "source": [
    "X = train_df.loc[:,train_df.columns[:-1]]\n",
    "y = train_df.Home_result"
   ]
  },
  {
   "cell_type": "code",
   "execution_count": 83,
   "metadata": {},
   "outputs": [],
   "source": [
    "X_train, X_test, y_train, y_test = train_test_split(X,y,test_size = 0.25, random_state=0, stratify=y)"
   ]
  },
  {
   "cell_type": "code",
   "execution_count": 102,
   "metadata": {},
   "outputs": [],
   "source": [
    "MLPC = MLPClassifier(solver='lbfgs', alpha=0.001, learning_rate_init=0.0001, max_iter=500)"
   ]
  },
  {
   "cell_type": "code",
   "execution_count": null,
   "metadata": {},
   "outputs": [],
   "source": [
    "MLPC = MLPClassifier(solver='adam', alpha=0.001, learning_rate='adaptative', max_iter=500)"
   ]
  },
  {
   "cell_type": "code",
   "execution_count": 103,
   "metadata": {},
   "outputs": [
    {
     "name": "stderr",
     "output_type": "stream",
     "text": [
      "/Users/pierreadda/opt/anaconda3/envs/foot_env/lib/python3.9/site-packages/sklearn/neural_network/_multilayer_perceptron.py:549: ConvergenceWarning: lbfgs failed to converge (status=1):\n",
      "STOP: TOTAL NO. of ITERATIONS REACHED LIMIT.\n",
      "\n",
      "Increase the number of iterations (max_iter) or scale the data as shown in:\n",
      "    https://scikit-learn.org/stable/modules/preprocessing.html\n",
      "  self.n_iter_ = _check_optimize_result(\"lbfgs\", opt_res, self.max_iter)\n"
     ]
    },
    {
     "data": {
      "text/plain": [
       "MLPClassifier(alpha=0.001, learning_rate_init=0.0001, max_iter=500,\n",
       "              solver='lbfgs')"
      ]
     },
     "execution_count": 103,
     "metadata": {},
     "output_type": "execute_result"
    }
   ],
   "source": [
    "MLPC.fit(X_train, y_train)"
   ]
  },
  {
   "cell_type": "code",
   "execution_count": 104,
   "metadata": {},
   "outputs": [],
   "source": [
    "y_train_pred = MLPC.predict(X_train)\n",
    "y_test_pred = MLPC.predict(X_test)"
   ]
  },
  {
   "cell_type": "code",
   "execution_count": 105,
   "metadata": {},
   "outputs": [
    {
     "name": "stdout",
     "output_type": "stream",
     "text": [
      "accuracy:  0.5605650329452116\n",
      "Recall: \n",
      " {0: 0.7799879445449066, 1: 0.14473684210526316, 2: 0.5693301997649823} \n",
      "Precision: \n",
      " {0: 0.5920841912605811, 1: 0.43729003359462487, 2: 0.5339578454332553} \n",
      "F1-score: \n",
      " {0: 0.6731694628690338, 1: 0.2174881648565859, 2: 0.5510769886969502}\n"
     ]
    },
    {
     "data": {
      "image/png": "[encoded data removed]",
      "text/plain": [
       "<Figure size 432x288 with 2 Axes>"
      ]
     },
     "metadata": {
      "needs_background": "light"
     },
     "output_type": "display_data"
    }
   ],
   "source": [
    "cm_metrics(y_train,y_train_pred,MLPC.classes_)"
   ]
  },
  {
   "cell_type": "code",
   "execution_count": 106,
   "metadata": {},
   "outputs": [
    {
     "name": "stdout",
     "output_type": "stream",
     "text": [
      "accuracy:  0.5119805062948423\n",
      "Recall: \n",
      " {0: 0.73214823742091, 1: 0.09171762090050027, 2: 0.5231379462318202} \n",
      "Precision: \n",
      " {0: 0.5626302384811299, 1: 0.26484751203852325, 2: 0.485480572597137} \n",
      "F1-score: \n",
      " {0: 0.6362922230950511, 1: 0.13625103220478943, 2: 0.5036062791684345}\n"
     ]
    },
    {
     "data": {
      "image/png": "[encoded data removed]",
      "text/plain": [
       "<Figure size 432x288 with 2 Axes>"
      ]
     },
     "metadata": {
      "needs_background": "light"
     },
     "output_type": "display_data"
    }
   ],
   "source": [
    "cm_metrics(y_test,y_test_pred,MLPC.classes_)"
   ]
  },
  {
   "cell_type": "code",
   "execution_count": 107,
   "metadata": {},
   "outputs": [
    {
     "ename": "AttributeError",
     "evalue": "'MLPClassifier' object has no attribute 'estimator'",
     "output_type": "error",
     "traceback": [
      "\u001b[0;31m---------------------------------------------------------------------------\u001b[0m",
      "\u001b[0;31mAttributeError\u001b[0m                            Traceback (most recent call last)",
      "\u001b[0;32m/var/folders/fw/vk6b0tfx7kvg_95mz0b5mts80000gn/T/ipykernel_6170/390205888.py\u001b[0m in \u001b[0;36m<module>\u001b[0;34m\u001b[0m\n\u001b[0;32m----> 1\u001b[0;31m \u001b[0mMLPC\u001b[0m\u001b[0;34m.\u001b[0m\u001b[0mestimator\u001b[0m\u001b[0;34m.\u001b[0m\u001b[0mloss_curve_\u001b[0m\u001b[0;34m\u001b[0m\u001b[0;34m\u001b[0m\u001b[0m\n\u001b[0m",
      "\u001b[0;31mAttributeError\u001b[0m: 'MLPClassifier' object has no attribute 'estimator'"
     ]
    }
   ],
   "source": [
    "MLPC.estimator.loss_curve_"
   ]
  },
  {
   "cell_type": "code",
   "execution_count": null,
   "metadata": {},
   "outputs": [],
   "source": []
  }
 ],
 "metadata": {
  "interpreter": {
   "hash": "7487845996c7ba5663e8475bda763caf28d03a7733caf66b680b36d8ed7e8fd6"
  },
  "kernelspec": {
   "display_name": "Python 3.9.7 64-bit ('foot_env': conda)",
   "language": "python",
   "name": "python3"
  },
  "language_info": {
   "codemirror_mode": {
    "name": "ipython",
    "version": 3
   },
   "file_extension": ".py",
   "mimetype": "text/x-python",
   "name": "python",
   "nbconvert_exporter": "python",
   "pygments_lexer": "ipython3",
   "version": "3.9.7"
  },
  "orig_nbformat": 4
 },
 "nbformat": 4,
 "nbformat_minor": 2
}
