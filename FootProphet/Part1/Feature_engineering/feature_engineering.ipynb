{
 "cells": [
  {
   "cell_type": "code",
   "execution_count": 1,
   "metadata": {},
   "outputs": [],
   "source": [
    "import pandas as pd\n",
    "import numpy as np\n",
    "import re\n",
    "from tqdm import tqdm\n",
    "from sklearn.preprocessing import OneHotEncoder\n",
    "tqdm.pandas()\n",
    "pd.options.display.max_columns = None"
   ]
  },
  {
   "cell_type": "code",
   "execution_count": 2,
   "metadata": {},
   "outputs": [
    {
     "name": "stderr",
     "output_type": "stream",
     "text": [
      "/Users/pierreadda/opt/anaconda3/envs/foot_env/lib/python3.9/site-packages/IPython/core/interactiveshell.py:3457: DtypeWarning: Columns (104) have mixed types.Specify dtype option on import or set low_memory=False.\n",
      "  exec(code_obj, self.user_global_ns, self.user_ns)\n",
      "/Users/pierreadda/opt/anaconda3/envs/foot_env/lib/python3.9/site-packages/IPython/core/interactiveshell.py:3457: DtypeWarning: Columns (81,82,83,84,85) have mixed types.Specify dtype option on import or set low_memory=False.\n",
      "  exec(code_obj, self.user_global_ns, self.user_ns)\n",
      "/Users/pierreadda/opt/anaconda3/envs/foot_env/lib/python3.9/site-packages/IPython/core/interactiveshell.py:3457: DtypeWarning: Columns (25,108) have mixed types.Specify dtype option on import or set low_memory=False.\n",
      "  exec(code_obj, self.user_global_ns, self.user_ns)\n"
     ]
    }
   ],
   "source": [
    "fifa15 =pd.read_csv('../data/FIFA/players_15.csv')\n",
    "fifa16 =pd.read_csv('../data/FIFA/players_16.csv')\n",
    "fifa17 =pd.read_csv('../data/FIFA/players_17.csv')\n",
    "fifa18 =pd.read_csv('../data/FIFA/players_18.csv')\n",
    "fifa19 =pd.read_csv('../data/FIFA/players_19.csv')\n",
    "fifa20 =pd.read_csv('../data/FIFA/players_20.csv')\n",
    "fifa21 =pd.read_csv('../data/FIFA/players_21.csv')\n",
    "fifa22 =pd.read_csv('../data/FIFA/players_22.csv')"
   ]
  },
  {
   "cell_type": "code",
   "execution_count": 3,
   "metadata": {},
   "outputs": [],
   "source": [
    "clubs = pd.read_csv('../data/games/clubs.csv', index_col = 0)\n",
    "leagues = pd.read_csv('../data/games/leagues.csv', index_col = 0)\n",
    "games = pd.read_csv('../data/games/games.csv', index_col = 0,\n",
    "                   dtype = {'game_id' : np.int32, 'season' : np.int16, 'home_club_id' : np.int32, 'home_club_id' : np.int32,\n",
    "                           'home_club_goals' : np.int8, 'away_club_goals' : np.int8})\n",
    "\n",
    "players = pd.read_csv('../data/games/players.csv', index_col = 0,\n",
    "                     dtype = {'player_id' : np.int32, 'player_club_id' : np.int16})\n",
    "\n",
    "appearance = pd.read_csv('../data/games/appearance.csv', index_col = 0)\n",
    "corr = pd.read_csv('../data/table_correspondance/table_correspondance_finale.csv', index_col = 0)\n",
    "player_IDs = corr.player_id.unique()\n"
   ]
  },
  {
   "cell_type": "code",
   "execution_count": 4,
   "metadata": {},
   "outputs": [],
   "source": [
    "def game_id_toint(gameid):\n",
    "    try:\n",
    "        res = int(gameid)\n",
    "    except:\n",
    "        res = 'error : '+str(gameid)\n",
    "    return res\n",
    "appearance.loc[:,'game_id'] = appearance.game_id.apply(game_id_toint)\n",
    "\n",
    "#some rows have nan for game_id, we don't keep them.\n",
    "\n",
    "appearance = appearance.drop(appearance.loc[appearance.game_id.apply(type) != int,:].index).reset_index(drop = True)"
   ]
  },
  {
   "cell_type": "markdown",
   "metadata": {},
   "source": [
    "# Game_id selection\n",
    "<b> We keep games that have more than 9 players _in each team_ that we can locate in our fifa dataset "
   ]
  },
  {
   "cell_type": "code",
   "execution_count": 5,
   "metadata": {},
   "outputs": [
    {
     "name": "stdout",
     "output_type": "stream",
     "text": [
      " Lines with missing players: 10.81 %\n"
     ]
    }
   ],
   "source": [
    "# In appearance, we drop lines with players that have not been found in FIFA\n",
    "\n",
    "appearance_ID = appearance.loc[appearance.player_id.isin(player_IDs),:].copy()\n",
    "print( ' Lines with missing players:' ,round((appearance.shape[0]-appearance_ID.shape[0])/appearance.shape[0]*100,2), '%')"
   ]
  },
  {
   "cell_type": "code",
   "execution_count": 6,
   "metadata": {},
   "outputs": [
    {
     "name": "stdout",
     "output_type": "stream",
     "text": [
      "72655\n",
      "66262\n",
      "(30700, 2) (35562, 2)\n"
     ]
    }
   ],
   "source": [
    "# With a grouby - count, we select teams having more than X players\n",
    "\n",
    "nb_players = 6 # we want games where we know 9 or more players\n",
    "group_app = appearance_ID.groupby(['game_id','player_club_id']).count().reset_index()\n",
    "print(group_app.shape[0])\n",
    "group_app = group_app.loc[group_app.player_id >= nb_players,:].reset_index(drop = True)\n",
    "print(group_app.shape[0])\n",
    "\n",
    "# Now that we deleted lines with missing players in appearance, and teams with less than X players:\n",
    "# some games have only one team left, we want to remove these games.\n",
    "# we create group_app_ID with game_id and a boolean describing wether the game have the 2 teams left or not:\n",
    "\n",
    "group_app_ID = group_app.groupby('game_id')['player_club_id'].unique().reset_index()\n",
    "group_app_ID.loc[:,'player_club_id'] = group_app_ID.player_club_id.apply(len)>1\n",
    "print(group_app_ID.loc[group_app_ID.player_club_id,:].shape , group_app_ID.shape)\n",
    "\n",
    "#good_games is a list of games ids that we can use for model training!\n",
    "good_games = group_app_ID.loc[group_app_ID.player_club_id,'game_id'].values"
   ]
  },
  {
   "cell_type": "code",
   "execution_count": 7,
   "metadata": {},
   "outputs": [],
   "source": [
    "#Now let's create appearance_select with only the games we selected\n",
    "appearance_select = appearance.loc[appearance.game_id.isin(good_games),:].reset_index(drop = True).copy()\n",
    "appearance_select.to_csv('../data/training_data/appearance_select6.csv')"
   ]
  },
  {
   "cell_type": "markdown",
   "metadata": {},
   "source": [
    "### Home or Away?"
   ]
  },
  {
   "cell_type": "code",
   "execution_count": 8,
   "metadata": {},
   "outputs": [],
   "source": [
    "appearance_select = \\\n",
    "pd.read_csv('../data/training_data/appearance_select6.csv', index_col = 0, \\\n",
    "            dtype = {'game_id' : np.int32, 'player_id' : np.int32,'player_club_id' : np.int16, 'minutes_played' : np.int8,\\\n",
    "                    'yellow_cards' : np.int8,'red_cards' : np.int8,'goals' : np.int8,'assists' : np.int8 })\n"
   ]
  },
  {
   "cell_type": "code",
   "execution_count": 9,
   "metadata": {},
   "outputs": [],
   "source": [
    "def HomeOrAway(x):\n",
    "    if games.loc[games.game_id == x['game_id'], 'home_club_id'].values[0] == x['player_club_id']:\n",
    "        return 'Home'\n",
    "    else:\n",
    "        return 'Away'"
   ]
  },
  {
   "cell_type": "code",
   "execution_count": 11,
   "metadata": {},
   "outputs": [
    {
     "name": "stderr",
     "output_type": "stream",
     "text": [
      "100%|██████████| 860694/860694 [04:32<00:00, 3152.98it/s]\n"
     ]
    }
   ],
   "source": [
    "appearance_select['HomeOrAway'] = appearance_select.progress_apply(lambda x: HomeOrAway(x) , axis = 1)"
   ]
  },
  {
   "cell_type": "code",
   "execution_count": 12,
   "metadata": {},
   "outputs": [],
   "source": [
    "appearance_select.to_csv('../data/training_data/appearance_select6.csv')"
   ]
  },
  {
   "cell_type": "markdown",
   "metadata": {},
   "source": [
    "# Ratio of player_appearance_time/game_full_time\n",
    "<b> This will help us handle players that have been substituted.  \n",
    "    In our Dataset we have no way to know which players are starters or off-benchs.  \n",
    "    We will use this ratio to weight the players stats."
   ]
  },
  {
   "cell_type": "code",
   "execution_count": 13,
   "metadata": {},
   "outputs": [],
   "source": [
    "appearance_select = \\\n",
    "pd.read_csv('../data/training_data/appearance_select6.csv', index_col = 0, \\\n",
    "            dtype = {'game_id' : np.int32, 'player_id' : np.int32,'player_club_id' : np.int16, 'minutes_played' : np.int8,\\\n",
    "                    'yellow_cards' : np.int8,'red_cards' : np.int8,'goals' : np.int8,'assists' : np.int8 })"
   ]
  },
  {
   "cell_type": "code",
   "execution_count": 14,
   "metadata": {},
   "outputs": [],
   "source": [
    "max_time = appearance_select.groupby('game_id')['minutes_played'].max().reset_index().astype({'game_id':np.int32})\n",
    "    "
   ]
  },
  {
   "cell_type": "code",
   "execution_count": 15,
   "metadata": {},
   "outputs": [
    {
     "data": {
      "text/plain": [
       "array([ 90, 120,  68,  45,  86], dtype=int8)"
      ]
     },
     "execution_count": 15,
     "metadata": {},
     "output_type": "execute_result"
    }
   ],
   "source": [
    "max_time.minutes_played.unique()"
   ]
  },
  {
   "cell_type": "code",
   "execution_count": 16,
   "metadata": {},
   "outputs": [],
   "source": [
    "#Let's remove games that didn't last for at least 90 minutes (anomalies)\n",
    "\n",
    "bad_games = max_time.loc[max_time.minutes_played.isin([68,  45,  86]),'game_id'].values\n",
    "appearance_select = appearance_select.drop(appearance_select.loc[appearance_select.game_id.isin(bad_games),:].index).reset_index(drop = True)"
   ]
  },
  {
   "cell_type": "code",
   "execution_count": 17,
   "metadata": {},
   "outputs": [],
   "source": [
    "# Add game full time in a new column (either 90 or 120)\n",
    "\n",
    "max_time = appearance_select.groupby('game_id')['minutes_played'].max().reset_index().astype({'game_id':np.int32})\n",
    "games_120 = max_time.loc[max_time.minutes_played == 120,'game_id'].values\n",
    "appearance_select['max_time'] = np.int8(90)\n",
    "appearance_select.loc[appearance_select.game_id.isin(games_120),'max_time'] = np.int8(120)"
   ]
  },
  {
   "cell_type": "code",
   "execution_count": 18,
   "metadata": {},
   "outputs": [
    {
     "data": {
      "text/html": [
       "<div>\n",
       "<style scoped>\n",
       "    .dataframe tbody tr th:only-of-type {\n",
       "        vertical-align: middle;\n",
       "    }\n",
       "\n",
       "    .dataframe tbody tr th {\n",
       "        vertical-align: top;\n",
       "    }\n",
       "\n",
       "    .dataframe thead th {\n",
       "        text-align: right;\n",
       "    }\n",
       "</style>\n",
       "<table border=\"1\" class=\"dataframe\">\n",
       "  <thead>\n",
       "    <tr style=\"text-align: right;\">\n",
       "      <th></th>\n",
       "      <th>player_id</th>\n",
       "      <th>game_id</th>\n",
       "      <th>appearance_id</th>\n",
       "      <th>competition_id</th>\n",
       "      <th>player_club_id</th>\n",
       "      <th>goals</th>\n",
       "      <th>assists</th>\n",
       "      <th>minutes_played</th>\n",
       "      <th>yellow_cards</th>\n",
       "      <th>red_cards</th>\n",
       "      <th>HomeOrAway</th>\n",
       "      <th>max_time</th>\n",
       "      <th>time_ratio</th>\n",
       "    </tr>\n",
       "  </thead>\n",
       "  <tbody>\n",
       "    <tr>\n",
       "      <th>0</th>\n",
       "      <td>52453</td>\n",
       "      <td>2483937</td>\n",
       "      <td>2483937_52453</td>\n",
       "      <td>RU1</td>\n",
       "      <td>28095</td>\n",
       "      <td>0</td>\n",
       "      <td>0</td>\n",
       "      <td>90</td>\n",
       "      <td>0</td>\n",
       "      <td>0</td>\n",
       "      <td>Away</td>\n",
       "      <td>90</td>\n",
       "      <td>1.0</td>\n",
       "    </tr>\n",
       "    <tr>\n",
       "      <th>1</th>\n",
       "      <td>67064</td>\n",
       "      <td>2479929</td>\n",
       "      <td>2479929_67064</td>\n",
       "      <td>RU1</td>\n",
       "      <td>28095</td>\n",
       "      <td>0</td>\n",
       "      <td>0</td>\n",
       "      <td>90</td>\n",
       "      <td>0</td>\n",
       "      <td>0</td>\n",
       "      <td>Away</td>\n",
       "      <td>90</td>\n",
       "      <td>1.0</td>\n",
       "    </tr>\n",
       "  </tbody>\n",
       "</table>\n",
       "</div>"
      ],
      "text/plain": [
       "   player_id  game_id  appearance_id competition_id  player_club_id  goals  \\\n",
       "0      52453  2483937  2483937_52453            RU1           28095      0   \n",
       "1      67064  2479929  2479929_67064            RU1           28095      0   \n",
       "\n",
       "   assists  minutes_played  yellow_cards  red_cards HomeOrAway  max_time  \\\n",
       "0        0              90             0          0       Away        90   \n",
       "1        0              90             0          0       Away        90   \n",
       "\n",
       "   time_ratio  \n",
       "0         1.0  \n",
       "1         1.0  "
      ]
     },
     "execution_count": 18,
     "metadata": {},
     "output_type": "execute_result"
    }
   ],
   "source": [
    "# Adds the time ratio of how much of the game a player has played.\n",
    "\n",
    "appearance_select['time_ratio'] = np.float16(appearance_select.minutes_played / appearance_select.max_time)\n",
    "appearance_select.head(2)"
   ]
  },
  {
   "cell_type": "code",
   "execution_count": 19,
   "metadata": {},
   "outputs": [],
   "source": [
    "appearance_select.to_csv('../data/training_data/appearance_select6.csv')"
   ]
  },
  {
   "cell_type": "markdown",
   "metadata": {},
   "source": [
    "# Players position\n",
    "<b> We will attribute either Attack, Goalkeeper, Midfield or Defender to each player.  "
   ]
  },
  {
   "cell_type": "code",
   "execution_count": 20,
   "metadata": {},
   "outputs": [],
   "source": [
    "appearance_select = \\\n",
    "pd.read_csv('../data/training_data/appearance_select6.csv', index_col = 0, \\\n",
    "            dtype = {'game_id' : np.int32, 'player_id' : np.int32,'player_club_id' : np.int16, 'minutes_played' : np.int8,\\\n",
    "                    'yellow_cards' : np.int8,'red_cards' : np.int8,'goals' : np.int8,'assists' : np.int8,\n",
    "                    'max_time' : np.int16,'time_ratio' : np.float16})"
   ]
  },
  {
   "cell_type": "code",
   "execution_count": 21,
   "metadata": {},
   "outputs": [],
   "source": [
    "#Ther is ONE player with no position nor sub_position, let's remedy this (We checked the position in Fifa)\n",
    "\n",
    "players.loc[players.player_id == 290801,'position'] = 'Defender'\n",
    "players.loc[players.player_id == 290801,'sub_position'] = 'Centre-Back'"
   ]
  },
  {
   "cell_type": "code",
   "execution_count": 22,
   "metadata": {},
   "outputs": [],
   "source": [
    "# Add players position (attack, midfield, defense or goal keeper)\n",
    "t  = players.loc[players.position == '0','sub_position']\n",
    "players.loc[t.index,'position'] = t"
   ]
  },
  {
   "cell_type": "code",
   "execution_count": 23,
   "metadata": {},
   "outputs": [
    {
     "data": {
      "text/html": [
       "<div>\n",
       "<style scoped>\n",
       "    .dataframe tbody tr th:only-of-type {\n",
       "        vertical-align: middle;\n",
       "    }\n",
       "\n",
       "    .dataframe tbody tr th {\n",
       "        vertical-align: top;\n",
       "    }\n",
       "\n",
       "    .dataframe thead th {\n",
       "        text-align: right;\n",
       "    }\n",
       "</style>\n",
       "<table border=\"1\" class=\"dataframe\">\n",
       "  <thead>\n",
       "    <tr style=\"text-align: right;\">\n",
       "      <th></th>\n",
       "      <th>player_id</th>\n",
       "      <th>current_club_id</th>\n",
       "      <th>date_of_birth</th>\n",
       "      <th>position</th>\n",
       "      <th>sub_position</th>\n",
       "    </tr>\n",
       "  </thead>\n",
       "  <tbody>\n",
       "    <tr>\n",
       "      <th>0</th>\n",
       "      <td>38790</td>\n",
       "      <td>28095</td>\n",
       "      <td>1985-06-24</td>\n",
       "      <td>Attack</td>\n",
       "      <td>Centre-Forward</td>\n",
       "    </tr>\n",
       "  </tbody>\n",
       "</table>\n",
       "</div>"
      ],
      "text/plain": [
       "   player_id  current_club_id date_of_birth position    sub_position\n",
       "0      38790            28095    1985-06-24   Attack  Centre-Forward"
      ]
     },
     "execution_count": 23,
     "metadata": {},
     "output_type": "execute_result"
    }
   ],
   "source": [
    "players.drop(columns =\n",
    "             ['name','pretty_name','country_of_birth','country_of_citizenship','foot','height_in_cm','market_value_in_gbp' ,'highest_market_value_in_gbp' ,'url'],\n",
    "            inplace = True)\n",
    "players.head(1)\n"
   ]
  },
  {
   "cell_type": "code",
   "execution_count": 24,
   "metadata": {},
   "outputs": [
    {
     "data": {
      "text/plain": [
       "array(['attack', 'goalkeeper', 'midfield', 'defender'], dtype=object)"
      ]
     },
     "execution_count": 24,
     "metadata": {},
     "output_type": "execute_result"
    }
   ],
   "source": [
    "players.position = players.position.apply(lambda x: x.lower())\n",
    "players.position.unique()"
   ]
  },
  {
   "cell_type": "code",
   "execution_count": 25,
   "metadata": {},
   "outputs": [
    {
     "name": "stderr",
     "output_type": "stream",
     "text": [
      "100%|██████████| 860619/860619 [03:46<00:00, 3792.77it/s]\n"
     ]
    }
   ],
   "source": [
    "appearance_select['position'] = appearance_select.player_id.progress_apply(lambda x: players.loc[players.player_id == x,'position'].values[0])\n"
   ]
  },
  {
   "cell_type": "code",
   "execution_count": 26,
   "metadata": {},
   "outputs": [],
   "source": [
    "###################################\n",
    "\n",
    "appearance_select.to_csv('../data/training_data/appearance_select6.csv')"
   ]
  },
  {
   "cell_type": "code",
   "execution_count": 27,
   "metadata": {},
   "outputs": [],
   "source": [
    "appearance_select = \\\n",
    "pd.read_csv('../data/training_data/appearance_select6.csv', index_col = 0, \\\n",
    "            dtype = {'game_id' : np.int32, 'player_id' : np.int32,'player_club_id' : np.int16, 'minutes_played' : np.int8,\\\n",
    "                    'yellow_cards' : np.int8,'red_cards' : np.int8,'goals' : np.int8,'assists' : np.int8,\n",
    "                    'max_time' : np.int16,'time_ratio' : np.float16})"
   ]
  },
  {
   "cell_type": "code",
   "execution_count": 28,
   "metadata": {},
   "outputs": [],
   "source": [
    "OHE = OneHotEncoder(sparse = False)\n",
    "position_OHE = OHE.fit_transform(np.asarray(appearance_select.position).reshape(-1, 1))\n",
    "position_OHE = pd.DataFrame(position_OHE)"
   ]
  },
  {
   "cell_type": "code",
   "execution_count": 29,
   "metadata": {},
   "outputs": [
    {
     "name": "stdout",
     "output_type": "stream",
     "text": [
      "['x0_attack' 'x0_defender' 'x0_goalkeeper' 'x0_midfield']\n"
     ]
    },
    {
     "name": "stderr",
     "output_type": "stream",
     "text": [
      "/Users/pierreadda/opt/anaconda3/envs/foot_env/lib/python3.9/site-packages/sklearn/utils/deprecation.py:87: FutureWarning: Function get_feature_names is deprecated; get_feature_names is deprecated in 1.0 and will be removed in 1.2. Please use get_feature_names_out instead.\n",
      "  warnings.warn(msg, category=FutureWarning)\n"
     ]
    },
    {
     "data": {
      "text/html": [
       "<div>\n",
       "<style scoped>\n",
       "    .dataframe tbody tr th:only-of-type {\n",
       "        vertical-align: middle;\n",
       "    }\n",
       "\n",
       "    .dataframe tbody tr th {\n",
       "        vertical-align: top;\n",
       "    }\n",
       "\n",
       "    .dataframe thead th {\n",
       "        text-align: right;\n",
       "    }\n",
       "</style>\n",
       "<table border=\"1\" class=\"dataframe\">\n",
       "  <thead>\n",
       "    <tr style=\"text-align: right;\">\n",
       "      <th></th>\n",
       "      <th>0</th>\n",
       "      <th>1</th>\n",
       "      <th>2</th>\n",
       "      <th>3</th>\n",
       "    </tr>\n",
       "  </thead>\n",
       "  <tbody>\n",
       "    <tr>\n",
       "      <th>0</th>\n",
       "      <td>1.0</td>\n",
       "      <td>0.0</td>\n",
       "      <td>0.0</td>\n",
       "      <td>0.0</td>\n",
       "    </tr>\n",
       "  </tbody>\n",
       "</table>\n",
       "</div>"
      ],
      "text/plain": [
       "     0    1    2    3\n",
       "0  1.0  0.0  0.0  0.0"
      ]
     },
     "execution_count": 29,
     "metadata": {},
     "output_type": "execute_result"
    }
   ],
   "source": [
    "print(OHE.get_feature_names())\n",
    "position_OHE.head(1)"
   ]
  },
  {
   "cell_type": "code",
   "execution_count": 30,
   "metadata": {},
   "outputs": [
    {
     "data": {
      "text/html": [
       "<div>\n",
       "<style scoped>\n",
       "    .dataframe tbody tr th:only-of-type {\n",
       "        vertical-align: middle;\n",
       "    }\n",
       "\n",
       "    .dataframe tbody tr th {\n",
       "        vertical-align: top;\n",
       "    }\n",
       "\n",
       "    .dataframe thead th {\n",
       "        text-align: right;\n",
       "    }\n",
       "</style>\n",
       "<table border=\"1\" class=\"dataframe\">\n",
       "  <thead>\n",
       "    <tr style=\"text-align: right;\">\n",
       "      <th></th>\n",
       "      <th>attack</th>\n",
       "      <th>defense</th>\n",
       "      <th>GK</th>\n",
       "      <th>midfield</th>\n",
       "    </tr>\n",
       "  </thead>\n",
       "  <tbody>\n",
       "    <tr>\n",
       "      <th>0</th>\n",
       "      <td>1.0</td>\n",
       "      <td>0.0</td>\n",
       "      <td>0.0</td>\n",
       "      <td>0.0</td>\n",
       "    </tr>\n",
       "  </tbody>\n",
       "</table>\n",
       "</div>"
      ],
      "text/plain": [
       "   attack  defense   GK  midfield\n",
       "0     1.0      0.0  0.0       0.0"
      ]
     },
     "execution_count": 30,
     "metadata": {},
     "output_type": "execute_result"
    }
   ],
   "source": [
    "position_OHE.rename(columns={0:'attack', 1:'defense', 2:'GK', 3:'midfield'},inplace=True)\n",
    "position_OHE.head(1)"
   ]
  },
  {
   "cell_type": "code",
   "execution_count": 24,
   "metadata": {},
   "outputs": [],
   "source": [
    "#appearance_select.drop(columns=['attack','defense','GK','midfield'], inplace = True)"
   ]
  },
  {
   "cell_type": "code",
   "execution_count": 31,
   "metadata": {},
   "outputs": [
    {
     "data": {
      "text/html": [
       "<div>\n",
       "<style scoped>\n",
       "    .dataframe tbody tr th:only-of-type {\n",
       "        vertical-align: middle;\n",
       "    }\n",
       "\n",
       "    .dataframe tbody tr th {\n",
       "        vertical-align: top;\n",
       "    }\n",
       "\n",
       "    .dataframe thead th {\n",
       "        text-align: right;\n",
       "    }\n",
       "</style>\n",
       "<table border=\"1\" class=\"dataframe\">\n",
       "  <thead>\n",
       "    <tr style=\"text-align: right;\">\n",
       "      <th></th>\n",
       "      <th>player_id</th>\n",
       "      <th>game_id</th>\n",
       "      <th>player_club_id</th>\n",
       "      <th>time_ratio</th>\n",
       "      <th>attack</th>\n",
       "      <th>defense</th>\n",
       "      <th>GK</th>\n",
       "      <th>midfield</th>\n",
       "    </tr>\n",
       "  </thead>\n",
       "  <tbody>\n",
       "    <tr>\n",
       "      <th>0</th>\n",
       "      <td>52453</td>\n",
       "      <td>2483937</td>\n",
       "      <td>28095</td>\n",
       "      <td>1.0</td>\n",
       "      <td>1.0</td>\n",
       "      <td>0.0</td>\n",
       "      <td>0.0</td>\n",
       "      <td>0.0</td>\n",
       "    </tr>\n",
       "  </tbody>\n",
       "</table>\n",
       "</div>"
      ],
      "text/plain": [
       "   player_id  game_id  player_club_id  time_ratio  attack  defense   GK  \\\n",
       "0      52453  2483937           28095         1.0     1.0      0.0  0.0   \n",
       "\n",
       "   midfield  \n",
       "0       0.0  "
      ]
     },
     "execution_count": 31,
     "metadata": {},
     "output_type": "execute_result"
    }
   ],
   "source": [
    "appearance_select = pd.concat([appearance_select, position_OHE], axis=1)\n",
    "train_0 = appearance_select.loc[:,['player_id','game_id','player_club_id','time_ratio','attack','defense','GK','midfield']].copy()\n",
    "train_0.head(1)"
   ]
  },
  {
   "cell_type": "code",
   "execution_count": 32,
   "metadata": {},
   "outputs": [
    {
     "data": {
      "text/html": [
       "<div>\n",
       "<style scoped>\n",
       "    .dataframe tbody tr th:only-of-type {\n",
       "        vertical-align: middle;\n",
       "    }\n",
       "\n",
       "    .dataframe tbody tr th {\n",
       "        vertical-align: top;\n",
       "    }\n",
       "\n",
       "    .dataframe thead th {\n",
       "        text-align: right;\n",
       "    }\n",
       "</style>\n",
       "<table border=\"1\" class=\"dataframe\">\n",
       "  <thead>\n",
       "    <tr style=\"text-align: right;\">\n",
       "      <th></th>\n",
       "      <th>player_id</th>\n",
       "      <th>game_id</th>\n",
       "      <th>player_club_id</th>\n",
       "      <th>time_ratio</th>\n",
       "      <th>attack</th>\n",
       "      <th>defense</th>\n",
       "      <th>GK</th>\n",
       "      <th>midfield</th>\n",
       "    </tr>\n",
       "  </thead>\n",
       "  <tbody>\n",
       "    <tr>\n",
       "      <th>0</th>\n",
       "      <td>52453</td>\n",
       "      <td>2483937</td>\n",
       "      <td>28095</td>\n",
       "      <td>1.000000</td>\n",
       "      <td>1.000000</td>\n",
       "      <td>0.0</td>\n",
       "      <td>0.0</td>\n",
       "      <td>0.0</td>\n",
       "    </tr>\n",
       "    <tr>\n",
       "      <th>1</th>\n",
       "      <td>67064</td>\n",
       "      <td>2479929</td>\n",
       "      <td>28095</td>\n",
       "      <td>1.000000</td>\n",
       "      <td>1.000000</td>\n",
       "      <td>0.0</td>\n",
       "      <td>0.0</td>\n",
       "      <td>0.0</td>\n",
       "    </tr>\n",
       "    <tr>\n",
       "      <th>2</th>\n",
       "      <td>67064</td>\n",
       "      <td>2483937</td>\n",
       "      <td>28095</td>\n",
       "      <td>1.000000</td>\n",
       "      <td>1.000000</td>\n",
       "      <td>0.0</td>\n",
       "      <td>0.0</td>\n",
       "      <td>0.0</td>\n",
       "    </tr>\n",
       "    <tr>\n",
       "      <th>3</th>\n",
       "      <td>67064</td>\n",
       "      <td>2484582</td>\n",
       "      <td>28095</td>\n",
       "      <td>0.611328</td>\n",
       "      <td>0.611328</td>\n",
       "      <td>0.0</td>\n",
       "      <td>0.0</td>\n",
       "      <td>0.0</td>\n",
       "    </tr>\n",
       "    <tr>\n",
       "      <th>4</th>\n",
       "      <td>67064</td>\n",
       "      <td>2485965</td>\n",
       "      <td>28095</td>\n",
       "      <td>1.000000</td>\n",
       "      <td>1.000000</td>\n",
       "      <td>0.0</td>\n",
       "      <td>0.0</td>\n",
       "      <td>0.0</td>\n",
       "    </tr>\n",
       "    <tr>\n",
       "      <th>5</th>\n",
       "      <td>67064</td>\n",
       "      <td>2487345</td>\n",
       "      <td>28095</td>\n",
       "      <td>1.000000</td>\n",
       "      <td>1.000000</td>\n",
       "      <td>0.0</td>\n",
       "      <td>0.0</td>\n",
       "      <td>0.0</td>\n",
       "    </tr>\n",
       "    <tr>\n",
       "      <th>6</th>\n",
       "      <td>67064</td>\n",
       "      <td>2498464</td>\n",
       "      <td>28095</td>\n",
       "      <td>1.000000</td>\n",
       "      <td>1.000000</td>\n",
       "      <td>0.0</td>\n",
       "      <td>0.0</td>\n",
       "      <td>0.0</td>\n",
       "    </tr>\n",
       "    <tr>\n",
       "      <th>7</th>\n",
       "      <td>67064</td>\n",
       "      <td>2500260</td>\n",
       "      <td>28095</td>\n",
       "      <td>0.211060</td>\n",
       "      <td>0.211060</td>\n",
       "      <td>0.0</td>\n",
       "      <td>0.0</td>\n",
       "      <td>0.0</td>\n",
       "    </tr>\n",
       "    <tr>\n",
       "      <th>8</th>\n",
       "      <td>67064</td>\n",
       "      <td>2506733</td>\n",
       "      <td>28095</td>\n",
       "      <td>1.000000</td>\n",
       "      <td>1.000000</td>\n",
       "      <td>0.0</td>\n",
       "      <td>0.0</td>\n",
       "      <td>0.0</td>\n",
       "    </tr>\n",
       "    <tr>\n",
       "      <th>9</th>\n",
       "      <td>67064</td>\n",
       "      <td>2508366</td>\n",
       "      <td>28095</td>\n",
       "      <td>0.022217</td>\n",
       "      <td>0.022217</td>\n",
       "      <td>0.0</td>\n",
       "      <td>0.0</td>\n",
       "      <td>0.0</td>\n",
       "    </tr>\n",
       "  </tbody>\n",
       "</table>\n",
       "</div>"
      ],
      "text/plain": [
       "   player_id  game_id  player_club_id  time_ratio    attack  defense   GK  \\\n",
       "0      52453  2483937           28095    1.000000  1.000000      0.0  0.0   \n",
       "1      67064  2479929           28095    1.000000  1.000000      0.0  0.0   \n",
       "2      67064  2483937           28095    1.000000  1.000000      0.0  0.0   \n",
       "3      67064  2484582           28095    0.611328  0.611328      0.0  0.0   \n",
       "4      67064  2485965           28095    1.000000  1.000000      0.0  0.0   \n",
       "5      67064  2487345           28095    1.000000  1.000000      0.0  0.0   \n",
       "6      67064  2498464           28095    1.000000  1.000000      0.0  0.0   \n",
       "7      67064  2500260           28095    0.211060  0.211060      0.0  0.0   \n",
       "8      67064  2506733           28095    1.000000  1.000000      0.0  0.0   \n",
       "9      67064  2508366           28095    0.022217  0.022217      0.0  0.0   \n",
       "\n",
       "   midfield  \n",
       "0       0.0  \n",
       "1       0.0  \n",
       "2       0.0  \n",
       "3       0.0  \n",
       "4       0.0  \n",
       "5       0.0  \n",
       "6       0.0  \n",
       "7       0.0  \n",
       "8       0.0  \n",
       "9       0.0  "
      ]
     },
     "execution_count": 32,
     "metadata": {},
     "output_type": "execute_result"
    }
   ],
   "source": [
    "\n",
    "train_0.loc[:,['attack' ,'defense' ,'GK' ,'midfield']] =\\\n",
    "train_0.loc[:,['attack' ,'defense' ,'GK' ,'midfield']].multiply(train_0.time_ratio, axis = 0)\n",
    "train_0.head(10)"
   ]
  },
  {
   "cell_type": "code",
   "execution_count": 33,
   "metadata": {},
   "outputs": [],
   "source": [
    "train_0 = train_0.groupby(['game_id','player_club_id'])[['attack','defense','GK','midfield']].sum().reset_index()\n",
    "train_0.to_csv('train1_6.csv')"
   ]
  },
  {
   "cell_type": "markdown",
   "metadata": {},
   "source": [
    "# Which FIFA?\n",
    "<b> In which fifa we should search for the player? "
   ]
  },
  {
   "cell_type": "code",
   "execution_count": 34,
   "metadata": {},
   "outputs": [],
   "source": [
    "# Add game season:\n",
    "\n",
    "appearance_select['season'] = appearance_select.game_id.apply(\n",
    "    lambda x: games.loc[games.game_id == x,'season'].values[0]-2000\n",
    ")\n"
   ]
  },
  {
   "cell_type": "code",
   "execution_count": 35,
   "metadata": {},
   "outputs": [],
   "source": [
    "appearance_select.to_csv('../data/training_data/appearance_select6.csv')"
   ]
  },
  {
   "cell_type": "code",
   "execution_count": 36,
   "metadata": {},
   "outputs": [],
   "source": [
    "appearance_select = \\\n",
    "pd.read_csv('../data/training_data/appearance_select6.csv', index_col = 0, \\\n",
    "            dtype = {'game_id' : np.int32, 'player_id' : np.int32,'player_club_id' : np.int16, 'minutes_played' : np.int8,\\\n",
    "                    'yellow_cards' : np.int8,'red_cards' : np.int8,'goals' : np.int8,'assists' : np.int8,\n",
    "                    'max_time' : np.int16,'time_ratio' : np.float16, 'season' : np.int8})"
   ]
  },
  {
   "cell_type": "code",
   "execution_count": 37,
   "metadata": {},
   "outputs": [
    {
     "data": {
      "text/html": [
       "<div>\n",
       "<style scoped>\n",
       "    .dataframe tbody tr th:only-of-type {\n",
       "        vertical-align: middle;\n",
       "    }\n",
       "\n",
       "    .dataframe tbody tr th {\n",
       "        vertical-align: top;\n",
       "    }\n",
       "\n",
       "    .dataframe thead th {\n",
       "        text-align: right;\n",
       "    }\n",
       "</style>\n",
       "<table border=\"1\" class=\"dataframe\">\n",
       "  <thead>\n",
       "    <tr style=\"text-align: right;\">\n",
       "      <th></th>\n",
       "      <th>player_id</th>\n",
       "      <th>current_club_id</th>\n",
       "      <th>position</th>\n",
       "      <th>sub_position</th>\n",
       "      <th>which_fifa</th>\n",
       "    </tr>\n",
       "  </thead>\n",
       "  <tbody>\n",
       "    <tr>\n",
       "      <th>0</th>\n",
       "      <td>38790</td>\n",
       "      <td>28095</td>\n",
       "      <td>attack</td>\n",
       "      <td>Centre-Forward</td>\n",
       "      <td>[15]</td>\n",
       "    </tr>\n",
       "    <tr>\n",
       "      <th>1</th>\n",
       "      <td>106539</td>\n",
       "      <td>28095</td>\n",
       "      <td>attack</td>\n",
       "      <td>Right Winger</td>\n",
       "      <td>[15]</td>\n",
       "    </tr>\n",
       "    <tr>\n",
       "      <th>2</th>\n",
       "      <td>164389</td>\n",
       "      <td>2288</td>\n",
       "      <td>attack</td>\n",
       "      <td>Centre-Forward</td>\n",
       "      <td>[15, 16, 17]</td>\n",
       "    </tr>\n",
       "    <tr>\n",
       "      <th>3</th>\n",
       "      <td>45247</td>\n",
       "      <td>1162</td>\n",
       "      <td>goalkeeper</td>\n",
       "      <td>Goalkeeper</td>\n",
       "      <td>[15, 16, 17, 18, 19, 20]</td>\n",
       "    </tr>\n",
       "    <tr>\n",
       "      <th>4</th>\n",
       "      <td>97205</td>\n",
       "      <td>28095</td>\n",
       "      <td>attack</td>\n",
       "      <td>Right Winger</td>\n",
       "      <td>[15]</td>\n",
       "    </tr>\n",
       "  </tbody>\n",
       "</table>\n",
       "</div>"
      ],
      "text/plain": [
       "   player_id  current_club_id    position    sub_position  \\\n",
       "0      38790            28095      attack  Centre-Forward   \n",
       "1     106539            28095      attack    Right Winger   \n",
       "2     164389             2288      attack  Centre-Forward   \n",
       "3      45247             1162  goalkeeper      Goalkeeper   \n",
       "4      97205            28095      attack    Right Winger   \n",
       "\n",
       "                 which_fifa  \n",
       "0                      [15]  \n",
       "1                      [15]  \n",
       "2              [15, 16, 17]  \n",
       "3  [15, 16, 17, 18, 19, 20]  \n",
       "4                      [15]  "
      ]
     },
     "execution_count": 37,
     "metadata": {},
     "output_type": "execute_result"
    }
   ],
   "source": [
    "# in known_players, add the FIFA in which the player can be found\n",
    "known_players = players.loc[players.player_id.isin(player_IDs),['player_id' ,'current_club_id','position' ,'sub_position']]\n",
    "known_players['which_fifa'] = known_players.player_id.apply(lambda x:\n",
    "                                                             corr.loc[corr.player_id == x,'which_fifa'].values\n",
    "                                                            )\n",
    "known_players.head()"
   ]
  },
  {
   "cell_type": "code",
   "execution_count": 38,
   "metadata": {},
   "outputs": [],
   "source": [
    "#in appearance_select, select players that we know:\n",
    "appearance_known_players = appearance_select.loc[appearance_select.player_id.isin(player_IDs),:].copy()\n",
    "appearance_known_players['which_fifa']=None"
   ]
  },
  {
   "cell_type": "code",
   "execution_count": 40,
   "metadata": {},
   "outputs": [
    {
     "name": "stdout",
     "output_type": "stream",
     "text": [
      "16369 13742 "
     ]
    }
   ],
   "source": [
    "# There are 2757 players in known players that do not appear in appearance_select\n",
    "# We will drop them\n",
    "print(known_players.shape[0],end = ' ')\n",
    "index = known_players.loc[~known_players.player_id.isin(appearance_known_players.player_id.unique()),:].index\n",
    "known_players = known_players.drop(index).reset_index(drop = True)\n",
    "print(known_players.shape[0],end = ' ')"
   ]
  },
  {
   "cell_type": "code",
   "execution_count": 42,
   "metadata": {},
   "outputs": [
    {
     "name": "stdout",
     "output_type": "stream",
     "text": [
      "CPU times: user 1.11 ms, sys: 342 µs, total: 1.45 ms\n",
      "Wall time: 1.19 ms\n"
     ]
    },
    {
     "data": {
      "text/plain": [
       "array([15, 16])"
      ]
     },
     "execution_count": 42,
     "metadata": {},
     "output_type": "execute_result"
    }
   ],
   "source": [
    "#test before apply:\n",
    "x = appearance_known_players.iloc[0,:]\n",
    "%time known_players.loc[known_players.player_id == x['player_id'],'which_fifa'].values[0]\n"
   ]
  },
  {
   "cell_type": "code",
   "execution_count": 43,
   "metadata": {},
   "outputs": [
    {
     "name": "stderr",
     "output_type": "stream",
     "text": [
      "100%|██████████| 804484/804484 [03:35<00:00, 3734.31it/s]\n"
     ]
    }
   ],
   "source": [
    "#add which_fifa column\n",
    "\n",
    "appearance_known_players.loc[:,'which_fifa'] = \\\n",
    "appearance_known_players.player_id.progress_apply(lambda x:\n",
    "                                         known_players.loc[known_players.player_id == x,'which_fifa'].values[0]\n",
    "                                        )"
   ]
  },
  {
   "cell_type": "code",
   "execution_count": 44,
   "metadata": {},
   "outputs": [],
   "source": [
    "appearance_known_players.to_csv('../data/training_data/appearance_known_players6.csv')"
   ]
  },
  {
   "cell_type": "code",
   "execution_count": null,
   "metadata": {},
   "outputs": [],
   "source": []
  },
  {
   "cell_type": "code",
   "execution_count": 45,
   "metadata": {},
   "outputs": [
    {
     "data": {
      "text/plain": [
       "(17, array([15, 16, 17, 18, 19, 20, 21]), 17)"
      ]
     },
     "execution_count": 45,
     "metadata": {},
     "output_type": "execute_result"
    }
   ],
   "source": [
    "#test\n",
    "#####PROBLEME METTRE LES SOUSTRACTION EN VALEURS ABSOLUES!!!!!!!\n",
    "x = appearance_known_players.iloc[400200,:]\n",
    "t = (np.argwhere(abs(x['season']-x['which_fifa']) == (abs(x['season']-x['which_fifa'])).min())).squeeze()\n",
    "x['season'], x['which_fifa'],x['which_fifa'][t], "
   ]
  },
  {
   "cell_type": "code",
   "execution_count": 46,
   "metadata": {},
   "outputs": [
    {
     "name": "stderr",
     "output_type": "stream",
     "text": [
      "100%|██████████| 804484/804484 [01:13<00:00, 10933.86it/s]\n"
     ]
    }
   ],
   "source": [
    "appearance_known_players.loc[:,'which_fifa'] = \\\n",
    "appearance_known_players.progress_apply(lambda x:\n",
    "                               x['which_fifa'][(np.argwhere(abs(x['season']-x['which_fifa']) == (abs(x['season']-x['which_fifa'])).min())).squeeze()]\n",
    "                               ,axis = 1\n",
    "                              )\n"
   ]
  },
  {
   "cell_type": "code",
   "execution_count": 47,
   "metadata": {},
   "outputs": [],
   "source": [
    "#Certains joueurs ont 2 which_fifa possible. On prendra systématiquement le plus récent.\n",
    "mask = appearance_known_players.which_fifa.apply(type)!=np.int64\n",
    "appearance_known_players.loc[mask,'which_fifa'] = appearance_known_players.loc[mask,'which_fifa'].apply(lambda x: x[-1])"
   ]
  },
  {
   "cell_type": "code",
   "execution_count": 48,
   "metadata": {},
   "outputs": [],
   "source": [
    "appearance_known_players.to_csv('../data/training_data/appearance_known_players6.csv')"
   ]
  },
  {
   "cell_type": "code",
   "execution_count": null,
   "metadata": {},
   "outputs": [],
   "source": []
  }
 ],
 "metadata": {
  "kernelspec": {
   "display_name": "Python 3",
   "language": "python",
   "name": "python3"
  },
  "language_info": {
   "codemirror_mode": {
    "name": "ipython",
    "version": 3
   },
   "file_extension": ".py",
   "mimetype": "text/x-python",
   "name": "python",
   "nbconvert_exporter": "python",
   "pygments_lexer": "ipython3",
   "version": "3.9.7"
  }
 },
 "nbformat": 4,
 "nbformat_minor": 4
}
