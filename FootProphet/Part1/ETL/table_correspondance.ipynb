{
 "cells": [
  {
   "cell_type": "markdown",
   "metadata": {},
   "source": [
    "### Ce notebook a pour objet de générer une table de correspondance entre les joueurs du dataset games et ceux du dataset FIFA.\n",
    "### Pour cela on se sert des résultats obtenus grace au notebooks Name_matching et Name_matching_DoB"
   ]
  },
  {
   "cell_type": "code",
   "execution_count": 2,
   "metadata": {},
   "outputs": [],
   "source": [
    "import pandas as pd\n",
    "import numpy as np\n",
    "import re\n",
    "from fuzzywuzzy import fuzz\n",
    "import ast # ast is part of python standard's library. \n",
    "from tqdm import tqdm\n",
    "import inspect\n",
    "import re\n",
    "tqdm.pandas()\n"
   ]
  },
  {
   "cell_type": "code",
   "execution_count": 2,
   "metadata": {},
   "outputs": [],
   "source": [
    "def link_process(link_N):\n",
    "    link_str = retrieve_name(link_N)\n",
    "    link_N['which_fifa']=link_str[-2:]\n",
    "    return link_str"
   ]
  },
  {
   "cell_type": "code",
   "execution_count": 3,
   "metadata": {},
   "outputs": [],
   "source": [
    "def transform_str_column(x):\n",
    "    if x[0] == r'[':\n",
    "        res = re.sub(r'(\\w)\\s+(\\w)',r'\\1 , \\2',x.replace('\\n',''))\n",
    "        res = re.sub(r'(\\w)\\s+(\\w)',r'\\1 , \\2',res)\n",
    "        res = ast.literal_eval(res) \n",
    "        #res = [str(y) for y in res]\n",
    "    else:\n",
    "        res = str(x)\n",
    "    return res"
   ]
  },
  {
   "cell_type": "code",
   "execution_count": 4,
   "metadata": {},
   "outputs": [
    {
     "data": {
      "text/plain": [
       "['a', 'b']"
      ]
     },
     "execution_count": 4,
     "metadata": {},
     "output_type": "execute_result"
    }
   ],
   "source": [
    "#Use this function into a function that is itself into a list comprehension to retrieve the name of a variable passed as an argument of the function\n",
    "#to use this into a function, delete one '.f_back', to use it in the script, delete two\n",
    "def retrieve_name(var):\n",
    "    callers_local_vars = inspect.currentframe().f_back.f_back.f_back.f_locals.items()\n",
    "    return [var_name for var_name, var_val in callers_local_vars if var_val is var][0]\n",
    "\n",
    "#example\n",
    "a=2\n",
    "b=3\n",
    "\n",
    "def foo(bar):\n",
    "    return retrieve_name(bar)\n",
    "#print(foo(a))\n",
    "[foo(x) for x in [a,b]]"
   ]
  },
  {
   "cell_type": "code",
   "execution_count": 5,
   "metadata": {},
   "outputs": [],
   "source": [
    "appearance = pd.read_csv('../data/games/appearance.csv')\n",
    "clubs = pd.read_csv('../data/games/clubs.csv')\n",
    "leagues = pd.read_csv('../data/games/leagues.csv')\n",
    "games = pd.read_csv('../data/games/games.csv')\n",
    "players = pd.read_csv('../data/games/players.csv')\n",
    "\n"
   ]
  },
  {
   "cell_type": "code",
   "execution_count": 3,
   "metadata": {},
   "outputs": [
    {
     "name": "stderr",
     "output_type": "stream",
     "text": [
      "/Users/pierreadda/opt/anaconda3/envs/foot_env/lib/python3.9/site-packages/IPython/core/interactiveshell.py:3457: DtypeWarning: Columns (104) have mixed types.Specify dtype option on import or set low_memory=False.\n",
      "  exec(code_obj, self.user_global_ns, self.user_ns)\n",
      "/Users/pierreadda/opt/anaconda3/envs/foot_env/lib/python3.9/site-packages/IPython/core/interactiveshell.py:3457: DtypeWarning: Columns (81,82,83,84,85) have mixed types.Specify dtype option on import or set low_memory=False.\n",
      "  exec(code_obj, self.user_global_ns, self.user_ns)\n",
      "/Users/pierreadda/opt/anaconda3/envs/foot_env/lib/python3.9/site-packages/IPython/core/interactiveshell.py:3457: DtypeWarning: Columns (25,108) have mixed types.Specify dtype option on import or set low_memory=False.\n",
      "  exec(code_obj, self.user_global_ns, self.user_ns)\n"
     ]
    }
   ],
   "source": [
    "fifa15 =pd.read_csv('../data/FIFA/players_15.csv')\n",
    "fifa16 =pd.read_csv('../data/FIFA/players_16.csv')\n",
    "fifa17 =pd.read_csv('../data/FIFA/players_17.csv')\n",
    "fifa18 =pd.read_csv('../data/FIFA/players_18.csv')\n",
    "fifa19 =pd.read_csv('../data/FIFA/players_19.csv')\n",
    "fifa20 =pd.read_csv('../data/FIFA/players_20.csv')\n",
    "fifa21 =pd.read_csv('../data/FIFA/players_21.csv')\n",
    "fifa22 =pd.read_csv('../data/FIFA/players_22.csv')\n"
   ]
  },
  {
   "cell_type": "code",
   "execution_count": null,
   "metadata": {},
   "outputs": [],
   "source": [
    "players.position.unique()"
   ]
  },
  {
   "cell_type": "code",
   "execution_count": null,
   "metadata": {},
   "outputs": [],
   "source": [
    "appearance.player_id = appearance.player_id.astype(np.int32)\n",
    "players.player_id = players.player_id.astype(np.int32)"
   ]
  },
  {
   "cell_type": "code",
   "execution_count": null,
   "metadata": {},
   "outputs": [],
   "source": [
    "%%time\n",
    "dd=appearance.player_id.progress_apply(lambda x: players.loc[players.player_id == x,:])\n"
   ]
  },
  {
   "cell_type": "code",
   "execution_count": null,
   "metadata": {},
   "outputs": [],
   "source": [
    "dd"
   ]
  },
  {
   "cell_type": "code",
   "execution_count": null,
   "metadata": {},
   "outputs": [],
   "source": [
    "players.loc[:,'position'].unique()\n",
    "appearance.head()"
   ]
  },
  {
   "cell_type": "code",
   "execution_count": null,
   "metadata": {},
   "outputs": [],
   "source": [
    "appearance.loc[appearance]"
   ]
  },
  {
   "cell_type": "code",
   "execution_count": 4,
   "metadata": {},
   "outputs": [],
   "source": [
    "link15 =pd.read_csv('../data/table_correspondance/links_no_DoB/link_fifa15.csv',index_col = 0)\n",
    "link16 =pd.read_csv('../data/table_correspondance/links_no_DoB/link_fifa16.csv',index_col = 0)\n",
    "link17 =pd.read_csv('../data/table_correspondance/links_no_DoB/link_fifa17.csv',index_col = 0)\n",
    "link18 =pd.read_csv('../data/table_correspondance/links_no_DoB/link_fifa18.csv',index_col = 0)\n",
    "link19 =pd.read_csv('../data/table_correspondance/links_no_DoB/link_fifa19.csv',index_col = 0)\n",
    "link20 =pd.read_csv('../data/table_correspondance/links_no_DoB/link_fifa20.csv',index_col = 0)\n",
    "link21 =pd.read_csv('../data/table_correspondance/links_no_DoB/link_fifa21.csv',index_col = 0)\n",
    "link22 =pd.read_csv('../data/table_correspondance/links_no_DoB/link_fifa22.csv',index_col = 0)\n"
   ]
  },
  {
   "cell_type": "code",
   "execution_count": null,
   "metadata": {},
   "outputs": [],
   "source": [
    "link_list = [link15,link16,link17,link18,link19,link20,link21,link22]\n",
    "[link_process(x) for x in link_list]"
   ]
  },
  {
   "cell_type": "code",
   "execution_count": null,
   "metadata": {},
   "outputs": [],
   "source": [
    "type(link16.clubs[1])"
   ]
  },
  {
   "cell_type": "code",
   "execution_count": null,
   "metadata": {},
   "outputs": [],
   "source": [
    "link = pd.concat(link_list)\n",
    "link.head(2)"
   ]
  },
  {
   "cell_type": "code",
   "execution_count": null,
   "metadata": {},
   "outputs": [],
   "source": [
    "link.drop(columns = ['clubs','fifa_clubs'], inplace = True)"
   ]
  },
  {
   "cell_type": "code",
   "execution_count": null,
   "metadata": {},
   "outputs": [],
   "source": [
    "link.shape"
   ]
  },
  {
   "cell_type": "code",
   "execution_count": null,
   "metadata": {},
   "outputs": [],
   "source": [
    "link.to_csv('../data/table_correspondance/table_correspondance_no_DoB.csv')"
   ]
  },
  {
   "cell_type": "code",
   "execution_count": null,
   "metadata": {},
   "outputs": [],
   "source": [
    "len(link.player_id.unique())"
   ]
  },
  {
   "cell_type": "code",
   "execution_count": 5,
   "metadata": {},
   "outputs": [],
   "source": [
    "link15 =pd.read_csv('../data/table_correspondance/links_DoB/link_fifa15.csv',index_col = 0)\n",
    "link16 =pd.read_csv('../data/table_correspondance/links_DoB/link_fifa16.csv',index_col = 0)\n",
    "link17 =pd.read_csv('../data/table_correspondance/links_DoB/link_fifa17.csv',index_col = 0)\n",
    "link18 =pd.read_csv('../data/table_correspondance/links_DoB/link_fifa18.csv',index_col = 0)\n",
    "link19 =pd.read_csv('../data/table_correspondance/links_DoB/link_fifa19.csv',index_col = 0)\n",
    "link20 =pd.read_csv('../data/table_correspondance/links_DoB/link_fifa20.csv',index_col = 0)\n",
    "link21 =pd.read_csv('../data/table_correspondance/links_DoB/link_fifa21.csv',index_col = 0)\n",
    "link22 =pd.read_csv('../data/table_correspondance/links_DoB/link_fifa22.csv',index_col = 0)\n"
   ]
  },
  {
   "cell_type": "code",
   "execution_count": 10,
   "metadata": {},
   "outputs": [],
   "source": [
    "link_list = [link15,link16,link17,link18,link19,link20,link21,link22]\n",
    "[link_process(x) for x in link_list]\n",
    "link_DoB = pd.concat(link_list)"
   ]
  },
  {
   "cell_type": "code",
   "execution_count": 11,
   "metadata": {},
   "outputs": [
    {
     "name": "stdout",
     "output_type": "stream",
     "text": [
      "16098\n"
     ]
    }
   ],
   "source": [
    "print(len(player_IDs := link_DoB.player_id.unique()))"
   ]
  },
  {
   "cell_type": "code",
   "execution_count": 49,
   "metadata": {},
   "outputs": [],
   "source": [
    "link_DoB.to_csv('../data/table_correspondance/table_correspondance_DoB.csv')"
   ]
  },
  {
   "cell_type": "code",
   "execution_count": 6,
   "metadata": {},
   "outputs": [],
   "source": [
    "link = pd.read_csv('../data/table_correspondance/table_correspondance_no_DoB.csv',index_col = 0)\n",
    "link_DoB = pd.read_csv('../data/table_correspondance/table_correspondance_DoB.csv',index_col = 0)"
   ]
  },
  {
   "cell_type": "code",
   "execution_count": 7,
   "metadata": {},
   "outputs": [
    {
     "data": {
      "text/html": [
       "<div>\n",
       "<style scoped>\n",
       "    .dataframe tbody tr th:only-of-type {\n",
       "        vertical-align: middle;\n",
       "    }\n",
       "\n",
       "    .dataframe tbody tr th {\n",
       "        vertical-align: top;\n",
       "    }\n",
       "\n",
       "    .dataframe thead th {\n",
       "        text-align: right;\n",
       "    }\n",
       "</style>\n",
       "<table border=\"1\" class=\"dataframe\">\n",
       "  <thead>\n",
       "    <tr style=\"text-align: right;\">\n",
       "      <th></th>\n",
       "      <th>player_id</th>\n",
       "      <th>name</th>\n",
       "      <th>fifa_index</th>\n",
       "      <th>name_compare</th>\n",
       "      <th>sofifa_id</th>\n",
       "      <th>which_fifa</th>\n",
       "    </tr>\n",
       "  </thead>\n",
       "  <tbody>\n",
       "    <tr>\n",
       "      <th>0</th>\n",
       "      <td>38790</td>\n",
       "      <td>dmitri golubov</td>\n",
       "      <td>5626</td>\n",
       "      <td>dmitriy golubov</td>\n",
       "      <td>147752</td>\n",
       "      <td>15</td>\n",
       "    </tr>\n",
       "    <tr>\n",
       "      <th>1</th>\n",
       "      <td>106539</td>\n",
       "      <td>aleksandr vasiljev</td>\n",
       "      <td>14253</td>\n",
       "      <td>alexandr vasiliev</td>\n",
       "      <td>203086</td>\n",
       "      <td>15</td>\n",
       "    </tr>\n",
       "    <tr>\n",
       "      <th>2</th>\n",
       "      <td>164389</td>\n",
       "      <td>rory donnelly</td>\n",
       "      <td>7003</td>\n",
       "      <td>rory donnelly</td>\n",
       "      <td>207642</td>\n",
       "      <td>15</td>\n",
       "    </tr>\n",
       "    <tr>\n",
       "      <th>3</th>\n",
       "      <td>45247</td>\n",
       "      <td>damien perquis</td>\n",
       "      <td>3993</td>\n",
       "      <td>damien perquis</td>\n",
       "      <td>116917</td>\n",
       "      <td>15</td>\n",
       "    </tr>\n",
       "    <tr>\n",
       "      <th>4</th>\n",
       "      <td>97205</td>\n",
       "      <td>nikita bezlikhotnov</td>\n",
       "      <td>11601</td>\n",
       "      <td>nikita bezlikhotnov</td>\n",
       "      <td>216370</td>\n",
       "      <td>15</td>\n",
       "    </tr>\n",
       "  </tbody>\n",
       "</table>\n",
       "</div>"
      ],
      "text/plain": [
       "   player_id                 name  fifa_index         name_compare  sofifa_id  \\\n",
       "0      38790       dmitri golubov        5626      dmitriy golubov     147752   \n",
       "1     106539   aleksandr vasiljev       14253    alexandr vasiliev     203086   \n",
       "2     164389        rory donnelly        7003        rory donnelly     207642   \n",
       "3      45247       damien perquis        3993       damien perquis     116917   \n",
       "4      97205  nikita bezlikhotnov       11601  nikita bezlikhotnov     216370   \n",
       "\n",
       "   which_fifa  \n",
       "0          15  \n",
       "1          15  \n",
       "2          15  \n",
       "3          15  \n",
       "4          15  "
      ]
     },
     "execution_count": 7,
     "metadata": {},
     "output_type": "execute_result"
    }
   ],
   "source": [
    "link_DoB.head()"
   ]
  },
  {
   "cell_type": "code",
   "execution_count": 119,
   "metadata": {},
   "outputs": [
    {
     "name": "stdout",
     "output_type": "stream",
     "text": [
      "16369 13842\n"
     ]
    }
   ],
   "source": [
    "print(len(player_IDs_DoB := link_DoB.player_id.unique()) , len(player_IDs := link.player_id.unique()))"
   ]
  },
  {
   "cell_type": "code",
   "execution_count": 10,
   "metadata": {},
   "outputs": [
    {
     "data": {
      "text/plain": [
       "453"
      ]
     },
     "execution_count": 10,
     "metadata": {},
     "output_type": "execute_result"
    }
   ],
   "source": [
    "#Is there players in players_ID that are not in players_ID_DoB?\n",
    "#are these good matches?\n",
    "len(missing_names :=player_IDs[~np.isin(player_IDs , player_IDs_DoB)])"
   ]
  },
  {
   "cell_type": "code",
   "execution_count": 11,
   "metadata": {},
   "outputs": [],
   "source": [
    "missing_players = link.loc[link.player_id.isin(missing_names),:].copy()"
   ]
  },
  {
   "cell_type": "code",
   "execution_count": 19,
   "metadata": {},
   "outputs": [],
   "source": [
    "locs = locals()\n",
    "#missing_players.drop(columns = ['fifa_last_name' ,'last_name' ,'last_name_compare'], inplace = True)\n",
    "missing_players['DoB'] = missing_players.player_id.apply(lambda x : players.loc[players.player_id == x , 'date_of_birth'].values[0])\n",
    "missing_players['fifa_DoB'] = missing_players.apply(lambda x: locs['fifa'+str(x['which_fifa'])].loc[x['fifa_index'],'dob']  , axis = 1)\n",
    "missing_players = missing_players.drop(missing_players.loc[missing_players.DoB.isnull(),:].index).reset_index(drop=True)\n"
   ]
  },
  {
   "cell_type": "code",
   "execution_count": 28,
   "metadata": {},
   "outputs": [],
   "source": [
    "good_miss = missing_players.apply(lambda x : re.search(r'^\\d+',x['DoB']).group(0) == re.search(r'^\\d+',x['fifa_DoB']).group(0) ,axis = 1 )\n",
    "good_missing_players = missing_players.loc[good_miss,:].reset_index(drop= True)"
   ]
  },
  {
   "cell_type": "code",
   "execution_count": 38,
   "metadata": {},
   "outputs": [
    {
     "data": {
      "text/plain": [
       "509247"
      ]
     },
     "execution_count": 38,
     "metadata": {},
     "output_type": "execute_result"
    }
   ],
   "source": [
    "tt = good_missing_players.groupby('player_id')['sofifa_id'].unique().reset_index()\n",
    "tt.loc[tt.sofifa_id.apply(len)>1,:'player_id'].values[0][0]"
   ]
  },
  {
   "cell_type": "code",
   "execution_count": 45,
   "metadata": {},
   "outputs": [],
   "source": [
    "good_missing_players = good_missing_players.drop(good_missing_players.loc[good_missing_players.sofifa_id == 243643,:].index).reset_index(drop = True)"
   ]
  },
  {
   "cell_type": "code",
   "execution_count": 46,
   "metadata": {},
   "outputs": [
    {
     "data": {
      "text/html": [
       "<div>\n",
       "<style scoped>\n",
       "    .dataframe tbody tr th:only-of-type {\n",
       "        vertical-align: middle;\n",
       "    }\n",
       "\n",
       "    .dataframe tbody tr th {\n",
       "        vertical-align: top;\n",
       "    }\n",
       "\n",
       "    .dataframe thead th {\n",
       "        text-align: right;\n",
       "    }\n",
       "</style>\n",
       "<table border=\"1\" class=\"dataframe\">\n",
       "  <thead>\n",
       "    <tr style=\"text-align: right;\">\n",
       "      <th></th>\n",
       "      <th>player_id</th>\n",
       "      <th>name</th>\n",
       "      <th>fifa_index</th>\n",
       "      <th>name_compare</th>\n",
       "      <th>sofifa_id</th>\n",
       "      <th>which_fifa</th>\n",
       "      <th>DoB</th>\n",
       "      <th>fifa_DoB</th>\n",
       "    </tr>\n",
       "  </thead>\n",
       "  <tbody>\n",
       "    <tr>\n",
       "      <th>409</th>\n",
       "      <td>509247</td>\n",
       "      <td>euan henderson</td>\n",
       "      <td>17600</td>\n",
       "      <td>euan henderson</td>\n",
       "      <td>240806</td>\n",
       "      <td>18</td>\n",
       "      <td>2000-06-29</td>\n",
       "      <td>2000-06-26</td>\n",
       "    </tr>\n",
       "  </tbody>\n",
       "</table>\n",
       "</div>"
      ],
      "text/plain": [
       "     player_id            name  fifa_index    name_compare  sofifa_id  \\\n",
       "409     509247  euan henderson       17600  euan henderson     240806   \n",
       "\n",
       "     which_fifa         DoB    fifa_DoB  \n",
       "409          18  2000-06-29  2000-06-26  "
      ]
     },
     "execution_count": 46,
     "metadata": {},
     "output_type": "execute_result"
    }
   ],
   "source": [
    "good_missing_players.loc[good_missing_players.player_id == 509247, :]\n"
   ]
  },
  {
   "cell_type": "code",
   "execution_count": 48,
   "metadata": {},
   "outputs": [],
   "source": [
    "good_missing_players.drop(columns = ['DoB' ,'fifa_DoB'],inplace = True)"
   ]
  },
  {
   "cell_type": "code",
   "execution_count": 49,
   "metadata": {},
   "outputs": [],
   "source": [
    "link_DoB = pd.concat([link_DoB,good_missing_players])"
   ]
  },
  {
   "cell_type": "code",
   "execution_count": 65,
   "metadata": {},
   "outputs": [],
   "source": [
    "tt = link_DoB.groupby('player_id')['sofifa_id'].unique().reset_index()\n",
    "mm = tt.loc[tt.sofifa_id.apply(len)>1,:'player_id'].values.squeeze()"
   ]
  },
  {
   "cell_type": "code",
   "execution_count": 60,
   "metadata": {},
   "outputs": [],
   "source": [
    "link_DoB.loc[link_DoB.player_id.isin(mm),:].sort_values('player_id')\n",
    "link_DoB['DoB'] = link_DoB.player_id.apply(lambda x : players.loc[players.player_id == x , 'date_of_birth'].values[0])\n",
    "link_DoB['fifa_DoB'] = link_DoB.apply(lambda x: locs['fifa'+str(x['which_fifa'])].loc[x['fifa_index'],'dob']  , axis = 1)\n"
   ]
  },
  {
   "cell_type": "code",
   "execution_count": 110,
   "metadata": {},
   "outputs": [],
   "source": [
    "link_DoB = link_DoB.drop([6426,13576,38089,46387,62326]).reset_index(drop = True)\n",
    "#tt = link_DoB.groupby('player_id')['sofifa_id'].unique().reset_index()\n",
    "#mm = tt.loc[tt.sofifa_id.apply(len)>1,:'player_id'].values.squeeze()"
   ]
  },
  {
   "cell_type": "code",
   "execution_count": 109,
   "metadata": {},
   "outputs": [
    {
     "data": {
      "text/html": [
       "<div>\n",
       "<style scoped>\n",
       "    .dataframe tbody tr th:only-of-type {\n",
       "        vertical-align: middle;\n",
       "    }\n",
       "\n",
       "    .dataframe tbody tr th {\n",
       "        vertical-align: top;\n",
       "    }\n",
       "\n",
       "    .dataframe thead th {\n",
       "        text-align: right;\n",
       "    }\n",
       "</style>\n",
       "<table border=\"1\" class=\"dataframe\">\n",
       "  <thead>\n",
       "    <tr style=\"text-align: right;\">\n",
       "      <th></th>\n",
       "      <th>player_id</th>\n",
       "      <th>name</th>\n",
       "      <th>fifa_index</th>\n",
       "      <th>name_compare</th>\n",
       "      <th>sofifa_id</th>\n",
       "      <th>which_fifa</th>\n",
       "      <th>DoB</th>\n",
       "      <th>fifa_DoB</th>\n",
       "    </tr>\n",
       "  </thead>\n",
       "  <tbody>\n",
       "    <tr>\n",
       "      <th>6426</th>\n",
       "      <td>66117</td>\n",
       "      <td>angel martinez</td>\n",
       "      <td>287</td>\n",
       "      <td>inigo martinez berridi</td>\n",
       "      <td>204525</td>\n",
       "      <td>15</td>\n",
       "      <td>1991-05-17</td>\n",
       "      <td>1991-05-17</td>\n",
       "    </tr>\n",
       "    <tr>\n",
       "      <th>13576</th>\n",
       "      <td>66117</td>\n",
       "      <td>angel martinez</td>\n",
       "      <td>382</td>\n",
       "      <td>inigo martinez berridi</td>\n",
       "      <td>204525</td>\n",
       "      <td>16</td>\n",
       "      <td>1991-05-17</td>\n",
       "      <td>1991-05-17</td>\n",
       "    </tr>\n",
       "    <tr>\n",
       "      <th>38089</th>\n",
       "      <td>66117</td>\n",
       "      <td>angel martinez</td>\n",
       "      <td>649</td>\n",
       "      <td>inigo martinez berridi</td>\n",
       "      <td>204525</td>\n",
       "      <td>19</td>\n",
       "      <td>1991-05-17</td>\n",
       "      <td>1991-05-17</td>\n",
       "    </tr>\n",
       "    <tr>\n",
       "      <th>46387</th>\n",
       "      <td>66117</td>\n",
       "      <td>angel martinez</td>\n",
       "      <td>499</td>\n",
       "      <td>inigo martinez berridi</td>\n",
       "      <td>204525</td>\n",
       "      <td>20</td>\n",
       "      <td>1991-05-17</td>\n",
       "      <td>1991-05-17</td>\n",
       "    </tr>\n",
       "    <tr>\n",
       "      <th>62326</th>\n",
       "      <td>66117</td>\n",
       "      <td>angel martinez</td>\n",
       "      <td>324</td>\n",
       "      <td>inigo martinez berridi</td>\n",
       "      <td>204525</td>\n",
       "      <td>22</td>\n",
       "      <td>1991-05-17</td>\n",
       "      <td>1991-05-17</td>\n",
       "    </tr>\n",
       "    <tr>\n",
       "      <th>21507</th>\n",
       "      <td>66117</td>\n",
       "      <td>angel martinez</td>\n",
       "      <td>6810</td>\n",
       "      <td>angel martinez ortega</td>\n",
       "      <td>197441</td>\n",
       "      <td>17</td>\n",
       "      <td>1991-05-17</td>\n",
       "      <td>1991-05-17</td>\n",
       "    </tr>\n",
       "    <tr>\n",
       "      <th>29796</th>\n",
       "      <td>66117</td>\n",
       "      <td>angel martinez</td>\n",
       "      <td>5189</td>\n",
       "      <td>angel martinez ortega</td>\n",
       "      <td>197441</td>\n",
       "      <td>18</td>\n",
       "      <td>1991-05-17</td>\n",
       "      <td>1991-05-17</td>\n",
       "    </tr>\n",
       "    <tr>\n",
       "      <th>54499</th>\n",
       "      <td>66117</td>\n",
       "      <td>angel martinez</td>\n",
       "      <td>8593</td>\n",
       "      <td>angel martinez ortega</td>\n",
       "      <td>197441</td>\n",
       "      <td>21</td>\n",
       "      <td>1991-05-17</td>\n",
       "      <td>1991-05-17</td>\n",
       "    </tr>\n",
       "  </tbody>\n",
       "</table>\n",
       "</div>"
      ],
      "text/plain": [
       "       player_id            name  fifa_index            name_compare  \\\n",
       "6426       66117  angel martinez         287  inigo martinez berridi   \n",
       "13576      66117  angel martinez         382  inigo martinez berridi   \n",
       "38089      66117  angel martinez         649  inigo martinez berridi   \n",
       "46387      66117  angel martinez         499  inigo martinez berridi   \n",
       "62326      66117  angel martinez         324  inigo martinez berridi   \n",
       "21507      66117  angel martinez        6810   angel martinez ortega   \n",
       "29796      66117  angel martinez        5189   angel martinez ortega   \n",
       "54499      66117  angel martinez        8593   angel martinez ortega   \n",
       "\n",
       "       sofifa_id  which_fifa         DoB    fifa_DoB  \n",
       "6426      204525          15  1991-05-17  1991-05-17  \n",
       "13576     204525          16  1991-05-17  1991-05-17  \n",
       "38089     204525          19  1991-05-17  1991-05-17  \n",
       "46387     204525          20  1991-05-17  1991-05-17  \n",
       "62326     204525          22  1991-05-17  1991-05-17  \n",
       "21507     197441          17  1991-05-17  1991-05-17  \n",
       "29796     197441          18  1991-05-17  1991-05-17  \n",
       "54499     197441          21  1991-05-17  1991-05-17  "
      ]
     },
     "execution_count": 109,
     "metadata": {},
     "output_type": "execute_result"
    }
   ],
   "source": [
    "link_DoB.loc[link_DoB.player_id.isin(mm),:].sort_values([\"player_id\", \"name_compare\"], ascending = (False, False)).head(20)\n"
   ]
  },
  {
   "cell_type": "code",
   "execution_count": 115,
   "metadata": {},
   "outputs": [],
   "source": [
    "link_DoB.drop(columns = ['DoB' ,'fifa_DoB'],inplace = True)"
   ]
  },
  {
   "cell_type": "code",
   "execution_count": 116,
   "metadata": {},
   "outputs": [],
   "source": [
    "link_DoB.to_csv('../data/table_correspondance/table_correspondance_finale.csv')"
   ]
  }
 ],
 "metadata": {
  "kernelspec": {
   "display_name": "Python 3",
   "language": "python",
   "name": "python3"
  },
  "language_info": {
   "codemirror_mode": {
    "name": "ipython",
    "version": 3
   },
   "file_extension": ".py",
   "mimetype": "text/x-python",
   "name": "python",
   "nbconvert_exporter": "python",
   "pygments_lexer": "ipython3",
   "version": "3.9.7"
  }
 },
 "nbformat": 4,
 "nbformat_minor": 4
}
