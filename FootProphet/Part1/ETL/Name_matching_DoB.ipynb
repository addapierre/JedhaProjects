{
 "cells": [
  {
   "cell_type": "markdown",
   "metadata": {},
   "source": [
    "# Name matching using dates of birth\n",
    "*Author: Pierre Adda*\n",
    "## context:\n",
    "We want to try models using  players statistics for each games, in order to predict that game's outcome. </br>\n",
    "the players stats that we will use are the FIFA player's stats, found at [this url](https://www.kaggle.com/stefanoleone992/fifa-22-complete-player-dataset \"Kaggle Fifa complete dataset\").</br>\n",
    "The games results with the players appearance can be found at [this url](https://data.world/dcereijo/player-scores).\n",
    "This dataset includes 40k+ games from european leagues (including russia) with 20k+ players from 300+ clubs</br></br>\n",
    "The main focus of this notebook is to link the players from the latter dataset to those in the FIFA dataset, in order to build our model training dataframe. </br>\n",
    "This is not a trivial task as the names are either not always properly registered, not registered the same way, are not present from one dataset to another, or several players have the exact same name or a very similar name.\n",
    "\n",
    "## Requirements\n",
    "\n",
    "1. Python 3.8 or higher\n",
    "2. Pandas and Numpy\n",
    "3. the following libraries: unicode, tqdm (for loading bars), python-Levenshtein and fuzzywuzzy for \"fuzzy\" string matching:\n",
    "\n",
    "<code>\n",
    "!pip install unidecode -q  \n",
    "\n",
    "!pip install python-Levenshtein -q  \n",
    "!pip install fuzzywuzzy -q  \n",
    "!pip install \"tqdm>=4.9.0\"\n",
    "</code>\n",
    "<br><br><br><br>"
   ]
  },
  {
   "cell_type": "markdown",
   "metadata": {},
   "source": [
    "## 1. Imports"
   ]
  },
  {
   "cell_type": "code",
   "execution_count": 1,
   "metadata": {},
   "outputs": [],
   "source": [
    "import pandas as pd\n",
    "import numpy as np\n",
    "import unidecode\n",
    "from fuzzywuzzy import fuzz #this amazing library uses levenshtein distance (string similarity scores) to match somewhat similar strings\n",
    "from tqdm import tqdm\n",
    "import re\n",
    "tqdm.pandas()"
   ]
  },
  {
   "cell_type": "code",
   "execution_count": 2,
   "metadata": {},
   "outputs": [],
   "source": [
    "pd.options.display.max_columns =None"
   ]
  },
  {
   "cell_type": "markdown",
   "metadata": {},
   "source": [
    "## 2. Functions"
   ]
  },
  {
   "cell_type": "code",
   "execution_count": 3,
   "metadata": {},
   "outputs": [],
   "source": [
    "# This function preprocesses the FIFA datasets\n",
    "# it removes diacritics, hyphens, apostrophes on player names and club. \n",
    "# \"dj\" is replaced to \"d\" to avoid recurrent ambiguity related to eastern european names\n",
    "\n",
    "def decode_fifa(fifa_df):\n",
    "    fifa_df.short_name = fifa_df.short_name.apply(unidecode.unidecode)\n",
    "    fifa_df.long_name = fifa_df.long_name.apply(unidecode.unidecode)\n",
    "    fifa_df.club_name = fifa_df.club_name.apply(unidecode.unidecode)\n",
    "\n",
    "    fifa_df.short_name = fifa_df.short_name.str.lower().str.replace(\"'\",\"\").str.replace(\"-\",\" \").str.replace('dj','d')\n",
    "    fifa_df.long_name = fifa_df.long_name.str.lower().str.replace(\"'\",\"\").str.replace(\"-\",\" \").str.replace('dj','d')\n",
    "        \n",
    "        \n",
    "    return None"
   ]
  },
  {
   "cell_type": "code",
   "execution_count": 4,
   "metadata": {},
   "outputs": [],
   "source": [
    "# This function search players with the same date of birth as the target player \n",
    "# It returns a list of the best matching names index(es) and the the corresponding fuzz.token_set_ratio max value ( = string similarity max score)\n",
    "\n",
    "def search_name(x,fifa_N):\n",
    "    #mask selects players with the same date of birth\n",
    "    #if there are NO matching DoB, then:\n",
    "    if all( ~(mask := fifa_df.dob == x['date_of_birth']) ):\n",
    "        max_score = np.NaN\n",
    "        good_index = np.asarray([])\n",
    "    else:\n",
    "        fuzz_scores = fifa_N.long_name[mask].apply(lambda y: fuzz.token_set_ratio(x['name'],y)).values\n",
    "        fifa_index = np.asarray(fifa_N.long_name[mask].index) #Returns a list of the index in fifa_N corresponding to the fuzz_scores list\n",
    "        max_score = fuzz_scores.max()\n",
    "        good_index = fifa_index[np.argwhere(fuzz_scores == max_score).squeeze()] #return the fifa_N index with the best matching name\n",
    "\n",
    "    return max_score , good_index"
   ]
  },
  {
   "cell_type": "code",
   "execution_count": 5,
   "metadata": {},
   "outputs": [],
   "source": [
    "# This function uses the function search_name() on all names from the \"players\" dataframe \n",
    "# The function adds the best matching name(s) index(es) and fuzz score to the link dataframe\n",
    "# it returns the number of names that might have matched correctly\n",
    "\n",
    "def search_all_names(fifa_N):\n",
    "    results = link.progress_apply(lambda x:search_name(x,fifa_N),axis=1)\n",
    "    \n",
    "    link['fuzz_score'] = results.apply(lambda x : x[0])\n",
    "    link['fifa_index']= results.apply(lambda x : x[1])\n",
    "    \n",
    "    return link.loc[link.fuzz_score > 90,'fuzz_score'].shape"
   ]
  },
  {
   "cell_type": "markdown",
   "metadata": {},
   "source": [
    "## 3. Data"
   ]
  },
  {
   "cell_type": "markdown",
   "metadata": {},
   "source": [
    "### Game dataset\n",
    "##### If you do not have the \"game\" dataset (players.csv, games.csv, appearance.csv, clubs.csv), please take the following steps:\n",
    "\n",
    "\n",
    "1. create ``./data`` and ``./data/games/`` folders.  \n",
    "\n",
    "2. execute the cell below\n",
    "\n",
    "##### If you already have this dataset, make sure it is in the right folder and ignore the next cell"
   ]
  },
  {
   "cell_type": "code",
   "execution_count": null,
   "metadata": {},
   "outputs": [],
   "source": [
    "# Downloads all the dataset and store it in ./data/games/\n",
    "\n",
    "appearance = pd.read_csv('https://query.data.world/s/xemgpklltd3hlau4swg2vafdctgacf')\n",
    "appearance.to_csv(\"../data/games/appearance.csv\")\n",
    "\n",
    "clubs = pd.read_csv('https://query.data.world/s/bmpof22nmwcl7dc4s5kf5l2pjf6l62')\n",
    "clubs.to_csv(\"../data/games/clubs.csv\")\n",
    "\n",
    "leagues = pd.read_csv('https://query.data.world/s/zmlqmpvqs4atuxn3rsdkdqv5wa6c5o')\n",
    "leagues.to_csv(\"../data/games/leagues.csv\")\n",
    "\n",
    "games = pd.read_csv('https://query.data.world/s/ntedgrx2r6shpsvskopamknbnl7sfk')\n",
    "games.to_csv(\"../data/games/games.csv\")\n",
    "\n",
    "players = pd.read_csv('https://query.data.world/s/jyeqrkxvhxmqxzqfac2s6kquuxrfuo')\n",
    "players.to_csv(\"../data/games/players.csv\")"
   ]
  },
  {
   "cell_type": "code",
   "execution_count": 6,
   "metadata": {},
   "outputs": [],
   "source": [
    "appearance = pd.read_csv(\"../data/games/appearance.csv\")\n",
    "clubs = pd.read_csv(\"../data/games/clubs.csv\")\n",
    "games = pd.read_csv(\"../data/games/games.csv\")\n",
    "players = pd.read_csv(\"../data/games/players.csv\")\n"
   ]
  },
  {
   "cell_type": "markdown",
   "metadata": {},
   "source": [
    "### Fifa Dataset\n",
    "if you don't have this dataset, you can download it at [this url](https://www.kaggle.com/stefanoleone992/fifa-22-complete-player-dataset \"fifa dataset\").  \n",
    "This dataset should be stored in `` ./data/FIFA/ ``"
   ]
  },
  {
   "cell_type": "code",
   "execution_count": 9,
   "metadata": {},
   "outputs": [],
   "source": [
    "#Choose one of the FIFA dataset.\n",
    "#The find_name function was initially designed to be used on all FIFA dataset at once, but trust me it's long enough using only one FIFA dataset\n",
    "\n",
    "#Here we chose FIFA15.csv\n",
    "fifa_df = pd.read_csv(\"../data/FIFA/players_22.csv\", dtype={'nation_position' : str, 'nation_logo_url': str})"
   ]
  },
  {
   "cell_type": "code",
   "execution_count": 8,
   "metadata": {},
   "outputs": [
    {
     "data": {
      "text/plain": [
       "Index(['nation_position', 'nation_logo_url'], dtype='object')"
      ]
     },
     "execution_count": 8,
     "metadata": {},
     "output_type": "execute_result"
    }
   ],
   "source": [
    "fifa_df.columns[[25,108]]"
   ]
  },
  {
   "cell_type": "markdown",
   "metadata": {},
   "source": [
    "## 4. Preprocessing"
   ]
  },
  {
   "cell_type": "code",
   "execution_count": 10,
   "metadata": {},
   "outputs": [],
   "source": [
    "fifa_df = fifa_df.loc[:,['sofifa_id','short_name','long_name','club_team_id','club_name','dob']]\n",
    "\n",
    "# Some club_name values are NaN obect. Problem: None and Nan object cannot be treated as strings. \n",
    "# Thus, in order to preprocess all names, we will replace missing names with unmistakingly non existing names, i.e. \"ZZZZZ\"\n",
    "fifa_df.loc[fifa_df.club_name.isnull(),'club_name']=\"ZZZZZ\"\n",
    "\n",
    "# Only now can we apply the function decode_fifa\n",
    "decode_fifa(fifa_df)"
   ]
  },
  {
   "cell_type": "code",
   "execution_count": 11,
   "metadata": {},
   "outputs": [],
   "source": [
    "players.name = players.name.str.replace(\"-\",\" \").str.replace('dj','d')\n",
    "players.name = players.name.apply(unidecode.unidecode)"
   ]
  },
  {
   "cell_type": "markdown",
   "metadata": {},
   "source": [
    "## 5. Name matching"
   ]
  },
  {
   "cell_type": "code",
   "execution_count": 12,
   "metadata": {},
   "outputs": [
    {
     "data": {
      "text/html": [
       "<div>\n",
       "<style scoped>\n",
       "    .dataframe tbody tr th:only-of-type {\n",
       "        vertical-align: middle;\n",
       "    }\n",
       "\n",
       "    .dataframe tbody tr th {\n",
       "        vertical-align: top;\n",
       "    }\n",
       "\n",
       "    .dataframe thead th {\n",
       "        text-align: right;\n",
       "    }\n",
       "</style>\n",
       "<table border=\"1\" class=\"dataframe\">\n",
       "  <thead>\n",
       "    <tr style=\"text-align: right;\">\n",
       "      <th></th>\n",
       "      <th>player_id</th>\n",
       "      <th>name</th>\n",
       "      <th>date_of_birth</th>\n",
       "    </tr>\n",
       "  </thead>\n",
       "  <tbody>\n",
       "    <tr>\n",
       "      <th>0</th>\n",
       "      <td>38790</td>\n",
       "      <td>dmitri golubov</td>\n",
       "      <td>1985-06-24</td>\n",
       "    </tr>\n",
       "  </tbody>\n",
       "</table>\n",
       "</div>"
      ],
      "text/plain": [
       "   player_id            name date_of_birth\n",
       "0      38790  dmitri golubov    1985-06-24"
      ]
     },
     "execution_count": 12,
     "metadata": {},
     "output_type": "execute_result"
    }
   ],
   "source": [
    "#This dataframe will be used to link the players from the 'appearance' dataset\n",
    "link=players.loc[:,['player_id','name','date_of_birth']].copy()\n",
    "link.head(1)"
   ]
  },
  {
   "cell_type": "code",
   "execution_count": 13,
   "metadata": {},
   "outputs": [
    {
     "name": "stderr",
     "output_type": "stream",
     "text": [
      "100%|██████████| 22432/22432 [00:31<00:00, 720.22it/s]\n",
      "100%|██████████| 22432/22432 [00:08<00:00, 2496.92it/s]\n"
     ]
    }
   ],
   "source": [
    "# Adds to each player the list of clubs in which that player has played at least one game, according to the \"appearance\" dataset\n",
    "\n",
    "link['clubs'] = link.player_id.progress_apply(lambda x:\n",
    "                    appearance.loc[appearance.player_id == x,'player_club_id'].unique() if type(x) == int\n",
    "                                     else [appearance.loc[appearance.player_id == y,'player_club_id'].unique() for y in x]\n",
    "                                    )\n",
    "\n",
    "#let's add the \"current club\" from the players dataset to the clubs obtained from appearance dataset, IF that club is not already in that list:\n",
    "\n",
    "link.clubs = link.progress_apply(lambda x: \n",
    "                                 np.append(x['clubs'],players.loc[players.player_id == x['player_id'],'current_club_id']) \n",
    "                                 if players.loc[players.player_id == x['player_id'],'current_club_id'].values[0] not in x['clubs']\n",
    "                                 else x['clubs']\n",
    "                                 ,axis = 1)"
   ]
  },
  {
   "cell_type": "markdown",
   "metadata": {},
   "source": [
    "***The actual name searching cell :***"
   ]
  },
  {
   "cell_type": "code",
   "execution_count": 14,
   "metadata": {},
   "outputs": [
    {
     "name": "stderr",
     "output_type": "stream",
     "text": [
      "100%|██████████| 22432/22432 [00:55<00:00, 407.49it/s]\n"
     ]
    },
    {
     "data": {
      "text/plain": [
       "(7840,)"
      ]
     },
     "execution_count": 14,
     "metadata": {},
     "output_type": "execute_result"
    }
   ],
   "source": [
    "# this function will apply the fuzz.token_set_ratio function on names in the fifa dataset that have the same date of birth than the name in players.csv\n",
    "# It return the name(s) that have the highest fuzz_score\n",
    "\n",
    "\n",
    "search_all_names(fifa_df)"
   ]
  },
  {
   "cell_type": "code",
   "execution_count": 15,
   "metadata": {},
   "outputs": [],
   "source": [
    "# Let's save this dataframe in the root folder\n",
    "# To store this file somewhere else is left to the user's discretion\n",
    "\n",
    "#don't forget to change the name if you used another fifa dataframe\n",
    "link.to_csv(\"fifa22_res.csv\")"
   ]
  },
  {
   "cell_type": "markdown",
   "metadata": {},
   "source": [
    "## 6. Name filtering"
   ]
  },
  {
   "cell_type": "markdown",
   "metadata": {},
   "source": [
    "**if you want to open a \"link\" dataframe that was previously saved, compile the following cell**"
   ]
  },
  {
   "cell_type": "code",
   "execution_count": null,
   "metadata": {},
   "outputs": [],
   "source": [
    "link = pd.read_csv('fifa16_res.csv', index_col=0)\n",
    "\n",
    "# Reading a .csv tranforms lists into strings.\n",
    "# now let's apply some preprocessing to transform a string of a list back into a list again \n",
    "\n",
    "import ast # ast is part of python standard's library. \n",
    "def transform_int_column(x):\n",
    "    if x[0] == r'[':\n",
    "        res = re.sub(r'(\\d)\\s+(\\d)',r'\\1 , \\2',x.replace('\\n',''))\n",
    "        res = re.sub(r'(\\d)\\s+(\\d)',r'\\1 , \\2',res)\n",
    "        res = ast.literal_eval(res) \n",
    "        res = np.asarray([np.int64(y) for y in res])\n",
    "    else:\n",
    "        res = np.int64(x)\n",
    "    return res\n",
    "\n",
    "link.fifa_index = link.fifa_index.apply(transform_int_column)\n",
    "link.clubs = link.clubs.apply(transform_int_column)"
   ]
  },
  {
   "cell_type": "code",
   "execution_count": 16,
   "metadata": {},
   "outputs": [
    {
     "name": "stdout",
     "output_type": "stream",
     "text": [
      "players with no matching DoB :  2600\n"
     ]
    }
   ],
   "source": [
    "# We remove players that had no matching DoB in the FIFA's players dataset\n",
    "print('players with no matching DoB : ',link.loc[link.fuzz_score.isnull(),:].shape[0])\n",
    "link.drop(link.player_id[link.fuzz_score.isnull()].index,inplace = True)\n",
    "link.reset_index(drop = True, inplace = True)"
   ]
  },
  {
   "cell_type": "code",
   "execution_count": 17,
   "metadata": {},
   "outputs": [
    {
     "name": "stderr",
     "output_type": "stream",
     "text": [
      "100%|██████████| 19832/19832 [00:00<00:00, 61466.54it/s]\n"
     ]
    },
    {
     "data": {
      "text/html": [
       "<div>\n",
       "<style scoped>\n",
       "    .dataframe tbody tr th:only-of-type {\n",
       "        vertical-align: middle;\n",
       "    }\n",
       "\n",
       "    .dataframe tbody tr th {\n",
       "        vertical-align: top;\n",
       "    }\n",
       "\n",
       "    .dataframe thead th {\n",
       "        text-align: right;\n",
       "    }\n",
       "</style>\n",
       "<table border=\"1\" class=\"dataframe\">\n",
       "  <thead>\n",
       "    <tr style=\"text-align: right;\">\n",
       "      <th></th>\n",
       "      <th>player_id</th>\n",
       "      <th>name</th>\n",
       "      <th>date_of_birth</th>\n",
       "      <th>clubs</th>\n",
       "      <th>fuzz_score</th>\n",
       "      <th>fifa_index</th>\n",
       "      <th>name_compare</th>\n",
       "    </tr>\n",
       "  </thead>\n",
       "  <tbody>\n",
       "    <tr>\n",
       "      <th>0</th>\n",
       "      <td>106539</td>\n",
       "      <td>aleksandr vasiljev</td>\n",
       "      <td>1992-01-23</td>\n",
       "      <td>[28095]</td>\n",
       "      <td>43.0</td>\n",
       "      <td>1588</td>\n",
       "      <td>sergio alvarez diaz</td>\n",
       "    </tr>\n",
       "    <tr>\n",
       "      <th>1</th>\n",
       "      <td>164389</td>\n",
       "      <td>rory donnelly</td>\n",
       "      <td>1992-02-18</td>\n",
       "      <td>[2288]</td>\n",
       "      <td>45.0</td>\n",
       "      <td>8852</td>\n",
       "      <td>daniel offenbacher</td>\n",
       "    </tr>\n",
       "  </tbody>\n",
       "</table>\n",
       "</div>"
      ],
      "text/plain": [
       "   player_id                name date_of_birth    clubs  fuzz_score  \\\n",
       "0     106539  aleksandr vasiljev    1992-01-23  [28095]        43.0   \n",
       "1     164389       rory donnelly    1992-02-18   [2288]        45.0   \n",
       "\n",
       "  fifa_index         name_compare  \n",
       "0       1588  sergio alvarez diaz  \n",
       "1       8852   daniel offenbacher  "
      ]
     },
     "execution_count": 17,
     "metadata": {},
     "output_type": "execute_result"
    }
   ],
   "source": [
    "# creates a column with the names corresponding to the fifa indexes\n",
    "\n",
    "link['name_compare'] = link.fifa_index.progress_apply(lambda x: \\\n",
    "    fifa_df.long_name[x] if type(x) == np.int64 \\\n",
    "    else [fifa_df.long_name[y] for y in x] \\\n",
    "    )\n",
    "link.head(2)"
   ]
  },
  {
   "cell_type": "code",
   "execution_count": 18,
   "metadata": {},
   "outputs": [
    {
     "data": {
      "text/html": [
       "<div>\n",
       "<style scoped>\n",
       "    .dataframe tbody tr th:only-of-type {\n",
       "        vertical-align: middle;\n",
       "    }\n",
       "\n",
       "    .dataframe tbody tr th {\n",
       "        vertical-align: top;\n",
       "    }\n",
       "\n",
       "    .dataframe thead th {\n",
       "        text-align: right;\n",
       "    }\n",
       "</style>\n",
       "<table border=\"1\" class=\"dataframe\">\n",
       "  <thead>\n",
       "    <tr style=\"text-align: right;\">\n",
       "      <th></th>\n",
       "      <th>player_id</th>\n",
       "      <th>name</th>\n",
       "      <th>date_of_birth</th>\n",
       "      <th>clubs</th>\n",
       "      <th>fuzz_score</th>\n",
       "      <th>fifa_index</th>\n",
       "      <th>name_compare</th>\n",
       "    </tr>\n",
       "  </thead>\n",
       "  <tbody>\n",
       "    <tr>\n",
       "      <th>7797</th>\n",
       "      <td>302371</td>\n",
       "      <td>toni martinez</td>\n",
       "      <td>1997-06-30</td>\n",
       "      <td>[3329, 720]</td>\n",
       "      <td>76.0</td>\n",
       "      <td>[1067, 1398]</td>\n",
       "      <td>[yeferson julio soteldo martinez, antonio mart...</td>\n",
       "    </tr>\n",
       "  </tbody>\n",
       "</table>\n",
       "</div>"
      ],
      "text/plain": [
       "      player_id           name date_of_birth        clubs  fuzz_score  \\\n",
       "7797     302371  toni martinez    1997-06-30  [3329, 720]        76.0   \n",
       "\n",
       "        fifa_index                                       name_compare  \n",
       "7797  [1067, 1398]  [yeferson julio soteldo martinez, antonio mart...  "
      ]
     },
     "metadata": {},
     "output_type": "display_data"
    },
    {
     "data": {
      "text/plain": [
       "array([list(['yeferson julio soteldo martinez', 'antonio martinez lopez'])],\n",
       "      dtype=object)"
      ]
     },
     "execution_count": 18,
     "metadata": {},
     "output_type": "execute_result"
    }
   ],
   "source": [
    "#removes row with fuzz_score <70\n",
    "link = link.drop(link.loc[(link.fuzz_score<70),:].index).reset_index(drop = True)\n",
    "\n",
    "#displays rows with multiple fifa index\n",
    "index = link.loc[(link.fifa_index.apply(type)!=np.int64),:].index\n",
    "display(link.loc[index,:])\n",
    "link.name_compare[index].values"
   ]
  },
  {
   "cell_type": "code",
   "execution_count": 19,
   "metadata": {},
   "outputs": [
    {
     "data": {
      "text/html": [
       "<div>\n",
       "<style scoped>\n",
       "    .dataframe tbody tr th:only-of-type {\n",
       "        vertical-align: middle;\n",
       "    }\n",
       "\n",
       "    .dataframe tbody tr th {\n",
       "        vertical-align: top;\n",
       "    }\n",
       "\n",
       "    .dataframe thead th {\n",
       "        text-align: right;\n",
       "    }\n",
       "</style>\n",
       "<table border=\"1\" class=\"dataframe\">\n",
       "  <thead>\n",
       "    <tr style=\"text-align: right;\">\n",
       "      <th></th>\n",
       "      <th>player_id</th>\n",
       "      <th>name</th>\n",
       "      <th>date_of_birth</th>\n",
       "      <th>clubs</th>\n",
       "      <th>fuzz_score</th>\n",
       "      <th>fifa_index</th>\n",
       "      <th>name_compare</th>\n",
       "    </tr>\n",
       "  </thead>\n",
       "  <tbody>\n",
       "    <tr>\n",
       "      <th>7797</th>\n",
       "      <td>302371</td>\n",
       "      <td>toni martinez</td>\n",
       "      <td>1997-06-30</td>\n",
       "      <td>[3329, 720]</td>\n",
       "      <td>76.0</td>\n",
       "      <td>1398</td>\n",
       "      <td>antonio martinez lopez</td>\n",
       "    </tr>\n",
       "  </tbody>\n",
       "</table>\n",
       "</div>"
      ],
      "text/plain": [
       "      player_id           name date_of_birth        clubs  fuzz_score  \\\n",
       "7797     302371  toni martinez    1997-06-30  [3329, 720]        76.0   \n",
       "\n",
       "     fifa_index            name_compare  \n",
       "7797       1398  antonio martinez lopez  "
      ]
     },
     "execution_count": 19,
     "metadata": {},
     "output_type": "execute_result"
    }
   ],
   "source": [
    "# A remplir à la main:\n",
    "#si vous ne voulez pas faire cette étape, décommentez et executer les deux lignes suivantes\n",
    "#   link.drop(index, inplace = True)\n",
    "#   link.reset_index(drop = True, inplace = True)\n",
    "\n",
    "#index à jeter \n",
    "#link = link.drop(4089).reset_index(drop = True)\n",
    "#index = link.loc[(link.fifa_index.apply(type)!=np.int64),:].index\n",
    "\n",
    "#indice du nom à choisir dans la liste de nom pour chaque ligne\n",
    "pp = [1]\n",
    "for i in range(len(pp)):\n",
    "    link.loc[index[i],'name_compare'] =  link.loc[index[i],'name_compare'][pp[i]]\n",
    "    link.loc[index[i],'fifa_index'] =  link.loc[index[i],'fifa_index'][pp[i]]\n",
    "link.loc[index,:]"
   ]
  },
  {
   "cell_type": "code",
   "execution_count": 20,
   "metadata": {},
   "outputs": [],
   "source": [
    "#adds the clubs from the FIFA dataset to help us in identifying good matches\n",
    "\n",
    "link['fifa_clubs']=link.fifa_index.apply(lambda x: fifa_df.loc[x,'club_name'])\n",
    "link.loc[:,'clubs'] = link.loc[:,'clubs'].apply(lambda x: np.asarray([clubs.name[clubs.club_id == y] for y in x],dtype=object).squeeze())\n"
   ]
  },
  {
   "cell_type": "code",
   "execution_count": 21,
   "metadata": {},
   "outputs": [],
   "source": [
    "#adds the 'short_name' from the FIFA dataset to help us in identifying good matches\n",
    "\n",
    "link['fifa_last_name'] = link.fifa_index.apply(lambda x: fifa_df.loc[x,'short_name'])#re.search( r'\\w+$' ,fifa_df.loc[x,'short_name'].strip()).group(0))\n",
    "link['last_name'] = link.name.apply(lambda x: re.search( r'(\\w+)(\\sjr)?$' ,x.strip()).group(0))\n",
    "link['last_name_compare']=link.apply(lambda x: fuzz.token_set_ratio(x['fifa_last_name'],x['name']) , axis = 1)"
   ]
  },
  {
   "cell_type": "code",
   "execution_count": 29,
   "metadata": {},
   "outputs": [
    {
     "data": {
      "text/html": [
       "<div>\n",
       "<style scoped>\n",
       "    .dataframe tbody tr th:only-of-type {\n",
       "        vertical-align: middle;\n",
       "    }\n",
       "\n",
       "    .dataframe tbody tr th {\n",
       "        vertical-align: top;\n",
       "    }\n",
       "\n",
       "    .dataframe thead th {\n",
       "        text-align: right;\n",
       "    }\n",
       "</style>\n",
       "<table border=\"1\" class=\"dataframe\">\n",
       "  <thead>\n",
       "    <tr style=\"text-align: right;\">\n",
       "      <th></th>\n",
       "      <th>player_id</th>\n",
       "      <th>name</th>\n",
       "      <th>date_of_birth</th>\n",
       "      <th>clubs</th>\n",
       "      <th>fuzz_score</th>\n",
       "      <th>fifa_index</th>\n",
       "      <th>name_compare</th>\n",
       "      <th>fifa_clubs</th>\n",
       "      <th>fifa_last_name</th>\n",
       "      <th>last_name</th>\n",
       "      <th>last_name_compare</th>\n",
       "    </tr>\n",
       "  </thead>\n",
       "  <tbody>\n",
       "    <tr>\n",
       "      <th>37</th>\n",
       "      <td>175739</td>\n",
       "      <td>michael ngoo</td>\n",
       "      <td>1992-10-23</td>\n",
       "      <td>kilmarnock-fc</td>\n",
       "      <td>74.0</td>\n",
       "      <td>12353</td>\n",
       "      <td>michael grant harriman</td>\n",
       "      <td>Northampton Town</td>\n",
       "      <td>m. harriman</td>\n",
       "      <td>ngoo</td>\n",
       "      <td>27</td>\n",
       "    </tr>\n",
       "    <tr>\n",
       "      <th>397</th>\n",
       "      <td>94523</td>\n",
       "      <td>martin milec</td>\n",
       "      <td>1991-09-20</td>\n",
       "      <td>[standard-luttich, roda-jc-kerkrade]</td>\n",
       "      <td>72.0</td>\n",
       "      <td>3239</td>\n",
       "      <td>martin linnes</td>\n",
       "      <td>Molde FK</td>\n",
       "      <td>m. linnes</td>\n",
       "      <td>milec</td>\n",
       "      <td>40</td>\n",
       "    </tr>\n",
       "    <tr>\n",
       "      <th>452</th>\n",
       "      <td>368582</td>\n",
       "      <td>pablo fernandez</td>\n",
       "      <td>1996-09-17</td>\n",
       "      <td>[sporting-gijon, real-sociedad-san-sebastian]</td>\n",
       "      <td>75.0</td>\n",
       "      <td>10755</td>\n",
       "      <td>alberto cayarga fernandez</td>\n",
       "      <td>FC Cartagena</td>\n",
       "      <td>berto cayarga</td>\n",
       "      <td>fernandez</td>\n",
       "      <td>29</td>\n",
       "    </tr>\n",
       "    <tr>\n",
       "      <th>595</th>\n",
       "      <td>68980</td>\n",
       "      <td>daniel stenderup</td>\n",
       "      <td>1989-05-31</td>\n",
       "      <td>esbjerg-fb</td>\n",
       "      <td>71.0</td>\n",
       "      <td>395</td>\n",
       "      <td>daniel wass</td>\n",
       "      <td>Valencia CF</td>\n",
       "      <td>d. wass</td>\n",
       "      <td>stenderup</td>\n",
       "      <td>27</td>\n",
       "    </tr>\n",
       "    <tr>\n",
       "      <th>1138</th>\n",
       "      <td>554463</td>\n",
       "      <td>gustavo moura</td>\n",
       "      <td>1996-06-12</td>\n",
       "      <td>moreirense-fc</td>\n",
       "      <td>70.0</td>\n",
       "      <td>5454</td>\n",
       "      <td>gustavo javier del prete</td>\n",
       "      <td>Estudiantes de La Plata</td>\n",
       "      <td>g. del prete</td>\n",
       "      <td>moura</td>\n",
       "      <td>25</td>\n",
       "    </tr>\n",
       "    <tr>\n",
       "      <th>1263</th>\n",
       "      <td>405676</td>\n",
       "      <td>oliver bias</td>\n",
       "      <td>2001-06-15</td>\n",
       "      <td>[[], [rasenballsport-leipzig]]</td>\n",
       "      <td>71.0</td>\n",
       "      <td>17144</td>\n",
       "      <td>oliver bundgaard kristensen</td>\n",
       "      <td>Randers FC</td>\n",
       "      <td>o. bundgaard</td>\n",
       "      <td>bias</td>\n",
       "      <td>36</td>\n",
       "    </tr>\n",
       "    <tr>\n",
       "      <th>1369</th>\n",
       "      <td>45403</td>\n",
       "      <td>andre ayew</td>\n",
       "      <td>1989-12-17</td>\n",
       "      <td>[olympique-marseille, swansea-city, west-ham-u...</td>\n",
       "      <td>73.0</td>\n",
       "      <td>2024</td>\n",
       "      <td>andre hansen</td>\n",
       "      <td>Rosenborg BK</td>\n",
       "      <td>a. hansen</td>\n",
       "      <td>ayew</td>\n",
       "      <td>44</td>\n",
       "    </tr>\n",
       "    <tr>\n",
       "      <th>1714</th>\n",
       "      <td>251860</td>\n",
       "      <td>javi jimenez</td>\n",
       "      <td>1997-03-11</td>\n",
       "      <td>[fc-valencia, celta-vigo]</td>\n",
       "      <td>74.0</td>\n",
       "      <td>8498</td>\n",
       "      <td>alejandro jair cabeza jimenez</td>\n",
       "      <td>CS Emelec</td>\n",
       "      <td>a. cabeza</td>\n",
       "      <td>jimenez</td>\n",
       "      <td>40</td>\n",
       "    </tr>\n",
       "    <tr>\n",
       "      <th>1752</th>\n",
       "      <td>479233</td>\n",
       "      <td>younes delfi</td>\n",
       "      <td>2000-10-02</td>\n",
       "      <td>rsc-charleroi</td>\n",
       "      <td>70.0</td>\n",
       "      <td>19006</td>\n",
       "      <td>alfie jones</td>\n",
       "      <td>Crawley Town</td>\n",
       "      <td>a. jones</td>\n",
       "      <td>delfi</td>\n",
       "      <td>0</td>\n",
       "    </tr>\n",
       "    <tr>\n",
       "      <th>1975</th>\n",
       "      <td>587776</td>\n",
       "      <td>jonathan bustos</td>\n",
       "      <td>1994-06-29</td>\n",
       "      <td>ae-larisa</td>\n",
       "      <td>70.0</td>\n",
       "      <td>2152</td>\n",
       "      <td>jonathan cristian silva</td>\n",
       "      <td>Getafe CF</td>\n",
       "      <td>j. silva</td>\n",
       "      <td>bustos</td>\n",
       "      <td>18</td>\n",
       "    </tr>\n",
       "    <tr>\n",
       "      <th>2887</th>\n",
       "      <td>465868</td>\n",
       "      <td>nikolaos gotzamanidis</td>\n",
       "      <td>2001-01-25</td>\n",
       "      <td>ae-larisa</td>\n",
       "      <td>73.0</td>\n",
       "      <td>18270</td>\n",
       "      <td>nikolaos dosis</td>\n",
       "      <td>Ostersunds FK</td>\n",
       "      <td>n. dosis</td>\n",
       "      <td>gotzamanidis</td>\n",
       "      <td>36</td>\n",
       "    </tr>\n",
       "    <tr>\n",
       "      <th>2928</th>\n",
       "      <td>481836</td>\n",
       "      <td>gianluca contini</td>\n",
       "      <td>2001-06-18</td>\n",
       "      <td>cagliari-calcio</td>\n",
       "      <td>73.0</td>\n",
       "      <td>18881</td>\n",
       "      <td>gianluca iannucci</td>\n",
       "      <td>Melbourne Victory</td>\n",
       "      <td>g. iannucci</td>\n",
       "      <td>contini</td>\n",
       "      <td>46</td>\n",
       "    </tr>\n",
       "    <tr>\n",
       "      <th>8012</th>\n",
       "      <td>270393</td>\n",
       "      <td>robert skov</td>\n",
       "      <td>1996-05-20</td>\n",
       "      <td>[silkeborg-if, fc-kopenhagen, tsg-1899-hoffenh...</td>\n",
       "      <td>71.0</td>\n",
       "      <td>12535</td>\n",
       "      <td>lewis robert page</td>\n",
       "      <td>Harrogate Town</td>\n",
       "      <td>l. page</td>\n",
       "      <td>skov</td>\n",
       "      <td>12</td>\n",
       "    </tr>\n",
       "  </tbody>\n",
       "</table>\n",
       "</div>"
      ],
      "text/plain": [
       "      player_id                   name date_of_birth  \\\n",
       "37       175739           michael ngoo    1992-10-23   \n",
       "397       94523           martin milec    1991-09-20   \n",
       "452      368582        pablo fernandez    1996-09-17   \n",
       "595       68980       daniel stenderup    1989-05-31   \n",
       "1138     554463          gustavo moura    1996-06-12   \n",
       "1263     405676            oliver bias    2001-06-15   \n",
       "1369      45403             andre ayew    1989-12-17   \n",
       "1714     251860           javi jimenez    1997-03-11   \n",
       "1752     479233           younes delfi    2000-10-02   \n",
       "1975     587776        jonathan bustos    1994-06-29   \n",
       "2887     465868  nikolaos gotzamanidis    2001-01-25   \n",
       "2928     481836       gianluca contini    2001-06-18   \n",
       "8012     270393            robert skov    1996-05-20   \n",
       "\n",
       "                                                  clubs  fuzz_score  \\\n",
       "37                                        kilmarnock-fc        74.0   \n",
       "397                [standard-luttich, roda-jc-kerkrade]        72.0   \n",
       "452       [sporting-gijon, real-sociedad-san-sebastian]        75.0   \n",
       "595                                          esbjerg-fb        71.0   \n",
       "1138                                      moreirense-fc        70.0   \n",
       "1263                     [[], [rasenballsport-leipzig]]        71.0   \n",
       "1369  [olympique-marseille, swansea-city, west-ham-u...        73.0   \n",
       "1714                          [fc-valencia, celta-vigo]        74.0   \n",
       "1752                                      rsc-charleroi        70.0   \n",
       "1975                                          ae-larisa        70.0   \n",
       "2887                                          ae-larisa        73.0   \n",
       "2928                                    cagliari-calcio        73.0   \n",
       "8012  [silkeborg-if, fc-kopenhagen, tsg-1899-hoffenh...        71.0   \n",
       "\n",
       "     fifa_index                   name_compare               fifa_clubs  \\\n",
       "37        12353         michael grant harriman         Northampton Town   \n",
       "397        3239                  martin linnes                 Molde FK   \n",
       "452       10755      alberto cayarga fernandez             FC Cartagena   \n",
       "595         395                    daniel wass              Valencia CF   \n",
       "1138       5454       gustavo javier del prete  Estudiantes de La Plata   \n",
       "1263      17144    oliver bundgaard kristensen               Randers FC   \n",
       "1369       2024                   andre hansen             Rosenborg BK   \n",
       "1714       8498  alejandro jair cabeza jimenez                CS Emelec   \n",
       "1752      19006                    alfie jones             Crawley Town   \n",
       "1975       2152        jonathan cristian silva                Getafe CF   \n",
       "2887      18270                 nikolaos dosis            Ostersunds FK   \n",
       "2928      18881              gianluca iannucci        Melbourne Victory   \n",
       "8012      12535              lewis robert page           Harrogate Town   \n",
       "\n",
       "     fifa_last_name     last_name  last_name_compare  \n",
       "37      m. harriman          ngoo                 27  \n",
       "397       m. linnes         milec                 40  \n",
       "452   berto cayarga     fernandez                 29  \n",
       "595         d. wass     stenderup                 27  \n",
       "1138   g. del prete         moura                 25  \n",
       "1263   o. bundgaard          bias                 36  \n",
       "1369      a. hansen          ayew                 44  \n",
       "1714      a. cabeza       jimenez                 40  \n",
       "1752       a. jones         delfi                  0  \n",
       "1975       j. silva        bustos                 18  \n",
       "2887       n. dosis  gotzamanidis                 36  \n",
       "2928    g. iannucci       contini                 46  \n",
       "8012        l. page          skov                 12  "
      ]
     },
     "execution_count": 29,
     "metadata": {},
     "output_type": "execute_result"
    }
   ],
   "source": [
    "#Change these parameters to select as much false names as possible\n",
    "link.loc[(link.last_name_compare<50) & (link.fuzz_score <100),:]"
   ]
  },
  {
   "cell_type": "code",
   "execution_count": 27,
   "metadata": {},
   "outputs": [],
   "source": [
    "#link.loc[1752, 'last_name_compare'] = 00"
   ]
  },
  {
   "cell_type": "code",
   "execution_count": 30,
   "metadata": {},
   "outputs": [],
   "source": [
    "link = link.drop(link.loc[(link.last_name_compare<50) & (link.fuzz_score <100),:].index).reset_index(drop = True)"
   ]
  },
  {
   "cell_type": "code",
   "execution_count": 31,
   "metadata": {},
   "outputs": [
    {
     "data": {
      "text/html": [
       "<div>\n",
       "<style scoped>\n",
       "    .dataframe tbody tr th:only-of-type {\n",
       "        vertical-align: middle;\n",
       "    }\n",
       "\n",
       "    .dataframe tbody tr th {\n",
       "        vertical-align: top;\n",
       "    }\n",
       "\n",
       "    .dataframe thead th {\n",
       "        text-align: right;\n",
       "    }\n",
       "</style>\n",
       "<table border=\"1\" class=\"dataframe\">\n",
       "  <thead>\n",
       "    <tr style=\"text-align: right;\">\n",
       "      <th></th>\n",
       "      <th>player_id</th>\n",
       "      <th>name</th>\n",
       "      <th>date_of_birth</th>\n",
       "      <th>clubs</th>\n",
       "      <th>fuzz_score</th>\n",
       "      <th>fifa_index</th>\n",
       "      <th>name_compare</th>\n",
       "      <th>fifa_clubs</th>\n",
       "      <th>fifa_last_name</th>\n",
       "      <th>last_name</th>\n",
       "      <th>last_name_compare</th>\n",
       "    </tr>\n",
       "  </thead>\n",
       "  <tbody>\n",
       "    <tr>\n",
       "      <th>0</th>\n",
       "      <td>73048</td>\n",
       "      <td>ivan martic</td>\n",
       "      <td>1990-10-02</td>\n",
       "      <td>hellas-verona</td>\n",
       "      <td>100.0</td>\n",
       "      <td>7603</td>\n",
       "      <td>ivan martic</td>\n",
       "      <td>FC Sion</td>\n",
       "      <td>i. martic</td>\n",
       "      <td>martic</td>\n",
       "      <td>86</td>\n",
       "    </tr>\n",
       "    <tr>\n",
       "      <th>1</th>\n",
       "      <td>70203</td>\n",
       "      <td>ze eduardo</td>\n",
       "      <td>1991-08-16</td>\n",
       "      <td>cesena-fc</td>\n",
       "      <td>82.0</td>\n",
       "      <td>12284</td>\n",
       "      <td>jose eduardo de araujo</td>\n",
       "      <td>Sandefjord Fotball</td>\n",
       "      <td>ze eduardo</td>\n",
       "      <td>eduardo</td>\n",
       "      <td>100</td>\n",
       "    </tr>\n",
       "    <tr>\n",
       "      <th>2</th>\n",
       "      <td>221815</td>\n",
       "      <td>constantin nica</td>\n",
       "      <td>1993-03-18</td>\n",
       "      <td>cesena-fc</td>\n",
       "      <td>100.0</td>\n",
       "      <td>15218</td>\n",
       "      <td>constantin nica</td>\n",
       "      <td>FC Dinamo 1948 Bucuresti</td>\n",
       "      <td>c. nica</td>\n",
       "      <td>nica</td>\n",
       "      <td>80</td>\n",
       "    </tr>\n",
       "    <tr>\n",
       "      <th>3</th>\n",
       "      <td>197830</td>\n",
       "      <td>josh sheehan</td>\n",
       "      <td>1995-03-30</td>\n",
       "      <td>swansea-city</td>\n",
       "      <td>77.0</td>\n",
       "      <td>8961</td>\n",
       "      <td>joshua luke sheehan</td>\n",
       "      <td>Bolton Wanderers</td>\n",
       "      <td>j. sheehan</td>\n",
       "      <td>sheehan</td>\n",
       "      <td>88</td>\n",
       "    </tr>\n",
       "    <tr>\n",
       "      <th>4</th>\n",
       "      <td>89648</td>\n",
       "      <td>david cornell</td>\n",
       "      <td>1991-03-28</td>\n",
       "      <td>swansea-city</td>\n",
       "      <td>100.0</td>\n",
       "      <td>13427</td>\n",
       "      <td>david cornell</td>\n",
       "      <td>Peterborough United</td>\n",
       "      <td>d. cornell</td>\n",
       "      <td>cornell</td>\n",
       "      <td>88</td>\n",
       "    </tr>\n",
       "  </tbody>\n",
       "</table>\n",
       "</div>"
      ],
      "text/plain": [
       "   player_id             name date_of_birth          clubs  fuzz_score  \\\n",
       "0      73048      ivan martic    1990-10-02  hellas-verona       100.0   \n",
       "1      70203       ze eduardo    1991-08-16      cesena-fc        82.0   \n",
       "2     221815  constantin nica    1993-03-18      cesena-fc       100.0   \n",
       "3     197830     josh sheehan    1995-03-30   swansea-city        77.0   \n",
       "4      89648    david cornell    1991-03-28   swansea-city       100.0   \n",
       "\n",
       "  fifa_index            name_compare                fifa_clubs fifa_last_name  \\\n",
       "0       7603             ivan martic                   FC Sion      i. martic   \n",
       "1      12284  jose eduardo de araujo        Sandefjord Fotball     ze eduardo   \n",
       "2      15218         constantin nica  FC Dinamo 1948 Bucuresti        c. nica   \n",
       "3       8961     joshua luke sheehan          Bolton Wanderers     j. sheehan   \n",
       "4      13427           david cornell       Peterborough United     d. cornell   \n",
       "\n",
       "  last_name  last_name_compare  \n",
       "0    martic                 86  \n",
       "1   eduardo                100  \n",
       "2      nica                 80  \n",
       "3   sheehan                 88  \n",
       "4   cornell                 88  "
      ]
     },
     "execution_count": 31,
     "metadata": {},
     "output_type": "execute_result"
    }
   ],
   "source": [
    "link.head()"
   ]
  },
  {
   "cell_type": "code",
   "execution_count": null,
   "metadata": {},
   "outputs": [],
   "source": [
    "link.drop(columns = ['date_of_birth',\t'clubs',\t'fuzz_score', 'fifa_clubs',\t'fifa_last_name',\t'last_name',\t'last_name_compare'])\\\n",
    "    .to_csv('link_fifa22.csv')"
   ]
  },
  {
   "cell_type": "code",
   "execution_count": null,
   "metadata": {},
   "outputs": [],
   "source": []
  }
 ],
 "metadata": {
  "interpreter": {
   "hash": "7487845996c7ba5663e8475bda763caf28d03a7733caf66b680b36d8ed7e8fd6"
  },
  "kernelspec": {
   "display_name": "Python 3.9.7 64-bit ('foot_env': conda)",
   "language": "python",
   "name": "python3"
  },
  "language_info": {
   "codemirror_mode": {
    "name": "ipython",
    "version": 3
   },
   "file_extension": ".py",
   "mimetype": "text/x-python",
   "name": "python",
   "nbconvert_exporter": "python",
   "pygments_lexer": "ipython3",
   "version": "3.9.7"
  },
  "orig_nbformat": 4
 },
 "nbformat": 4,
 "nbformat_minor": 2
}
