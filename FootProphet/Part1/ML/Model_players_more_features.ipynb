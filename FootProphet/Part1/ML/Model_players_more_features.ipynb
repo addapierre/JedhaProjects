{
 "cells": [
  {
   "cell_type": "code",
   "execution_count": 2,
   "metadata": {},
   "outputs": [],
   "source": [
    "import pandas as pd\n",
    "pd.options.display.max_columns=None\n",
    "\n",
    "import numpy as np\n",
    "\n",
    "from sklearn.model_selection import train_test_split\n",
    "from sklearn.metrics import confusion_matrix, ConfusionMatrixDisplay\n",
    "from sklearn.neural_network import MLPClassifier\n",
    "\n",
    "import matplotlib.pyplot as plt\n",
    "import pickle"
   ]
  },
  {
   "cell_type": "code",
   "execution_count": 3,
   "metadata": {},
   "outputs": [],
   "source": [
    "def cm_metrics(true_label,pred_label, labels_):\n",
    "  cm = confusion_matrix(true_label,pred_label,labels = labels_)\n",
    "  cmDisp = ConfusionMatrixDisplay(cm,display_labels=labels_)\n",
    "  recall = { i:cm[i][i]/cm[i].sum()  for i in range(len(cm))}\n",
    "  precision = { i:cm[i][i]/cm[:,i].sum()  for i in range(len(cm))}\n",
    "  F1_score = { i: 2 / (1/recall[i] + 1/precision[i]) for i in range(len(cm))}\n",
    "  accuracy = (cm[0][0]+cm[1][1]+cm[2][2])/cm.sum()\n",
    "  print('accuracy: ', accuracy)\n",
    "  print('Recall: \\n',recall,'\\nPrecision: \\n', precision,'\\nF1-score: \\n',F1_score)\n",
    "  cmDisp.plot()\n",
    "  plt.show()\n",
    "  return None"
   ]
  },
  {
   "cell_type": "markdown",
   "metadata": {},
   "source": [
    "# Data load and transform"
   ]
  },
  {
   "cell_type": "code",
   "execution_count": 4,
   "metadata": {},
   "outputs": [],
   "source": [
    "train_df = pd.read_csv(\"../data/training_data/train_more_features.csv\", index_col = 0)"
   ]
  },
  {
   "cell_type": "code",
   "execution_count": 5,
   "metadata": {},
   "outputs": [],
   "source": [
    "train_df.drop(columns = ['game_id'], inplace = True)\n"
   ]
  },
  {
   "cell_type": "code",
   "execution_count": 6,
   "metadata": {},
   "outputs": [],
   "source": [
    "train_df = train_df.astype(dtype={x:np.int8 for x in train_df.columns[:14]})\n",
    "train_df = train_df.astype(dtype={x:np.float16 for x in train_df.columns[14:-1]})"
   ]
  },
  {
   "cell_type": "markdown",
   "metadata": {},
   "source": [
    "# Normalisation"
   ]
  },
  {
   "cell_type": "code",
   "execution_count": 77,
   "metadata": {},
   "outputs": [],
   "source": [
    "col_select = ['H_GK', 'H_attack', 'H_defense', 'H_midfield','A_GK', 'A_attack', 'A_defense', 'A_midfield']\n",
    "train_df.loc[:,col_select]=train_df.loc[:,col_select]/5"
   ]
  },
  {
   "cell_type": "code",
   "execution_count": 8,
   "metadata": {},
   "outputs": [],
   "source": [
    "col_select = np.append(col_select ,train_df.columns[:14])\n",
    "col_select = np.append(col_select ,['Home_result'])"
   ]
  },
  {
   "cell_type": "code",
   "execution_count": 9,
   "metadata": {},
   "outputs": [],
   "source": [
    "col_mask = [x  for x in train_df.columns if (x not in col_select)]\n",
    "train_df.loc[:,col_mask]=train_df.loc[:,col_mask]/100\n"
   ]
  },
  {
   "cell_type": "code",
   "execution_count": 10,
   "metadata": {},
   "outputs": [],
   "source": [
    "train_df.Home_result=train_df.Home_result.apply(lambda x: np.int8(0) if x>0 else (np.int8(2) if x<0 else np.int8(1)))"
   ]
  },
  {
   "cell_type": "code",
   "execution_count": 11,
   "metadata": {},
   "outputs": [],
   "source": [
    "X = train_df.loc[:,train_df.columns[:-1]]\n",
    "y = train_df.Home_result"
   ]
  },
  {
   "cell_type": "code",
   "execution_count": 12,
   "metadata": {},
   "outputs": [],
   "source": [
    "X_train, X_test, y_train, y_test = train_test_split(X,y,test_size = 0.25, random_state=0, stratify=y)"
   ]
  },
  {
   "cell_type": "code",
   "execution_count": 13,
   "metadata": {},
   "outputs": [],
   "source": [
    "MLPC = MLPClassifier(solver='lbfgs', alpha=0.001, learning_rate_init=0.001, max_iter=1000)"
   ]
  },
  {
   "cell_type": "code",
   "execution_count": 14,
   "metadata": {},
   "outputs": [
    {
     "name": "stderr",
     "output_type": "stream",
     "text": [
      "/Users/pierreadda/opt/anaconda3/envs/foot_env/lib/python3.9/site-packages/sklearn/neural_network/_multilayer_perceptron.py:549: ConvergenceWarning: lbfgs failed to converge (status=1):\n",
      "STOP: TOTAL NO. of ITERATIONS REACHED LIMIT.\n",
      "\n",
      "Increase the number of iterations (max_iter) or scale the data as shown in:\n",
      "    https://scikit-learn.org/stable/modules/preprocessing.html\n",
      "  self.n_iter_ = _check_optimize_result(\"lbfgs\", opt_res, self.max_iter)\n"
     ]
    },
    {
     "data": {
      "text/plain": [
       "MLPClassifier(alpha=0.001, max_iter=1000, solver='lbfgs')"
      ]
     },
     "execution_count": 14,
     "metadata": {},
     "output_type": "execute_result"
    }
   ],
   "source": [
    "MLPC.fit(X_train, y_train)"
   ]
  },
  {
   "cell_type": "code",
   "execution_count": 15,
   "metadata": {},
   "outputs": [],
   "source": [
    "y_train_pred = MLPC.predict(X_train)\n",
    "y_test_pred = MLPC.predict(X_test)"
   ]
  },
  {
   "cell_type": "code",
   "execution_count": 16,
   "metadata": {},
   "outputs": [
    {
     "name": "stdout",
     "output_type": "stream",
     "text": [
      "accuracy:  0.5488311219424136\n",
      "Recall: \n",
      " {0: 0.8137432188065099, 1: 0.02390659747961453, 2: 0.5775558166862514} \n",
      "Precision: \n",
      " {0: 0.5666713306282356, 1: 0.4161290322580645, 2: 0.520518930368017} \n",
      "F1-score: \n",
      " {0: 0.6680963378422963, 1: 0.0452155625657203, 2: 0.547556050689319}\n"
     ]
    },
    {
     "data": {
      "image/png": "[encoded data removed]",
      "text/plain": [
       "<Figure size 432x288 with 2 Axes>"
      ]
     },
     "metadata": {
      "needs_background": "light"
     },
     "output_type": "display_data"
    }
   ],
   "source": [
    "cm_metrics(y_train,y_train_pred,MLPC.classes_)"
   ]
  },
  {
   "cell_type": "code",
   "execution_count": 17,
   "metadata": {},
   "outputs": [
    {
     "name": "stdout",
     "output_type": "stream",
     "text": [
      "accuracy:  0.5374306213618519\n",
      "Recall: \n",
      " {0: 0.797228080747213, 1: 0.023346303501945526, 2: 0.5650066108417805} \n",
      "Precision: \n",
      " {0: 0.563338301043219, 1: 0.4, 2: 0.49593810444874276} \n",
      "F1-score: \n",
      " {0: 0.6601796407185628, 1: 0.044117647058823525, 2: 0.5282241450350226}\n"
     ]
    },
    {
     "data": {
      "image/png": "[encoded data removed]",
      "text/plain": [
       "<Figure size 432x288 with 2 Axes>"
      ]
     },
     "metadata": {
      "needs_background": "light"
     },
     "output_type": "display_data"
    }
   ],
   "source": [
    "cm_metrics(y_test,y_test_pred,MLPC.classes_)"
   ]
  },
  {
   "cell_type": "code",
   "execution_count": 24,
   "metadata": {},
   "outputs": [],
   "source": [
    "y_pred_proba = MLPC.predict_proba(X)"
   ]
  },
  {
   "cell_type": "code",
   "execution_count": 29,
   "metadata": {},
   "outputs": [],
   "source": [
    "y_proba_df = pd.DataFrame({'HomeWin' : y_pred_proba[:,0],'Draw' : y_pred_proba[:,1], 'AwayWin' : y_pred_proba[:,2], 'Result' : y })"
   ]
  },
  {
   "cell_type": "code",
   "execution_count": 37,
   "metadata": {},
   "outputs": [
    {
     "data": {
      "text/html": [
       "<div>\n",
       "<style scoped>\n",
       "    .dataframe tbody tr th:only-of-type {\n",
       "        vertical-align: middle;\n",
       "    }\n",
       "\n",
       "    .dataframe tbody tr th {\n",
       "        vertical-align: top;\n",
       "    }\n",
       "\n",
       "    .dataframe thead th {\n",
       "        text-align: right;\n",
       "    }\n",
       "</style>\n",
       "<table border=\"1\" class=\"dataframe\">\n",
       "  <thead>\n",
       "    <tr style=\"text-align: right;\">\n",
       "      <th></th>\n",
       "      <th>HomeWin</th>\n",
       "      <th>Draw</th>\n",
       "      <th>AwayWin</th>\n",
       "      <th>Result</th>\n",
       "    </tr>\n",
       "  </thead>\n",
       "  <tbody>\n",
       "    <tr>\n",
       "      <th>0</th>\n",
       "      <td>0.1959</td>\n",
       "      <td>0.385481</td>\n",
       "      <td>0.418619</td>\n",
       "      <td>0</td>\n",
       "    </tr>\n",
       "  </tbody>\n",
       "</table>\n",
       "</div>"
      ],
      "text/plain": [
       "   HomeWin      Draw   AwayWin  Result\n",
       "0   0.1959  0.385481  0.418619       0"
      ]
     },
     "execution_count": 37,
     "metadata": {},
     "output_type": "execute_result"
    }
   ],
   "source": [
    "y_proba_df.head(1)"
   ]
  },
  {
   "cell_type": "code",
   "execution_count": 71,
   "metadata": {},
   "outputs": [
    {
     "data": {
      "text/plain": [
       "1    339\n",
       "0    300\n",
       "2    279\n",
       "Name: Result, dtype: int64"
      ]
     },
     "execution_count": 71,
     "metadata": {},
     "output_type": "execute_result"
    }
   ],
   "source": [
    "y_proba_df.loc[(y_proba_df.Draw >0.33) & (abs(y_proba_df.HomeWin - y_proba_df.AwayWin) <0.14),'Result'].value_counts()\n",
    "#y_proba_df.loc[abs(y_proba_df.HomeWin - y_proba_df.AwayWin) <0.1,'Result'].value_counts()\n"
   ]
  },
  {
   "cell_type": "code",
   "execution_count": 75,
   "metadata": {},
   "outputs": [],
   "source": [
    "y_pred = MLPC.predict(X)"
   ]
  },
  {
   "cell_type": "code",
   "execution_count": 73,
   "metadata": {},
   "outputs": [],
   "source": [
    "y_pred[(y_proba_df.Draw >0.33) & (abs(y_proba_df.HomeWin - y_proba_df.AwayWin) <0.14)]=1"
   ]
  },
  {
   "cell_type": "code",
   "execution_count": 76,
   "metadata": {},
   "outputs": [
    {
     "name": "stdout",
     "output_type": "stream",
     "text": [
      "accuracy:  0.5459807073954984\n",
      "Recall: \n",
      " {0: 0.8096135010924433, 1: 0.02376650451702571, 2: 0.5744188608571114} \n",
      "Precision: \n",
      " {0: 0.5658469801484914, 1: 0.41204819277108434, 2: 0.5142518986093303} \n",
      "F1-score: \n",
      " {0: 0.6661294321844782, 1: 0.044940867279894874, 2: 0.5426727726894254}\n"
     ]
    },
    {
     "data": {
      "image/png": "[encoded data removed]",
      "text/plain": [
       "<Figure size 432x288 with 2 Axes>"
      ]
     },
     "metadata": {
      "needs_background": "light"
     },
     "output_type": "display_data"
    }
   ],
   "source": [
    "cm_metrics(y,y_pred,MLPC.classes_)"
   ]
  },
  {
   "cell_type": "code",
   "execution_count": 92,
   "metadata": {},
   "outputs": [],
   "source": [
    "pickle.dump(MLPC,open('../data/Model/mlp_classifier_more_features.pkl','wb'))"
   ]
  },
  {
   "cell_type": "code",
   "execution_count": null,
   "metadata": {},
   "outputs": [],
   "source": []
  }
 ],
 "metadata": {
  "interpreter": {
   "hash": "7487845996c7ba5663e8475bda763caf28d03a7733caf66b680b36d8ed7e8fd6"
  },
  "kernelspec": {
   "display_name": "Python 3.9.7 64-bit ('foot_env': conda)",
   "language": "python",
   "name": "python3"
  },
  "language_info": {
   "codemirror_mode": {
    "name": "ipython",
    "version": 3
   },
   "file_extension": ".py",
   "mimetype": "text/x-python",
   "name": "python",
   "nbconvert_exporter": "python",
   "pygments_lexer": "ipython3",
   "version": "3.9.7"
  },
  "orig_nbformat": 4
 },
 "nbformat": 4,
 "nbformat_minor": 2
}
