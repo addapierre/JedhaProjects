{
 "cells": [
  {
   "cell_type": "code",
   "execution_count": 1,
   "metadata": {},
   "outputs": [],
   "source": [
    "import pandas as pd\n",
    "pd.options.display.max_columns = None\n",
    "import numpy as np\n",
    "from sklearn.model_selection import train_test_split, cross_val_score, cross_val_predict\n",
    "from sklearn.preprocessing import OneHotEncoder, OrdinalEncoder, StandardScaler\n",
    "from sklearn.linear_model import LinearRegression\n",
    "from sklearn.metrics import accuracy_score, f1_score, ConfusionMatrixDisplay, RocCurveDisplay\n",
    "from sklearn.compose import ColumnTransformer\n",
    "from sklearn.pipeline import Pipeline\n"
   ]
  },
  {
   "cell_type": "code",
   "execution_count": 3,
   "metadata": {},
   "outputs": [],
   "source": [
    "#Reading all the dataset\n",
    "\n",
    "players = pd.read_csv('EU_leagues_15-21/players.csv', encoding = 'latin1')\n",
    "teams = pd.read_csv('EU_leagues_15-21/teams.csv', encoding = 'latin1')\n",
    "leagues = pd.read_csv('EU_leagues_15-21/leagues.csv', encoding = 'latin1')\n",
    "teamstats = pd.read_csv('EU_leagues_15-21/teamstats.csv', encoding = 'latin1')\n",
    "games = pd.read_csv('EU_leagues_15-21/games.csv', encoding = 'latin1')\n",
    "shots = pd.read_csv('EU_leagues_15-21/shots.csv', encoding = 'latin1')\n",
    "appearances = pd.read_csv('EU_leagues_15-21/appearances.csv', encoding = 'latin1')\n"
   ]
  },
  {
   "cell_type": "code",
   "execution_count": 3,
   "metadata": {},
   "outputs": [
    {
     "data": {
      "text/html": [
       "<div>\n",
       "<style scoped>\n",
       "    .dataframe tbody tr th:only-of-type {\n",
       "        vertical-align: middle;\n",
       "    }\n",
       "\n",
       "    .dataframe tbody tr th {\n",
       "        vertical-align: top;\n",
       "    }\n",
       "\n",
       "    .dataframe thead th {\n",
       "        text-align: right;\n",
       "    }\n",
       "</style>\n",
       "<table border=\"1\" class=\"dataframe\">\n",
       "  <thead>\n",
       "    <tr style=\"text-align: right;\">\n",
       "      <th></th>\n",
       "      <th>gameID</th>\n",
       "      <th>leagueID</th>\n",
       "      <th>season</th>\n",
       "      <th>date</th>\n",
       "      <th>homeTeamID</th>\n",
       "      <th>awayTeamID</th>\n",
       "      <th>homeGoals</th>\n",
       "      <th>awayGoals</th>\n",
       "      <th>homeProbability</th>\n",
       "      <th>drawProbability</th>\n",
       "      <th>awayProbability</th>\n",
       "      <th>homeGoalsHalfTime</th>\n",
       "      <th>awayGoalsHalfTime</th>\n",
       "      <th>B365H</th>\n",
       "      <th>B365D</th>\n",
       "      <th>B365A</th>\n",
       "      <th>BWH</th>\n",
       "      <th>BWD</th>\n",
       "      <th>BWA</th>\n",
       "      <th>IWH</th>\n",
       "      <th>IWD</th>\n",
       "      <th>IWA</th>\n",
       "      <th>PSH</th>\n",
       "      <th>PSD</th>\n",
       "      <th>PSA</th>\n",
       "      <th>WHH</th>\n",
       "      <th>WHD</th>\n",
       "      <th>WHA</th>\n",
       "      <th>VCH</th>\n",
       "      <th>VCD</th>\n",
       "      <th>VCA</th>\n",
       "      <th>PSCH</th>\n",
       "      <th>PSCD</th>\n",
       "      <th>PSCA</th>\n",
       "      <th>homeRes</th>\n",
       "      <th>GoalDiff</th>\n",
       "    </tr>\n",
       "  </thead>\n",
       "  <tbody>\n",
       "    <tr>\n",
       "      <th>0</th>\n",
       "      <td>81</td>\n",
       "      <td>1</td>\n",
       "      <td>2015</td>\n",
       "      <td>2015-08-08 15:45:00</td>\n",
       "      <td>89</td>\n",
       "      <td>82</td>\n",
       "      <td>1</td>\n",
       "      <td>0</td>\n",
       "      <td>0.2843</td>\n",
       "      <td>0.3999</td>\n",
       "      <td>0.3158</td>\n",
       "      <td>1</td>\n",
       "      <td>0</td>\n",
       "      <td>1.65</td>\n",
       "      <td>4.0</td>\n",
       "      <td>6.00</td>\n",
       "      <td>1.65</td>\n",
       "      <td>4.0</td>\n",
       "      <td>5.50</td>\n",
       "      <td>1.65</td>\n",
       "      <td>3.6</td>\n",
       "      <td>5.10</td>\n",
       "      <td>1.65</td>\n",
       "      <td>4.09</td>\n",
       "      <td>5.90</td>\n",
       "      <td>1.62</td>\n",
       "      <td>3.6</td>\n",
       "      <td>6.00</td>\n",
       "      <td>1.67</td>\n",
       "      <td>4.00</td>\n",
       "      <td>5.75</td>\n",
       "      <td>1.64</td>\n",
       "      <td>4.07</td>\n",
       "      <td>6.04</td>\n",
       "      <td>W</td>\n",
       "      <td>1</td>\n",
       "    </tr>\n",
       "    <tr>\n",
       "      <th>1</th>\n",
       "      <td>82</td>\n",
       "      <td>1</td>\n",
       "      <td>2015</td>\n",
       "      <td>2015-08-08 18:00:00</td>\n",
       "      <td>73</td>\n",
       "      <td>71</td>\n",
       "      <td>0</td>\n",
       "      <td>1</td>\n",
       "      <td>0.3574</td>\n",
       "      <td>0.3500</td>\n",
       "      <td>0.2926</td>\n",
       "      <td>0</td>\n",
       "      <td>0</td>\n",
       "      <td>2.00</td>\n",
       "      <td>3.6</td>\n",
       "      <td>4.00</td>\n",
       "      <td>2.00</td>\n",
       "      <td>3.3</td>\n",
       "      <td>3.70</td>\n",
       "      <td>2.10</td>\n",
       "      <td>3.3</td>\n",
       "      <td>3.30</td>\n",
       "      <td>1.95</td>\n",
       "      <td>3.65</td>\n",
       "      <td>4.27</td>\n",
       "      <td>1.91</td>\n",
       "      <td>3.5</td>\n",
       "      <td>4.00</td>\n",
       "      <td>2.00</td>\n",
       "      <td>3.50</td>\n",
       "      <td>4.20</td>\n",
       "      <td>1.82</td>\n",
       "      <td>3.88</td>\n",
       "      <td>4.70</td>\n",
       "      <td>L</td>\n",
       "      <td>-1</td>\n",
       "    </tr>\n",
       "    <tr>\n",
       "      <th>2</th>\n",
       "      <td>83</td>\n",
       "      <td>1</td>\n",
       "      <td>2015</td>\n",
       "      <td>2015-08-08 18:00:00</td>\n",
       "      <td>72</td>\n",
       "      <td>90</td>\n",
       "      <td>2</td>\n",
       "      <td>2</td>\n",
       "      <td>0.2988</td>\n",
       "      <td>0.4337</td>\n",
       "      <td>0.2675</td>\n",
       "      <td>0</td>\n",
       "      <td>1</td>\n",
       "      <td>1.70</td>\n",
       "      <td>3.9</td>\n",
       "      <td>5.50</td>\n",
       "      <td>1.70</td>\n",
       "      <td>3.5</td>\n",
       "      <td>5.00</td>\n",
       "      <td>1.70</td>\n",
       "      <td>3.6</td>\n",
       "      <td>4.70</td>\n",
       "      <td>1.70</td>\n",
       "      <td>3.95</td>\n",
       "      <td>5.62</td>\n",
       "      <td>1.73</td>\n",
       "      <td>3.5</td>\n",
       "      <td>5.00</td>\n",
       "      <td>1.73</td>\n",
       "      <td>3.90</td>\n",
       "      <td>5.40</td>\n",
       "      <td>1.75</td>\n",
       "      <td>3.76</td>\n",
       "      <td>5.44</td>\n",
       "      <td>D</td>\n",
       "      <td>0</td>\n",
       "    </tr>\n",
       "    <tr>\n",
       "      <th>3</th>\n",
       "      <td>84</td>\n",
       "      <td>1</td>\n",
       "      <td>2015</td>\n",
       "      <td>2015-08-08 18:00:00</td>\n",
       "      <td>75</td>\n",
       "      <td>77</td>\n",
       "      <td>4</td>\n",
       "      <td>2</td>\n",
       "      <td>0.6422</td>\n",
       "      <td>0.2057</td>\n",
       "      <td>0.1521</td>\n",
       "      <td>3</td>\n",
       "      <td>0</td>\n",
       "      <td>1.95</td>\n",
       "      <td>3.5</td>\n",
       "      <td>4.33</td>\n",
       "      <td>2.00</td>\n",
       "      <td>3.3</td>\n",
       "      <td>3.75</td>\n",
       "      <td>2.00</td>\n",
       "      <td>3.3</td>\n",
       "      <td>3.60</td>\n",
       "      <td>1.99</td>\n",
       "      <td>3.48</td>\n",
       "      <td>4.34</td>\n",
       "      <td>2.00</td>\n",
       "      <td>3.1</td>\n",
       "      <td>2.70</td>\n",
       "      <td>2.00</td>\n",
       "      <td>3.40</td>\n",
       "      <td>4.33</td>\n",
       "      <td>1.79</td>\n",
       "      <td>3.74</td>\n",
       "      <td>5.10</td>\n",
       "      <td>W</td>\n",
       "      <td>2</td>\n",
       "    </tr>\n",
       "    <tr>\n",
       "      <th>4</th>\n",
       "      <td>85</td>\n",
       "      <td>1</td>\n",
       "      <td>2015</td>\n",
       "      <td>2015-08-08 18:00:00</td>\n",
       "      <td>79</td>\n",
       "      <td>78</td>\n",
       "      <td>1</td>\n",
       "      <td>3</td>\n",
       "      <td>0.1461</td>\n",
       "      <td>0.2159</td>\n",
       "      <td>0.6380</td>\n",
       "      <td>0</td>\n",
       "      <td>1</td>\n",
       "      <td>2.55</td>\n",
       "      <td>3.3</td>\n",
       "      <td>3.00</td>\n",
       "      <td>2.60</td>\n",
       "      <td>3.2</td>\n",
       "      <td>2.70</td>\n",
       "      <td>2.40</td>\n",
       "      <td>3.2</td>\n",
       "      <td>2.85</td>\n",
       "      <td>2.52</td>\n",
       "      <td>3.35</td>\n",
       "      <td>3.08</td>\n",
       "      <td>2.60</td>\n",
       "      <td>3.1</td>\n",
       "      <td>2.88</td>\n",
       "      <td>2.60</td>\n",
       "      <td>3.25</td>\n",
       "      <td>3.00</td>\n",
       "      <td>2.46</td>\n",
       "      <td>3.39</td>\n",
       "      <td>3.14</td>\n",
       "      <td>L</td>\n",
       "      <td>-2</td>\n",
       "    </tr>\n",
       "  </tbody>\n",
       "</table>\n",
       "</div>"
      ],
      "text/plain": [
       "   gameID  leagueID  season                 date  homeTeamID  awayTeamID  \\\n",
       "0      81         1    2015  2015-08-08 15:45:00          89          82   \n",
       "1      82         1    2015  2015-08-08 18:00:00          73          71   \n",
       "2      83         1    2015  2015-08-08 18:00:00          72          90   \n",
       "3      84         1    2015  2015-08-08 18:00:00          75          77   \n",
       "4      85         1    2015  2015-08-08 18:00:00          79          78   \n",
       "\n",
       "   homeGoals  awayGoals  homeProbability  drawProbability  awayProbability  \\\n",
       "0          1          0           0.2843           0.3999           0.3158   \n",
       "1          0          1           0.3574           0.3500           0.2926   \n",
       "2          2          2           0.2988           0.4337           0.2675   \n",
       "3          4          2           0.6422           0.2057           0.1521   \n",
       "4          1          3           0.1461           0.2159           0.6380   \n",
       "\n",
       "   homeGoalsHalfTime  awayGoalsHalfTime  B365H  B365D  B365A   BWH  BWD   BWA  \\\n",
       "0                  1                  0   1.65    4.0   6.00  1.65  4.0  5.50   \n",
       "1                  0                  0   2.00    3.6   4.00  2.00  3.3  3.70   \n",
       "2                  0                  1   1.70    3.9   5.50  1.70  3.5  5.00   \n",
       "3                  3                  0   1.95    3.5   4.33  2.00  3.3  3.75   \n",
       "4                  0                  1   2.55    3.3   3.00  2.60  3.2  2.70   \n",
       "\n",
       "    IWH  IWD   IWA   PSH   PSD   PSA   WHH  WHD   WHA   VCH   VCD   VCA  PSCH  \\\n",
       "0  1.65  3.6  5.10  1.65  4.09  5.90  1.62  3.6  6.00  1.67  4.00  5.75  1.64   \n",
       "1  2.10  3.3  3.30  1.95  3.65  4.27  1.91  3.5  4.00  2.00  3.50  4.20  1.82   \n",
       "2  1.70  3.6  4.70  1.70  3.95  5.62  1.73  3.5  5.00  1.73  3.90  5.40  1.75   \n",
       "3  2.00  3.3  3.60  1.99  3.48  4.34  2.00  3.1  2.70  2.00  3.40  4.33  1.79   \n",
       "4  2.40  3.2  2.85  2.52  3.35  3.08  2.60  3.1  2.88  2.60  3.25  3.00  2.46   \n",
       "\n",
       "   PSCD  PSCA homeRes  GoalDiff  \n",
       "0  4.07  6.04       W         1  \n",
       "1  3.88  4.70       L        -1  \n",
       "2  3.76  5.44       D         0  \n",
       "3  3.74  5.10       W         2  \n",
       "4  3.39  3.14       L        -2  "
      ]
     },
     "execution_count": 3,
     "metadata": {},
     "output_type": "execute_result"
    }
   ],
   "source": [
    "#games dataframe has the number of goals per team but not the result of the game\n",
    "#This cell adds the result (W,D,L): (Win, Draw, Lose) from the home team point of view\n",
    "#It also adds the goal differential, also from the home team point of view\n",
    "\n",
    "games['homeRes'] = games.apply(lambda x: 'W' if x['homeGoals']>x['awayGoals'] else ('L' if x['homeGoals']<x['awayGoals'] else 'D'), axis = 1)\n",
    "games['GoalDiff'] = games.apply(lambda x : x['homeGoals']-x['awayGoals'] , axis = 1)\n",
    "games.head()"
   ]
  },
  {
   "cell_type": "markdown",
   "metadata": {},
   "source": [
    "# MODEL 1\n",
    "### Linear Regression using only team ID's and goal differential as target"
   ]
  },
  {
   "cell_type": "code",
   "execution_count": 4,
   "metadata": {},
   "outputs": [
    {
     "data": {
      "text/plain": [
       "LinearRegression()"
      ]
     },
     "execution_count": 4,
     "metadata": {},
     "output_type": "execute_result"
    }
   ],
   "source": [
    "X1 = games.loc[:,['homeTeamID' ,'awayTeamID']]\n",
    "y1 = games.GoalDiff\n",
    "\n",
    "X1_train, X1_test, y1_train, y1_test = train_test_split(X1 , y1,test_size = 0.3, stratify = games.homeRes, random_state = 0)\n",
    "\n",
    "#Data preprocessing => one hot encoder on team IDs\n",
    "OHE = OneHotEncoder(drop = 'first')\n",
    "OHE.fit(X1)\n",
    "\n",
    "X1_train = OHE.transform(X1_train)\n",
    "X1_test = OHE.transform(X1_test)\n",
    "\n",
    "LR = LinearRegression()\n",
    "LR.fit(X1_train, y1_train)\n"
   ]
  },
  {
   "cell_type": "code",
   "execution_count": 5,
   "metadata": {},
   "outputs": [
    {
     "data": {
      "text/plain": [
       "LinearRegression()"
      ]
     },
     "execution_count": 5,
     "metadata": {},
     "output_type": "execute_result"
    }
   ],
   "source": [
    "LR = LinearRegression()\n",
    "LR.fit(X1_train, y1_train)"
   ]
  },
  {
   "cell_type": "markdown",
   "metadata": {},
   "source": [
    "<b> Pour tester l'accuracy, on retransforme la différence de but prédite en catégorie (Win, Draw, Loose)</b><br>\n",
    "Pour cela on définit une fonction <b>transform_goalsDiff_to_results</b>"
   ]
  },
  {
   "cell_type": "code",
   "execution_count": 6,
   "metadata": {},
   "outputs": [],
   "source": [
    "def transform_goalsDiff_to_results(array):\n",
    "    res = np.asarray([])\n",
    "    for val in array:\n",
    "        if val>0:\n",
    "            res = np.append(res,'W')\n",
    "        elif val == 0:\n",
    "            res = np.append(res,'D')\n",
    "        else : \n",
    "            res = np.append(res,'L')\n",
    "    return res"
   ]
  },
  {
   "cell_type": "code",
   "execution_count": 7,
   "metadata": {},
   "outputs": [
    {
     "name": "stdout",
     "output_type": "stream",
     "text": [
      "accuracy on training set :  0.5381928796755295\n",
      "accuracy on test set :  0.5155099894847529\n"
     ]
    }
   ],
   "source": [
    "#Making predinctions on X_train and X_test\n",
    "\n",
    "y1_test_pred = LR.predict(X1_test)\n",
    "y1_train_pred = LR.predict(X1_train)\n",
    "\n",
    "\n",
    "#Transforming the prediction and the train_test_splitted data back to categories (W,D,L)\n",
    "\n",
    "y1_test_pred_res = transform_goalsDiff_to_results(y1_test_pred)\n",
    "y1_train_pred_res = transform_goalsDiff_to_results(y1_train_pred)\n",
    "y1_test_res = transform_goalsDiff_to_results(y1_test)\n",
    "y1_train_res = transform_goalsDiff_to_results(y1_train)\n",
    "\n",
    "print(\"accuracy on training set : \", accuracy_score(y1_train_res, y1_train_pred_res))\n",
    "print(\"accuracy on test set : \", accuracy_score(y1_test_res, y1_test_pred_res))"
   ]
  },
  {
   "cell_type": "code",
   "execution_count": 8,
   "metadata": {},
   "outputs": [
    {
     "name": "stdout",
     "output_type": "stream",
     "text": [
      "accuracy :  0.5124605678233438\n"
     ]
    }
   ],
   "source": [
    "cvp = cross_val_predict(LinearRegression(), OHE.transform(X1), y1)\n",
    "y1_pred_res = transform_goalsDiff_to_results(cvp)\n",
    "print(\"accuracy : \", accuracy_score(y1_pred_res, games.homeRes))"
   ]
  },
  {
   "cell_type": "markdown",
   "metadata": {},
   "source": [
    "# MODEL 2\n",
    "<b> using the past n games opposing the two teams of a given match, with the same team as home team AND with the opposite team as home team</br>"
   ]
  },
  {
   "cell_type": "code",
   "execution_count": 9,
   "metadata": {},
   "outputs": [],
   "source": [
    "test = pd.DataFrame(games.value_counts('homeTeamID'))\n",
    "most_frequent_teamID = list(test.loc[test[0] >= 100,:].index.values)\n",
    "y_freq = games.loc[(games.homeTeamID.isin(most_frequent_teamID)) & (games.awayTeamID.isin(most_frequent_teamID)),['gameID','GoalDiff']]\n",
    "y_freq.shape\n",
    "good_gameID = y_freq.gameID.values"
   ]
  },
  {
   "cell_type": "code",
   "execution_count": 10,
   "metadata": {},
   "outputs": [
    {
     "data": {
      "text/plain": [
       "(4240, 36)"
      ]
     },
     "execution_count": 10,
     "metadata": {},
     "output_type": "execute_result"
    }
   ],
   "source": [
    "select_good_games = games.loc[(games.season >=2016) & (games.gameID.isin(good_gameID)),:].copy()\n",
    "select_good_games.shape"
   ]
  },
  {
   "cell_type": "code",
   "execution_count": 22,
   "metadata": {},
   "outputs": [
    {
     "data": {
      "text/html": [
       "<div>\n",
       "<style scoped>\n",
       "    .dataframe tbody tr th:only-of-type {\n",
       "        vertical-align: middle;\n",
       "    }\n",
       "\n",
       "    .dataframe tbody tr th {\n",
       "        vertical-align: top;\n",
       "    }\n",
       "\n",
       "    .dataframe thead th {\n",
       "        text-align: right;\n",
       "    }\n",
       "</style>\n",
       "<table border=\"1\" class=\"dataframe\">\n",
       "  <thead>\n",
       "    <tr style=\"text-align: right;\">\n",
       "      <th></th>\n",
       "      <th>playerID</th>\n",
       "      <th>name</th>\n",
       "    </tr>\n",
       "  </thead>\n",
       "  <tbody>\n",
       "    <tr>\n",
       "      <th>1538</th>\n",
       "      <td>160</td>\n",
       "      <td>Nicklas Bendtner</td>\n",
       "    </tr>\n",
       "  </tbody>\n",
       "</table>\n",
       "</div>"
      ],
      "text/plain": [
       "      playerID              name\n",
       "1538       160  Nicklas Bendtner"
      ]
     },
     "execution_count": 22,
     "metadata": {},
     "output_type": "execute_result"
    }
   ],
   "source": [
    "players.loc[players.playerID == 160,:]"
   ]
  },
  {
   "cell_type": "code",
   "execution_count": 28,
   "metadata": {},
   "outputs": [
    {
     "data": {
      "text/plain": [
       "array(['GK', 'DR', 'DC', 'DL', 'DMC', 'AMR', 'AMC', 'AML', 'FW', 'Sub',\n",
       "       'MR', 'MC', 'ML', 'FWR', 'FWL', 'DMR', 'DML'], dtype=object)"
      ]
     },
     "execution_count": 28,
     "metadata": {},
     "output_type": "execute_result"
    }
   ],
   "source": [
    "appearances.position.unique()"
   ]
  },
  {
   "cell_type": "code",
   "execution_count": 120,
   "metadata": {},
   "outputs": [],
   "source": [
    "# here we fetch the past 3 games\n",
    "nb_hist = 3\n",
    "\n",
    "\n",
    "#####WARNING this takes quite some time to compute:\n",
    "\n",
    "#Gets the last 3 games for EACH game with the same team as host\n",
    "df_home = (select_good_games.apply(lambda x : games.loc\\\n",
    "            [(games.date < x['date']) &\\\n",
    "             (games.homeTeamID == x['homeTeamID']) &\\\n",
    "             (games.awayTeamID == x['awayTeamID'])\\\n",
    "             ,'GoalDiff'].values[:nb_hist] \\\n",
    "            , axis = 1)\n",
    ")\n",
    "#Gets the last 3 games for EACH game with the OPPOSITE team as host\n",
    "df_away = (select_good_games.apply(lambda x : games.loc\\\n",
    "            [(games.date < x['date']) &\\\n",
    "             (games.homeTeamID == x['awayTeamID']) &\\\n",
    "             (games.awayTeamID == x['homeTeamID'])\\\n",
    "             ,'GoalDiff'].values[:nb_hist] \\\n",
    "            , axis = 1)\n",
    ")"
   ]
  },
  {
   "cell_type": "code",
   "execution_count": 121,
   "metadata": {},
   "outputs": [
    {
     "name": "stdout",
     "output_type": "stream",
     "text": [
      "1200\n",
      "679\n",
      "(4240,) (4240,)\n"
     ]
    }
   ],
   "source": [
    "#there is a lot of missing games,\n",
    "#We impute these missing games with the value 0 (Draw)\n",
    "def impute_for_missing_games(n):\n",
    "    global missing_games_count\n",
    "    while len(n)<nb_hist:\n",
    "        n = np.append(n, 0)\n",
    "        missing_games_count +=1\n",
    "    return n\n",
    "\n",
    "missing_games_count = 0\n",
    "df_home = df_home.apply(impute_for_missing_games)\n",
    "print(missing_games_count)\n",
    "missing_games_count = 0\n",
    "df_away = df_away.apply(impute_for_missing_games)\n",
    "print(missing_games_count)\n",
    "print(df_home.shape, df_away.shape)"
   ]
  },
  {
   "cell_type": "code",
   "execution_count": 122,
   "metadata": {},
   "outputs": [
    {
     "data": {
      "text/html": [
       "<div>\n",
       "<style scoped>\n",
       "    .dataframe tbody tr th:only-of-type {\n",
       "        vertical-align: middle;\n",
       "    }\n",
       "\n",
       "    .dataframe tbody tr th {\n",
       "        vertical-align: top;\n",
       "    }\n",
       "\n",
       "    .dataframe thead th {\n",
       "        text-align: right;\n",
       "    }\n",
       "</style>\n",
       "<table border=\"1\" class=\"dataframe\">\n",
       "  <thead>\n",
       "    <tr style=\"text-align: right;\">\n",
       "      <th></th>\n",
       "      <th>0</th>\n",
       "      <th>1</th>\n",
       "      <th>2</th>\n",
       "      <th>3</th>\n",
       "      <th>4</th>\n",
       "      <th>5</th>\n",
       "    </tr>\n",
       "  </thead>\n",
       "  <tbody>\n",
       "    <tr>\n",
       "      <th>0</th>\n",
       "      <td>0</td>\n",
       "      <td>-1</td>\n",
       "      <td>0</td>\n",
       "      <td>0</td>\n",
       "      <td>1</td>\n",
       "      <td>0</td>\n",
       "    </tr>\n",
       "    <tr>\n",
       "      <th>1</th>\n",
       "      <td>0</td>\n",
       "      <td>3</td>\n",
       "      <td>0</td>\n",
       "      <td>0</td>\n",
       "      <td>0</td>\n",
       "      <td>0</td>\n",
       "    </tr>\n",
       "    <tr>\n",
       "      <th>2</th>\n",
       "      <td>0</td>\n",
       "      <td>2</td>\n",
       "      <td>0</td>\n",
       "      <td>1</td>\n",
       "      <td>-1</td>\n",
       "      <td>0</td>\n",
       "    </tr>\n",
       "    <tr>\n",
       "      <th>3</th>\n",
       "      <td>-1</td>\n",
       "      <td>-1</td>\n",
       "      <td>0</td>\n",
       "      <td>-1</td>\n",
       "      <td>-1</td>\n",
       "      <td>0</td>\n",
       "    </tr>\n",
       "    <tr>\n",
       "      <th>4</th>\n",
       "      <td>-1</td>\n",
       "      <td>0</td>\n",
       "      <td>0</td>\n",
       "      <td>2</td>\n",
       "      <td>0</td>\n",
       "      <td>0</td>\n",
       "    </tr>\n",
       "  </tbody>\n",
       "</table>\n",
       "</div>"
      ],
      "text/plain": [
       "   0  1  2  3  4  5\n",
       "0  0 -1  0  0  1  0\n",
       "1  0  3  0  0  0  0\n",
       "2  0  2  0  1 -1  0\n",
       "3 -1 -1  0 -1 -1  0\n",
       "4 -1  0  0  2  0  0"
      ]
     },
     "execution_count": 122,
     "metadata": {},
     "output_type": "execute_result"
    }
   ],
   "source": [
    "#here we concatenate the two dataframes.\n",
    "#NB: there is certainly a smarter way to do this, *feel free to change it*\n",
    "\n",
    "test = pd.concat([df_home, df_away], axis = 1)\n",
    "test = test.apply( lambda x: np.concatenate((x[0], x[1]), axis = None).tolist(), axis = 1)\n",
    "X2 = pd.DataFrame(test.tolist())\n",
    "X2.head()"
   ]
  },
  {
   "cell_type": "code",
   "execution_count": 123,
   "metadata": {},
   "outputs": [],
   "source": [
    "select_good_games.reset_index(drop = True, inplace = True)"
   ]
  },
  {
   "cell_type": "code",
   "execution_count": 124,
   "metadata": {},
   "outputs": [
    {
     "name": "stdout",
     "output_type": "stream",
     "text": [
      "(4240, 8)\n"
     ]
    },
    {
     "data": {
      "text/html": [
       "<div>\n",
       "<style scoped>\n",
       "    .dataframe tbody tr th:only-of-type {\n",
       "        vertical-align: middle;\n",
       "    }\n",
       "\n",
       "    .dataframe tbody tr th {\n",
       "        vertical-align: top;\n",
       "    }\n",
       "\n",
       "    .dataframe thead th {\n",
       "        text-align: right;\n",
       "    }\n",
       "</style>\n",
       "<table border=\"1\" class=\"dataframe\">\n",
       "  <thead>\n",
       "    <tr style=\"text-align: right;\">\n",
       "      <th></th>\n",
       "      <th>homeTeamID</th>\n",
       "      <th>awayTeamID</th>\n",
       "      <th>0</th>\n",
       "      <th>1</th>\n",
       "      <th>2</th>\n",
       "      <th>3</th>\n",
       "      <th>4</th>\n",
       "      <th>5</th>\n",
       "    </tr>\n",
       "  </thead>\n",
       "  <tbody>\n",
       "    <tr>\n",
       "      <th>4235</th>\n",
       "      <td>164</td>\n",
       "      <td>167</td>\n",
       "      <td>-1</td>\n",
       "      <td>3</td>\n",
       "      <td>0</td>\n",
       "      <td>-1</td>\n",
       "      <td>0</td>\n",
       "      <td>0</td>\n",
       "    </tr>\n",
       "    <tr>\n",
       "      <th>4236</th>\n",
       "      <td>171</td>\n",
       "      <td>163</td>\n",
       "      <td>0</td>\n",
       "      <td>3</td>\n",
       "      <td>0</td>\n",
       "      <td>0</td>\n",
       "      <td>-1</td>\n",
       "      <td>2</td>\n",
       "    </tr>\n",
       "    <tr>\n",
       "      <th>4237</th>\n",
       "      <td>167</td>\n",
       "      <td>160</td>\n",
       "      <td>2</td>\n",
       "      <td>1</td>\n",
       "      <td>0</td>\n",
       "      <td>0</td>\n",
       "      <td>-1</td>\n",
       "      <td>-1</td>\n",
       "    </tr>\n",
       "    <tr>\n",
       "      <th>4238</th>\n",
       "      <td>178</td>\n",
       "      <td>170</td>\n",
       "      <td>0</td>\n",
       "      <td>0</td>\n",
       "      <td>-1</td>\n",
       "      <td>3</td>\n",
       "      <td>2</td>\n",
       "      <td>-2</td>\n",
       "    </tr>\n",
       "    <tr>\n",
       "      <th>4239</th>\n",
       "      <td>168</td>\n",
       "      <td>166</td>\n",
       "      <td>-2</td>\n",
       "      <td>1</td>\n",
       "      <td>1</td>\n",
       "      <td>1</td>\n",
       "      <td>-1</td>\n",
       "      <td>4</td>\n",
       "    </tr>\n",
       "  </tbody>\n",
       "</table>\n",
       "</div>"
      ],
      "text/plain": [
       "      homeTeamID  awayTeamID  0  1  2  3  4  5\n",
       "4235         164         167 -1  3  0 -1  0  0\n",
       "4236         171         163  0  3  0  0 -1  2\n",
       "4237         167         160  2  1  0  0 -1 -1\n",
       "4238         178         170  0  0 -1  3  2 -2\n",
       "4239         168         166 -2  1  1  1 -1  4"
      ]
     },
     "execution_count": 124,
     "metadata": {},
     "output_type": "execute_result"
    }
   ],
   "source": [
    "#let's add team ID's\n",
    "X2team = select_good_games.loc[:,['homeTeamID' ,'awayTeamID']]\n",
    "X2 = pd.concat([X2team, X2], axis=1)\n",
    "print(X2.shape)\n",
    "X2.tail()\n",
    "\n"
   ]
  },
  {
   "cell_type": "code",
   "execution_count": 125,
   "metadata": {},
   "outputs": [
    {
     "data": {
      "text/plain": [
       "ColumnTransformer(remainder='passthrough',\n",
       "                  transformers=[('teams_one_hot', OneHotEncoder(drop='first'),\n",
       "                                 [0, 1])])"
      ]
     },
     "execution_count": 125,
     "metadata": {},
     "output_type": "execute_result"
    }
   ],
   "source": [
    "# We want to one-hot encode the team ID's and keep the other columns as they are, to do so we pass the argument 'remainder = \"passthrough\"'\n",
    "\n",
    "preprocessor = ColumnTransformer(\n",
    "    transformers = [('teams_one_hot', OneHotEncoder(drop = 'first'), [0,1])],\n",
    "    remainder='passthrough'\n",
    ")\n",
    "\n",
    "# We fit preprocessor on X2, however we do not transform X2 as train_test_split do not accept sparse matrices\n",
    "preprocessor.fit(X2)"
   ]
  },
  {
   "cell_type": "code",
   "execution_count": 126,
   "metadata": {},
   "outputs": [
    {
     "data": {
      "text/plain": [
       "LinearRegression()"
      ]
     },
     "execution_count": 126,
     "metadata": {},
     "output_type": "execute_result"
    }
   ],
   "source": [
    "y2 = select_good_games.GoalDiff\n",
    "X2_train, X2_test, y2_train, y2_test = train_test_split(X2, y2, test_size = 0.3, random_state = 0)\n",
    "\n",
    "# Now we can transform X_train and X_test\n",
    "X2_train = preprocessor.transform(X2_train)\n",
    "X2_test = preprocessor.transform(X2_test)\n",
    "\n",
    "#Then train the model\n",
    "LR2 = LinearRegression()\n",
    "LR2.fit(X2_train, y2_train)"
   ]
  },
  {
   "cell_type": "code",
   "execution_count": 127,
   "metadata": {},
   "outputs": [
    {
     "name": "stdout",
     "output_type": "stream",
     "text": [
      "accuracy on training set :  0.5363881401617251\n",
      "accuracy on test set :  0.5369496855345912\n"
     ]
    }
   ],
   "source": [
    "y2_test_pred = LR2.predict(X2_test)\n",
    "y2_train_pred = LR2.predict(X2_train)\n",
    "\n",
    "#Same as before, we change the predicted score into the game result\n",
    "y2_test_pred_res = transform_goalsDiff_to_results(y2_test_pred)\n",
    "y2_train_pred_res = transform_goalsDiff_to_results(y2_train_pred)\n",
    "y2_test_res = transform_goalsDiff_to_results(y2_test)\n",
    "y2_train_res = transform_goalsDiff_to_results(y2_train)\n",
    "\n",
    "print(\"accuracy on training set : \", accuracy_score(y2_train_res, y2_train_pred_res))\n",
    "print(\"accuracy on test set : \", accuracy_score(y2_test_res, y2_test_pred_res))"
   ]
  },
  {
   "cell_type": "code",
   "execution_count": 129,
   "metadata": {},
   "outputs": [
    {
     "name": "stdout",
     "output_type": "stream",
     "text": [
      "accuracy :  0.5110849056603773\n"
     ]
    }
   ],
   "source": [
    "cvp2 = cross_val_predict(LinearRegression(), preprocessor.transform(X2), y2)\n",
    "y2_pred_res = transform_goalsDiff_to_results(cvp2)\n",
    "print(\"accuracy : \", accuracy_score(y2_pred_res, select_good_games.homeRes))"
   ]
  },
  {
   "cell_type": "markdown",
   "metadata": {},
   "source": [
    "# MODEL 3\n",
    "<b> Using the player xValues (expected behaviors as calculated by bookmakers, i.e. xGoals: the probability for the player to score a goal). <br> These values  are averaged over the whole team"
   ]
  },
  {
   "cell_type": "code",
   "execution_count": 17,
   "metadata": {},
   "outputs": [],
   "source": [
    "# In the appearance dataframe, the players of a game are not affiliated with a team\n",
    "# Luckily, the players of a game are organised always in the same manner: \n",
    "##          first the home team, beginning with the goal keeper, then the away team, beginning also with the goal keeper\n",
    "# This function adds the team (home or away team) to which each player belongs to\n",
    "\n",
    "def search_team_ID(pos):\n",
    "    global a\n",
    "    if pos == 'GK':\n",
    "        a += 1\n",
    "    if a%2 == 1:\n",
    "        res = 'h'\n",
    "    else:\n",
    "        res = 'a'\n",
    "    return res\n",
    "\n",
    "appearances = pd.read_csv('appearances.csv', encoding = 'latin1')\n",
    "a=0\n",
    "appearances['HomeOrAway']=appearances.position.apply(search_team_ID)"
   ]
  },
  {
   "cell_type": "code",
   "execution_count": 18,
   "metadata": {},
   "outputs": [],
   "source": [
    "#Looking into the 'games' dataset, we now can assign a team ID to each player:\n",
    "\n",
    "appearances = appearances.merge(games.loc[:,['gameID','homeTeamID', 'awayTeamID']], on = \"gameID\", how = 'inner')\n",
    "appearances['teamID'] = appearances.apply(lambda x : x['homeTeamID'] if x['HomeOrAway'] == 'h' else x['awayTeamID'] , axis = 1)\n",
    "appearances.drop(['awayTeamID','homeTeamID'], axis = 1, inplace = True)\n"
   ]
  },
  {
   "cell_type": "code",
   "execution_count": 19,
   "metadata": {},
   "outputs": [
    {
     "data": {
      "text/html": [
       "<div>\n",
       "<style scoped>\n",
       "    .dataframe tbody tr th:only-of-type {\n",
       "        vertical-align: middle;\n",
       "    }\n",
       "\n",
       "    .dataframe tbody tr th {\n",
       "        vertical-align: top;\n",
       "    }\n",
       "\n",
       "    .dataframe thead th {\n",
       "        text-align: right;\n",
       "    }\n",
       "</style>\n",
       "<table border=\"1\" class=\"dataframe\">\n",
       "  <thead>\n",
       "    <tr style=\"text-align: right;\">\n",
       "      <th></th>\n",
       "      <th>gameID</th>\n",
       "      <th>HomeOrAway</th>\n",
       "      <th>xGoals</th>\n",
       "      <th>xGoalsChain</th>\n",
       "      <th>xGoalsBuildup</th>\n",
       "      <th>xAssists</th>\n",
       "    </tr>\n",
       "  </thead>\n",
       "  <tbody>\n",
       "    <tr>\n",
       "      <th>0</th>\n",
       "      <td>81</td>\n",
       "      <td>a</td>\n",
       "      <td>0.061429</td>\n",
       "      <td>0.143940</td>\n",
       "      <td>0.061746</td>\n",
       "      <td>0.050608</td>\n",
       "    </tr>\n",
       "    <tr>\n",
       "      <th>1</th>\n",
       "      <td>81</td>\n",
       "      <td>h</td>\n",
       "      <td>0.057049</td>\n",
       "      <td>0.107573</td>\n",
       "      <td>0.071012</td>\n",
       "      <td>0.025907</td>\n",
       "    </tr>\n",
       "    <tr>\n",
       "      <th>2</th>\n",
       "      <td>82</td>\n",
       "      <td>a</td>\n",
       "      <td>0.032679</td>\n",
       "      <td>0.107775</td>\n",
       "      <td>0.066983</td>\n",
       "      <td>0.050972</td>\n",
       "    </tr>\n",
       "    <tr>\n",
       "      <th>3</th>\n",
       "      <td>82</td>\n",
       "      <td>h</td>\n",
       "      <td>0.079646</td>\n",
       "      <td>0.196319</td>\n",
       "      <td>0.106445</td>\n",
       "      <td>0.038180</td>\n",
       "    </tr>\n",
       "    <tr>\n",
       "      <th>4</th>\n",
       "      <td>83</td>\n",
       "      <td>a</td>\n",
       "      <td>0.040389</td>\n",
       "      <td>0.166683</td>\n",
       "      <td>0.093690</td>\n",
       "      <td>0.036977</td>\n",
       "    </tr>\n",
       "  </tbody>\n",
       "</table>\n",
       "</div>"
      ],
      "text/plain": [
       "   gameID HomeOrAway    xGoals  xGoalsChain  xGoalsBuildup  xAssists\n",
       "0      81          a  0.061429     0.143940       0.061746  0.050608\n",
       "1      81          h  0.057049     0.107573       0.071012  0.025907\n",
       "2      82          a  0.032679     0.107775       0.066983  0.050972\n",
       "3      82          h  0.079646     0.196319       0.106445  0.038180\n",
       "4      83          a  0.040389     0.166683       0.093690  0.036977"
      ]
     },
     "execution_count": 19,
     "metadata": {},
     "output_type": "execute_result"
    }
   ],
   "source": [
    "# Now we can select the features of interest (xValues) in the dataset, \n",
    "# excluding the substitutes in order to be consistent when averaging the xValues over the whole team \n",
    "appearances_keep = appearances.loc[(appearances.position != 'Sub'), ['gameID', \n",
    "                                      'xGoals',\n",
    "                                      'xGoalsChain', \n",
    "                                      'xGoalsBuildup', \n",
    "                                      'xAssists',\n",
    "                                      'HomeOrAway',\n",
    "                                      'teamID']]\n",
    "\n",
    "# We do the averaging using a groupby over the game ID and the HomeOrAway column\n",
    "test_app = appearances_keep.loc\\\n",
    "[:, ['gameID','xGoals','xGoalsChain','xGoalsBuildup','xAssists','HomeOrAway']]\\\n",
    ".groupby(['gameID','HomeOrAway']).mean()\n",
    "test_app.reset_index(inplace = True)\n",
    "test_app.head()"
   ]
  },
  {
   "cell_type": "code",
   "execution_count": 20,
   "metadata": {},
   "outputs": [
    {
     "data": {
      "text/html": [
       "<div>\n",
       "<style scoped>\n",
       "    .dataframe tbody tr th:only-of-type {\n",
       "        vertical-align: middle;\n",
       "    }\n",
       "\n",
       "    .dataframe tbody tr th {\n",
       "        vertical-align: top;\n",
       "    }\n",
       "\n",
       "    .dataframe thead th {\n",
       "        text-align: right;\n",
       "    }\n",
       "</style>\n",
       "<table border=\"1\" class=\"dataframe\">\n",
       "  <thead>\n",
       "    <tr style=\"text-align: right;\">\n",
       "      <th></th>\n",
       "      <th>xGoals_h</th>\n",
       "      <th>xGoalsChain_h</th>\n",
       "      <th>xGoalsBuildup_h</th>\n",
       "      <th>xAssists_h</th>\n",
       "      <th>xGoals_a</th>\n",
       "      <th>xGoalsChain_a</th>\n",
       "      <th>xGoalsBuildup_a</th>\n",
       "      <th>xAssists_a</th>\n",
       "      <th>away_team</th>\n",
       "      <th>home_team</th>\n",
       "    </tr>\n",
       "  </thead>\n",
       "  <tbody>\n",
       "    <tr>\n",
       "      <th>0</th>\n",
       "      <td>0.057049</td>\n",
       "      <td>0.107573</td>\n",
       "      <td>0.071012</td>\n",
       "      <td>0.025907</td>\n",
       "      <td>0.061429</td>\n",
       "      <td>0.143940</td>\n",
       "      <td>0.061746</td>\n",
       "      <td>0.050608</td>\n",
       "      <td>82</td>\n",
       "      <td>89</td>\n",
       "    </tr>\n",
       "    <tr>\n",
       "      <th>1</th>\n",
       "      <td>0.079646</td>\n",
       "      <td>0.196319</td>\n",
       "      <td>0.106445</td>\n",
       "      <td>0.038180</td>\n",
       "      <td>0.032679</td>\n",
       "      <td>0.107775</td>\n",
       "      <td>0.066983</td>\n",
       "      <td>0.050972</td>\n",
       "      <td>71</td>\n",
       "      <td>73</td>\n",
       "    </tr>\n",
       "    <tr>\n",
       "      <th>2</th>\n",
       "      <td>0.041633</td>\n",
       "      <td>0.078184</td>\n",
       "      <td>0.044866</td>\n",
       "      <td>0.048170</td>\n",
       "      <td>0.040389</td>\n",
       "      <td>0.166683</td>\n",
       "      <td>0.093690</td>\n",
       "      <td>0.036977</td>\n",
       "      <td>90</td>\n",
       "      <td>72</td>\n",
       "    </tr>\n",
       "    <tr>\n",
       "      <th>3</th>\n",
       "      <td>0.233457</td>\n",
       "      <td>0.608535</td>\n",
       "      <td>0.340174</td>\n",
       "      <td>0.145980</td>\n",
       "      <td>0.058666</td>\n",
       "      <td>0.533865</td>\n",
       "      <td>0.416345</td>\n",
       "      <td>0.117171</td>\n",
       "      <td>77</td>\n",
       "      <td>75</td>\n",
       "    </tr>\n",
       "    <tr>\n",
       "      <th>4</th>\n",
       "      <td>0.097121</td>\n",
       "      <td>0.172641</td>\n",
       "      <td>0.061029</td>\n",
       "      <td>0.030727</td>\n",
       "      <td>0.180785</td>\n",
       "      <td>0.932923</td>\n",
       "      <td>0.734567</td>\n",
       "      <td>0.186426</td>\n",
       "      <td>78</td>\n",
       "      <td>79</td>\n",
       "    </tr>\n",
       "  </tbody>\n",
       "</table>\n",
       "</div>"
      ],
      "text/plain": [
       "   xGoals_h  xGoalsChain_h  xGoalsBuildup_h  xAssists_h  xGoals_a  \\\n",
       "0  0.057049       0.107573         0.071012    0.025907  0.061429   \n",
       "1  0.079646       0.196319         0.106445    0.038180  0.032679   \n",
       "2  0.041633       0.078184         0.044866    0.048170  0.040389   \n",
       "3  0.233457       0.608535         0.340174    0.145980  0.058666   \n",
       "4  0.097121       0.172641         0.061029    0.030727  0.180785   \n",
       "\n",
       "   xGoalsChain_a  xGoalsBuildup_a  xAssists_a  away_team  home_team  \n",
       "0       0.143940         0.061746    0.050608         82         89  \n",
       "1       0.107775         0.066983    0.050972         71         73  \n",
       "2       0.166683         0.093690    0.036977         90         72  \n",
       "3       0.533865         0.416345    0.117171         77         75  \n",
       "4       0.932923         0.734567    0.186426         78         79  "
      ]
     },
     "execution_count": 20,
     "metadata": {},
     "output_type": "execute_result"
    }
   ],
   "source": [
    "# Now we will want to have one row per game\n",
    "away_stats = test_app.loc[test_app.HomeOrAway == 'a',['xGoals', 'xGoalsChain', 'xGoalsBuildup', 'xAssists']]\n",
    "away_stats.rename(columns = {'xGoals' : 'xGoals_a', \n",
    "                           'xGoalsChain' : 'xGoalsChain_a', \n",
    "                           'xGoalsBuildup' : 'xGoalsBuildup_a',\n",
    "                           'xAssists' : 'xAssists_a'}, inplace = True)\n",
    "away_stats.reset_index(drop = True, inplace = True)\n",
    "\n",
    "home_stats = test_app.loc[test_app.HomeOrAway == 'h', ['gameID','xGoals', 'xGoalsChain', 'xGoalsBuildup','xAssists']]\n",
    "home_stats.rename(columns = {'xGoals' : 'xGoals_h', \n",
    "                           'xGoalsChain' : 'xGoalsChain_h', \n",
    "                           'xGoalsBuildup' : 'xGoalsBuildup_h',\n",
    "                           'xAssists' : 'xAssists_h'}, inplace = True)\n",
    "home_stats.reset_index(drop = True, inplace = True)\n",
    "\n",
    "X3 = pd.concat([home_stats, away_stats], axis=1)\n",
    "X3.dropna(inplace = True)\n",
    "X3.sort_values('gameID', inplace = True)\n",
    "X3.reset_index(drop = True, inplace = True)\n",
    "\n",
    "#Now let's add the team IDs\n",
    "X3['away_team'] = games.awayTeamID\n",
    "X3['home_team'] = games.homeTeamID\n",
    "X3.drop('gameID', axis = 1, inplace = True)\n",
    "X3.head()"
   ]
  },
  {
   "cell_type": "code",
   "execution_count": 21,
   "metadata": {},
   "outputs": [
    {
     "data": {
      "text/plain": [
       "ColumnTransformer(remainder='passthrough',\n",
       "                  transformers=[('teams_one_hot', OneHotEncoder(drop='first'),\n",
       "                                 [-2, -1])])"
      ]
     },
     "execution_count": 21,
     "metadata": {},
     "output_type": "execute_result"
    }
   ],
   "source": [
    "\n",
    "preprocessor = ColumnTransformer(\n",
    "    transformers = [('teams_one_hot', OneHotEncoder(drop = 'first'), [-2,-1])],\n",
    "    remainder='passthrough'\n",
    ")\n",
    "\n",
    "# We fit preprocessor on X2, however we do not transform X2 as train_test_split do not accept sparse matrices\n",
    "preprocessor.fit(X3)\n"
   ]
  },
  {
   "cell_type": "code",
   "execution_count": 22,
   "metadata": {},
   "outputs": [
    {
     "data": {
      "text/plain": [
       "LinearRegression()"
      ]
     },
     "execution_count": 22,
     "metadata": {},
     "output_type": "execute_result"
    }
   ],
   "source": [
    "X3_train, X3_test, y3_train, y3_test = train_test_split(X3, y2, test_size = 0.3, random_state = 0)\n",
    "\n",
    "X3_train = preprocessor.transform(X3_train)\n",
    "X3_test = preprocessor.transform(X3_test)\n",
    "\n",
    "LR3 = LinearRegression()\n",
    "LR3.fit(X3_train, y3_train)"
   ]
  },
  {
   "cell_type": "code",
   "execution_count": 23,
   "metadata": {},
   "outputs": [
    {
     "name": "stdout",
     "output_type": "stream",
     "text": [
      "accuracy on training set :  0.5447273546642631\n",
      "accuracy on test set :  0.5281282860147214\n"
     ]
    }
   ],
   "source": [
    "y3_test_pred = LR3.predict(X3_test).squeeze()\n",
    "y3_train_pred = LR3.predict(X3_train).squeeze()\n",
    "\n",
    "y3_test_pred_res = transform_goalsDiff_to_results(y3_test_pred)\n",
    "y3_train_pred_res = transform_goalsDiff_to_results(y3_train_pred)\n",
    "y3_test_res = transform_goalsDiff_to_results(y3_test.values)\n",
    "y3_train_res = transform_goalsDiff_to_results(y3_train.values)\n",
    "\n",
    "print(\"accuracy on training set : \", accuracy_score(y3_train_res, y3_train_pred_res))\n",
    "print(\"accuracy on test set : \", accuracy_score(y3_test_res, y3_test_pred_res))"
   ]
  },
  {
   "cell_type": "code",
   "execution_count": 24,
   "metadata": {},
   "outputs": [
    {
     "name": "stdout",
     "output_type": "stream",
     "text": [
      "accuracy :  0.4857255520504732\n"
     ]
    }
   ],
   "source": [
    "cvp3 = cross_val_predict(LinearRegression(), preprocessor.transform(X3), y2)\n",
    "y3_pred_res = transform_goalsDiff_to_results(cvp3)\n",
    "print(\"accuracy : \", accuracy_score(y3_pred_res, games.homeRes))"
   ]
  },
  {
   "cell_type": "markdown",
   "metadata": {},
   "source": [
    "# MODEL 4\n",
    "<b> using all the features from the previous model"
   ]
  },
  {
   "cell_type": "code",
   "execution_count": 25,
   "metadata": {},
   "outputs": [
    {
     "data": {
      "text/html": [
       "<div>\n",
       "<style scoped>\n",
       "    .dataframe tbody tr th:only-of-type {\n",
       "        vertical-align: middle;\n",
       "    }\n",
       "\n",
       "    .dataframe tbody tr th {\n",
       "        vertical-align: top;\n",
       "    }\n",
       "\n",
       "    .dataframe thead th {\n",
       "        text-align: right;\n",
       "    }\n",
       "</style>\n",
       "<table border=\"1\" class=\"dataframe\">\n",
       "  <thead>\n",
       "    <tr style=\"text-align: right;\">\n",
       "      <th></th>\n",
       "      <th>0</th>\n",
       "      <th>1</th>\n",
       "      <th>2</th>\n",
       "      <th>3</th>\n",
       "      <th>4</th>\n",
       "      <th>5</th>\n",
       "      <th>xGoals_h</th>\n",
       "      <th>xGoalsChain_h</th>\n",
       "      <th>xGoalsBuildup_h</th>\n",
       "      <th>xAssists_h</th>\n",
       "      <th>xGoals_a</th>\n",
       "      <th>xGoalsChain_a</th>\n",
       "      <th>xGoalsBuildup_a</th>\n",
       "      <th>xAssists_a</th>\n",
       "      <th>away_team</th>\n",
       "      <th>home_team</th>\n",
       "    </tr>\n",
       "  </thead>\n",
       "  <tbody>\n",
       "    <tr>\n",
       "      <th>0</th>\n",
       "      <td>3</td>\n",
       "      <td>0</td>\n",
       "      <td>0</td>\n",
       "      <td>0</td>\n",
       "      <td>0</td>\n",
       "      <td>0</td>\n",
       "      <td>0.057049</td>\n",
       "      <td>0.107573</td>\n",
       "      <td>0.071012</td>\n",
       "      <td>0.025907</td>\n",
       "      <td>0.061429</td>\n",
       "      <td>0.143940</td>\n",
       "      <td>0.061746</td>\n",
       "      <td>0.050608</td>\n",
       "      <td>82</td>\n",
       "      <td>89</td>\n",
       "    </tr>\n",
       "    <tr>\n",
       "      <th>1</th>\n",
       "      <td>0</td>\n",
       "      <td>0</td>\n",
       "      <td>0</td>\n",
       "      <td>0</td>\n",
       "      <td>0</td>\n",
       "      <td>0</td>\n",
       "      <td>0.079646</td>\n",
       "      <td>0.196319</td>\n",
       "      <td>0.106445</td>\n",
       "      <td>0.038180</td>\n",
       "      <td>0.032679</td>\n",
       "      <td>0.107775</td>\n",
       "      <td>0.066983</td>\n",
       "      <td>0.050972</td>\n",
       "      <td>71</td>\n",
       "      <td>73</td>\n",
       "    </tr>\n",
       "    <tr>\n",
       "      <th>2</th>\n",
       "      <td>0</td>\n",
       "      <td>0</td>\n",
       "      <td>0</td>\n",
       "      <td>0</td>\n",
       "      <td>0</td>\n",
       "      <td>0</td>\n",
       "      <td>0.041633</td>\n",
       "      <td>0.078184</td>\n",
       "      <td>0.044866</td>\n",
       "      <td>0.048170</td>\n",
       "      <td>0.040389</td>\n",
       "      <td>0.166683</td>\n",
       "      <td>0.093690</td>\n",
       "      <td>0.036977</td>\n",
       "      <td>90</td>\n",
       "      <td>72</td>\n",
       "    </tr>\n",
       "    <tr>\n",
       "      <th>3</th>\n",
       "      <td>0</td>\n",
       "      <td>0</td>\n",
       "      <td>0</td>\n",
       "      <td>0</td>\n",
       "      <td>0</td>\n",
       "      <td>0</td>\n",
       "      <td>0.233457</td>\n",
       "      <td>0.608535</td>\n",
       "      <td>0.340174</td>\n",
       "      <td>0.145980</td>\n",
       "      <td>0.058666</td>\n",
       "      <td>0.533865</td>\n",
       "      <td>0.416345</td>\n",
       "      <td>0.117171</td>\n",
       "      <td>77</td>\n",
       "      <td>75</td>\n",
       "    </tr>\n",
       "    <tr>\n",
       "      <th>4</th>\n",
       "      <td>0</td>\n",
       "      <td>0</td>\n",
       "      <td>0</td>\n",
       "      <td>0</td>\n",
       "      <td>0</td>\n",
       "      <td>0</td>\n",
       "      <td>0.097121</td>\n",
       "      <td>0.172641</td>\n",
       "      <td>0.061029</td>\n",
       "      <td>0.030727</td>\n",
       "      <td>0.180785</td>\n",
       "      <td>0.932923</td>\n",
       "      <td>0.734567</td>\n",
       "      <td>0.186426</td>\n",
       "      <td>78</td>\n",
       "      <td>79</td>\n",
       "    </tr>\n",
       "  </tbody>\n",
       "</table>\n",
       "</div>"
      ],
      "text/plain": [
       "   0  1  2  3  4  5  xGoals_h  xGoalsChain_h  xGoalsBuildup_h  xAssists_h  \\\n",
       "0  3  0  0  0  0  0  0.057049       0.107573         0.071012    0.025907   \n",
       "1  0  0  0  0  0  0  0.079646       0.196319         0.106445    0.038180   \n",
       "2  0  0  0  0  0  0  0.041633       0.078184         0.044866    0.048170   \n",
       "3  0  0  0  0  0  0  0.233457       0.608535         0.340174    0.145980   \n",
       "4  0  0  0  0  0  0  0.097121       0.172641         0.061029    0.030727   \n",
       "\n",
       "   xGoals_a  xGoalsChain_a  xGoalsBuildup_a  xAssists_a  away_team  home_team  \n",
       "0  0.061429       0.143940         0.061746    0.050608         82         89  \n",
       "1  0.032679       0.107775         0.066983    0.050972         71         73  \n",
       "2  0.040389       0.166683         0.093690    0.036977         90         72  \n",
       "3  0.058666       0.533865         0.416345    0.117171         77         75  \n",
       "4  0.180785       0.932923         0.734567    0.186426         78         79  "
      ]
     },
     "execution_count": 25,
     "metadata": {},
     "output_type": "execute_result"
    }
   ],
   "source": [
    "X4 = pd.concat([X2.drop(['homeTeamID','awayTeamID'], axis = 1), X3], axis=1)\n",
    "X4.head()"
   ]
  },
  {
   "cell_type": "code",
   "execution_count": 26,
   "metadata": {},
   "outputs": [
    {
     "data": {
      "text/plain": [
       "LinearRegression()"
      ]
     },
     "execution_count": 26,
     "metadata": {},
     "output_type": "execute_result"
    }
   ],
   "source": [
    "preprocessor = ColumnTransformer(\n",
    "    transformers = [('teams_one_hot', OneHotEncoder(drop = 'first'), [-2,-1])],\n",
    "    remainder='passthrough'\n",
    ")\n",
    "\n",
    "preprocessor.fit(X4)\n",
    "\n",
    "X4_train, X4_test, y4_train, y4_test = train_test_split(X4, y2, test_size = 0.3, random_state = 0)\n",
    "\n",
    "X4_train = preprocessor.transform(X4_train)\n",
    "X4_test = preprocessor.transform(X4_test)\n",
    "\n",
    "LR4 = LinearRegression()\n",
    "LR4.fit(X4_train, y4_train)"
   ]
  },
  {
   "cell_type": "code",
   "execution_count": 27,
   "metadata": {},
   "outputs": [
    {
     "name": "stdout",
     "output_type": "stream",
     "text": [
      "accuracy on training set :  0.5466426318161334\n",
      "accuracy on test set :  0.5289169295478444\n"
     ]
    }
   ],
   "source": [
    "y4_test_pred = LR4.predict(X4_test).squeeze()\n",
    "y4_train_pred = LR4.predict(X4_train).squeeze()\n",
    "\n",
    "y4_test_pred_res = transform_goalsDiff_to_results(y4_test_pred)\n",
    "y4_train_pred_res = transform_goalsDiff_to_results(y4_train_pred)\n",
    "y4_test_res = transform_goalsDiff_to_results(y4_test.values)\n",
    "y4_train_res = transform_goalsDiff_to_results(y4_train.values)\n",
    "\n",
    "print(\"accuracy on training set : \", accuracy_score(y4_train_res, y4_train_pred_res))\n",
    "print(\"accuracy on test set : \", accuracy_score(y4_test_res, y4_test_pred_res))"
   ]
  },
  {
   "cell_type": "code",
   "execution_count": 28,
   "metadata": {},
   "outputs": [
    {
     "name": "stdout",
     "output_type": "stream",
     "text": [
      "accuracy :  0.48541009463722395\n"
     ]
    }
   ],
   "source": [
    "cvp4 = cross_val_predict(LinearRegression(), preprocessor.transform(X4), y2)\n",
    "y4_pred_res = transform_goalsDiff_to_results(cvp4)\n",
    "print(\"accuracy : \", accuracy_score(y4_pred_res, games.homeRes))"
   ]
  }
 ],
 "metadata": {
  "kernelspec": {
   "display_name": "Python 3",
   "language": "python",
   "name": "python3"
  },
  "language_info": {
   "codemirror_mode": {
    "name": "ipython",
    "version": 3
   },
   "file_extension": ".py",
   "mimetype": "text/x-python",
   "name": "python",
   "nbconvert_exporter": "python",
   "pygments_lexer": "ipython3",
   "version": "3.8.6"
  }
 },
 "nbformat": 4,
 "nbformat_minor": 4
}
