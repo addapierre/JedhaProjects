{
 "cells": [
  {
   "cell_type": "code",
   "execution_count": 1,
   "metadata": {},
   "outputs": [],
   "source": [
    "import pandas as pd\n",
    "from tqdm import tqdm\n",
    "tqdm.pandas()\n",
    "pd.options.display.max_columns=None\n",
    "\n",
    "import numpy as np\n",
    "\n",
    "import tensorflow as tf\n",
    "\n",
    "from sklearn.model_selection import train_test_split\n",
    "from sklearn.metrics import confusion_matrix, ConfusionMatrixDisplay\n",
    "\n",
    "import matplotlib.pyplot as plt\n",
    "import pickle\n"
   ]
  },
  {
   "cell_type": "code",
   "execution_count": 312,
   "metadata": {},
   "outputs": [
    {
     "data": {
      "text/html": [
       "Finishing last run (ID:2mvh8c3t) before initializing another..."
      ],
      "text/plain": [
       "<IPython.core.display.HTML object>"
      ]
     },
     "metadata": {},
     "output_type": "display_data"
    },
    {
     "data": {
      "text/html": [
       "<br/>Waiting for W&B process to finish, PID 28807... <strong style=\"color:green\">(success).</strong>"
      ],
      "text/plain": [
       "<IPython.core.display.HTML object>"
      ]
     },
     "metadata": {},
     "output_type": "display_data"
    },
    {
     "data": {
      "application/vnd.jupyter.widget-view+json": {
       "model_id": "347814f4003e4bd3828e9d9cda454efc",
       "version_major": 2,
       "version_minor": 0
      },
      "text/plain": [
       "VBox(children=(Label(value=' 0.00MB of 0.00MB uploaded (0.00MB deduped)\\r'), FloatProgress(value=1.0, max=1.0)…"
      ]
     },
     "metadata": {},
     "output_type": "display_data"
    },
    {
     "data": {
      "text/html": [
       "<style>\n",
       "    table.wandb td:nth-child(1) { padding: 0 10px; text-align: right }\n",
       "    .wandb-row { display: flex; flex-direction: row; flex-wrap: wrap; width: 100% }\n",
       "    .wandb-col { display: flex; flex-direction: column; flex-basis: 100%; flex: 1; padding: 10px; }\n",
       "    </style>\n",
       "<div class=\"wandb-row\"><div class=\"wandb-col\">\n",
       "</div><div class=\"wandb-col\">\n",
       "</div></div>\n",
       "Synced 5 W&B file(s), 0 media file(s), 0 artifact file(s) and 0 other file(s)\n",
       "<br/>Synced <strong style=\"color:#cdcd00\">stellar-dream-2</strong>: <a href=\"https://wandb.ai/padda/foot_LSTM_only_with_regularization/runs/2mvh8c3t\" target=\"_blank\">https://wandb.ai/padda/foot_LSTM_only_with_regularization/runs/2mvh8c3t</a><br/>\n",
       "Find logs at: <code>./wandb/run-20220121_093041-2mvh8c3t/logs</code><br/>\n"
      ],
      "text/plain": [
       "<IPython.core.display.HTML object>"
      ]
     },
     "metadata": {},
     "output_type": "display_data"
    },
    {
     "data": {
      "text/html": [
       "Successfully finished last run (ID:2mvh8c3t). Initializing new run:<br/>"
      ],
      "text/plain": [
       "<IPython.core.display.HTML object>"
      ]
     },
     "metadata": {},
     "output_type": "display_data"
    },
    {
     "data": {
      "text/html": [
       "\n",
       "                    Syncing run <strong><a href=\"https://wandb.ai/padda/foot_LSTM_only_with_regularization/runs/3c0q4xp3\" target=\"_blank\">misunderstood-star-3</a></strong> to <a href=\"https://wandb.ai/padda/foot_LSTM_only_with_regularization\" target=\"_blank\">Weights & Biases</a> (<a href=\"https://docs.wandb.com/integrations/jupyter.html\" target=\"_blank\">docs</a>).<br/>\n",
       "\n",
       "                "
      ],
      "text/plain": [
       "<IPython.core.display.HTML object>"
      ]
     },
     "metadata": {},
     "output_type": "display_data"
    },
    {
     "data": {
      "text/html": [
       "<button onClick=\"this.nextSibling.style.display='block';this.style.display='none';\">Display W&B run</button><iframe src=\"https://wandb.ai/padda/foot_LSTM_only_with_regularization/runs/3c0q4xp3?jupyter=true\" style=\"border:none;width:100%;height:420px;display:none;\"></iframe>"
      ],
      "text/plain": [
       "<wandb.sdk.wandb_run.Run at 0x19023b340>"
      ]
     },
     "execution_count": 312,
     "metadata": {},
     "output_type": "execute_result"
    }
   ],
   "source": [
    "import wandb\n",
    "from wandb.keras import WandbCallback\n",
    "\n",
    "wandb.init(project=\"foot_LSTM_only_with_regularization\", entity=\"padda\")"
   ]
  },
  {
   "cell_type": "code",
   "execution_count": 3,
   "metadata": {},
   "outputs": [],
   "source": [
    "def cm_metrics(true_label,pred_label, labels_):\n",
    "  cm = confusion_matrix(true_label,pred_label,labels = labels_)\n",
    "  cmDisp = ConfusionMatrixDisplay(cm,display_labels=labels_)\n",
    "  recall = { i:cm[i][i]/cm[i].sum()  for i in range(len(cm))}\n",
    "  precision = { i:cm[i][i]/cm[:,i].sum()  for i in range(len(cm))}\n",
    "  F1_score = { i: 2 / (1/recall[i] + 1/precision[i]) for i in range(len(cm))}\n",
    "  accuracy = (cm[0][0]+cm[1][1]+cm[2][2])/cm.sum()\n",
    "  print('accuracy: ', accuracy)\n",
    "  print('Recall: \\n',recall,'\\nPrecision: \\n', precision,'\\nF1-score: \\n',F1_score)\n",
    "  cmDisp.plot()\n",
    "  plt.show()\n",
    "  return None"
   ]
  },
  {
   "cell_type": "code",
   "execution_count": 4,
   "metadata": {},
   "outputs": [],
   "source": [
    "home_history = pd.read_csv('../data/train_LSTM/home_history_full.csv', index_col = 0,\\\n",
    "    dtype={'home_id' : np.int32, 'game_id' : np.int32, 'H_goals' : np.int8, 'H_goals_conceded' : np.int8,\\\n",
    "         'H_HorA' : np.int8, 'H_yellow_cards' : np.int8, 'H_red_cards' : np.int8}\\\n",
    "    )"
   ]
  },
  {
   "cell_type": "code",
   "execution_count": 5,
   "metadata": {},
   "outputs": [],
   "source": [
    "away_history = pd.read_csv('../data/train_LSTM/away_history_full.csv', index_col = 0,\\\n",
    "    dtype={'away_id' : np.int32, 'game_id' : np.int32, 'A_goals' : np.int8, 'A_goals_conceded' : np.int8,\\\n",
    "         'A_HorA' : np.int8, 'A_yellow_cards' : np.int8, 'A_red_cards' : np.int8}\\\n",
    "    )"
   ]
  },
  {
   "cell_type": "code",
   "execution_count": 6,
   "metadata": {},
   "outputs": [],
   "source": [
    "games = pd.read_csv('../../data/games/games.csv',\\\n",
    "        usecols=['game_id','home_club_id', 'away_club_id','home_club_goals', 'away_club_goals'],\\\n",
    "        dtype = {'game_id' : np.int32, 'home_club_id' : np.int32, 'away_club_id' : np.int32,\\\n",
    "                'home_club_goals' : np.int8, 'away_club_goals' : np.int8})"
   ]
  },
  {
   "cell_type": "code",
   "execution_count": 7,
   "metadata": {},
   "outputs": [
    {
     "data": {
      "text/html": [
       "<div>\n",
       "<style scoped>\n",
       "    .dataframe tbody tr th:only-of-type {\n",
       "        vertical-align: middle;\n",
       "    }\n",
       "\n",
       "    .dataframe tbody tr th {\n",
       "        vertical-align: top;\n",
       "    }\n",
       "\n",
       "    .dataframe thead th {\n",
       "        text-align: right;\n",
       "    }\n",
       "</style>\n",
       "<table border=\"1\" class=\"dataframe\">\n",
       "  <thead>\n",
       "    <tr style=\"text-align: right;\">\n",
       "      <th></th>\n",
       "      <th>game_id</th>\n",
       "      <th>home_id</th>\n",
       "    </tr>\n",
       "  </thead>\n",
       "  <tbody>\n",
       "    <tr>\n",
       "      <th>37318</th>\n",
       "      <td>3631969</td>\n",
       "      <td>20</td>\n",
       "    </tr>\n",
       "    <tr>\n",
       "      <th>37427</th>\n",
       "      <td>3646046</td>\n",
       "      <td>20</td>\n",
       "    </tr>\n",
       "    <tr>\n",
       "      <th>37432</th>\n",
       "      <td>3646057</td>\n",
       "      <td>20</td>\n",
       "    </tr>\n",
       "  </tbody>\n",
       "</table>\n",
       "</div>"
      ],
      "text/plain": [
       "       game_id  home_id\n",
       "37318  3631969       20\n",
       "37427  3646046       20\n",
       "37432  3646057       20"
      ]
     },
     "metadata": {},
     "output_type": "display_data"
    },
    {
     "data": {
      "text/html": [
       "<div>\n",
       "<style scoped>\n",
       "    .dataframe tbody tr th:only-of-type {\n",
       "        vertical-align: middle;\n",
       "    }\n",
       "\n",
       "    .dataframe tbody tr th {\n",
       "        vertical-align: top;\n",
       "    }\n",
       "\n",
       "    .dataframe thead th {\n",
       "        text-align: right;\n",
       "    }\n",
       "</style>\n",
       "<table border=\"1\" class=\"dataframe\">\n",
       "  <thead>\n",
       "    <tr style=\"text-align: right;\">\n",
       "      <th></th>\n",
       "      <th>game_id</th>\n",
       "      <th>away_id</th>\n",
       "    </tr>\n",
       "  </thead>\n",
       "  <tbody>\n",
       "    <tr>\n",
       "      <th>38030</th>\n",
       "      <td>3631968</td>\n",
       "      <td>20</td>\n",
       "    </tr>\n",
       "    <tr>\n",
       "      <th>38141</th>\n",
       "      <td>3646046</td>\n",
       "      <td>20</td>\n",
       "    </tr>\n",
       "    <tr>\n",
       "      <th>38146</th>\n",
       "      <td>3646057</td>\n",
       "      <td>20</td>\n",
       "    </tr>\n",
       "  </tbody>\n",
       "</table>\n",
       "</div>"
      ],
      "text/plain": [
       "       game_id  away_id\n",
       "38030  3631968       20\n",
       "38141  3646046       20\n",
       "38146  3646057       20"
      ]
     },
     "metadata": {},
     "output_type": "display_data"
    }
   ],
   "source": [
    "#ATTENTION: certaines parties apparaissent en double dans games.csv\n",
    "tt = home_history.groupby('game_id')['home_id'].count().reset_index()\n",
    "display(tt.loc[tt.home_id==20,:])\n",
    "# ça nous casse les pieds on va s'en débarasser, il n'y en a que trois, on les jarte\n",
    "home_history.drop(home_history.loc[home_history.game_id.isin( tt.loc[tt.home_id>10,'game_id'] ), :].index,inplace = True)\n",
    "\n",
    "\n",
    "#idem pour away_history\n",
    "\n",
    "tt = away_history.groupby('game_id')['away_id'].count().reset_index()\n",
    "display(tt.loc[tt.away_id==20,:])\n",
    "away_history.drop(away_history.loc[away_history.game_id.isin( tt.loc[tt.away_id>10,'game_id'] ), :].index,inplace = True)\n"
   ]
  },
  {
   "cell_type": "code",
   "execution_count": 237,
   "metadata": {},
   "outputs": [
    {
     "data": {
      "text/html": [
       "<div>\n",
       "<style scoped>\n",
       "    .dataframe tbody tr th:only-of-type {\n",
       "        vertical-align: middle;\n",
       "    }\n",
       "\n",
       "    .dataframe tbody tr th {\n",
       "        vertical-align: top;\n",
       "    }\n",
       "\n",
       "    .dataframe thead th {\n",
       "        text-align: right;\n",
       "    }\n",
       "</style>\n",
       "<table border=\"1\" class=\"dataframe\">\n",
       "  <thead>\n",
       "    <tr style=\"text-align: right;\">\n",
       "      <th></th>\n",
       "      <th>game_id</th>\n",
       "      <th>home_club_id</th>\n",
       "      <th>away_club_id</th>\n",
       "      <th>home_club_goals</th>\n",
       "      <th>away_club_goals</th>\n",
       "      <th>home_result</th>\n",
       "    </tr>\n",
       "  </thead>\n",
       "  <tbody>\n",
       "    <tr>\n",
       "      <th>0</th>\n",
       "      <td>2457642</td>\n",
       "      <td>1269</td>\n",
       "      <td>610</td>\n",
       "      <td>1</td>\n",
       "      <td>0</td>\n",
       "      <td>0</td>\n",
       "    </tr>\n",
       "  </tbody>\n",
       "</table>\n",
       "</div>"
      ],
      "text/plain": [
       "   game_id  home_club_id  away_club_id  home_club_goals  away_club_goals  \\\n",
       "0  2457642          1269           610                1                0   \n",
       "\n",
       "   home_result  \n",
       "0            0  "
      ]
     },
     "execution_count": 237,
     "metadata": {},
     "output_type": "execute_result"
    }
   ],
   "source": [
    "games.head(1)"
   ]
  },
  {
   "cell_type": "code",
   "execution_count": 8,
   "metadata": {},
   "outputs": [],
   "source": [
    "\n",
    "# on rajoute des 0 et des 1 au début de chaque ligne pour indiquer si il y a un match ou pas\n",
    "# on inverse le game_history avec np.flip(game_history,axis=1) pour classer les matches du plus ancien au plus récent\n",
    "# Cela dit l'expérience montre que cette inversion n'a pas énormément d'impact sur les performances du modèle... \n",
    "\n",
    "def make_home_train(game_id):\n",
    "    game_history = home_history.loc[home_history.game_id == game_id,:].drop(columns=['home_id','game_id'])\n",
    "    if (n_lines := game_history.shape[0]) == 0:\n",
    "        return np.zeros((10,6)).astype(np.int8)\n",
    "    else:\n",
    "        return np.vstack(( np.zeros((10-n_lines,6)) , np.hstack(( np.ones((n_lines,1)) , np.flip(game_history.to_numpy(),axis=1))) )).astype(np.int8)"
   ]
  },
  {
   "cell_type": "code",
   "execution_count": 9,
   "metadata": {},
   "outputs": [
    {
     "name": "stderr",
     "output_type": "stream",
     "text": [
      "100%|██████████| 42592/42592 [00:43<00:00, 989.51it/s] \n"
     ]
    }
   ],
   "source": [
    "train_home = games.game_id.progress_apply(make_home_train)\n",
    "train_home = np.stack(train_home.values)"
   ]
  },
  {
   "cell_type": "code",
   "execution_count": 11,
   "metadata": {},
   "outputs": [],
   "source": [
    "def make_away_train(game_id):\n",
    "    game_history = away_history.loc[away_history.game_id == game_id,:].drop(columns=['away_id','game_id'])\n",
    "    if (n_lines := game_history.shape[0]) == 0:\n",
    "        return np.zeros((10,6)).astype(np.int8)\n",
    "    else:\n",
    "        return np.vstack(( np.zeros((10-n_lines,6)) , np.hstack(( np.ones((n_lines,1)) , np.flip(game_history.to_numpy(),axis=1))) )).astype(np.int8)\n",
    "\n",
    "train_away = games.game_id.progress_apply(make_away_train)\n",
    "train_away = np.stack(train_away.values)"
   ]
  },
  {
   "cell_type": "code",
   "execution_count": 12,
   "metadata": {},
   "outputs": [
    {
     "name": "stderr",
     "output_type": "stream",
     "text": [
      "100%|██████████| 42592/42592 [00:44<00:00, 955.93it/s] \n"
     ]
    }
   ],
   "source": []
  },
  {
   "cell_type": "code",
   "execution_count": 14,
   "metadata": {},
   "outputs": [],
   "source": [
    "games['home_result'] = games.apply(lambda x : 0 if x['home_club_goals'] > x['away_club_goals']\\\n",
    "    else ( 1 if x['home_club_goals'] == x['away_club_goals'] else 2)  \\\n",
    "    , axis = 1)"
   ]
  },
  {
   "cell_type": "code",
   "execution_count": 15,
   "metadata": {},
   "outputs": [
    {
     "data": {
      "text/plain": [
       "((42592, 10, 6), (42592, 10, 6), (42592,))"
      ]
     },
     "execution_count": 15,
     "metadata": {},
     "output_type": "execute_result"
    }
   ],
   "source": [
    "train_away.shape, train_home.shape, games.home_result.shape"
   ]
  },
  {
   "cell_type": "code",
   "execution_count": 323,
   "metadata": {},
   "outputs": [],
   "source": [
    "X = np.stack((train_away, train_home))\n",
    "y = games.home_result.values\n",
    "XH_train, XH_test, XA_train, XA_test, y_train, y_test = train_test_split(train_home, train_away, y, test_size = 0.25, random_state=0, stratify=y)"
   ]
  },
  {
   "cell_type": "code",
   "execution_count": null,
   "metadata": {},
   "outputs": [],
   "source": []
  },
  {
   "cell_type": "code",
   "execution_count": 324,
   "metadata": {},
   "outputs": [],
   "source": [
    "class DataGenerator(tf.keras.utils.Sequence):\n",
    "  def __init__(self, xh_data, xa_data, y_data, batch_size):\n",
    "    self.xh,self.xa, self.y = xh_data, xa_data, y_data\n",
    "    self.batch_size = batch_size\n",
    "    self.num_batches = np.ceil(len(xh_data) / batch_size)\n",
    "    self.batch_idx = np.array_split(range(len(xh_data)), self.num_batches)\n",
    "\n",
    "  def __len__(self):\n",
    "    return len(self.batch_idx)\n",
    "\n",
    "  def __getitem__(self, idx):\n",
    "    batch_xh = self.xh[self.batch_idx[idx]]\n",
    "    batch_xa = self.xa[self.batch_idx[idx]]\n",
    "    batch_y = self.y[self.batch_idx[idx]]\n",
    "    return [batch_xh,batch_xa], batch_y\n",
    "\n",
    "train_generator = DataGenerator(XH_train, XA_train, y_train, batch_size = 128)\n",
    "val_generator = DataGenerator(XH_test, XA_test, y_test, batch_size = 32)\n"
   ]
  },
  {
   "cell_type": "markdown",
   "metadata": {},
   "source": [
    "# Modèle LSTM"
   ]
  },
  {
   "cell_type": "code",
   "execution_count": 173,
   "metadata": {},
   "outputs": [],
   "source": [
    "from tensorflow.keras.regularizers import L2, L1L2\n"
   ]
  },
  {
   "cell_type": "code",
   "execution_count": 408,
   "metadata": {},
   "outputs": [],
   "source": [
    "# architecture relativement satisfaisante, de toutes façon en l'état il est relativement impossible de dépasser une accuracy de 52% sur les données de validation\n",
    "# à noter que 2 couches de LSTM n'apportent que de l'overfitting\n",
    "\n",
    "\n",
    "home_input = tf.keras.Input(shape = (10,6) , name = 'home_train_input')\n",
    "#home_LSTM_1 = tf.keras.layers.LSTM(64,return_sequences = True, name = 'home_LSTM_1')(home_input)\n",
    "home_LSTM_2 = tf.keras.layers.LSTM(32, kernel_regularizer = L1L2(l1=0.01, l2=0.01), name = 'home_LSTM_2')(home_input)\n",
    "\n",
    "\n",
    "away_input = tf.keras.Input(shape = (10,6), name = 'away_train_input')\n",
    "#away_LSTM_1 = tf.keras.layers.LSTM(64,return_sequences = True, name = 'away_LSTM_1')(away_input)\n",
    "away_LSTM_2 = tf.keras.layers.LSTM(32, kernel_regularizer = L1L2(l1=0.01, l2=0.01), name = 'away_LSTM_2')(away_input)\n",
    "\n",
    "h_a = tf.keras.layers.Concatenate()([home_LSTM_2,away_LSTM_2])\n",
    "h_a = tf.keras.layers.Dropout(0.234375)(h_a)\n",
    "Dense1 = tf.keras.layers.Dense(64,'relu',name='Dense1')(h_a)\n",
    "Dense1 = tf.keras.layers.Dropout(0.234375)(Dense1)\n",
    "Dense2 = tf.keras.layers.Dense(16,'relu',name='Dense2')(Dense1)\n",
    "Dense2 = tf.keras.layers.Dropout(0.125)(Dense2)\n",
    "Dense_output = tf.keras.layers.Dense(3, 'softmax', name='output')(Dense2)"
   ]
  },
  {
   "cell_type": "code",
   "execution_count": 409,
   "metadata": {},
   "outputs": [],
   "source": [
    "model_lstm = tf.keras.Model(inputs=[home_input,away_input], outputs=Dense_output)"
   ]
  },
  {
   "cell_type": "code",
   "execution_count": 176,
   "metadata": {},
   "outputs": [],
   "source": [
    "from tensorflow.keras.optimizers import Adam\n",
    "from tensorflow.keras.losses import SparseCategoricalCrossentropy\n",
    "\n",
    "\n"
   ]
  },
  {
   "cell_type": "code",
   "execution_count": 410,
   "metadata": {},
   "outputs": [],
   "source": [
    "opt = Adam(0.0003)\n",
    "loss = SparseCategoricalCrossentropy()\n",
    "metric = tf.keras.metrics.SparseCategoricalAccuracy()\n",
    "model_lstm.compile(optimizer=opt, loss=loss, metrics = [metric])"
   ]
  },
  {
   "cell_type": "code",
   "execution_count": 163,
   "metadata": {},
   "outputs": [],
   "source": [
    "full_generator = DataGenerator(train_home, train_away, y, batch_size = 128)\n"
   ]
  },
  {
   "cell_type": "code",
   "execution_count": 411,
   "metadata": {},
   "outputs": [
    {
     "data": {
      "text/html": [
       "Finishing last run (ID:3wgo0yy1) before initializing another..."
      ],
      "text/plain": [
       "<IPython.core.display.HTML object>"
      ]
     },
     "metadata": {},
     "output_type": "display_data"
    },
    {
     "data": {
      "text/html": [
       "<br/>Waiting for W&B process to finish, PID 31376... <strong style=\"color:green\">(success).</strong>"
      ],
      "text/plain": [
       "<IPython.core.display.HTML object>"
      ]
     },
     "metadata": {},
     "output_type": "display_data"
    },
    {
     "data": {
      "application/vnd.jupyter.widget-view+json": {
       "model_id": "edc5d66c6ad84b5ba9c93e4549d0400a",
       "version_major": 2,
       "version_minor": 0
      },
      "text/plain": [
       "VBox(children=(Label(value=' 0.26MB of 0.26MB uploaded (0.00MB deduped)\\r'), FloatProgress(value=1.0, max=1.0)…"
      ]
     },
     "metadata": {},
     "output_type": "display_data"
    },
    {
     "data": {
      "text/html": [
       "<style>\n",
       "    table.wandb td:nth-child(1) { padding: 0 10px; text-align: right }\n",
       "    .wandb-row { display: flex; flex-direction: row; flex-wrap: wrap; width: 100% }\n",
       "    .wandb-col { display: flex; flex-direction: column; flex-basis: 100%; flex: 1; padding: 10px; }\n",
       "    </style>\n",
       "<div class=\"wandb-row\"><div class=\"wandb-col\">\n",
       "<h3>Run history:</h3><br/><table class=\"wandb\"><tr><td>epoch</td><td>▁</td></tr><tr><td>loss</td><td>▁</td></tr><tr><td>sparse_categorical_accuracy</td><td>▁</td></tr><tr><td>val_loss</td><td>▁</td></tr><tr><td>val_sparse_categorical_accuracy</td><td>▁</td></tr></table><br/></div><div class=\"wandb-col\">\n",
       "<h3>Run summary:</h3><br/><table class=\"wandb\"><tr><td>best_epoch</td><td>0</td></tr><tr><td>best_val_loss</td><td>1.12669</td></tr><tr><td>epoch</td><td>0</td></tr><tr><td>loss</td><td>1.18129</td></tr><tr><td>sparse_categorical_accuracy</td><td>0.51215</td></tr><tr><td>val_loss</td><td>1.12669</td></tr><tr><td>val_sparse_categorical_accuracy</td><td>0.51209</td></tr></table>\n",
       "</div></div>\n",
       "Synced 6 W&B file(s), 1 media file(s), 0 artifact file(s) and 1 other file(s)\n",
       "<br/>Synced <strong style=\"color:#cdcd00\">lucky-grass-11</strong>: <a href=\"https://wandb.ai/padda/foot_LSTM_only_with_regularization2/runs/3wgo0yy1\" target=\"_blank\">https://wandb.ai/padda/foot_LSTM_only_with_regularization2/runs/3wgo0yy1</a><br/>\n",
       "Find logs at: <code>./wandb/run-20220122_094059-3wgo0yy1/logs</code><br/>\n"
      ],
      "text/plain": [
       "<IPython.core.display.HTML object>"
      ]
     },
     "metadata": {},
     "output_type": "display_data"
    },
    {
     "data": {
      "text/html": [
       "Successfully finished last run (ID:3wgo0yy1). Initializing new run:<br/>"
      ],
      "text/plain": [
       "<IPython.core.display.HTML object>"
      ]
     },
     "metadata": {},
     "output_type": "display_data"
    },
    {
     "data": {
      "text/html": [
       "\n",
       "                    Syncing run <strong><a href=\"https://wandb.ai/padda/foot_LSTM_only_with_regularization2/runs/3fykv423\" target=\"_blank\">quiet-bush-12</a></strong> to <a href=\"https://wandb.ai/padda/foot_LSTM_only_with_regularization2\" target=\"_blank\">Weights & Biases</a> (<a href=\"https://docs.wandb.com/integrations/jupyter.html\" target=\"_blank\">docs</a>).<br/>\n",
       "\n",
       "                "
      ],
      "text/plain": [
       "<IPython.core.display.HTML object>"
      ]
     },
     "metadata": {},
     "output_type": "display_data"
    },
    {
     "name": "stdout",
     "output_type": "stream",
     "text": [
      "Epoch 1/200\n",
      "250/250 [==============================] - 13s 24ms/step - loss: 2.3057 - sparse_categorical_accuracy: 0.4698 - val_loss: 1.7938 - val_sparse_categorical_accuracy: 0.5054\n",
      "Epoch 2/200\n",
      "250/250 [==============================] - 4s 16ms/step - loss: 1.4878 - sparse_categorical_accuracy: 0.4992 - val_loss: 1.2318 - val_sparse_categorical_accuracy: 0.5107\n",
      "Epoch 3/200\n",
      "250/250 [==============================] - 3s 14ms/step - loss: 1.1168 - sparse_categorical_accuracy: 0.5044 - val_loss: 1.0410 - val_sparse_categorical_accuracy: 0.5124\n",
      "Epoch 4/200\n",
      "250/250 [==============================] - 4s 14ms/step - loss: 1.0353 - sparse_categorical_accuracy: 0.5084 - val_loss: 1.0247 - val_sparse_categorical_accuracy: 0.5129\n",
      "Epoch 5/200\n",
      "250/250 [==============================] - 4s 15ms/step - loss: 1.0263 - sparse_categorical_accuracy: 0.5105 - val_loss: 1.0249 - val_sparse_categorical_accuracy: 0.5076\n",
      "Epoch 6/200\n",
      "250/250 [==============================] - 4s 14ms/step - loss: 1.0203 - sparse_categorical_accuracy: 0.5084 - val_loss: 1.0153 - val_sparse_categorical_accuracy: 0.5125\n",
      "Epoch 7/200\n",
      "250/250 [==============================] - 3s 13ms/step - loss: 1.0177 - sparse_categorical_accuracy: 0.5127 - val_loss: 1.0124 - val_sparse_categorical_accuracy: 0.5151\n",
      "Epoch 8/200\n",
      "250/250 [==============================] - 3s 13ms/step - loss: 1.0141 - sparse_categorical_accuracy: 0.5108 - val_loss: 1.0110 - val_sparse_categorical_accuracy: 0.5107\n",
      "Epoch 9/200\n",
      "250/250 [==============================] - 3s 13ms/step - loss: 1.0125 - sparse_categorical_accuracy: 0.5122 - val_loss: 1.0095 - val_sparse_categorical_accuracy: 0.5131\n",
      "Epoch 10/200\n",
      "250/250 [==============================] - 3s 12ms/step - loss: 1.0107 - sparse_categorical_accuracy: 0.5118 - val_loss: 1.0076 - val_sparse_categorical_accuracy: 0.5083\n",
      "Epoch 11/200\n",
      "250/250 [==============================] - 4s 16ms/step - loss: 1.0098 - sparse_categorical_accuracy: 0.5107 - val_loss: 1.0099 - val_sparse_categorical_accuracy: 0.5101\n",
      "Epoch 12/200\n",
      "250/250 [==============================] - 3s 13ms/step - loss: 1.0079 - sparse_categorical_accuracy: 0.5112 - val_loss: 1.0098 - val_sparse_categorical_accuracy: 0.5089\n",
      "Epoch 13/200\n",
      "250/250 [==============================] - 3s 13ms/step - loss: 1.0074 - sparse_categorical_accuracy: 0.5126 - val_loss: 1.0055 - val_sparse_categorical_accuracy: 0.5131\n",
      "Epoch 14/200\n",
      "250/250 [==============================] - 3s 13ms/step - loss: 1.0065 - sparse_categorical_accuracy: 0.5122 - val_loss: 1.0071 - val_sparse_categorical_accuracy: 0.5131\n",
      "Epoch 15/200\n",
      "250/250 [==============================] - 3s 14ms/step - loss: 1.0062 - sparse_categorical_accuracy: 0.5113 - val_loss: 1.0037 - val_sparse_categorical_accuracy: 0.5156\n",
      "Epoch 16/200\n",
      "250/250 [==============================] - 4s 14ms/step - loss: 1.0053 - sparse_categorical_accuracy: 0.5126 - val_loss: 1.0042 - val_sparse_categorical_accuracy: 0.5139\n",
      "Epoch 17/200\n",
      "250/250 [==============================] - 3s 13ms/step - loss: 1.0058 - sparse_categorical_accuracy: 0.5144 - val_loss: 1.0049 - val_sparse_categorical_accuracy: 0.5048\n",
      "Epoch 18/200\n",
      "250/250 [==============================] - 3s 13ms/step - loss: 1.0049 - sparse_categorical_accuracy: 0.5146 - val_loss: 1.0035 - val_sparse_categorical_accuracy: 0.5123\n",
      "Epoch 19/200\n",
      "250/250 [==============================] - 3s 13ms/step - loss: 1.0060 - sparse_categorical_accuracy: 0.5101 - val_loss: 1.0024 - val_sparse_categorical_accuracy: 0.5154\n",
      "Epoch 20/200\n",
      "250/250 [==============================] - 3s 14ms/step - loss: 1.0033 - sparse_categorical_accuracy: 0.5136 - val_loss: 1.0028 - val_sparse_categorical_accuracy: 0.5132\n",
      "Epoch 21/200\n",
      "250/250 [==============================] - 4s 15ms/step - loss: 1.0038 - sparse_categorical_accuracy: 0.5136 - val_loss: 1.0024 - val_sparse_categorical_accuracy: 0.5072\n",
      "Epoch 22/200\n",
      "250/250 [==============================] - 4s 15ms/step - loss: 1.0037 - sparse_categorical_accuracy: 0.5142 - val_loss: 1.0024 - val_sparse_categorical_accuracy: 0.5168\n",
      "Epoch 23/200\n",
      "250/250 [==============================] - 3s 13ms/step - loss: 1.0017 - sparse_categorical_accuracy: 0.5144 - val_loss: 1.0026 - val_sparse_categorical_accuracy: 0.5168\n",
      "Epoch 24/200\n",
      "250/250 [==============================] - 3s 13ms/step - loss: 1.0020 - sparse_categorical_accuracy: 0.5140 - val_loss: 1.0019 - val_sparse_categorical_accuracy: 0.5090\n",
      "Epoch 25/200\n",
      "250/250 [==============================] - 3s 14ms/step - loss: 1.0014 - sparse_categorical_accuracy: 0.5158 - val_loss: 1.0018 - val_sparse_categorical_accuracy: 0.5175\n",
      "Epoch 26/200\n",
      "250/250 [==============================] - 4s 14ms/step - loss: 1.0027 - sparse_categorical_accuracy: 0.5139 - val_loss: 1.0020 - val_sparse_categorical_accuracy: 0.5172\n",
      "Epoch 27/200\n",
      "250/250 [==============================] - 3s 12ms/step - loss: 1.0001 - sparse_categorical_accuracy: 0.5149 - val_loss: 1.0040 - val_sparse_categorical_accuracy: 0.5044\n",
      "Epoch 28/200\n",
      "250/250 [==============================] - 3s 12ms/step - loss: 1.0014 - sparse_categorical_accuracy: 0.5144 - val_loss: 1.0020 - val_sparse_categorical_accuracy: 0.5164\n",
      "Epoch 29/200\n",
      "250/250 [==============================] - 3s 14ms/step - loss: 1.0005 - sparse_categorical_accuracy: 0.5145 - val_loss: 1.0008 - val_sparse_categorical_accuracy: 0.5065\n",
      "Epoch 30/200\n",
      "250/250 [==============================] - 3s 13ms/step - loss: 0.9992 - sparse_categorical_accuracy: 0.5147 - val_loss: 1.0003 - val_sparse_categorical_accuracy: 0.5160\n",
      "Epoch 31/200\n",
      "250/250 [==============================] - 3s 12ms/step - loss: 1.0001 - sparse_categorical_accuracy: 0.5144 - val_loss: 1.0000 - val_sparse_categorical_accuracy: 0.5183\n",
      "Epoch 32/200\n",
      "250/250 [==============================] - 3s 12ms/step - loss: 1.0006 - sparse_categorical_accuracy: 0.5133 - val_loss: 0.9998 - val_sparse_categorical_accuracy: 0.5148\n",
      "Epoch 33/200\n",
      "250/250 [==============================] - 3s 12ms/step - loss: 0.9995 - sparse_categorical_accuracy: 0.5136 - val_loss: 0.9998 - val_sparse_categorical_accuracy: 0.5193\n",
      "Epoch 34/200\n",
      "250/250 [==============================] - 3s 12ms/step - loss: 1.0004 - sparse_categorical_accuracy: 0.5139 - val_loss: 1.0004 - val_sparse_categorical_accuracy: 0.5085\n",
      "Epoch 35/200\n",
      "250/250 [==============================] - 3s 12ms/step - loss: 1.0003 - sparse_categorical_accuracy: 0.5135 - val_loss: 1.0001 - val_sparse_categorical_accuracy: 0.5158\n",
      "Epoch 36/200\n",
      "250/250 [==============================] - 3s 12ms/step - loss: 1.0008 - sparse_categorical_accuracy: 0.5140 - val_loss: 1.0015 - val_sparse_categorical_accuracy: 0.5126\n",
      "Epoch 37/200\n",
      "250/250 [==============================] - 3s 12ms/step - loss: 0.9998 - sparse_categorical_accuracy: 0.5158 - val_loss: 1.0005 - val_sparse_categorical_accuracy: 0.5097\n",
      "Epoch 38/200\n",
      "250/250 [==============================] - 3s 12ms/step - loss: 0.9997 - sparse_categorical_accuracy: 0.5150 - val_loss: 1.0047 - val_sparse_categorical_accuracy: 0.5035\n",
      "Epoch 39/200\n",
      "250/250 [==============================] - 3s 12ms/step - loss: 0.9997 - sparse_categorical_accuracy: 0.5125 - val_loss: 0.9990 - val_sparse_categorical_accuracy: 0.5191\n",
      "Epoch 40/200\n",
      "250/250 [==============================] - 3s 12ms/step - loss: 1.0005 - sparse_categorical_accuracy: 0.5134 - val_loss: 0.9992 - val_sparse_categorical_accuracy: 0.5122\n",
      "Epoch 41/200\n",
      "250/250 [==============================] - 3s 12ms/step - loss: 0.9987 - sparse_categorical_accuracy: 0.5152 - val_loss: 1.0010 - val_sparse_categorical_accuracy: 0.5144\n",
      "Epoch 42/200\n",
      "250/250 [==============================] - 3s 14ms/step - loss: 0.9994 - sparse_categorical_accuracy: 0.5137 - val_loss: 1.0070 - val_sparse_categorical_accuracy: 0.5090\n",
      "Epoch 43/200\n",
      "250/250 [==============================] - 3s 12ms/step - loss: 0.9991 - sparse_categorical_accuracy: 0.5132 - val_loss: 0.9999 - val_sparse_categorical_accuracy: 0.5131\n",
      "Epoch 44/200\n",
      "250/250 [==============================] - 3s 13ms/step - loss: 0.9980 - sparse_categorical_accuracy: 0.5145 - val_loss: 0.9995 - val_sparse_categorical_accuracy: 0.5145\n",
      "Epoch 45/200\n",
      "250/250 [==============================] - 3s 12ms/step - loss: 0.9995 - sparse_categorical_accuracy: 0.5136 - val_loss: 0.9994 - val_sparse_categorical_accuracy: 0.5116\n",
      "Epoch 46/200\n",
      "250/250 [==============================] - 3s 12ms/step - loss: 0.9987 - sparse_categorical_accuracy: 0.5144 - val_loss: 0.9996 - val_sparse_categorical_accuracy: 0.5133\n",
      "Epoch 47/200\n",
      "250/250 [==============================] - 3s 12ms/step - loss: 0.9973 - sparse_categorical_accuracy: 0.5151 - val_loss: 0.9983 - val_sparse_categorical_accuracy: 0.5148\n",
      "Epoch 48/200\n",
      "250/250 [==============================] - 3s 12ms/step - loss: 0.9995 - sparse_categorical_accuracy: 0.5147 - val_loss: 0.9991 - val_sparse_categorical_accuracy: 0.5112\n",
      "Epoch 49/200\n",
      "250/250 [==============================] - 3s 12ms/step - loss: 0.9985 - sparse_categorical_accuracy: 0.5145 - val_loss: 0.9990 - val_sparse_categorical_accuracy: 0.5139\n",
      "Epoch 50/200\n",
      "250/250 [==============================] - 3s 12ms/step - loss: 0.9981 - sparse_categorical_accuracy: 0.5156 - val_loss: 0.9992 - val_sparse_categorical_accuracy: 0.5108\n",
      "Epoch 51/200\n",
      "250/250 [==============================] - 3s 12ms/step - loss: 0.9991 - sparse_categorical_accuracy: 0.5133 - val_loss: 0.9996 - val_sparse_categorical_accuracy: 0.5142\n",
      "Epoch 52/200\n",
      "250/250 [==============================] - 3s 12ms/step - loss: 0.9985 - sparse_categorical_accuracy: 0.5144 - val_loss: 0.9995 - val_sparse_categorical_accuracy: 0.5087\n",
      "Epoch 53/200\n",
      "250/250 [==============================] - 3s 12ms/step - loss: 0.9989 - sparse_categorical_accuracy: 0.5152 - val_loss: 0.9989 - val_sparse_categorical_accuracy: 0.5146\n",
      "Epoch 54/200\n",
      "250/250 [==============================] - 3s 12ms/step - loss: 0.9984 - sparse_categorical_accuracy: 0.5155 - val_loss: 0.9993 - val_sparse_categorical_accuracy: 0.5133\n",
      "Epoch 55/200\n",
      "250/250 [==============================] - 3s 12ms/step - loss: 0.9981 - sparse_categorical_accuracy: 0.5133 - val_loss: 0.9985 - val_sparse_categorical_accuracy: 0.5126\n",
      "Epoch 56/200\n",
      "250/250 [==============================] - 3s 12ms/step - loss: 0.9985 - sparse_categorical_accuracy: 0.5153 - val_loss: 0.9982 - val_sparse_categorical_accuracy: 0.5184\n",
      "Epoch 57/200\n",
      "250/250 [==============================] - 3s 12ms/step - loss: 0.9974 - sparse_categorical_accuracy: 0.5143 - val_loss: 0.9987 - val_sparse_categorical_accuracy: 0.5146\n",
      "Epoch 58/200\n",
      "250/250 [==============================] - 3s 12ms/step - loss: 0.9980 - sparse_categorical_accuracy: 0.5152 - val_loss: 1.0008 - val_sparse_categorical_accuracy: 0.5105\n",
      "Epoch 59/200\n",
      "250/250 [==============================] - 3s 12ms/step - loss: 0.9983 - sparse_categorical_accuracy: 0.5155 - val_loss: 0.9997 - val_sparse_categorical_accuracy: 0.5146\n",
      "Epoch 60/200\n",
      "250/250 [==============================] - 3s 12ms/step - loss: 0.9978 - sparse_categorical_accuracy: 0.5149 - val_loss: 0.9979 - val_sparse_categorical_accuracy: 0.5129\n",
      "Epoch 61/200\n",
      "250/250 [==============================] - 3s 13ms/step - loss: 0.9979 - sparse_categorical_accuracy: 0.5129 - val_loss: 0.9977 - val_sparse_categorical_accuracy: 0.5152\n",
      "Epoch 62/200\n",
      "250/250 [==============================] - 3s 13ms/step - loss: 0.9973 - sparse_categorical_accuracy: 0.5139 - val_loss: 0.9979 - val_sparse_categorical_accuracy: 0.5118\n",
      "Epoch 63/200\n",
      "250/250 [==============================] - 3s 13ms/step - loss: 0.9975 - sparse_categorical_accuracy: 0.5156 - val_loss: 1.0004 - val_sparse_categorical_accuracy: 0.5085\n",
      "Epoch 64/200\n",
      "250/250 [==============================] - 3s 13ms/step - loss: 0.9984 - sparse_categorical_accuracy: 0.5124 - val_loss: 1.0007 - val_sparse_categorical_accuracy: 0.5100\n",
      "Epoch 65/200\n",
      "250/250 [==============================] - 3s 13ms/step - loss: 0.9978 - sparse_categorical_accuracy: 0.5168 - val_loss: 0.9981 - val_sparse_categorical_accuracy: 0.5156\n",
      "Epoch 66/200\n",
      "250/250 [==============================] - 3s 13ms/step - loss: 0.9970 - sparse_categorical_accuracy: 0.5146 - val_loss: 0.9978 - val_sparse_categorical_accuracy: 0.5112\n",
      "Epoch 67/200\n",
      "250/250 [==============================] - 3s 12ms/step - loss: 0.9976 - sparse_categorical_accuracy: 0.5154 - val_loss: 0.9974 - val_sparse_categorical_accuracy: 0.5163\n",
      "Epoch 68/200\n",
      "250/250 [==============================] - 3s 12ms/step - loss: 0.9965 - sparse_categorical_accuracy: 0.5159 - val_loss: 0.9975 - val_sparse_categorical_accuracy: 0.5153\n",
      "Epoch 69/200\n",
      "250/250 [==============================] - 3s 12ms/step - loss: 0.9963 - sparse_categorical_accuracy: 0.5150 - val_loss: 0.9985 - val_sparse_categorical_accuracy: 0.5135\n",
      "Epoch 70/200\n",
      "250/250 [==============================] - 3s 12ms/step - loss: 0.9981 - sparse_categorical_accuracy: 0.5157 - val_loss: 1.0012 - val_sparse_categorical_accuracy: 0.5136\n",
      "Epoch 71/200\n",
      "250/250 [==============================] - 3s 12ms/step - loss: 0.9969 - sparse_categorical_accuracy: 0.5148 - val_loss: 0.9971 - val_sparse_categorical_accuracy: 0.5179\n",
      "Epoch 72/200\n",
      "250/250 [==============================] - 3s 12ms/step - loss: 0.9965 - sparse_categorical_accuracy: 0.5175 - val_loss: 0.9972 - val_sparse_categorical_accuracy: 0.5175\n",
      "Epoch 73/200\n",
      "250/250 [==============================] - 3s 12ms/step - loss: 0.9975 - sparse_categorical_accuracy: 0.5147 - val_loss: 1.0002 - val_sparse_categorical_accuracy: 0.5140\n",
      "Epoch 74/200\n",
      "250/250 [==============================] - 4s 14ms/step - loss: 0.9967 - sparse_categorical_accuracy: 0.5161 - val_loss: 0.9969 - val_sparse_categorical_accuracy: 0.5171\n",
      "Epoch 75/200\n",
      "250/250 [==============================] - 3s 12ms/step - loss: 0.9973 - sparse_categorical_accuracy: 0.5149 - val_loss: 0.9974 - val_sparse_categorical_accuracy: 0.5131\n",
      "Epoch 76/200\n",
      "250/250 [==============================] - 3s 12ms/step - loss: 0.9970 - sparse_categorical_accuracy: 0.5158 - val_loss: 0.9979 - val_sparse_categorical_accuracy: 0.5169\n",
      "Epoch 77/200\n",
      "250/250 [==============================] - 3s 12ms/step - loss: 0.9968 - sparse_categorical_accuracy: 0.5135 - val_loss: 0.9971 - val_sparse_categorical_accuracy: 0.5140\n",
      "Epoch 78/200\n",
      "250/250 [==============================] - 3s 12ms/step - loss: 0.9954 - sparse_categorical_accuracy: 0.5137 - val_loss: 0.9981 - val_sparse_categorical_accuracy: 0.5163\n",
      "Epoch 79/200\n",
      "250/250 [==============================] - 3s 12ms/step - loss: 0.9967 - sparse_categorical_accuracy: 0.5161 - val_loss: 0.9978 - val_sparse_categorical_accuracy: 0.5091\n",
      "Epoch 80/200\n",
      "250/250 [==============================] - 3s 12ms/step - loss: 0.9960 - sparse_categorical_accuracy: 0.5153 - val_loss: 0.9965 - val_sparse_categorical_accuracy: 0.5152\n",
      "Epoch 81/200\n",
      "250/250 [==============================] - 3s 12ms/step - loss: 0.9964 - sparse_categorical_accuracy: 0.5172 - val_loss: 0.9987 - val_sparse_categorical_accuracy: 0.5117\n",
      "Epoch 82/200\n",
      "250/250 [==============================] - 3s 12ms/step - loss: 0.9963 - sparse_categorical_accuracy: 0.5141 - val_loss: 0.9981 - val_sparse_categorical_accuracy: 0.5166\n",
      "Epoch 83/200\n",
      "250/250 [==============================] - 3s 12ms/step - loss: 0.9965 - sparse_categorical_accuracy: 0.5148 - val_loss: 0.9965 - val_sparse_categorical_accuracy: 0.5168\n",
      "Epoch 84/200\n",
      "250/250 [==============================] - 3s 12ms/step - loss: 0.9962 - sparse_categorical_accuracy: 0.5167 - val_loss: 0.9994 - val_sparse_categorical_accuracy: 0.5158\n",
      "Epoch 85/200\n",
      "250/250 [==============================] - 3s 12ms/step - loss: 0.9963 - sparse_categorical_accuracy: 0.5154 - val_loss: 0.9984 - val_sparse_categorical_accuracy: 0.5108\n",
      "Epoch 86/200\n",
      "250/250 [==============================] - 3s 12ms/step - loss: 0.9963 - sparse_categorical_accuracy: 0.5153 - val_loss: 0.9967 - val_sparse_categorical_accuracy: 0.5172\n",
      "Epoch 87/200\n",
      "250/250 [==============================] - 3s 12ms/step - loss: 0.9961 - sparse_categorical_accuracy: 0.5166 - val_loss: 0.9978 - val_sparse_categorical_accuracy: 0.5136\n",
      "Epoch 88/200\n",
      "250/250 [==============================] - 3s 12ms/step - loss: 0.9965 - sparse_categorical_accuracy: 0.5152 - val_loss: 0.9976 - val_sparse_categorical_accuracy: 0.5177\n",
      "Epoch 89/200\n",
      "250/250 [==============================] - 3s 12ms/step - loss: 0.9960 - sparse_categorical_accuracy: 0.5152 - val_loss: 0.9964 - val_sparse_categorical_accuracy: 0.5177\n",
      "Epoch 90/200\n",
      "250/250 [==============================] - 3s 12ms/step - loss: 0.9972 - sparse_categorical_accuracy: 0.5149 - val_loss: 0.9975 - val_sparse_categorical_accuracy: 0.5171\n",
      "Epoch 91/200\n",
      "250/250 [==============================] - 3s 12ms/step - loss: 0.9966 - sparse_categorical_accuracy: 0.5167 - val_loss: 0.9970 - val_sparse_categorical_accuracy: 0.5145\n",
      "Epoch 92/200\n",
      "250/250 [==============================] - 3s 13ms/step - loss: 0.9966 - sparse_categorical_accuracy: 0.5153 - val_loss: 0.9977 - val_sparse_categorical_accuracy: 0.5164\n",
      "Epoch 93/200\n",
      "250/250 [==============================] - 3s 12ms/step - loss: 0.9957 - sparse_categorical_accuracy: 0.5149 - val_loss: 1.0012 - val_sparse_categorical_accuracy: 0.5067\n",
      "Epoch 94/200\n",
      "250/250 [==============================] - 3s 12ms/step - loss: 0.9963 - sparse_categorical_accuracy: 0.5157 - val_loss: 0.9971 - val_sparse_categorical_accuracy: 0.5157\n",
      "Epoch 95/200\n",
      "250/250 [==============================] - 3s 12ms/step - loss: 0.9953 - sparse_categorical_accuracy: 0.5172 - val_loss: 0.9999 - val_sparse_categorical_accuracy: 0.5171\n",
      "Epoch 96/200\n",
      "250/250 [==============================] - 3s 12ms/step - loss: 0.9970 - sparse_categorical_accuracy: 0.5131 - val_loss: 0.9964 - val_sparse_categorical_accuracy: 0.5150\n",
      "Epoch 97/200\n",
      "250/250 [==============================] - 3s 12ms/step - loss: 0.9959 - sparse_categorical_accuracy: 0.5178 - val_loss: 0.9974 - val_sparse_categorical_accuracy: 0.5152\n",
      "Epoch 98/200\n",
      "250/250 [==============================] - 3s 12ms/step - loss: 0.9949 - sparse_categorical_accuracy: 0.5172 - val_loss: 0.9967 - val_sparse_categorical_accuracy: 0.5165\n",
      "Epoch 99/200\n",
      "250/250 [==============================] - 3s 12ms/step - loss: 0.9964 - sparse_categorical_accuracy: 0.5168 - val_loss: 0.9990 - val_sparse_categorical_accuracy: 0.5088\n",
      "Epoch 100/200\n",
      "250/250 [==============================] - 3s 12ms/step - loss: 0.9968 - sparse_categorical_accuracy: 0.5159 - val_loss: 0.9978 - val_sparse_categorical_accuracy: 0.5182\n",
      "Epoch 101/200\n",
      "250/250 [==============================] - 3s 12ms/step - loss: 0.9956 - sparse_categorical_accuracy: 0.5166 - val_loss: 0.9974 - val_sparse_categorical_accuracy: 0.5123\n",
      "Epoch 102/200\n",
      "250/250 [==============================] - 3s 13ms/step - loss: 0.9951 - sparse_categorical_accuracy: 0.5160 - val_loss: 0.9968 - val_sparse_categorical_accuracy: 0.5143\n",
      "Epoch 103/200\n",
      "250/250 [==============================] - 3s 13ms/step - loss: 0.9956 - sparse_categorical_accuracy: 0.5168 - val_loss: 0.9973 - val_sparse_categorical_accuracy: 0.5105\n",
      "Epoch 104/200\n",
      "250/250 [==============================] - 3s 12ms/step - loss: 0.9951 - sparse_categorical_accuracy: 0.5180 - val_loss: 0.9979 - val_sparse_categorical_accuracy: 0.5132\n",
      "Epoch 105/200\n",
      "250/250 [==============================] - 3s 12ms/step - loss: 0.9956 - sparse_categorical_accuracy: 0.5149 - val_loss: 0.9985 - val_sparse_categorical_accuracy: 0.5151\n",
      "Epoch 106/200\n",
      "250/250 [==============================] - 3s 12ms/step - loss: 0.9951 - sparse_categorical_accuracy: 0.5169 - val_loss: 0.9979 - val_sparse_categorical_accuracy: 0.5139\n",
      "Epoch 107/200\n",
      "250/250 [==============================] - 3s 13ms/step - loss: 0.9956 - sparse_categorical_accuracy: 0.5152 - val_loss: 0.9962 - val_sparse_categorical_accuracy: 0.5175\n",
      "Epoch 108/200\n",
      "250/250 [==============================] - 3s 12ms/step - loss: 0.9948 - sparse_categorical_accuracy: 0.5161 - val_loss: 0.9972 - val_sparse_categorical_accuracy: 0.5163\n",
      "Epoch 109/200\n",
      "250/250 [==============================] - 3s 12ms/step - loss: 0.9960 - sparse_categorical_accuracy: 0.5166 - val_loss: 0.9963 - val_sparse_categorical_accuracy: 0.5178\n",
      "Epoch 110/200\n",
      "250/250 [==============================] - 3s 14ms/step - loss: 0.9952 - sparse_categorical_accuracy: 0.5158 - val_loss: 0.9965 - val_sparse_categorical_accuracy: 0.5147\n",
      "Epoch 111/200\n",
      "250/250 [==============================] - 3s 12ms/step - loss: 0.9940 - sparse_categorical_accuracy: 0.5154 - val_loss: 0.9962 - val_sparse_categorical_accuracy: 0.5160\n",
      "Epoch 112/200\n",
      "250/250 [==============================] - 3s 12ms/step - loss: 0.9948 - sparse_categorical_accuracy: 0.5155 - val_loss: 0.9962 - val_sparse_categorical_accuracy: 0.5165\n",
      "Epoch 113/200\n",
      "250/250 [==============================] - 3s 12ms/step - loss: 0.9956 - sparse_categorical_accuracy: 0.5177 - val_loss: 0.9967 - val_sparse_categorical_accuracy: 0.5188\n",
      "Epoch 114/200\n",
      "250/250 [==============================] - 3s 12ms/step - loss: 0.9957 - sparse_categorical_accuracy: 0.5166 - val_loss: 0.9967 - val_sparse_categorical_accuracy: 0.5161\n",
      "Epoch 115/200\n",
      "250/250 [==============================] - 3s 12ms/step - loss: 0.9952 - sparse_categorical_accuracy: 0.5159 - val_loss: 1.0006 - val_sparse_categorical_accuracy: 0.5111\n",
      "Epoch 116/200\n",
      "250/250 [==============================] - 3s 12ms/step - loss: 0.9947 - sparse_categorical_accuracy: 0.5162 - val_loss: 0.9971 - val_sparse_categorical_accuracy: 0.5158\n",
      "Epoch 117/200\n",
      "250/250 [==============================] - 3s 12ms/step - loss: 0.9946 - sparse_categorical_accuracy: 0.5143 - val_loss: 0.9972 - val_sparse_categorical_accuracy: 0.5108\n",
      "Epoch 118/200\n",
      "250/250 [==============================] - 3s 12ms/step - loss: 0.9957 - sparse_categorical_accuracy: 0.5158 - val_loss: 0.9966 - val_sparse_categorical_accuracy: 0.5186\n",
      "Epoch 119/200\n",
      "250/250 [==============================] - 3s 14ms/step - loss: 0.9961 - sparse_categorical_accuracy: 0.5150 - val_loss: 0.9970 - val_sparse_categorical_accuracy: 0.5146\n",
      "Epoch 120/200\n",
      "250/250 [==============================] - 3s 13ms/step - loss: 0.9947 - sparse_categorical_accuracy: 0.5166 - val_loss: 1.0009 - val_sparse_categorical_accuracy: 0.5083\n",
      "Epoch 121/200\n",
      "250/250 [==============================] - 3s 12ms/step - loss: 0.9963 - sparse_categorical_accuracy: 0.5168 - val_loss: 0.9967 - val_sparse_categorical_accuracy: 0.5149\n",
      "Epoch 122/200\n",
      "250/250 [==============================] - 3s 12ms/step - loss: 0.9958 - sparse_categorical_accuracy: 0.5161 - val_loss: 0.9960 - val_sparse_categorical_accuracy: 0.5155\n",
      "Epoch 123/200\n",
      "250/250 [==============================] - 3s 12ms/step - loss: 0.9946 - sparse_categorical_accuracy: 0.5176 - val_loss: 0.9966 - val_sparse_categorical_accuracy: 0.5142\n",
      "Epoch 124/200\n",
      "250/250 [==============================] - 3s 12ms/step - loss: 0.9940 - sparse_categorical_accuracy: 0.5188 - val_loss: 0.9964 - val_sparse_categorical_accuracy: 0.5178\n",
      "Epoch 125/200\n",
      "250/250 [==============================] - 3s 12ms/step - loss: 0.9951 - sparse_categorical_accuracy: 0.5148 - val_loss: 0.9961 - val_sparse_categorical_accuracy: 0.5186\n",
      "Epoch 126/200\n",
      "250/250 [==============================] - 3s 12ms/step - loss: 0.9947 - sparse_categorical_accuracy: 0.5170 - val_loss: 0.9960 - val_sparse_categorical_accuracy: 0.5170\n",
      "Epoch 127/200\n",
      "250/250 [==============================] - 3s 12ms/step - loss: 0.9954 - sparse_categorical_accuracy: 0.5169 - val_loss: 0.9973 - val_sparse_categorical_accuracy: 0.5121\n",
      "Epoch 128/200\n",
      "250/250 [==============================] - 3s 12ms/step - loss: 0.9956 - sparse_categorical_accuracy: 0.5175 - val_loss: 1.0004 - val_sparse_categorical_accuracy: 0.5159\n",
      "Epoch 129/200\n",
      "250/250 [==============================] - 3s 12ms/step - loss: 0.9954 - sparse_categorical_accuracy: 0.5152 - val_loss: 0.9971 - val_sparse_categorical_accuracy: 0.5100\n",
      "Epoch 130/200\n",
      "250/250 [==============================] - 3s 12ms/step - loss: 0.9942 - sparse_categorical_accuracy: 0.5169 - val_loss: 0.9963 - val_sparse_categorical_accuracy: 0.5147\n",
      "Epoch 131/200\n",
      "250/250 [==============================] - 3s 12ms/step - loss: 0.9950 - sparse_categorical_accuracy: 0.5162 - val_loss: 0.9965 - val_sparse_categorical_accuracy: 0.5169\n",
      "Epoch 132/200\n",
      "250/250 [==============================] - 3s 12ms/step - loss: 0.9958 - sparse_categorical_accuracy: 0.5155 - val_loss: 0.9971 - val_sparse_categorical_accuracy: 0.5152\n",
      "Epoch 133/200\n",
      "250/250 [==============================] - 3s 12ms/step - loss: 0.9949 - sparse_categorical_accuracy: 0.5155 - val_loss: 0.9960 - val_sparse_categorical_accuracy: 0.5162\n",
      "Epoch 134/200\n",
      "250/250 [==============================] - 3s 12ms/step - loss: 0.9948 - sparse_categorical_accuracy: 0.5179 - val_loss: 0.9960 - val_sparse_categorical_accuracy: 0.5169\n",
      "Epoch 135/200\n",
      "250/250 [==============================] - 3s 12ms/step - loss: 0.9937 - sparse_categorical_accuracy: 0.5175 - val_loss: 0.9972 - val_sparse_categorical_accuracy: 0.5135\n",
      "Epoch 136/200\n",
      "250/250 [==============================] - 3s 12ms/step - loss: 0.9950 - sparse_categorical_accuracy: 0.5160 - val_loss: 0.9969 - val_sparse_categorical_accuracy: 0.5162\n",
      "Epoch 137/200\n",
      "250/250 [==============================] - 4s 15ms/step - loss: 0.9954 - sparse_categorical_accuracy: 0.5165 - val_loss: 0.9963 - val_sparse_categorical_accuracy: 0.5183\n",
      "Epoch 138/200\n",
      "250/250 [==============================] - 3s 13ms/step - loss: 0.9947 - sparse_categorical_accuracy: 0.5169 - val_loss: 0.9959 - val_sparse_categorical_accuracy: 0.5181\n",
      "Epoch 139/200\n",
      "250/250 [==============================] - 3s 13ms/step - loss: 0.9944 - sparse_categorical_accuracy: 0.5156 - val_loss: 1.0003 - val_sparse_categorical_accuracy: 0.5161\n",
      "Epoch 140/200\n",
      "250/250 [==============================] - 3s 14ms/step - loss: 0.9947 - sparse_categorical_accuracy: 0.5170 - val_loss: 1.0006 - val_sparse_categorical_accuracy: 0.5122\n",
      "Epoch 141/200\n",
      "250/250 [==============================] - 4s 15ms/step - loss: 0.9955 - sparse_categorical_accuracy: 0.5148 - val_loss: 0.9967 - val_sparse_categorical_accuracy: 0.5169\n",
      "Epoch 142/200\n",
      "250/250 [==============================] - 3s 13ms/step - loss: 0.9951 - sparse_categorical_accuracy: 0.5151 - val_loss: 0.9963 - val_sparse_categorical_accuracy: 0.5146\n",
      "Epoch 143/200\n",
      "250/250 [==============================] - 3s 13ms/step - loss: 0.9948 - sparse_categorical_accuracy: 0.5167 - val_loss: 0.9993 - val_sparse_categorical_accuracy: 0.5171\n",
      "Epoch 144/200\n",
      "250/250 [==============================] - 4s 15ms/step - loss: 0.9941 - sparse_categorical_accuracy: 0.5166 - val_loss: 0.9968 - val_sparse_categorical_accuracy: 0.5185\n",
      "Epoch 145/200\n",
      "250/250 [==============================] - 3s 13ms/step - loss: 0.9948 - sparse_categorical_accuracy: 0.5151 - val_loss: 0.9961 - val_sparse_categorical_accuracy: 0.5159\n",
      "Epoch 146/200\n",
      "250/250 [==============================] - 3s 14ms/step - loss: 0.9949 - sparse_categorical_accuracy: 0.5154 - val_loss: 0.9968 - val_sparse_categorical_accuracy: 0.5148\n",
      "Epoch 147/200\n",
      "250/250 [==============================] - 3s 12ms/step - loss: 0.9949 - sparse_categorical_accuracy: 0.5147 - val_loss: 0.9977 - val_sparse_categorical_accuracy: 0.5137\n",
      "Epoch 148/200\n",
      "250/250 [==============================] - 3s 12ms/step - loss: 0.9941 - sparse_categorical_accuracy: 0.5144 - val_loss: 0.9967 - val_sparse_categorical_accuracy: 0.5165\n",
      "Epoch 149/200\n",
      "250/250 [==============================] - 4s 15ms/step - loss: 0.9943 - sparse_categorical_accuracy: 0.5177 - val_loss: 0.9974 - val_sparse_categorical_accuracy: 0.5182\n",
      "Epoch 150/200\n",
      "250/250 [==============================] - 3s 13ms/step - loss: 0.9955 - sparse_categorical_accuracy: 0.5160 - val_loss: 0.9954 - val_sparse_categorical_accuracy: 0.5174\n",
      "Epoch 151/200\n",
      "250/250 [==============================] - 3s 13ms/step - loss: 0.9946 - sparse_categorical_accuracy: 0.5152 - val_loss: 0.9963 - val_sparse_categorical_accuracy: 0.5191\n",
      "Epoch 152/200\n",
      "250/250 [==============================] - 3s 12ms/step - loss: 0.9949 - sparse_categorical_accuracy: 0.5167 - val_loss: 0.9976 - val_sparse_categorical_accuracy: 0.5140\n",
      "Epoch 153/200\n",
      "250/250 [==============================] - 3s 12ms/step - loss: 0.9946 - sparse_categorical_accuracy: 0.5174 - val_loss: 0.9964 - val_sparse_categorical_accuracy: 0.5113\n",
      "Epoch 154/200\n",
      "250/250 [==============================] - 3s 12ms/step - loss: 0.9938 - sparse_categorical_accuracy: 0.5154 - val_loss: 0.9957 - val_sparse_categorical_accuracy: 0.5174\n",
      "Epoch 155/200\n",
      "250/250 [==============================] - 3s 12ms/step - loss: 0.9936 - sparse_categorical_accuracy: 0.5170 - val_loss: 0.9958 - val_sparse_categorical_accuracy: 0.5149\n",
      "Epoch 156/200\n",
      "250/250 [==============================] - 3s 12ms/step - loss: 0.9938 - sparse_categorical_accuracy: 0.5165 - val_loss: 0.9966 - val_sparse_categorical_accuracy: 0.5171\n",
      "Epoch 157/200\n",
      "250/250 [==============================] - 3s 12ms/step - loss: 0.9943 - sparse_categorical_accuracy: 0.5158 - val_loss: 0.9967 - val_sparse_categorical_accuracy: 0.5156\n",
      "Epoch 158/200\n",
      "250/250 [==============================] - 3s 13ms/step - loss: 0.9950 - sparse_categorical_accuracy: 0.5162 - val_loss: 1.0020 - val_sparse_categorical_accuracy: 0.5169\n",
      "Epoch 159/200\n",
      "250/250 [==============================] - 3s 12ms/step - loss: 0.9950 - sparse_categorical_accuracy: 0.5179 - val_loss: 0.9977 - val_sparse_categorical_accuracy: 0.5112\n",
      "Epoch 160/200\n",
      "250/250 [==============================] - 3s 12ms/step - loss: 0.9949 - sparse_categorical_accuracy: 0.5150 - val_loss: 0.9993 - val_sparse_categorical_accuracy: 0.5124\n",
      "Epoch 161/200\n",
      "250/250 [==============================] - 3s 13ms/step - loss: 0.9941 - sparse_categorical_accuracy: 0.5161 - val_loss: 0.9961 - val_sparse_categorical_accuracy: 0.5189\n",
      "Epoch 162/200\n",
      "250/250 [==============================] - 3s 13ms/step - loss: 0.9948 - sparse_categorical_accuracy: 0.5157 - val_loss: 0.9972 - val_sparse_categorical_accuracy: 0.5107\n",
      "Epoch 163/200\n",
      "250/250 [==============================] - 3s 13ms/step - loss: 0.9948 - sparse_categorical_accuracy: 0.5181 - val_loss: 0.9958 - val_sparse_categorical_accuracy: 0.5174\n",
      "Epoch 164/200\n",
      "250/250 [==============================] - 3s 12ms/step - loss: 0.9951 - sparse_categorical_accuracy: 0.5156 - val_loss: 0.9959 - val_sparse_categorical_accuracy: 0.5159\n",
      "Epoch 165/200\n",
      "250/250 [==============================] - 3s 12ms/step - loss: 0.9935 - sparse_categorical_accuracy: 0.5167 - val_loss: 0.9968 - val_sparse_categorical_accuracy: 0.5120\n",
      "Epoch 166/200\n",
      "250/250 [==============================] - 3s 12ms/step - loss: 0.9945 - sparse_categorical_accuracy: 0.5172 - val_loss: 0.9960 - val_sparse_categorical_accuracy: 0.5179\n",
      "Epoch 167/200\n",
      "250/250 [==============================] - 3s 12ms/step - loss: 0.9947 - sparse_categorical_accuracy: 0.5163 - val_loss: 0.9959 - val_sparse_categorical_accuracy: 0.5129\n",
      "Epoch 168/200\n",
      "250/250 [==============================] - 3s 12ms/step - loss: 0.9944 - sparse_categorical_accuracy: 0.5147 - val_loss: 0.9963 - val_sparse_categorical_accuracy: 0.5179\n",
      "Epoch 169/200\n",
      "250/250 [==============================] - 3s 13ms/step - loss: 0.9941 - sparse_categorical_accuracy: 0.5160 - val_loss: 0.9952 - val_sparse_categorical_accuracy: 0.5181\n",
      "Epoch 170/200\n",
      "250/250 [==============================] - 3s 13ms/step - loss: 0.9945 - sparse_categorical_accuracy: 0.5172 - val_loss: 0.9960 - val_sparse_categorical_accuracy: 0.5142\n",
      "Epoch 171/200\n",
      "250/250 [==============================] - 3s 12ms/step - loss: 0.9950 - sparse_categorical_accuracy: 0.5161 - val_loss: 0.9963 - val_sparse_categorical_accuracy: 0.5118\n",
      "Epoch 172/200\n",
      "250/250 [==============================] - 3s 12ms/step - loss: 0.9941 - sparse_categorical_accuracy: 0.5142 - val_loss: 0.9961 - val_sparse_categorical_accuracy: 0.5165\n",
      "Epoch 173/200\n",
      "250/250 [==============================] - 3s 12ms/step - loss: 0.9946 - sparse_categorical_accuracy: 0.5143 - val_loss: 0.9973 - val_sparse_categorical_accuracy: 0.5123\n",
      "Epoch 174/200\n",
      "250/250 [==============================] - 3s 12ms/step - loss: 0.9942 - sparse_categorical_accuracy: 0.5153 - val_loss: 0.9953 - val_sparse_categorical_accuracy: 0.5178\n",
      "Epoch 175/200\n",
      "250/250 [==============================] - 3s 12ms/step - loss: 0.9946 - sparse_categorical_accuracy: 0.5169 - val_loss: 0.9974 - val_sparse_categorical_accuracy: 0.5141\n",
      "Epoch 176/200\n",
      "250/250 [==============================] - 3s 12ms/step - loss: 0.9943 - sparse_categorical_accuracy: 0.5176 - val_loss: 0.9954 - val_sparse_categorical_accuracy: 0.5180\n",
      "Epoch 177/200\n",
      "250/250 [==============================] - 3s 12ms/step - loss: 0.9933 - sparse_categorical_accuracy: 0.5182 - val_loss: 0.9976 - val_sparse_categorical_accuracy: 0.5085\n",
      "Epoch 178/200\n",
      "250/250 [==============================] - 3s 13ms/step - loss: 0.9947 - sparse_categorical_accuracy: 0.5167 - val_loss: 0.9958 - val_sparse_categorical_accuracy: 0.5137\n",
      "Epoch 179/200\n",
      "250/250 [==============================] - 3s 13ms/step - loss: 0.9940 - sparse_categorical_accuracy: 0.5163 - val_loss: 0.9956 - val_sparse_categorical_accuracy: 0.5182\n",
      "Epoch 180/200\n",
      "250/250 [==============================] - 3s 12ms/step - loss: 0.9938 - sparse_categorical_accuracy: 0.5156 - val_loss: 0.9966 - val_sparse_categorical_accuracy: 0.5170\n",
      "Epoch 181/200\n",
      "250/250 [==============================] - 3s 12ms/step - loss: 0.9943 - sparse_categorical_accuracy: 0.5165 - val_loss: 0.9956 - val_sparse_categorical_accuracy: 0.5150\n",
      "Epoch 182/200\n",
      "250/250 [==============================] - 4s 14ms/step - loss: 0.9943 - sparse_categorical_accuracy: 0.5179 - val_loss: 0.9950 - val_sparse_categorical_accuracy: 0.5153\n",
      "Epoch 183/200\n",
      "250/250 [==============================] - 3s 13ms/step - loss: 0.9932 - sparse_categorical_accuracy: 0.5178 - val_loss: 0.9960 - val_sparse_categorical_accuracy: 0.5166\n",
      "Epoch 184/200\n",
      "250/250 [==============================] - 3s 14ms/step - loss: 0.9945 - sparse_categorical_accuracy: 0.5158 - val_loss: 0.9964 - val_sparse_categorical_accuracy: 0.5177\n",
      "Epoch 185/200\n",
      "250/250 [==============================] - 3s 13ms/step - loss: 0.9948 - sparse_categorical_accuracy: 0.5165 - val_loss: 0.9958 - val_sparse_categorical_accuracy: 0.5161\n",
      "Epoch 186/200\n",
      "250/250 [==============================] - 3s 12ms/step - loss: 0.9937 - sparse_categorical_accuracy: 0.5171 - val_loss: 0.9966 - val_sparse_categorical_accuracy: 0.5152\n",
      "Epoch 187/200\n",
      "250/250 [==============================] - 3s 12ms/step - loss: 0.9939 - sparse_categorical_accuracy: 0.5166 - val_loss: 0.9950 - val_sparse_categorical_accuracy: 0.5164\n",
      "Epoch 188/200\n",
      "250/250 [==============================] - 3s 12ms/step - loss: 0.9946 - sparse_categorical_accuracy: 0.5166 - val_loss: 0.9971 - val_sparse_categorical_accuracy: 0.5127\n",
      "Epoch 189/200\n",
      "250/250 [==============================] - 3s 12ms/step - loss: 0.9936 - sparse_categorical_accuracy: 0.5171 - val_loss: 0.9966 - val_sparse_categorical_accuracy: 0.5170\n",
      "Epoch 190/200\n",
      "250/250 [==============================] - 3s 13ms/step - loss: 0.9934 - sparse_categorical_accuracy: 0.5176 - val_loss: 0.9958 - val_sparse_categorical_accuracy: 0.5142\n",
      "Epoch 191/200\n",
      "250/250 [==============================] - 3s 12ms/step - loss: 0.9932 - sparse_categorical_accuracy: 0.5150 - val_loss: 0.9960 - val_sparse_categorical_accuracy: 0.5152\n",
      "Epoch 192/200\n",
      "250/250 [==============================] - 3s 12ms/step - loss: 0.9943 - sparse_categorical_accuracy: 0.5188 - val_loss: 0.9961 - val_sparse_categorical_accuracy: 0.5162\n",
      "Epoch 193/200\n",
      "250/250 [==============================] - 3s 12ms/step - loss: 0.9931 - sparse_categorical_accuracy: 0.5172 - val_loss: 0.9962 - val_sparse_categorical_accuracy: 0.5113\n",
      "Epoch 194/200\n",
      "250/250 [==============================] - 3s 12ms/step - loss: 0.9949 - sparse_categorical_accuracy: 0.5148 - val_loss: 0.9956 - val_sparse_categorical_accuracy: 0.5150\n",
      "Epoch 195/200\n",
      "250/250 [==============================] - 3s 13ms/step - loss: 0.9930 - sparse_categorical_accuracy: 0.5167 - val_loss: 0.9950 - val_sparse_categorical_accuracy: 0.5180\n",
      "Epoch 196/200\n",
      "250/250 [==============================] - 3s 13ms/step - loss: 0.9935 - sparse_categorical_accuracy: 0.5192 - val_loss: 0.9949 - val_sparse_categorical_accuracy: 0.5164\n",
      "Epoch 197/200\n",
      "250/250 [==============================] - 3s 12ms/step - loss: 0.9940 - sparse_categorical_accuracy: 0.5152 - val_loss: 0.9953 - val_sparse_categorical_accuracy: 0.5155\n",
      "Epoch 198/200\n",
      "250/250 [==============================] - 3s 12ms/step - loss: 0.9946 - sparse_categorical_accuracy: 0.5184 - val_loss: 0.9969 - val_sparse_categorical_accuracy: 0.5132\n",
      "Epoch 199/200\n",
      "250/250 [==============================] - 3s 12ms/step - loss: 0.9943 - sparse_categorical_accuracy: 0.5159 - val_loss: 0.9957 - val_sparse_categorical_accuracy: 0.5142\n",
      "Epoch 200/200\n",
      "250/250 [==============================] - 3s 13ms/step - loss: 0.9932 - sparse_categorical_accuracy: 0.5200 - val_loss: 0.9962 - val_sparse_categorical_accuracy: 0.5145\n"
     ]
    },
    {
     "data": {
      "text/plain": [
       "<keras.callbacks.History at 0x19edb3ca0>"
      ]
     },
     "execution_count": 411,
     "metadata": {},
     "output_type": "execute_result"
    }
   ],
   "source": [
    "wandb.init(project=\"foot_LSTM_only_with_regularization2\", entity=\"padda\")\n",
    "model_lstm.fit(\n",
    "    train_generator,\n",
    "    epochs=200,\n",
    "    validation_data=val_generator,\n",
    "    callbacks=[WandbCallback()]\n",
    ")\n",
    "\n",
    "#model_lstm.fit(\n",
    "#    full_generator,\n",
    "#    epochs=100,\n",
    "#    callbacks=[WandbCallback()]\n",
    "#)"
   ]
  },
  {
   "cell_type": "code",
   "execution_count": 413,
   "metadata": {},
   "outputs": [],
   "source": [
    "y_pred = model_lstm.predict([train_home, train_away]).argmax(axis=-1)\n"
   ]
  },
  {
   "cell_type": "code",
   "execution_count": 414,
   "metadata": {},
   "outputs": [
    {
     "name": "stderr",
     "output_type": "stream",
     "text": [
      "/var/folders/fw/vk6b0tfx7kvg_95mz0b5mts80000gn/T/ipykernel_17704/1795329321.py:5: RuntimeWarning: invalid value encountered in long_scalars\n",
      "  precision = { i:cm[i][i]/cm[:,i].sum()  for i in range(len(cm))}\n",
      "/var/folders/fw/vk6b0tfx7kvg_95mz0b5mts80000gn/T/ipykernel_17704/1795329321.py:6: RuntimeWarning: divide by zero encountered in double_scalars\n",
      "  F1_score = { i: 2 / (1/recall[i] + 1/precision[i]) for i in range(len(cm))}\n"
     ]
    },
    {
     "name": "stdout",
     "output_type": "stream",
     "text": [
      "accuracy:  0.519135048835462\n",
      "Recall: \n",
      " {0: 0.7653273654626834, 1: 0.0, 2: 0.5185911350745747} \n",
      "Precision: \n",
      " {0: 0.5358379185949058, 1: nan, 2: 0.48887715360749884} \n",
      "F1-score: \n",
      " {0: 0.6303448571489808, 1: nan, 2: 0.5032959565069657}\n"
     ]
    },
    {
     "data": {
      "image/png": "[encoded data removed]",
      "text/plain": [
       "<Figure size 432x288 with 2 Axes>"
      ]
     },
     "metadata": {
      "needs_background": "light"
     },
     "output_type": "display_data"
    }
   ],
   "source": [
    "y_pred = model_lstm.predict([train_home, train_away]).argmax(axis=-1)\n",
    "\n",
    "cm_metrics(y,y_pred, [0,1,2])"
   ]
  },
  {
   "cell_type": "code",
   "execution_count": 168,
   "metadata": {},
   "outputs": [],
   "source": [
    "#Does NOT predict draws. we MUST try to implement L-BFGS as it seems to work much better in that respect in sklearn  MLP-C"
   ]
  },
  {
   "cell_type": "code",
   "execution_count": null,
   "metadata": {},
   "outputs": [],
   "source": [
    "model_lstm.save('../data/models/LSTM_only_reg')"
   ]
  },
  {
   "cell_type": "code",
   "execution_count": 415,
   "metadata": {},
   "outputs": [
    {
     "name": "stderr",
     "output_type": "stream",
     "text": [
      "WARNING:absl:Found untraced functions such as lstm_cell_102_layer_call_fn, lstm_cell_102_layer_call_and_return_conditional_losses, lstm_cell_103_layer_call_fn, lstm_cell_103_layer_call_and_return_conditional_losses, lstm_cell_102_layer_call_fn while saving (showing 5 of 10). These functions will not be directly callable after loading.\n"
     ]
    },
    {
     "name": "stdout",
     "output_type": "stream",
     "text": [
      "INFO:tensorflow:Assets written to: data/HA_LSTM/assets\n"
     ]
    },
    {
     "name": "stderr",
     "output_type": "stream",
     "text": [
      "INFO:tensorflow:Assets written to: data/HA_LSTM/assets\n",
      "wandb: Network error (ReadTimeout), entering retry loop.\n"
     ]
    }
   ],
   "source": [
    "model_lstm.save('data/HA_LSTM')"
   ]
  },
  {
   "cell_type": "markdown",
   "metadata": {},
   "source": [
    "# ajoutons l'historique des rencontre entre les 2 équipes"
   ]
  },
  {
   "cell_type": "code",
   "execution_count": 186,
   "metadata": {},
   "outputs": [],
   "source": [
    "game_history = pd.read_csv('../data/train_LSTM/game_history_full.csv', index_col = 0,\\\n",
    "    dtype={'game_history_id' : np.int32, 'game_id' : np.int32, 'H_goals' : np.int8, 'H_goals_conceded' : np.int8,\\\n",
    "         'H_HorA' : np.int8, 'H_yellow_cards' : np.int8, 'H_red_cards' : np.int8, 'A_yellow_cards' : np.int8, 'A_red_cards' : np.int8}\\\n",
    "    )"
   ]
  },
  {
   "cell_type": "code",
   "execution_count": 189,
   "metadata": {},
   "outputs": [
    {
     "data": {
      "text/html": [
       "<div>\n",
       "<style scoped>\n",
       "    .dataframe tbody tr th:only-of-type {\n",
       "        vertical-align: middle;\n",
       "    }\n",
       "\n",
       "    .dataframe tbody tr th {\n",
       "        vertical-align: top;\n",
       "    }\n",
       "\n",
       "    .dataframe thead th {\n",
       "        text-align: right;\n",
       "    }\n",
       "</style>\n",
       "<table border=\"1\" class=\"dataframe\">\n",
       "  <thead>\n",
       "    <tr style=\"text-align: right;\">\n",
       "      <th></th>\n",
       "      <th>game_id</th>\n",
       "      <th>game_history_id</th>\n",
       "    </tr>\n",
       "  </thead>\n",
       "  <tbody>\n",
       "  </tbody>\n",
       "</table>\n",
       "</div>"
      ],
      "text/plain": [
       "Empty DataFrame\n",
       "Columns: [game_id, game_history_id]\n",
       "Index: []"
      ]
     },
     "metadata": {},
     "output_type": "display_data"
    }
   ],
   "source": [
    "tt = game_history.groupby('game_id')['game_history_id'].count().reset_index()\n",
    "display(tt.loc[tt.game_history_id>5,:])\n",
    "game_history.drop(game_history.loc[game_history.game_id.isin( tt.loc[tt.game_history_id>10,'game_history_id'] ), :].index,inplace = True)\n"
   ]
  },
  {
   "cell_type": "code",
   "execution_count": 224,
   "metadata": {},
   "outputs": [],
   "source": [
    "game_ids = pd.Series(game_history.game_id.unique())"
   ]
  },
  {
   "cell_type": "code",
   "execution_count": 222,
   "metadata": {},
   "outputs": [],
   "source": [
    "home_history2 = home_history.loc[home_history.game_id.isin(game_ids),:]\n",
    "away_history2 = away_history.loc[away_history.game_id.isin(game_ids),:]"
   ]
  },
  {
   "cell_type": "code",
   "execution_count": 225,
   "metadata": {},
   "outputs": [
    {
     "name": "stderr",
     "output_type": "stream",
     "text": [
      "100%|██████████| 25136/25136 [00:27<00:00, 919.60it/s]\n"
     ]
    }
   ],
   "source": [
    "def make_home_train2(game_id):\n",
    "    game_history = home_history2.loc[home_history2.game_id == game_id,:].drop(columns=['home_id','game_id'])\n",
    "    if (n_lines := game_history.shape[0]) == 0:\n",
    "        return np.zeros((10,6)).astype(np.int8)\n",
    "    else:\n",
    "        return np.vstack(( np.zeros((10-n_lines,6)) , np.hstack(( np.ones((n_lines,1)) , np.flip(game_history.to_numpy(),axis=1))) )).astype(np.int8)\n",
    "train_home2 = game_ids.progress_apply(make_home_train2)\n",
    "train_home2 = np.stack(train_home2.values)"
   ]
  },
  {
   "cell_type": "code",
   "execution_count": 226,
   "metadata": {},
   "outputs": [
    {
     "name": "stderr",
     "output_type": "stream",
     "text": [
      "100%|██████████| 25136/25136 [00:27<00:00, 915.34it/s]\n"
     ]
    }
   ],
   "source": [
    "def make_away_train2(game_id):\n",
    "    game_history = away_history2.loc[away_history2.game_id == game_id,:].drop(columns=['away_id','game_id'])\n",
    "    if (n_lines := game_history.shape[0]) == 0:\n",
    "        return np.zeros((10,6)).astype(np.int8)\n",
    "    else:\n",
    "        return np.vstack(( np.zeros((10-n_lines,6)) , np.hstack(( np.ones((n_lines,1)) , np.flip(game_history.to_numpy(),axis=1))) )).astype(np.int8)\n",
    "train_away2 = game_ids.progress_apply(make_away_train2)\n",
    "train_away2 = np.stack(train_away2.values)"
   ]
  },
  {
   "cell_type": "code",
   "execution_count": 228,
   "metadata": {},
   "outputs": [
    {
     "data": {
      "text/plain": [
       "(25136, 10, 6)"
      ]
     },
     "execution_count": 228,
     "metadata": {},
     "output_type": "execute_result"
    }
   ],
   "source": [
    "train_away2.shape"
   ]
  },
  {
   "cell_type": "code",
   "execution_count": 193,
   "metadata": {},
   "outputs": [],
   "source": [
    "# on rajoute des 0 et des 1 au début de chaque ligne pour indiquer si il y a un match ou pas\n",
    "# on inverse le game_history avec np.flip(game_history,axis=1) pour classer les matches du plus ancien au plus récent\n",
    "# Cela dit l'expérience montre que cette inversion n'a pas énormément d'impact sur les performances du modèle... \n",
    "\n",
    "def make_history_train(game_id):\n",
    "    encounter_history = game_history.loc[game_history.game_id == game_id,:].drop(columns=['game_history_id','game_id'])\n",
    "    if (n_lines := encounter_history.shape[0]) == 0:\n",
    "        return np.zeros((5,8)).astype(np.int8)\n",
    "    else:\n",
    "        return np.vstack(( np.zeros((5-n_lines,8)) , np.hstack(( np.ones((n_lines,1)) , np.flip(encounter_history.to_numpy(),axis=1))) )).astype(np.int8)"
   ]
  },
  {
   "cell_type": "code",
   "execution_count": 514,
   "metadata": {},
   "outputs": [
    {
     "name": "stderr",
     "output_type": "stream",
     "text": [
      "100%|██████████| 42592/42592 [00:41<00:00, 1028.84it/s]\n"
     ]
    }
   ],
   "source": [
    "train_history_full = games.game_id.progress_apply(make_history_train)"
   ]
  },
  {
   "cell_type": "code",
   "execution_count": 516,
   "metadata": {},
   "outputs": [],
   "source": [
    "train_history_full = np.stack(train_history_full.values)\n"
   ]
  },
  {
   "cell_type": "code",
   "execution_count": 518,
   "metadata": {},
   "outputs": [
    {
     "data": {
      "text/plain": [
       "((42592, 5, 8), (42592, 10, 6), (42592, 10, 6), (42592,))"
      ]
     },
     "execution_count": 518,
     "metadata": {},
     "output_type": "execute_result"
    }
   ],
   "source": [
    "train_history_full.shape , train_home.shape, train_away.shape, y.shape"
   ]
  },
  {
   "cell_type": "code",
   "execution_count": null,
   "metadata": {},
   "outputs": [],
   "source": [
    "tt = games.groupby('game_id')['home_club_id'].count().reset_index()\n",
    "bad_games = tt.loc[tt.home_club_id>1,'game_id'].values"
   ]
  },
  {
   "cell_type": "code",
   "execution_count": 334,
   "metadata": {},
   "outputs": [
    {
     "data": {
      "text/html": [
       "<div>\n",
       "<style scoped>\n",
       "    .dataframe tbody tr th:only-of-type {\n",
       "        vertical-align: middle;\n",
       "    }\n",
       "\n",
       "    .dataframe tbody tr th {\n",
       "        vertical-align: top;\n",
       "    }\n",
       "\n",
       "    .dataframe thead th {\n",
       "        text-align: right;\n",
       "    }\n",
       "</style>\n",
       "<table border=\"1\" class=\"dataframe\">\n",
       "  <thead>\n",
       "    <tr style=\"text-align: right;\">\n",
       "      <th></th>\n",
       "      <th>game_id</th>\n",
       "      <th>home_club_id</th>\n",
       "      <th>away_club_id</th>\n",
       "      <th>home_club_goals</th>\n",
       "      <th>away_club_goals</th>\n",
       "      <th>home_result</th>\n",
       "    </tr>\n",
       "  </thead>\n",
       "  <tbody>\n",
       "    <tr>\n",
       "      <th>22846</th>\n",
       "      <td>3646057</td>\n",
       "      <td>499</td>\n",
       "      <td>58</td>\n",
       "      <td>2</td>\n",
       "      <td>1</td>\n",
       "      <td>0</td>\n",
       "    </tr>\n",
       "    <tr>\n",
       "      <th>24968</th>\n",
       "      <td>3646057</td>\n",
       "      <td>499</td>\n",
       "      <td>58</td>\n",
       "      <td>2</td>\n",
       "      <td>1</td>\n",
       "      <td>0</td>\n",
       "    </tr>\n",
       "  </tbody>\n",
       "</table>\n",
       "</div>"
      ],
      "text/plain": [
       "       game_id  home_club_id  away_club_id  home_club_goals  away_club_goals  \\\n",
       "22846  3646057           499            58                2                1   \n",
       "24968  3646057           499            58                2                1   \n",
       "\n",
       "       home_result  \n",
       "22846            0  \n",
       "24968            0  "
      ]
     },
     "execution_count": 334,
     "metadata": {},
     "output_type": "execute_result"
    }
   ],
   "source": [
    "y2 = games.loc[games.game_id.isin(game_ids),:].reset_index(drop = True)\n",
    "y2.loc[y2.game_id.isin(bad_games),:]"
   ]
  },
  {
   "cell_type": "code",
   "execution_count": 335,
   "metadata": {},
   "outputs": [],
   "source": [
    "y2.drop(24968,inplace = True)"
   ]
  },
  {
   "cell_type": "code",
   "execution_count": 336,
   "metadata": {},
   "outputs": [
    {
     "name": "stderr",
     "output_type": "stream",
     "text": [
      "100%|██████████| 25136/25136 [00:06<00:00, 3702.27it/s]\n"
     ]
    }
   ],
   "source": [
    "y2 = game_ids.progress_apply(lambda x: y2.loc[y2.game_id == x,'home_result'].values[0])\n",
    "y2=y2.values.astype(np.int8)"
   ]
  },
  {
   "cell_type": "code",
   "execution_count": 520,
   "metadata": {},
   "outputs": [],
   "source": [
    "#X = np.stack((train_away, train_home, train_history_full))\n",
    "XH_train, XH_test, XA_train, XA_test, XG_train, XG_test, y_train, y_test = train_test_split(train_home, train_away, train_history_full, y, test_size = 0.25, random_state=0, stratify=y)"
   ]
  },
  {
   "cell_type": "code",
   "execution_count": 521,
   "metadata": {},
   "outputs": [],
   "source": [
    "class DataGenerator2(tf.keras.utils.Sequence):\n",
    "  def __init__(self, xh_data, xa_data, xg_data, y_data, batch_size):\n",
    "    self.xh, self.xa, self.xg, self.y = xh_data, xa_data, xg_data, y_data\n",
    "    self.batch_size = batch_size\n",
    "    self.num_batches = np.ceil(len(xh_data) / batch_size)\n",
    "    self.batch_idx = np.array_split(range(len(xh_data)), self.num_batches)\n",
    "\n",
    "  def __len__(self):\n",
    "    return len(self.batch_idx)\n",
    "\n",
    "  def __getitem__(self, idx):\n",
    "    batch_xh = self.xh[self.batch_idx[idx]]\n",
    "    batch_xa = self.xa[self.batch_idx[idx]]\n",
    "    batch_xg = self.xg[self.batch_idx[idx]]\n",
    "    batch_y = self.y[self.batch_idx[idx]]\n",
    "    return [batch_xh,batch_xa,batch_xg], batch_y\n",
    "\n",
    "train_generator2 = DataGenerator2(XH_train, XA_train, XG_train, y_train, batch_size = 128)\n",
    "val_generator2 = DataGenerator2(XH_test, XA_test, XG_test, y_test, batch_size = 32)"
   ]
  },
  {
   "cell_type": "markdown",
   "metadata": {},
   "source": [
    "# Modèle\n",
    "### home_away history pré-entrainé + game_history à entrainer. à voir où on concatène"
   ]
  },
  {
   "cell_type": "code",
   "execution_count": 381,
   "metadata": {},
   "outputs": [
    {
     "name": "stdout",
     "output_type": "stream",
     "text": [
      "<keras.layers.core.Dense object at 0x192dcae50>\n"
     ]
    },
    {
     "data": {
      "text/plain": [
       "[<keras.engine.input_layer.InputLayer at 0x1953d1bb0>,\n",
       " <keras.engine.input_layer.InputLayer at 0x1952cf7c0>,\n",
       " <keras.layers.recurrent_v2.LSTM at 0x195410c10>,\n",
       " <keras.layers.recurrent_v2.LSTM at 0x19509c5b0>,\n",
       " <keras.layers.merge.Concatenate at 0x1953d18b0>,\n",
       " <keras.layers.core.Dropout at 0x18e5c8070>,\n",
       " <keras.layers.core.Dense at 0x192dcae50>,\n",
       " <keras.layers.core.Dropout at 0x1912e46a0>,\n",
       " <keras.layers.core.Dense at 0x19130f850>,\n",
       " <keras.layers.core.Dropout at 0x18e5c8ca0>,\n",
       " <keras.layers.core.Dense at 0x192db1d00>]"
      ]
     },
     "execution_count": 381,
     "metadata": {},
     "output_type": "execute_result"
    }
   ],
   "source": [
    "print(model_lstm.layers[-5])\n",
    "model_lstm.layers"
   ]
  },
  {
   "cell_type": "code",
   "execution_count": 394,
   "metadata": {},
   "outputs": [],
   "source": [
    "HA_hist_LSTM = tf.keras.Model(model_lstm.inputs,model_lstm.layers[-5].output)\n",
    "HA_hist_LSTM.trainable = True\n",
    "HA_hist_LSTM.layers[0].trainable = False\n",
    "HA_hist_LSTM.layers[1].trainable = False"
   ]
  },
  {
   "cell_type": "code",
   "execution_count": 392,
   "metadata": {},
   "outputs": [
    {
     "data": {
      "text/plain": [
       "[<keras.engine.input_layer.InputLayer at 0x1953d1bb0>,\n",
       " <keras.engine.input_layer.InputLayer at 0x1952cf7c0>]"
      ]
     },
     "execution_count": 392,
     "metadata": {},
     "output_type": "execute_result"
    }
   ],
   "source": [
    "HA_hist_LSTM.layers[:2]"
   ]
  },
  {
   "cell_type": "code",
   "execution_count": 522,
   "metadata": {},
   "outputs": [],
   "source": [
    "home_input = tf.keras.Input(shape = (10,6), name = 'home_train_input')                                  #input 1\n",
    "away_input = tf.keras.Input(shape = (10,6), name = 'away_train_input')                                  #input 2\n",
    "LSTM_output = HA_hist_LSTM([home_input,away_input])  \n",
    "\n",
    "game_input = tf.keras.Input(shape = (5,8), name = 'game_train_input')                                   #input 3\n",
    "game_LSTM_2 = tf.keras.layers.LSTM(32, kernel_regularizer = L1L2(l1=0.001, l2=0.02), name = 'game_LSTM_2')(game_input)\n",
    "Dense1 = tf.keras.layers.Dense(128,'relu',name='Dense1')(game_LSTM_2)\n",
    "#Dense1 = tf.keras.layers.Dropout(0.234375)(Dense1)\n",
    "\n",
    "\n",
    "concat = tf.keras.layers.Concatenate()([LSTM_output, Dense1])\n",
    "concat = tf.keras.layers.Dropout(0.2)(concat)\n",
    "\n",
    "Dense2 = tf.keras.layers.Dense(32,'relu',name='Dense2')(concat)\n",
    "Dense2 = tf.keras.layers.Dropout(0.125)(Dense2)\n",
    "\n",
    "Dense_output = tf.keras.layers.Dense(3, 'softmax', name='output')(Dense2)"
   ]
  },
  {
   "cell_type": "code",
   "execution_count": 540,
   "metadata": {},
   "outputs": [],
   "source": [
    "\n",
    "home_input = tf.keras.Input(shape = (10,6) , name = 'home_train_input')                                   #input 1\n",
    "home_LSTM_1 = tf.keras.layers.LSTM(32, kernel_regularizer = L1L2(l1=0.01, l2=0.01), name = 'home_LSTM_1')(home_input)\n",
    "\n",
    "away_input = tf.keras.Input(shape = (10,6), name = 'away_train_input')                                   #input 2\n",
    "away_LSTM_1 = tf.keras.layers.LSTM(32, kernel_regularizer = L1L2(l1=0.01, l2=0.01), name = 'away_LSTM_1')(away_input)\n",
    "\n",
    "h_a = tf.keras.layers.Concatenate()([home_LSTM_1,away_LSTM_1])\n",
    "h_a = tf.keras.layers.Dropout(0.234375)(h_a)\n",
    "Dense1 = tf.keras.layers.Dense(64,'relu',name='Dense1')(h_a)\n",
    "Dense1 = tf.keras.layers.Dropout(0.234375)(Dense1)\n",
    "Dense2 = tf.keras.layers.Dense(16,'relu',name='Dense2')(Dense1)\n",
    "Dense2 = tf.keras.layers.Dropout(0.125)(Dense2)\n",
    "\n",
    "\n",
    "game_input = tf.keras.Input(shape = (5,8), name = 'game_train_input')                                   #input 3\n",
    "game_LSTM_1 = tf.keras.layers.LSTM(32, kernel_regularizer = L1L2(l1=0.001, l2=0.02), name = 'game_LSTM_1')(game_input)\n",
    "\n",
    "\n",
    "h_a_g = tf.keras.layers.Concatenate()([Dense2,game_LSTM_1])\n",
    "Dense3 = tf.keras.layers.Dense(64,'relu',name='Dense3')(h_a_g)\n",
    "Dense3 = tf.keras.layers.Dropout(0.125)(Dense3)\n",
    "\n",
    "\n",
    "\n",
    "Dense_output = tf.keras.layers.Dense(3, 'softmax', name='output')(Dense3)"
   ]
  },
  {
   "cell_type": "code",
   "execution_count": 541,
   "metadata": {},
   "outputs": [],
   "source": [
    "model_lstm2 = tf.keras.Model(inputs=[home_input,away_input,game_input], outputs=Dense_output)"
   ]
  },
  {
   "cell_type": "code",
   "execution_count": 542,
   "metadata": {},
   "outputs": [],
   "source": [
    "opt = Adam(0.0003)\n",
    "loss = SparseCategoricalCrossentropy()\n",
    "metric = tf.keras.metrics.SparseCategoricalAccuracy()\n",
    "model_lstm2.compile(optimizer=opt, loss=loss, metrics = [metric])"
   ]
  },
  {
   "cell_type": "code",
   "execution_count": 543,
   "metadata": {},
   "outputs": [
    {
     "name": "stdout",
     "output_type": "stream",
     "text": [
      "6  32  128  6  32  128  64  64  64  16  16  3  "
     ]
    },
    {
     "data": {
      "text/plain": [
       "[64, 64]"
      ]
     },
     "execution_count": 543,
     "metadata": {},
     "output_type": "execute_result"
    }
   ],
   "source": [
    "for weight in weights_list:\n",
    "    print(len(weight),end='  ')\n",
    "\n",
    "[len(x) for x in model_lstm2.layers[6].get_weights()]"
   ]
  },
  {
   "cell_type": "code",
   "execution_count": 544,
   "metadata": {},
   "outputs": [],
   "source": [
    "# initialisons les poids de ce modèle avec les poids du dernier modèle\n",
    "weights_list = model_lstm.get_weights()\n",
    "model_lstm2.layers[2].set_weights([x for x in weights_list[:3]])\n",
    "model_lstm2.layers[3].set_weights([x for x in weights_list[3:6]])\n",
    "model_lstm2.layers[6].set_weights([x for x in weights_list[6:8]])\n",
    "model_lstm2.layers[8].set_weights([x for x in weights_list[8:10]])\n",
    "\n",
    "\n",
    "\n"
   ]
  },
  {
   "cell_type": "code",
   "execution_count": 545,
   "metadata": {},
   "outputs": [
    {
     "data": {
      "text/html": [
       "Finishing last run (ID:1lbaex39) before initializing another..."
      ],
      "text/plain": [
       "<IPython.core.display.HTML object>"
      ]
     },
     "metadata": {},
     "output_type": "display_data"
    },
    {
     "data": {
      "text/html": [
       "<br/>Waiting for W&B process to finish, PID 32653... <strong style=\"color:green\">(success).</strong>"
      ],
      "text/plain": [
       "<IPython.core.display.HTML object>"
      ]
     },
     "metadata": {},
     "output_type": "display_data"
    },
    {
     "data": {
      "application/vnd.jupyter.widget-view+json": {
       "model_id": "469aaa6a9a6549f1b136230040f0942c",
       "version_major": 2,
       "version_minor": 0
      },
      "text/plain": [
       "VBox(children=(Label(value=' 0.36MB of 0.36MB uploaded (0.00MB deduped)\\r'), FloatProgress(value=1.0, max=1.0)…"
      ]
     },
     "metadata": {},
     "output_type": "display_data"
    },
    {
     "data": {
      "text/html": [
       "<style>\n",
       "    table.wandb td:nth-child(1) { padding: 0 10px; text-align: right }\n",
       "    .wandb-row { display: flex; flex-direction: row; flex-wrap: wrap; width: 100% }\n",
       "    .wandb-col { display: flex; flex-direction: column; flex-basis: 100%; flex: 1; padding: 10px; }\n",
       "    </style>\n",
       "<div class=\"wandb-row\"><div class=\"wandb-col\">\n",
       "<h3>Run history:</h3><br/><table class=\"wandb\"><tr><td>epoch</td><td>▁▁▁▁▂▂▂▂▂▃▃▃▃▃▃▄▄▄▄▄▅▅▅▅▅▅▆▆▆▆▆▆▇▇▇▇▇███</td></tr><tr><td>loss</td><td>█▅▄▄▄▄▃▃▃▃▃▃▃▃▃▃▃▃▃▃▃▃▃▃▂▂▂▂▂▂▂▂▂▂▂▂▂▁▁▁</td></tr><tr><td>sparse_categorical_accuracy</td><td>▁▃▃▃▄▂▃▄▄▄▅▄▄▄▄▄▅▄▄▅▄▅▅▄▅▅▅▅▆▆▄▅▇▅▃▅▅█▆▆</td></tr><tr><td>val_loss</td><td>█▄▂▂▂▃▁▁▁▁▂▂▁▁▂▁▂▁▃▂▂▁▃▂▂▂▂█▂▅▃▃▂▃▂▃▃▃▃▃</td></tr><tr><td>val_sparse_categorical_accuracy</td><td>▅▆▆█▇▃▆▆▅▄▃▇▇▇▇▆▆▆▆▅▇▇▄▅▆▅▆▁▇▅▆▅▆▅▅▅▅▄▅▅</td></tr></table><br/></div><div class=\"wandb-col\">\n",
       "<h3>Run summary:</h3><br/><table class=\"wandb\"><tr><td>best_epoch</td><td>87</td></tr><tr><td>best_val_loss</td><td>0.98662</td></tr><tr><td>epoch</td><td>299</td></tr><tr><td>loss</td><td>0.97869</td></tr><tr><td>sparse_categorical_accuracy</td><td>0.52861</td></tr><tr><td>val_loss</td><td>0.99039</td></tr><tr><td>val_sparse_categorical_accuracy</td><td>0.52085</td></tr></table>\n",
       "</div></div>\n",
       "Synced 6 W&B file(s), 1 media file(s), 0 artifact file(s) and 1 other file(s)\n",
       "<br/>Synced <strong style=\"color:#cdcd00\">hearty-donkey-20</strong>: <a href=\"https://wandb.ai/padda/foot_LSTM_only_with_regularization2/runs/1lbaex39\" target=\"_blank\">https://wandb.ai/padda/foot_LSTM_only_with_regularization2/runs/1lbaex39</a><br/>\n",
       "Find logs at: <code>./wandb/run-20220122_220507-1lbaex39/logs</code><br/>\n"
      ],
      "text/plain": [
       "<IPython.core.display.HTML object>"
      ]
     },
     "metadata": {},
     "output_type": "display_data"
    },
    {
     "data": {
      "text/html": [
       "Successfully finished last run (ID:1lbaex39). Initializing new run:<br/>"
      ],
      "text/plain": [
       "<IPython.core.display.HTML object>"
      ]
     },
     "metadata": {},
     "output_type": "display_data"
    },
    {
     "data": {
      "text/html": [
       "\n",
       "                    Syncing run <strong><a href=\"https://wandb.ai/padda/foot_LSTM_only_with_regularization2/runs/ydq7ds4p\" target=\"_blank\">worthy-bird-21</a></strong> to <a href=\"https://wandb.ai/padda/foot_LSTM_only_with_regularization2\" target=\"_blank\">Weights & Biases</a> (<a href=\"https://docs.wandb.com/integrations/jupyter.html\" target=\"_blank\">docs</a>).<br/>\n",
       "\n",
       "                "
      ],
      "text/plain": [
       "<IPython.core.display.HTML object>"
      ]
     },
     "metadata": {},
     "output_type": "display_data"
    },
    {
     "name": "stdout",
     "output_type": "stream",
     "text": [
      "Epoch 1/150\n",
      "250/250 [==============================] - 16s 30ms/step - loss: 1.2841 - sparse_categorical_accuracy: 0.4959 - val_loss: 1.1480 - val_sparse_categorical_accuracy: 0.5199\n",
      "Epoch 2/150\n",
      "250/250 [==============================] - 4s 15ms/step - loss: 1.0868 - sparse_categorical_accuracy: 0.5211 - val_loss: 1.0412 - val_sparse_categorical_accuracy: 0.5225\n",
      "Epoch 3/150\n",
      "250/250 [==============================] - 4s 18ms/step - loss: 1.0215 - sparse_categorical_accuracy: 0.5209 - val_loss: 1.0070 - val_sparse_categorical_accuracy: 0.5182\n",
      "Epoch 4/150\n",
      "250/250 [==============================] - 3s 14ms/step - loss: 1.0005 - sparse_categorical_accuracy: 0.5218 - val_loss: 0.9962 - val_sparse_categorical_accuracy: 0.5193\n",
      "Epoch 5/150\n",
      "250/250 [==============================] - 3s 13ms/step - loss: 0.9955 - sparse_categorical_accuracy: 0.5211 - val_loss: 0.9942 - val_sparse_categorical_accuracy: 0.5206\n",
      "Epoch 6/150\n",
      "250/250 [==============================] - 4s 14ms/step - loss: 0.9919 - sparse_categorical_accuracy: 0.5244 - val_loss: 0.9920 - val_sparse_categorical_accuracy: 0.5246\n",
      "Epoch 7/150\n",
      "250/250 [==============================] - 4s 14ms/step - loss: 0.9923 - sparse_categorical_accuracy: 0.5214 - val_loss: 0.9921 - val_sparse_categorical_accuracy: 0.5243\n",
      "Epoch 8/150\n",
      "250/250 [==============================] - 3s 14ms/step - loss: 0.9900 - sparse_categorical_accuracy: 0.5228 - val_loss: 0.9906 - val_sparse_categorical_accuracy: 0.5213\n",
      "Epoch 9/150\n",
      "250/250 [==============================] - 3s 14ms/step - loss: 0.9902 - sparse_categorical_accuracy: 0.5228 - val_loss: 0.9906 - val_sparse_categorical_accuracy: 0.5235\n",
      "Epoch 10/150\n",
      "250/250 [==============================] - 3s 14ms/step - loss: 0.9910 - sparse_categorical_accuracy: 0.5220 - val_loss: 0.9908 - val_sparse_categorical_accuracy: 0.5194\n",
      "Epoch 11/150\n",
      "250/250 [==============================] - 3s 13ms/step - loss: 0.9897 - sparse_categorical_accuracy: 0.5205 - val_loss: 0.9911 - val_sparse_categorical_accuracy: 0.5224\n",
      "Epoch 12/150\n",
      "250/250 [==============================] - 3s 13ms/step - loss: 0.9893 - sparse_categorical_accuracy: 0.5223 - val_loss: 0.9898 - val_sparse_categorical_accuracy: 0.5198\n",
      "Epoch 13/150\n",
      "250/250 [==============================] - 3s 13ms/step - loss: 0.9903 - sparse_categorical_accuracy: 0.5227 - val_loss: 0.9909 - val_sparse_categorical_accuracy: 0.5203\n",
      "Epoch 14/150\n",
      "250/250 [==============================] - 3s 13ms/step - loss: 0.9886 - sparse_categorical_accuracy: 0.5234 - val_loss: 0.9908 - val_sparse_categorical_accuracy: 0.5204\n",
      "Epoch 15/150\n",
      "250/250 [==============================] - 3s 13ms/step - loss: 0.9901 - sparse_categorical_accuracy: 0.5226 - val_loss: 0.9891 - val_sparse_categorical_accuracy: 0.5200\n",
      "Epoch 16/150\n",
      "250/250 [==============================] - 3s 13ms/step - loss: 0.9892 - sparse_categorical_accuracy: 0.5205 - val_loss: 0.9881 - val_sparse_categorical_accuracy: 0.5223\n",
      "Epoch 17/150\n",
      "250/250 [==============================] - 3s 13ms/step - loss: 0.9880 - sparse_categorical_accuracy: 0.5228 - val_loss: 0.9889 - val_sparse_categorical_accuracy: 0.5203\n",
      "Epoch 18/150\n",
      "250/250 [==============================] - 4s 16ms/step - loss: 0.9883 - sparse_categorical_accuracy: 0.5237 - val_loss: 0.9921 - val_sparse_categorical_accuracy: 0.5194\n",
      "Epoch 19/150\n",
      "250/250 [==============================] - 3s 14ms/step - loss: 0.9875 - sparse_categorical_accuracy: 0.5239 - val_loss: 0.9881 - val_sparse_categorical_accuracy: 0.5245\n",
      "Epoch 20/150\n",
      "250/250 [==============================] - 3s 14ms/step - loss: 0.9872 - sparse_categorical_accuracy: 0.5214 - val_loss: 0.9889 - val_sparse_categorical_accuracy: 0.5254\n",
      "Epoch 21/150\n",
      "250/250 [==============================] - 3s 13ms/step - loss: 0.9891 - sparse_categorical_accuracy: 0.5243 - val_loss: 0.9898 - val_sparse_categorical_accuracy: 0.5210\n",
      "Epoch 22/150\n",
      "250/250 [==============================] - 3s 13ms/step - loss: 0.9872 - sparse_categorical_accuracy: 0.5235 - val_loss: 0.9880 - val_sparse_categorical_accuracy: 0.5240\n",
      "Epoch 23/150\n",
      "250/250 [==============================] - 3s 13ms/step - loss: 0.9879 - sparse_categorical_accuracy: 0.5230 - val_loss: 0.9969 - val_sparse_categorical_accuracy: 0.5152\n",
      "Epoch 24/150\n",
      "250/250 [==============================] - 3s 13ms/step - loss: 0.9881 - sparse_categorical_accuracy: 0.5268 - val_loss: 0.9879 - val_sparse_categorical_accuracy: 0.5209\n",
      "Epoch 25/150\n",
      "250/250 [==============================] - 4s 14ms/step - loss: 0.9884 - sparse_categorical_accuracy: 0.5211 - val_loss: 0.9885 - val_sparse_categorical_accuracy: 0.5237\n",
      "Epoch 26/150\n",
      "250/250 [==============================] - 3s 13ms/step - loss: 0.9882 - sparse_categorical_accuracy: 0.5231 - val_loss: 0.9889 - val_sparse_categorical_accuracy: 0.5233\n",
      "Epoch 27/150\n",
      "250/250 [==============================] - 3s 13ms/step - loss: 0.9872 - sparse_categorical_accuracy: 0.5234 - val_loss: 0.9878 - val_sparse_categorical_accuracy: 0.5251\n",
      "Epoch 28/150\n",
      "250/250 [==============================] - 3s 13ms/step - loss: 0.9866 - sparse_categorical_accuracy: 0.5238 - val_loss: 0.9905 - val_sparse_categorical_accuracy: 0.5232\n",
      "Epoch 29/150\n",
      "250/250 [==============================] - 3s 13ms/step - loss: 0.9878 - sparse_categorical_accuracy: 0.5224 - val_loss: 0.9889 - val_sparse_categorical_accuracy: 0.5209\n",
      "Epoch 30/150\n",
      "250/250 [==============================] - 3s 13ms/step - loss: 0.9868 - sparse_categorical_accuracy: 0.5230 - val_loss: 0.9883 - val_sparse_categorical_accuracy: 0.5213\n",
      "Epoch 31/150\n",
      "250/250 [==============================] - 3s 13ms/step - loss: 0.9867 - sparse_categorical_accuracy: 0.5231 - val_loss: 0.9884 - val_sparse_categorical_accuracy: 0.5220\n",
      "Epoch 32/150\n",
      "250/250 [==============================] - 4s 14ms/step - loss: 0.9859 - sparse_categorical_accuracy: 0.5245 - val_loss: 0.9893 - val_sparse_categorical_accuracy: 0.5222\n",
      "Epoch 33/150\n",
      "250/250 [==============================] - 3s 14ms/step - loss: 0.9864 - sparse_categorical_accuracy: 0.5244 - val_loss: 0.9875 - val_sparse_categorical_accuracy: 0.5206\n",
      "Epoch 34/150\n",
      "250/250 [==============================] - 3s 13ms/step - loss: 0.9874 - sparse_categorical_accuracy: 0.5233 - val_loss: 0.9879 - val_sparse_categorical_accuracy: 0.5218\n",
      "Epoch 35/150\n",
      "250/250 [==============================] - 3s 13ms/step - loss: 0.9874 - sparse_categorical_accuracy: 0.5234 - val_loss: 0.9890 - val_sparse_categorical_accuracy: 0.5224\n",
      "Epoch 36/150\n",
      "250/250 [==============================] - 3s 14ms/step - loss: 0.9870 - sparse_categorical_accuracy: 0.5229 - val_loss: 0.9887 - val_sparse_categorical_accuracy: 0.5225\n",
      "Epoch 37/150\n",
      "250/250 [==============================] - 3s 13ms/step - loss: 0.9865 - sparse_categorical_accuracy: 0.5229 - val_loss: 0.9891 - val_sparse_categorical_accuracy: 0.5214\n",
      "Epoch 38/150\n",
      "250/250 [==============================] - 3s 14ms/step - loss: 0.9871 - sparse_categorical_accuracy: 0.5226 - val_loss: 0.9883 - val_sparse_categorical_accuracy: 0.5219\n",
      "Epoch 39/150\n",
      "250/250 [==============================] - 3s 13ms/step - loss: 0.9862 - sparse_categorical_accuracy: 0.5250 - val_loss: 0.9874 - val_sparse_categorical_accuracy: 0.5218\n",
      "Epoch 40/150\n",
      "250/250 [==============================] - 3s 14ms/step - loss: 0.9866 - sparse_categorical_accuracy: 0.5227 - val_loss: 0.9888 - val_sparse_categorical_accuracy: 0.5232\n",
      "Epoch 41/150\n",
      "250/250 [==============================] - 3s 14ms/step - loss: 0.9872 - sparse_categorical_accuracy: 0.5229 - val_loss: 0.9890 - val_sparse_categorical_accuracy: 0.5203\n",
      "Epoch 42/150\n",
      "250/250 [==============================] - 3s 13ms/step - loss: 0.9869 - sparse_categorical_accuracy: 0.5228 - val_loss: 0.9885 - val_sparse_categorical_accuracy: 0.5227\n",
      "Epoch 43/150\n",
      "250/250 [==============================] - 4s 14ms/step - loss: 0.9865 - sparse_categorical_accuracy: 0.5230 - val_loss: 0.9910 - val_sparse_categorical_accuracy: 0.5215\n",
      "Epoch 44/150\n",
      "250/250 [==============================] - 3s 14ms/step - loss: 0.9866 - sparse_categorical_accuracy: 0.5244 - val_loss: 0.9883 - val_sparse_categorical_accuracy: 0.5226\n",
      "Epoch 45/150\n",
      "250/250 [==============================] - 3s 13ms/step - loss: 0.9862 - sparse_categorical_accuracy: 0.5260 - val_loss: 0.9886 - val_sparse_categorical_accuracy: 0.5221\n",
      "Epoch 46/150\n",
      "250/250 [==============================] - 3s 14ms/step - loss: 0.9853 - sparse_categorical_accuracy: 0.5236 - val_loss: 0.9883 - val_sparse_categorical_accuracy: 0.5225\n",
      "Epoch 47/150\n",
      "250/250 [==============================] - 3s 13ms/step - loss: 0.9860 - sparse_categorical_accuracy: 0.5232 - val_loss: 0.9878 - val_sparse_categorical_accuracy: 0.5205\n",
      "Epoch 48/150\n",
      "250/250 [==============================] - 3s 13ms/step - loss: 0.9856 - sparse_categorical_accuracy: 0.5250 - val_loss: 0.9894 - val_sparse_categorical_accuracy: 0.5189\n",
      "Epoch 49/150\n",
      "250/250 [==============================] - 3s 14ms/step - loss: 0.9867 - sparse_categorical_accuracy: 0.5248 - val_loss: 0.9878 - val_sparse_categorical_accuracy: 0.5220\n",
      "Epoch 50/150\n",
      "250/250 [==============================] - 3s 13ms/step - loss: 0.9857 - sparse_categorical_accuracy: 0.5246 - val_loss: 0.9876 - val_sparse_categorical_accuracy: 0.5231\n",
      "Epoch 51/150\n",
      "250/250 [==============================] - 4s 14ms/step - loss: 0.9858 - sparse_categorical_accuracy: 0.5251 - val_loss: 0.9876 - val_sparse_categorical_accuracy: 0.5231\n",
      "Epoch 52/150\n",
      "250/250 [==============================] - 3s 13ms/step - loss: 0.9859 - sparse_categorical_accuracy: 0.5241 - val_loss: 0.9888 - val_sparse_categorical_accuracy: 0.5229\n",
      "Epoch 53/150\n",
      "250/250 [==============================] - 3s 14ms/step - loss: 0.9866 - sparse_categorical_accuracy: 0.5239 - val_loss: 0.9887 - val_sparse_categorical_accuracy: 0.5233\n",
      "Epoch 54/150\n",
      "250/250 [==============================] - 3s 13ms/step - loss: 0.9867 - sparse_categorical_accuracy: 0.5230 - val_loss: 0.9894 - val_sparse_categorical_accuracy: 0.5208\n",
      "Epoch 55/150\n",
      "250/250 [==============================] - 3s 13ms/step - loss: 0.9851 - sparse_categorical_accuracy: 0.5250 - val_loss: 0.9919 - val_sparse_categorical_accuracy: 0.5202\n",
      "Epoch 56/150\n",
      "250/250 [==============================] - 3s 13ms/step - loss: 0.9863 - sparse_categorical_accuracy: 0.5225 - val_loss: 0.9887 - val_sparse_categorical_accuracy: 0.5226\n",
      "Epoch 57/150\n",
      "250/250 [==============================] - 3s 13ms/step - loss: 0.9863 - sparse_categorical_accuracy: 0.5238 - val_loss: 0.9883 - val_sparse_categorical_accuracy: 0.5219\n",
      "Epoch 58/150\n",
      "250/250 [==============================] - 3s 13ms/step - loss: 0.9866 - sparse_categorical_accuracy: 0.5233 - val_loss: 0.9890 - val_sparse_categorical_accuracy: 0.5221\n",
      "Epoch 59/150\n",
      "250/250 [==============================] - 3s 13ms/step - loss: 0.9859 - sparse_categorical_accuracy: 0.5252 - val_loss: 0.9886 - val_sparse_categorical_accuracy: 0.5219\n",
      "Epoch 60/150\n",
      "250/250 [==============================] - 3s 14ms/step - loss: 0.9842 - sparse_categorical_accuracy: 0.5268 - val_loss: 0.9871 - val_sparse_categorical_accuracy: 0.5220\n",
      "Epoch 61/150\n",
      "250/250 [==============================] - 3s 13ms/step - loss: 0.9853 - sparse_categorical_accuracy: 0.5236 - val_loss: 0.9886 - val_sparse_categorical_accuracy: 0.5223\n",
      "Epoch 62/150\n",
      "250/250 [==============================] - 3s 13ms/step - loss: 0.9859 - sparse_categorical_accuracy: 0.5241 - val_loss: 0.9877 - val_sparse_categorical_accuracy: 0.5244\n",
      "Epoch 63/150\n",
      "250/250 [==============================] - 3s 13ms/step - loss: 0.9845 - sparse_categorical_accuracy: 0.5248 - val_loss: 0.9888 - val_sparse_categorical_accuracy: 0.5220\n",
      "Epoch 64/150\n",
      "250/250 [==============================] - 3s 13ms/step - loss: 0.9853 - sparse_categorical_accuracy: 0.5221 - val_loss: 0.9903 - val_sparse_categorical_accuracy: 0.5218\n",
      "Epoch 65/150\n",
      "250/250 [==============================] - 3s 13ms/step - loss: 0.9853 - sparse_categorical_accuracy: 0.5231 - val_loss: 0.9903 - val_sparse_categorical_accuracy: 0.5240\n",
      "Epoch 66/150\n",
      "250/250 [==============================] - 4s 14ms/step - loss: 0.9844 - sparse_categorical_accuracy: 0.5249 - val_loss: 0.9876 - val_sparse_categorical_accuracy: 0.5231\n",
      "Epoch 67/150\n",
      "250/250 [==============================] - 3s 13ms/step - loss: 0.9851 - sparse_categorical_accuracy: 0.5248 - val_loss: 0.9869 - val_sparse_categorical_accuracy: 0.5198\n",
      "Epoch 68/150\n",
      "250/250 [==============================] - 3s 13ms/step - loss: 0.9844 - sparse_categorical_accuracy: 0.5260 - val_loss: 0.9871 - val_sparse_categorical_accuracy: 0.5221\n",
      "Epoch 69/150\n",
      "250/250 [==============================] - 3s 13ms/step - loss: 0.9858 - sparse_categorical_accuracy: 0.5239 - val_loss: 0.9885 - val_sparse_categorical_accuracy: 0.5204\n",
      "Epoch 70/150\n",
      "250/250 [==============================] - 3s 13ms/step - loss: 0.9850 - sparse_categorical_accuracy: 0.5233 - val_loss: 0.9878 - val_sparse_categorical_accuracy: 0.5227\n",
      "Epoch 71/150\n",
      "250/250 [==============================] - 3s 12ms/step - loss: 0.9850 - sparse_categorical_accuracy: 0.5226 - val_loss: 0.9897 - val_sparse_categorical_accuracy: 0.5187\n",
      "Epoch 72/150\n",
      "250/250 [==============================] - 3s 13ms/step - loss: 0.9846 - sparse_categorical_accuracy: 0.5257 - val_loss: 0.9878 - val_sparse_categorical_accuracy: 0.5208\n",
      "Epoch 73/150\n",
      "250/250 [==============================] - 3s 13ms/step - loss: 0.9854 - sparse_categorical_accuracy: 0.5240 - val_loss: 0.9892 - val_sparse_categorical_accuracy: 0.5224\n",
      "Epoch 74/150\n",
      "250/250 [==============================] - 3s 12ms/step - loss: 0.9847 - sparse_categorical_accuracy: 0.5249 - val_loss: 0.9882 - val_sparse_categorical_accuracy: 0.5205\n",
      "Epoch 75/150\n",
      "250/250 [==============================] - 3s 13ms/step - loss: 0.9852 - sparse_categorical_accuracy: 0.5226 - val_loss: 0.9894 - val_sparse_categorical_accuracy: 0.5208\n",
      "Epoch 76/150\n",
      "250/250 [==============================] - 3s 12ms/step - loss: 0.9844 - sparse_categorical_accuracy: 0.5256 - val_loss: 0.9890 - val_sparse_categorical_accuracy: 0.5216\n",
      "Epoch 77/150\n",
      "250/250 [==============================] - 3s 13ms/step - loss: 0.9861 - sparse_categorical_accuracy: 0.5231 - val_loss: 0.9879 - val_sparse_categorical_accuracy: 0.5178\n",
      "Epoch 78/150\n",
      "250/250 [==============================] - 3s 12ms/step - loss: 0.9860 - sparse_categorical_accuracy: 0.5264 - val_loss: 0.9871 - val_sparse_categorical_accuracy: 0.5199\n",
      "Epoch 79/150\n",
      "250/250 [==============================] - 3s 12ms/step - loss: 0.9860 - sparse_categorical_accuracy: 0.5247 - val_loss: 0.9883 - val_sparse_categorical_accuracy: 0.5202\n",
      "Epoch 80/150\n",
      "250/250 [==============================] - 4s 14ms/step - loss: 0.9858 - sparse_categorical_accuracy: 0.5222 - val_loss: 0.9874 - val_sparse_categorical_accuracy: 0.5232\n",
      "Epoch 81/150\n",
      "250/250 [==============================] - 3s 13ms/step - loss: 0.9860 - sparse_categorical_accuracy: 0.5241 - val_loss: 0.9873 - val_sparse_categorical_accuracy: 0.5201\n",
      "Epoch 82/150\n",
      "250/250 [==============================] - 3s 13ms/step - loss: 0.9858 - sparse_categorical_accuracy: 0.5212 - val_loss: 0.9878 - val_sparse_categorical_accuracy: 0.5229\n",
      "Epoch 83/150\n",
      "250/250 [==============================] - 3s 13ms/step - loss: 0.9849 - sparse_categorical_accuracy: 0.5245 - val_loss: 0.9887 - val_sparse_categorical_accuracy: 0.5230\n",
      "Epoch 84/150\n",
      "250/250 [==============================] - 3s 12ms/step - loss: 0.9852 - sparse_categorical_accuracy: 0.5240 - val_loss: 0.9968 - val_sparse_categorical_accuracy: 0.5194\n",
      "Epoch 85/150\n",
      "250/250 [==============================] - 3s 13ms/step - loss: 0.9844 - sparse_categorical_accuracy: 0.5239 - val_loss: 0.9872 - val_sparse_categorical_accuracy: 0.5211\n",
      "Epoch 86/150\n",
      "250/250 [==============================] - 3s 13ms/step - loss: 0.9841 - sparse_categorical_accuracy: 0.5245 - val_loss: 0.9884 - val_sparse_categorical_accuracy: 0.5239\n",
      "Epoch 87/150\n",
      "250/250 [==============================] - 3s 12ms/step - loss: 0.9848 - sparse_categorical_accuracy: 0.5241 - val_loss: 0.9873 - val_sparse_categorical_accuracy: 0.5243\n",
      "Epoch 88/150\n",
      "250/250 [==============================] - 3s 12ms/step - loss: 0.9839 - sparse_categorical_accuracy: 0.5260 - val_loss: 0.9878 - val_sparse_categorical_accuracy: 0.5230\n",
      "Epoch 89/150\n",
      "250/250 [==============================] - 3s 12ms/step - loss: 0.9849 - sparse_categorical_accuracy: 0.5240 - val_loss: 0.9875 - val_sparse_categorical_accuracy: 0.5231\n",
      "Epoch 90/150\n",
      "250/250 [==============================] - 3s 12ms/step - loss: 0.9855 - sparse_categorical_accuracy: 0.5244 - val_loss: 0.9876 - val_sparse_categorical_accuracy: 0.5222\n",
      "Epoch 91/150\n",
      "250/250 [==============================] - 3s 12ms/step - loss: 0.9851 - sparse_categorical_accuracy: 0.5245 - val_loss: 0.9913 - val_sparse_categorical_accuracy: 0.5239\n",
      "Epoch 92/150\n",
      "250/250 [==============================] - 3s 13ms/step - loss: 0.9848 - sparse_categorical_accuracy: 0.5242 - val_loss: 0.9869 - val_sparse_categorical_accuracy: 0.5215\n",
      "Epoch 93/150\n",
      "250/250 [==============================] - 3s 12ms/step - loss: 0.9843 - sparse_categorical_accuracy: 0.5267 - val_loss: 0.9886 - val_sparse_categorical_accuracy: 0.5229\n",
      "Epoch 94/150\n",
      "250/250 [==============================] - 3s 13ms/step - loss: 0.9845 - sparse_categorical_accuracy: 0.5242 - val_loss: 0.9876 - val_sparse_categorical_accuracy: 0.5202\n",
      "Epoch 95/150\n",
      "250/250 [==============================] - 3s 13ms/step - loss: 0.9846 - sparse_categorical_accuracy: 0.5256 - val_loss: 0.9876 - val_sparse_categorical_accuracy: 0.5205\n",
      "Epoch 96/150\n",
      "250/250 [==============================] - 3s 13ms/step - loss: 0.9854 - sparse_categorical_accuracy: 0.5230 - val_loss: 0.9869 - val_sparse_categorical_accuracy: 0.5216\n",
      "Epoch 97/150\n",
      "250/250 [==============================] - 3s 12ms/step - loss: 0.9844 - sparse_categorical_accuracy: 0.5224 - val_loss: 0.9883 - val_sparse_categorical_accuracy: 0.5189\n",
      "Epoch 98/150\n",
      "250/250 [==============================] - 3s 12ms/step - loss: 0.9845 - sparse_categorical_accuracy: 0.5250 - val_loss: 0.9876 - val_sparse_categorical_accuracy: 0.5193\n",
      "Epoch 99/150\n",
      "250/250 [==============================] - 3s 12ms/step - loss: 0.9858 - sparse_categorical_accuracy: 0.5234 - val_loss: 0.9891 - val_sparse_categorical_accuracy: 0.5225\n",
      "Epoch 100/150\n",
      "250/250 [==============================] - 3s 12ms/step - loss: 0.9847 - sparse_categorical_accuracy: 0.5233 - val_loss: 0.9884 - val_sparse_categorical_accuracy: 0.5227\n",
      "Epoch 101/150\n",
      "250/250 [==============================] - 3s 13ms/step - loss: 0.9849 - sparse_categorical_accuracy: 0.5241 - val_loss: 0.9873 - val_sparse_categorical_accuracy: 0.5224\n",
      "Epoch 102/150\n",
      "250/250 [==============================] - 3s 12ms/step - loss: 0.9832 - sparse_categorical_accuracy: 0.5270 - val_loss: 0.9872 - val_sparse_categorical_accuracy: 0.5228\n",
      "Epoch 103/150\n",
      "250/250 [==============================] - 3s 12ms/step - loss: 0.9844 - sparse_categorical_accuracy: 0.5259 - val_loss: 0.9899 - val_sparse_categorical_accuracy: 0.5177\n",
      "Epoch 104/150\n",
      "250/250 [==============================] - 3s 12ms/step - loss: 0.9851 - sparse_categorical_accuracy: 0.5257 - val_loss: 0.9878 - val_sparse_categorical_accuracy: 0.5225\n",
      "Epoch 105/150\n",
      "250/250 [==============================] - 3s 12ms/step - loss: 0.9838 - sparse_categorical_accuracy: 0.5233 - val_loss: 0.9872 - val_sparse_categorical_accuracy: 0.5204\n",
      "Epoch 106/150\n",
      "250/250 [==============================] - 3s 13ms/step - loss: 0.9842 - sparse_categorical_accuracy: 0.5233 - val_loss: 0.9873 - val_sparse_categorical_accuracy: 0.5218\n",
      "Epoch 107/150\n",
      "250/250 [==============================] - 3s 12ms/step - loss: 0.9840 - sparse_categorical_accuracy: 0.5264 - val_loss: 0.9883 - val_sparse_categorical_accuracy: 0.5210\n",
      "Epoch 108/150\n",
      "250/250 [==============================] - 3s 12ms/step - loss: 0.9855 - sparse_categorical_accuracy: 0.5256 - val_loss: 0.9890 - val_sparse_categorical_accuracy: 0.5200\n",
      "Epoch 109/150\n",
      "250/250 [==============================] - 3s 12ms/step - loss: 0.9854 - sparse_categorical_accuracy: 0.5237 - val_loss: 0.9887 - val_sparse_categorical_accuracy: 0.5226\n",
      "Epoch 110/150\n",
      "250/250 [==============================] - 3s 13ms/step - loss: 0.9854 - sparse_categorical_accuracy: 0.5246 - val_loss: 0.9881 - val_sparse_categorical_accuracy: 0.5228\n",
      "Epoch 111/150\n",
      "250/250 [==============================] - 3s 12ms/step - loss: 0.9849 - sparse_categorical_accuracy: 0.5237 - val_loss: 0.9880 - val_sparse_categorical_accuracy: 0.5204\n",
      "Epoch 112/150\n",
      "250/250 [==============================] - 3s 13ms/step - loss: 0.9839 - sparse_categorical_accuracy: 0.5233 - val_loss: 0.9874 - val_sparse_categorical_accuracy: 0.5233\n",
      "Epoch 113/150\n",
      "250/250 [==============================] - 3s 13ms/step - loss: 0.9846 - sparse_categorical_accuracy: 0.5258 - val_loss: 0.9902 - val_sparse_categorical_accuracy: 0.5212\n",
      "Epoch 114/150\n",
      "250/250 [==============================] - 3s 13ms/step - loss: 0.9852 - sparse_categorical_accuracy: 0.5248 - val_loss: 0.9872 - val_sparse_categorical_accuracy: 0.5224\n",
      "Epoch 115/150\n",
      "250/250 [==============================] - 3s 14ms/step - loss: 0.9841 - sparse_categorical_accuracy: 0.5248 - val_loss: 0.9873 - val_sparse_categorical_accuracy: 0.5208\n",
      "Epoch 116/150\n",
      "250/250 [==============================] - 3s 13ms/step - loss: 0.9829 - sparse_categorical_accuracy: 0.5271 - val_loss: 0.9887 - val_sparse_categorical_accuracy: 0.5215\n",
      "Epoch 117/150\n",
      "250/250 [==============================] - 3s 14ms/step - loss: 0.9840 - sparse_categorical_accuracy: 0.5246 - val_loss: 0.9878 - val_sparse_categorical_accuracy: 0.5208\n",
      "Epoch 118/150\n",
      "250/250 [==============================] - 3s 14ms/step - loss: 0.9835 - sparse_categorical_accuracy: 0.5244 - val_loss: 0.9879 - val_sparse_categorical_accuracy: 0.5215\n",
      "Epoch 119/150\n",
      "250/250 [==============================] - 3s 14ms/step - loss: 0.9840 - sparse_categorical_accuracy: 0.5252 - val_loss: 0.9870 - val_sparse_categorical_accuracy: 0.5206\n",
      "Epoch 120/150\n",
      "250/250 [==============================] - 4s 16ms/step - loss: 0.9838 - sparse_categorical_accuracy: 0.5230 - val_loss: 0.9888 - val_sparse_categorical_accuracy: 0.5229\n",
      "Epoch 121/150\n",
      "250/250 [==============================] - 4s 14ms/step - loss: 0.9841 - sparse_categorical_accuracy: 0.5241 - val_loss: 0.9886 - val_sparse_categorical_accuracy: 0.5219\n",
      "Epoch 122/150\n",
      "250/250 [==============================] - 4s 14ms/step - loss: 0.9835 - sparse_categorical_accuracy: 0.5263 - val_loss: 0.9895 - val_sparse_categorical_accuracy: 0.5235\n",
      "Epoch 123/150\n",
      "250/250 [==============================] - 3s 13ms/step - loss: 0.9837 - sparse_categorical_accuracy: 0.5255 - val_loss: 0.9894 - val_sparse_categorical_accuracy: 0.5217\n",
      "Epoch 124/150\n",
      "250/250 [==============================] - 3s 13ms/step - loss: 0.9836 - sparse_categorical_accuracy: 0.5231 - val_loss: 0.9877 - val_sparse_categorical_accuracy: 0.5224\n",
      "Epoch 125/150\n",
      "250/250 [==============================] - 3s 13ms/step - loss: 0.9834 - sparse_categorical_accuracy: 0.5265 - val_loss: 0.9874 - val_sparse_categorical_accuracy: 0.5225\n",
      "Epoch 126/150\n",
      "250/250 [==============================] - 3s 13ms/step - loss: 0.9840 - sparse_categorical_accuracy: 0.5241 - val_loss: 0.9884 - val_sparse_categorical_accuracy: 0.5225\n",
      "Epoch 127/150\n",
      "250/250 [==============================] - 3s 12ms/step - loss: 0.9843 - sparse_categorical_accuracy: 0.5232 - val_loss: 0.9883 - val_sparse_categorical_accuracy: 0.5230\n",
      "Epoch 128/150\n",
      "250/250 [==============================] - 3s 12ms/step - loss: 0.9833 - sparse_categorical_accuracy: 0.5280 - val_loss: 0.9883 - val_sparse_categorical_accuracy: 0.5200\n",
      "Epoch 129/150\n",
      "250/250 [==============================] - 3s 12ms/step - loss: 0.9847 - sparse_categorical_accuracy: 0.5240 - val_loss: 0.9908 - val_sparse_categorical_accuracy: 0.5218\n",
      "Epoch 130/150\n",
      "250/250 [==============================] - 3s 12ms/step - loss: 0.9834 - sparse_categorical_accuracy: 0.5264 - val_loss: 0.9889 - val_sparse_categorical_accuracy: 0.5219\n",
      "Epoch 131/150\n",
      "250/250 [==============================] - 3s 13ms/step - loss: 0.9836 - sparse_categorical_accuracy: 0.5239 - val_loss: 0.9881 - val_sparse_categorical_accuracy: 0.5226\n",
      "Epoch 132/150\n",
      "250/250 [==============================] - 3s 12ms/step - loss: 0.9826 - sparse_categorical_accuracy: 0.5275 - val_loss: 0.9884 - val_sparse_categorical_accuracy: 0.5214\n",
      "Epoch 133/150\n",
      "250/250 [==============================] - 3s 13ms/step - loss: 0.9833 - sparse_categorical_accuracy: 0.5235 - val_loss: 0.9878 - val_sparse_categorical_accuracy: 0.5222\n",
      "Epoch 134/150\n",
      "250/250 [==============================] - 3s 13ms/step - loss: 0.9839 - sparse_categorical_accuracy: 0.5262 - val_loss: 0.9866 - val_sparse_categorical_accuracy: 0.5222\n",
      "Epoch 135/150\n",
      "250/250 [==============================] - 3s 12ms/step - loss: 0.9839 - sparse_categorical_accuracy: 0.5242 - val_loss: 0.9879 - val_sparse_categorical_accuracy: 0.5210\n",
      "Epoch 136/150\n",
      "250/250 [==============================] - 3s 12ms/step - loss: 0.9836 - sparse_categorical_accuracy: 0.5255 - val_loss: 0.9874 - val_sparse_categorical_accuracy: 0.5195\n",
      "Epoch 137/150\n",
      "250/250 [==============================] - 3s 13ms/step - loss: 0.9828 - sparse_categorical_accuracy: 0.5243 - val_loss: 0.9877 - val_sparse_categorical_accuracy: 0.5224\n",
      "Epoch 138/150\n",
      "250/250 [==============================] - 3s 13ms/step - loss: 0.9836 - sparse_categorical_accuracy: 0.5256 - val_loss: 0.9871 - val_sparse_categorical_accuracy: 0.5237\n",
      "Epoch 139/150\n",
      "250/250 [==============================] - 3s 13ms/step - loss: 0.9825 - sparse_categorical_accuracy: 0.5275 - val_loss: 0.9881 - val_sparse_categorical_accuracy: 0.5231\n",
      "Epoch 140/150\n",
      "250/250 [==============================] - 4s 14ms/step - loss: 0.9837 - sparse_categorical_accuracy: 0.5252 - val_loss: 0.9888 - val_sparse_categorical_accuracy: 0.5202\n",
      "Epoch 141/150\n",
      "250/250 [==============================] - 4s 16ms/step - loss: 0.9836 - sparse_categorical_accuracy: 0.5248 - val_loss: 0.9871 - val_sparse_categorical_accuracy: 0.5211\n",
      "Epoch 142/150\n",
      "250/250 [==============================] - 4s 15ms/step - loss: 0.9834 - sparse_categorical_accuracy: 0.5264 - val_loss: 0.9874 - val_sparse_categorical_accuracy: 0.5236\n",
      "Epoch 143/150\n",
      "250/250 [==============================] - 3s 14ms/step - loss: 0.9822 - sparse_categorical_accuracy: 0.5271 - val_loss: 0.9885 - val_sparse_categorical_accuracy: 0.5215\n",
      "Epoch 144/150\n",
      "250/250 [==============================] - 3s 14ms/step - loss: 0.9840 - sparse_categorical_accuracy: 0.5254 - val_loss: 0.9879 - val_sparse_categorical_accuracy: 0.5216\n",
      "Epoch 145/150\n",
      "250/250 [==============================] - 3s 14ms/step - loss: 0.9826 - sparse_categorical_accuracy: 0.5265 - val_loss: 0.9874 - val_sparse_categorical_accuracy: 0.5230\n",
      "Epoch 146/150\n",
      "250/250 [==============================] - 4s 17ms/step - loss: 0.9826 - sparse_categorical_accuracy: 0.5263 - val_loss: 0.9880 - val_sparse_categorical_accuracy: 0.5212\n",
      "Epoch 147/150\n",
      "250/250 [==============================] - 4s 16ms/step - loss: 0.9839 - sparse_categorical_accuracy: 0.5236 - val_loss: 0.9880 - val_sparse_categorical_accuracy: 0.5184\n",
      "Epoch 148/150\n",
      "250/250 [==============================] - 4s 15ms/step - loss: 0.9824 - sparse_categorical_accuracy: 0.5244 - val_loss: 0.9900 - val_sparse_categorical_accuracy: 0.5199\n",
      "Epoch 149/150\n",
      "250/250 [==============================] - 3s 14ms/step - loss: 0.9836 - sparse_categorical_accuracy: 0.5270 - val_loss: 0.9879 - val_sparse_categorical_accuracy: 0.5218\n",
      "Epoch 150/150\n",
      "250/250 [==============================] - 4s 15ms/step - loss: 0.9830 - sparse_categorical_accuracy: 0.5249 - val_loss: 0.9887 - val_sparse_categorical_accuracy: 0.5206\n"
     ]
    },
    {
     "data": {
      "text/plain": [
       "<keras.callbacks.History at 0x1a0a1e760>"
      ]
     },
     "execution_count": 545,
     "metadata": {},
     "output_type": "execute_result"
    }
   ],
   "source": [
    "wandb.init(project=\"foot_LSTM_only_with_regularization2\", entity=\"padda\")\n",
    "model_lstm2.fit(\n",
    "    train_generator2,\n",
    "    epochs=150,\n",
    "    validation_data=val_generator2,\n",
    "    callbacks=[WandbCallback()])\n"
   ]
  },
  {
   "cell_type": "markdown",
   "metadata": {},
   "source": [
    "### warm_dragon-4\n",
    "home_LSTM_2 = tf.keras.layers.LSTM(32, kernel_regularizer = L1L2(l1=0.001, l2=0.02), name = 'home_LSTM_2')(home_input)   \n",
    "away_LSTM_2 = tf.keras.layers.LSTM(32, kernel_regularizer = L1L2(l1=0.001, l2=0.02), name = 'away_LSTM_2')(away_input)   \n",
    "game_LSTM_2 = tf.keras.layers.LSTM(32, kernel_regularizer = L1L2(l1=0.001, l2=0.03), name = 'game_LSTM_2')(game_input)   \n",
    "\n",
    "### "
   ]
  },
  {
   "cell_type": "code",
   "execution_count": 539,
   "metadata": {},
   "outputs": [
    {
     "name": "stderr",
     "output_type": "stream",
     "text": [
      "/var/folders/fw/vk6b0tfx7kvg_95mz0b5mts80000gn/T/ipykernel_17704/1795329321.py:5: RuntimeWarning: invalid value encountered in long_scalars\n",
      "  precision = { i:cm[i][i]/cm[:,i].sum()  for i in range(len(cm))}\n",
      "/var/folders/fw/vk6b0tfx7kvg_95mz0b5mts80000gn/T/ipykernel_17704/1795329321.py:6: RuntimeWarning: divide by zero encountered in double_scalars\n",
      "  F1_score = { i: 2 / (1/recall[i] + 1/precision[i]) for i in range(len(cm))}\n"
     ]
    },
    {
     "name": "stdout",
     "output_type": "stream",
     "text": [
      "accuracy:  0.5208489857250188\n",
      "Recall: \n",
      " {0: 0.8166111573688593, 1: 0.0, 2: 0.4546218487394958} \n",
      "Precision: \n",
      " {0: 0.5256599222832641, 1: nan, 2: 0.5095761381475667} \n",
      "F1-score: \n",
      " {0: 0.6396021847232412, 1: nan, 2: 0.48053293856402673}\n"
     ]
    },
    {
     "data": {
      "image/png": "[encoded data removed]",
      "text/plain": [
       "<Figure size 432x288 with 2 Axes>"
      ]
     },
     "metadata": {
      "needs_background": "light"
     },
     "output_type": "display_data"
    }
   ],
   "source": [
    "y_pred = model_lstm2.predict([XH_test, XA_test, XG_test]).argmax(axis=-1)\n",
    "\n",
    "cm_metrics(y_test,y_pred, [0,1,2])"
   ]
  },
  {
   "cell_type": "code",
   "execution_count": 546,
   "metadata": {},
   "outputs": [
    {
     "name": "stderr",
     "output_type": "stream",
     "text": [
      "WARNING:absl:Found untraced functions such as lstm_cell_141_layer_call_fn, lstm_cell_141_layer_call_and_return_conditional_losses, lstm_cell_142_layer_call_fn, lstm_cell_142_layer_call_and_return_conditional_losses, lstm_cell_143_layer_call_fn while saving (showing 5 of 15). These functions will not be directly callable after loading.\n"
     ]
    },
    {
     "name": "stdout",
     "output_type": "stream",
     "text": [
      "INFO:tensorflow:Assets written to: ../data/models/H_A_game_history_LSTM/assets\n"
     ]
    },
    {
     "name": "stderr",
     "output_type": "stream",
     "text": [
      "INFO:tensorflow:Assets written to: ../data/models/H_A_game_history_LSTM/assets\n",
      "wandb: Network error (ConnectionError), entering retry loop.\n",
      "wandb: Network error (ConnectTimeout), entering retry loop.\n",
      "wandb: Network error (ConnectionError), entering retry loop.\n"
     ]
    }
   ],
   "source": [
    "model_lstm2.save('../data/models/H_A_game_history_LSTM')"
   ]
  },
  {
   "cell_type": "code",
   "execution_count": null,
   "metadata": {},
   "outputs": [],
   "source": []
  }
 ],
 "metadata": {
  "interpreter": {
   "hash": "7487845996c7ba5663e8475bda763caf28d03a7733caf66b680b36d8ed7e8fd6"
  },
  "kernelspec": {
   "display_name": "Python 3.9.7 64-bit ('foot_env': conda)",
   "language": "python",
   "name": "python3"
  },
  "language_info": {
   "codemirror_mode": {
    "name": "ipython",
    "version": 3
   },
   "file_extension": ".py",
   "mimetype": "text/x-python",
   "name": "python",
   "nbconvert_exporter": "python",
   "pygments_lexer": "ipython3",
   "version": "3.9.7"
  },
  "orig_nbformat": 4
 },
 "nbformat": 4,
 "nbformat_minor": 2
}
