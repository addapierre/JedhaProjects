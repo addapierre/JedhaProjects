{
 "cells": [
  {
   "cell_type": "code",
   "execution_count": 1,
   "metadata": {},
   "outputs": [],
   "source": [
    "import pandas as pd\n",
    "import numpy as np\n",
    "import os\n",
    "from tqdm import tqdm\n",
    "tqdm.pandas()\n",
    "pd.options.display.max_columns = None"
   ]
  },
  {
   "cell_type": "code",
   "execution_count": 2,
   "metadata": {},
   "outputs": [],
   "source": [
    "games = pd.read_csv('../data/games/games.csv',\\\n",
    "        usecols=['game_id','date', 'home_club_id', 'away_club_id','home_club_goals', 'away_club_goals'],\\\n",
    "        dtype = {'game_id' : np.int32, 'home_club_id' : np.int32, 'away_club_id' : np.int32,\\\n",
    "                'home_club_goals' : np.int8, 'away_club_goals' : np.int8})\n",
    "\n",
    "appearance = pd.read_csv('../data/games/appearance.csv', \\\n",
    "        usecols=['game_id','player_club_id','yellow_cards','red_cards'],\\\n",
    "                dtype={'game_id':np.float32,'player_club_id':np.int32,'yellow_cards':np.int8,'red_cards':np.int8})\n"
   ]
  },
  {
   "cell_type": "code",
   "execution_count": 4,
   "metadata": {},
   "outputs": [],
   "source": [
    "train_df = pd.read_csv(\"data/training_data/train_final.csv\", index_col = 0)\n",
    "train_df = train_df.astype(dtype={x:np.float16 for x in train_df.columns[1:-1]})\n"
   ]
  },
  {
   "cell_type": "code",
   "execution_count": 5,
   "metadata": {},
   "outputs": [],
   "source": [
    "games.date = pd.to_datetime(games.date)"
   ]
  },
  {
   "cell_type": "code",
   "execution_count": 6,
   "metadata": {},
   "outputs": [],
   "source": [
    "appearance = appearance.drop(appearance[appearance.game_id.isnull()].index).reset_index(drop=True)\n",
    "appearance = appearance.astype(dtype={'game_id':np.int32})"
   ]
  },
  {
   "cell_type": "code",
   "execution_count": 7,
   "metadata": {},
   "outputs": [
    {
     "name": "stderr",
     "output_type": "stream",
     "text": [
      "100%|██████████| 42592/42592 [00:01<00:00, 33831.66it/s]\n"
     ]
    }
   ],
   "source": [
    "games['results'] = games.progress_apply(lambda x: 'W' if x['home_club_goals']>x['away_club_goals'] else \\\n",
    "    ('L' if x['home_club_goals']<x['away_club_goals'] else 'D')\n",
    "    , axis = 1)"
   ]
  },
  {
   "cell_type": "code",
   "execution_count": 8,
   "metadata": {},
   "outputs": [],
   "source": [
    "def get_home_history(game_id):\n",
    "    N = 10   #how many games we are looking for in club's history\n",
    "    \n",
    "    target_game = games.loc[games.game_id == game_id,:]\n",
    "    N_last_games = games.loc[((games.home_club_id == target_game['home_club_id'].values[0]) | (games.away_club_id == target_game['home_club_id'].values[0]))\\\n",
    "        & (games.date < target_game['date'].values[0]) ,:].sort_values('date',ascending=False)[:N]\n",
    "        \n",
    "    last_results = N_last_games.results.value_counts()\n",
    "    try:\n",
    "        wins = last_results['W']\n",
    "    except:\n",
    "        wins = 0\n",
    "    try:\n",
    "        draws = last_results['D']\n",
    "    except:\n",
    "        draws = 0\n",
    "    try:\n",
    "        loss = last_results['L']\n",
    "    except:\n",
    "        loss = 0\n",
    "\n",
    "    goal_scored = N_last_games.loc[N_last_games.home_club_id == target_game['home_club_id'].values[0],'home_club_goals'].sum()\\\n",
    "        + N_last_games.loc[N_last_games.away_club_id == target_game['home_club_id'].values[0],'away_club_goals'].sum()\n",
    "\n",
    "    goals_conceded = N_last_games.loc[N_last_games.home_club_id == target_game['home_club_id'].values[0],'away_club_goals'].sum()\\\n",
    "        + N_last_games.loc[N_last_games.away_club_id == target_game['home_club_id'].values[0],'home_club_goals'].sum()\n",
    "\n",
    "    cards = appearance.loc[(appearance.game_id.isin(N_last_games.game_id.values)) \\\n",
    "        & (appearance.player_club_id == target_game['home_club_id'].values[0]),\\\n",
    "            ['yellow_cards','red_cards']].sum()\n",
    "    \n",
    "    res = {'H_wins': wins, 'H_draws': draws , 'H_loss': loss,\\\n",
    "        'H_goal_scored': goal_scored, 'H_goals_conceded' : goals_conceded, 'H_yellow_cards' : cards['yellow_cards'], 'H_red_cards' : cards['red_cards']}\n",
    "    \n",
    "    return pd.Series(res)\n",
    "    \n",
    "    \n"
   ]
  },
  {
   "cell_type": "code",
   "execution_count": 9,
   "metadata": {},
   "outputs": [],
   "source": [
    "def get_away_history(game_id):\n",
    "    N=10\n",
    "    target_game = games.loc[games.game_id == game_id,:]\n",
    "    target_club = target_game['away_club_id'].values[0]\n",
    "    N_last_games = games.loc[((games.home_club_id == target_club) | (games.away_club_id == target_club))\\\n",
    "        & (games.date < target_game['date'].values[0]) ,:].sort_values('date',ascending=False)[:N]\n",
    "        \n",
    "    last_results = N_last_games.results.value_counts()\n",
    "    try:\n",
    "        wins = last_results['W']\n",
    "    except:\n",
    "        wins = 0\n",
    "    try:\n",
    "        draws = last_results['D']\n",
    "    except:\n",
    "        draws = 0\n",
    "    try:\n",
    "        loss = last_results['L']\n",
    "    except:\n",
    "        loss = 0\n",
    "\n",
    "    goal_scored = N_last_games.loc[N_last_games.home_club_id == target_club,'home_club_goals'].sum()\\\n",
    "        + N_last_games.loc[N_last_games.away_club_id == target_club,'away_club_goals'].sum()\n",
    "\n",
    "    goals_conceded = N_last_games.loc[N_last_games.home_club_id == target_club,'away_club_goals'].sum()\\\n",
    "        + N_last_games.loc[N_last_games.away_club_id == target_club,'home_club_goals'].sum()\n",
    "\n",
    "    cards = appearance.loc[(appearance.game_id.isin(N_last_games.game_id.values)) \\\n",
    "        & (appearance.player_club_id == target_club),\\\n",
    "            ['yellow_cards','red_cards']].sum()\n",
    "    \n",
    "    res = {'A_wins': wins, 'A_draws': draws , 'A_loss': loss,\\\n",
    "        'A_goal_scored': goal_scored, 'A_goals_conceded' : goals_conceded, 'A_yellow_cards' : cards['yellow_cards'], 'A_red_cards' : cards['red_cards']}\n",
    "    \n",
    "    return pd.Series(res)\n",
    "    \n",
    "    \n"
   ]
  },
  {
   "cell_type": "code",
   "execution_count": 10,
   "metadata": {},
   "outputs": [],
   "source": [
    "game_id = train_df.game_id.astype(np.int32).copy()"
   ]
  },
  {
   "cell_type": "code",
   "execution_count": 11,
   "metadata": {},
   "outputs": [
    {
     "name": "stderr",
     "output_type": "stream",
     "text": [
      "100%|██████████| 29545/29545 [10:14<00:00, 48.06it/s]\n"
     ]
    }
   ],
   "source": [
    "home_features = game_id.progress_apply(get_home_history)"
   ]
  },
  {
   "cell_type": "code",
   "execution_count": 12,
   "metadata": {},
   "outputs": [
    {
     "name": "stderr",
     "output_type": "stream",
     "text": [
      "100%|██████████| 29545/29545 [10:15<00:00, 47.98it/s]\n"
     ]
    }
   ],
   "source": [
    "away_features = game_id.progress_apply(get_away_history)"
   ]
  },
  {
   "cell_type": "code",
   "execution_count": 13,
   "metadata": {},
   "outputs": [],
   "source": [
    "home_features = home_features.astype(dtype={'H_wins':np.int8, 'H_draws':np.int8, 'H_loss':np.int8, 'H_goal_scored':np.int8, 'H_goals_conceded':np.int8,\n",
    "       'H_yellow_cards':np.int8, 'H_red_cards':np.int8})\n",
    "away_features = away_features.astype(dtype={'A_wins':np.int8, 'A_draws':np.int8, 'A_loss':np.int8, 'A_goal_scored':np.int8, 'A_goals_conceded':np.int8,\n",
    "       'A_yellow_cards':np.int8, 'A_red_cards':np.int8})"
   ]
  },
  {
   "cell_type": "code",
   "execution_count": 14,
   "metadata": {},
   "outputs": [
    {
     "data": {
      "text/plain": [
       "((29545, 7), (29545, 200))"
      ]
     },
     "execution_count": 14,
     "metadata": {},
     "output_type": "execute_result"
    }
   ],
   "source": [
    "away_features.shape, train_df.shape"
   ]
  },
  {
   "cell_type": "code",
   "execution_count": 15,
   "metadata": {},
   "outputs": [],
   "source": [
    "train_more_features = pd.concat([home_features,away_features,train_df],axis =1)"
   ]
  },
  {
   "cell_type": "code",
   "execution_count": 16,
   "metadata": {},
   "outputs": [],
   "source": [
    "train_more_features.to_csv('data/training_data/train_more_features.csv')"
   ]
  },
  {
   "cell_type": "code",
   "execution_count": null,
   "metadata": {},
   "outputs": [],
   "source": []
  }
 ],
 "metadata": {
  "interpreter": {
   "hash": "7487845996c7ba5663e8475bda763caf28d03a7733caf66b680b36d8ed7e8fd6"
  },
  "kernelspec": {
   "display_name": "Python 3.9.7 64-bit ('foot_env': conda)",
   "language": "python",
   "name": "python3"
  },
  "language_info": {
   "codemirror_mode": {
    "name": "ipython",
    "version": 3
   },
   "file_extension": ".py",
   "mimetype": "text/x-python",
   "name": "python",
   "nbconvert_exporter": "python",
   "pygments_lexer": "ipython3",
   "version": "3.9.7"
  },
  "orig_nbformat": 4
 },
 "nbformat": 4,
 "nbformat_minor": 2
}
