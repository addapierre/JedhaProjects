{
 "cells": [
  {
   "cell_type": "code",
   "execution_count": 1,
   "metadata": {},
   "outputs": [],
   "source": [
    "import pandas as pd\n",
    "import numpy as np\n",
    "import os\n",
    "from tqdm import tqdm\n",
    "tqdm.pandas()\n",
    "pd.options.display.max_columns = None"
   ]
  },
  {
   "cell_type": "markdown",
   "metadata": {},
   "source": [
    "# 1. Data load and optimize"
   ]
  },
  {
   "cell_type": "code",
   "execution_count": 2,
   "metadata": {},
   "outputs": [],
   "source": [
    "games = pd.read_csv('../data/games/games.csv',\\\n",
    "        usecols=['game_id','date', 'home_club_id', 'away_club_id','home_club_goals', 'away_club_goals'],\\\n",
    "        dtype = {'game_id' : np.int32, 'home_club_id' : np.int32, 'away_club_id' : np.int32,\\\n",
    "                'home_club_goals' : np.int8, 'away_club_goals' : np.int8})\n",
    "\n",
    "appearance = pd.read_csv('../data/games/appearance.csv', \\\n",
    "        usecols=['game_id','player_club_id','yellow_cards','red_cards'],\\\n",
    "                dtype={'game_id':np.float32,'player_club_id':np.int32,'yellow_cards':np.int8,'red_cards':np.int8})\n"
   ]
  },
  {
   "cell_type": "code",
   "execution_count": 127,
   "metadata": {},
   "outputs": [],
   "source": [
    "train_df = pd.read_csv(\"data/training_data/train_final.csv\", index_col = 0)\n",
    "train_df = train_df.astype(dtype={x:np.float16 for x in train_df.columns[1:-1]})\n"
   ]
  },
  {
   "cell_type": "code",
   "execution_count": 4,
   "metadata": {},
   "outputs": [],
   "source": [
    "games.date = pd.to_datetime(games.date)"
   ]
  },
  {
   "cell_type": "code",
   "execution_count": 5,
   "metadata": {},
   "outputs": [],
   "source": [
    "appearance = appearance.drop(appearance[appearance.game_id.isnull()].index).reset_index(drop=True)\n",
    "appearance = appearance.astype(dtype={'game_id':np.int32})"
   ]
  },
  {
   "cell_type": "markdown",
   "metadata": {},
   "source": [
    "# 2. contruire des datasets de l'historique de home et away.\n",
    "##### on ajoutera dans le dataset train_df deux listes qui donneront les indices des lignes à aller chercher dans lesdits datasets pour entrainer le LSTM\n",
    "\n",
    "ATTENTION: les parties de l'historique sont classée de la partie la plus récente à la partie la plus ancienne. C'est pas volontaire mais c'est comme c'est."
   ]
  },
  {
   "cell_type": "code",
   "execution_count": 68,
   "metadata": {},
   "outputs": [],
   "source": [
    "def get_home_history(game_id):\n",
    "\n",
    "    N = 10\n",
    "    target_game = games.loc[games.game_id == game_id,:]\n",
    "    club_id = target_game['home_club_id'].values[0]\n",
    "\n",
    "    N_last_games = games.loc[((games.home_club_id == club_id) | (games.away_club_id == club_id))\\\n",
    "            & (games.date < target_game['date'].values[0]) ,:].sort_values('date',ascending=False)[:N]\n",
    "    \n",
    "    if N_last_games.shape[0]==0:\n",
    "        return None\n",
    "\n",
    "    else:\n",
    "        N_last_games[['H_goals','H_goals_conceded','H_HorA']] = N_last_games.apply(lambda x: \\\n",
    "        pd.Series([x['home_club_goals'], x['away_club_goals'],0]) if x['home_club_id']==club_id else pd.Series([x['away_club_goals'], x['home_club_goals'],1])\\\n",
    "        , axis = 1)\n",
    "\n",
    "        cards = appearance.loc[(appearance.game_id.isin(N_last_games.game_id.values)) \\\n",
    "                & (appearance.player_club_id == club_id),\\\n",
    "                    ['game_id','yellow_cards','red_cards']].groupby('game_id').sum().reset_index()\\\n",
    "                        .rename(columns={'yellow_cards': 'H_yellow_cards' ,'red_cards' : 'H_red_cards'})\n",
    "\n",
    "        N_last_games.drop(columns = ['date','home_club_id','away_club_id','home_club_goals','away_club_goals'],inplace = True)\n",
    "        res = pd.merge(N_last_games,cards,on='game_id')\n",
    "        res.game_id= game_id\n",
    "        return res"
   ]
  },
  {
   "cell_type": "code",
   "execution_count": 121,
   "metadata": {},
   "outputs": [
    {
     "data": {
      "text/html": [
       "<div>\n",
       "<style scoped>\n",
       "    .dataframe tbody tr th:only-of-type {\n",
       "        vertical-align: middle;\n",
       "    }\n",
       "\n",
       "    .dataframe tbody tr th {\n",
       "        vertical-align: top;\n",
       "    }\n",
       "\n",
       "    .dataframe thead th {\n",
       "        text-align: right;\n",
       "    }\n",
       "</style>\n",
       "<table border=\"1\" class=\"dataframe\">\n",
       "  <thead>\n",
       "    <tr style=\"text-align: right;\">\n",
       "      <th></th>\n",
       "      <th>game_id</th>\n",
       "      <th>date</th>\n",
       "      <th>home_club_id</th>\n",
       "      <th>away_club_id</th>\n",
       "      <th>home_club_goals</th>\n",
       "      <th>away_club_goals</th>\n",
       "      <th>H_goals</th>\n",
       "      <th>H_goals_conceded</th>\n",
       "      <th>H_HorA</th>\n",
       "    </tr>\n",
       "  </thead>\n",
       "  <tbody>\n",
       "    <tr>\n",
       "      <th>2290</th>\n",
       "      <td>2460802</td>\n",
       "      <td>2015-02-07</td>\n",
       "      <td>60</td>\n",
       "      <td>16</td>\n",
       "      <td>0</td>\n",
       "      <td>3</td>\n",
       "      <td>3</td>\n",
       "      <td>0</td>\n",
       "      <td>1</td>\n",
       "    </tr>\n",
       "    <tr>\n",
       "      <th>2347</th>\n",
       "      <td>2460789</td>\n",
       "      <td>2015-02-04</td>\n",
       "      <td>16</td>\n",
       "      <td>167</td>\n",
       "      <td>0</td>\n",
       "      <td>1</td>\n",
       "      <td>0</td>\n",
       "      <td>1</td>\n",
       "      <td>0</td>\n",
       "    </tr>\n",
       "    <tr>\n",
       "      <th>2355</th>\n",
       "      <td>2460780</td>\n",
       "      <td>2015-01-31</td>\n",
       "      <td>15</td>\n",
       "      <td>16</td>\n",
       "      <td>0</td>\n",
       "      <td>0</td>\n",
       "      <td>0</td>\n",
       "      <td>0</td>\n",
       "      <td>1</td>\n",
       "    </tr>\n",
       "    <tr>\n",
       "      <th>2416</th>\n",
       "      <td>2460776</td>\n",
       "      <td>2014-12-20</td>\n",
       "      <td>86</td>\n",
       "      <td>16</td>\n",
       "      <td>2</td>\n",
       "      <td>1</td>\n",
       "      <td>1</td>\n",
       "      <td>2</td>\n",
       "      <td>1</td>\n",
       "    </tr>\n",
       "    <tr>\n",
       "      <th>2425</th>\n",
       "      <td>2460762</td>\n",
       "      <td>2014-12-17</td>\n",
       "      <td>16</td>\n",
       "      <td>82</td>\n",
       "      <td>2</td>\n",
       "      <td>2</td>\n",
       "      <td>2</td>\n",
       "      <td>2</td>\n",
       "      <td>0</td>\n",
       "    </tr>\n",
       "    <tr>\n",
       "      <th>2434</th>\n",
       "      <td>2460758</td>\n",
       "      <td>2014-12-13</td>\n",
       "      <td>44</td>\n",
       "      <td>16</td>\n",
       "      <td>1</td>\n",
       "      <td>0</td>\n",
       "      <td>0</td>\n",
       "      <td>1</td>\n",
       "      <td>1</td>\n",
       "    </tr>\n",
       "    <tr>\n",
       "      <th>5591</th>\n",
       "      <td>2495365</td>\n",
       "      <td>2014-12-09</td>\n",
       "      <td>16</td>\n",
       "      <td>58</td>\n",
       "      <td>1</td>\n",
       "      <td>1</td>\n",
       "      <td>1</td>\n",
       "      <td>1</td>\n",
       "      <td>0</td>\n",
       "    </tr>\n",
       "    <tr>\n",
       "      <th>2487</th>\n",
       "      <td>2460744</td>\n",
       "      <td>2014-12-05</td>\n",
       "      <td>16</td>\n",
       "      <td>533</td>\n",
       "      <td>1</td>\n",
       "      <td>0</td>\n",
       "      <td>1</td>\n",
       "      <td>0</td>\n",
       "      <td>0</td>\n",
       "    </tr>\n",
       "    <tr>\n",
       "      <th>2488</th>\n",
       "      <td>2460741</td>\n",
       "      <td>2014-11-30</td>\n",
       "      <td>24</td>\n",
       "      <td>16</td>\n",
       "      <td>2</td>\n",
       "      <td>0</td>\n",
       "      <td>0</td>\n",
       "      <td>2</td>\n",
       "      <td>1</td>\n",
       "    </tr>\n",
       "    <tr>\n",
       "      <th>5592</th>\n",
       "      <td>2495356</td>\n",
       "      <td>2014-11-26</td>\n",
       "      <td>11</td>\n",
       "      <td>16</td>\n",
       "      <td>2</td>\n",
       "      <td>0</td>\n",
       "      <td>0</td>\n",
       "      <td>2</td>\n",
       "      <td>1</td>\n",
       "    </tr>\n",
       "  </tbody>\n",
       "</table>\n",
       "</div>"
      ],
      "text/plain": [
       "      game_id       date  home_club_id  away_club_id  home_club_goals  \\\n",
       "2290  2460802 2015-02-07            60            16                0   \n",
       "2347  2460789 2015-02-04            16           167                0   \n",
       "2355  2460780 2015-01-31            15            16                0   \n",
       "2416  2460776 2014-12-20            86            16                2   \n",
       "2425  2460762 2014-12-17            16            82                2   \n",
       "2434  2460758 2014-12-13            44            16                1   \n",
       "5591  2495365 2014-12-09            16            58                1   \n",
       "2487  2460744 2014-12-05            16           533                1   \n",
       "2488  2460741 2014-11-30            24            16                2   \n",
       "5592  2495356 2014-11-26            11            16                2   \n",
       "\n",
       "      away_club_goals  H_goals  H_goals_conceded  H_HorA  \n",
       "2290                3        3                 0       1  \n",
       "2347                1        0                 1       0  \n",
       "2355                0        0                 0       1  \n",
       "2416                1        1                 2       1  \n",
       "2425                2        2                 2       0  \n",
       "2434                0        0                 1       1  \n",
       "5591                1        1                 1       0  \n",
       "2487                0        1                 0       0  \n",
       "2488                0        0                 2       1  \n",
       "5592                0        0                 2       1  "
      ]
     },
     "execution_count": 121,
     "metadata": {},
     "output_type": "execute_result"
    }
   ],
   "source": [
    "game_id = game_ids[500]\n",
    "target_game = games.loc[games.game_id == game_id,:]\n",
    "club_id = target_game['home_club_id'].values[0]\n",
    "\n",
    "N_last_games = games.loc[((games.home_club_id == club_id) | (games.away_club_id == club_id))\\\n",
    "        & (games.date < target_game['date'].values[0]) ,:].sort_values('date',ascending=False)[:N]\n",
    "\n",
    "N_last_games[['H_goals','H_goals_conceded','H_HorA']] = N_last_games.apply(lambda x: \\\n",
    "pd.Series([x['home_club_goals'], x['away_club_goals'],0]) if x['home_club_id']==club_id else pd.Series([x['away_club_goals'], x['home_club_goals'],1])\\\n",
    ", axis = 1)\n",
    "N_last_games"
   ]
  },
  {
   "cell_type": "code",
   "execution_count": 69,
   "metadata": {},
   "outputs": [],
   "source": [
    "def get_away_history(game_id):\n",
    "\n",
    "    N = 10\n",
    "    target_game = games.loc[games.game_id == game_id,:]\n",
    "    club_id = target_game['away_club_id'].values[0]\n",
    "\n",
    "    N_last_games = games.loc[((games.home_club_id == club_id) | (games.away_club_id == club_id))\\\n",
    "            & (games.date < target_game['date'].values[0]) ,:].sort_values('date',ascending=False)[:N]\n",
    "    \n",
    "    if N_last_games.shape[0]==0:\n",
    "        return None\n",
    "\n",
    "    else:\n",
    "        N_last_games[['A_goals','A_goals_conceded','A_HorA']] = N_last_games.apply(lambda x: \\\n",
    "        pd.Series([x['home_club_goals'], x['away_club_goals'],0]) if x['home_club_id']==club_id else pd.Series([x['away_club_goals'], x['home_club_goals'],1])\\\n",
    "        , axis = 1)\n",
    "\n",
    "        cards = appearance.loc[(appearance.game_id.isin(N_last_games.game_id.values)) \\\n",
    "                & (appearance.player_club_id == club_id),\\\n",
    "                    ['game_id','yellow_cards','red_cards']].groupby('game_id').sum().reset_index()\\\n",
    "                        .rename(columns={'yellow_cards': 'A_yellow_cards' ,'red_cards' : 'A_red_cards'})\n",
    "\n",
    "        N_last_games.drop(columns = ['date','home_club_id','away_club_id','home_club_goals','away_club_goals'],inplace = True)\n",
    "        res = pd.merge(N_last_games,cards,on='game_id')\n",
    "        res.game_id= game_id\n",
    "        return res"
   ]
  },
  {
   "cell_type": "code",
   "execution_count": 62,
   "metadata": {},
   "outputs": [],
   "source": [
    "game_ids = train_df.game_id.astype(np.int32).copy()"
   ]
  },
  {
   "cell_type": "code",
   "execution_count": 70,
   "metadata": {},
   "outputs": [
    {
     "name": "stderr",
     "output_type": "stream",
     "text": [
      "100%|██████████| 29545/29545 [13:08<00:00, 37.46it/s]\n"
     ]
    }
   ],
   "source": [
    "home_history = game_ids.progress_apply(get_home_history)"
   ]
  },
  {
   "cell_type": "code",
   "execution_count": 73,
   "metadata": {},
   "outputs": [],
   "source": [
    "home_history = pd.concat(home_history.values)"
   ]
  },
  {
   "cell_type": "code",
   "execution_count": 77,
   "metadata": {},
   "outputs": [],
   "source": [
    "home_history = home_history.reset_index(drop = True).reset_index().rename(columns={'index':'home_id'})"
   ]
  },
  {
   "cell_type": "code",
   "execution_count": 93,
   "metadata": {},
   "outputs": [],
   "source": [
    "home_history.to_csv('data/train_LSTM/home_history.csv')"
   ]
  },
  {
   "cell_type": "code",
   "execution_count": 79,
   "metadata": {},
   "outputs": [
    {
     "name": "stderr",
     "output_type": "stream",
     "text": [
      "100%|██████████| 29545/29545 [13:01<00:00, 37.80it/s]\n"
     ]
    }
   ],
   "source": [
    "away_history = game_ids.progress_apply(get_away_history)\n",
    "away_history = pd.concat(away_history.values)\n",
    "away_history = away_history.reset_index(drop = True).reset_index().rename(columns={'index':'away_id'})\n",
    "away_history.to_csv('data/train_LSTM/away_history.csv')"
   ]
  },
  {
   "cell_type": "code",
   "execution_count": 85,
   "metadata": {},
   "outputs": [
    {
     "data": {
      "text/plain": [
       "array([287526, 287527, 287528, 287529, 287530, 287531, 287532, 287533,\n",
       "       287534, 287535])"
      ]
     },
     "execution_count": 85,
     "metadata": {},
     "output_type": "execute_result"
    }
   ],
   "source": [
    "away_history.loc[away_history.game_id==3710372,'away_id'].unique()"
   ]
  },
  {
   "cell_type": "code",
   "execution_count": 94,
   "metadata": {},
   "outputs": [
    {
     "data": {
      "text/html": [
       "<div>\n",
       "<style scoped>\n",
       "    .dataframe tbody tr th:only-of-type {\n",
       "        vertical-align: middle;\n",
       "    }\n",
       "\n",
       "    .dataframe tbody tr th {\n",
       "        vertical-align: top;\n",
       "    }\n",
       "\n",
       "    .dataframe thead th {\n",
       "        text-align: right;\n",
       "    }\n",
       "</style>\n",
       "<table border=\"1\" class=\"dataframe\">\n",
       "  <thead>\n",
       "    <tr style=\"text-align: right;\">\n",
       "      <th></th>\n",
       "      <th>home_id</th>\n",
       "      <th>game_id</th>\n",
       "      <th>H_goals</th>\n",
       "      <th>H_goals_conceded</th>\n",
       "      <th>H_HorA</th>\n",
       "      <th>H_yellow_cards</th>\n",
       "      <th>H_red_cards</th>\n",
       "    </tr>\n",
       "  </thead>\n",
       "  <tbody>\n",
       "    <tr>\n",
       "      <th>0</th>\n",
       "      <td>0</td>\n",
       "      <td>2459586</td>\n",
       "      <td>1</td>\n",
       "      <td>0</td>\n",
       "      <td>0</td>\n",
       "      <td>3</td>\n",
       "      <td>0</td>\n",
       "    </tr>\n",
       "    <tr>\n",
       "      <th>1</th>\n",
       "      <td>1</td>\n",
       "      <td>2459593</td>\n",
       "      <td>0</td>\n",
       "      <td>1</td>\n",
       "      <td>1</td>\n",
       "      <td>1</td>\n",
       "      <td>0</td>\n",
       "    </tr>\n",
       "    <tr>\n",
       "      <th>2</th>\n",
       "      <td>2</td>\n",
       "      <td>2459595</td>\n",
       "      <td>1</td>\n",
       "      <td>0</td>\n",
       "      <td>1</td>\n",
       "      <td>5</td>\n",
       "      <td>0</td>\n",
       "    </tr>\n",
       "    <tr>\n",
       "      <th>3</th>\n",
       "      <td>3</td>\n",
       "      <td>2459595</td>\n",
       "      <td>1</td>\n",
       "      <td>3</td>\n",
       "      <td>1</td>\n",
       "      <td>3</td>\n",
       "      <td>0</td>\n",
       "    </tr>\n",
       "    <tr>\n",
       "      <th>4</th>\n",
       "      <td>4</td>\n",
       "      <td>2459595</td>\n",
       "      <td>1</td>\n",
       "      <td>2</td>\n",
       "      <td>0</td>\n",
       "      <td>2</td>\n",
       "      <td>0</td>\n",
       "    </tr>\n",
       "    <tr>\n",
       "      <th>...</th>\n",
       "      <td>...</td>\n",
       "      <td>...</td>\n",
       "      <td>...</td>\n",
       "      <td>...</td>\n",
       "      <td>...</td>\n",
       "      <td>...</td>\n",
       "      <td>...</td>\n",
       "    </tr>\n",
       "    <tr>\n",
       "      <th>287659</th>\n",
       "      <td>287659</td>\n",
       "      <td>3710372</td>\n",
       "      <td>3</td>\n",
       "      <td>4</td>\n",
       "      <td>0</td>\n",
       "      <td>2</td>\n",
       "      <td>0</td>\n",
       "    </tr>\n",
       "    <tr>\n",
       "      <th>287660</th>\n",
       "      <td>287660</td>\n",
       "      <td>3710372</td>\n",
       "      <td>2</td>\n",
       "      <td>2</td>\n",
       "      <td>0</td>\n",
       "      <td>2</td>\n",
       "      <td>0</td>\n",
       "    </tr>\n",
       "    <tr>\n",
       "      <th>287661</th>\n",
       "      <td>287661</td>\n",
       "      <td>3710372</td>\n",
       "      <td>1</td>\n",
       "      <td>0</td>\n",
       "      <td>1</td>\n",
       "      <td>4</td>\n",
       "      <td>0</td>\n",
       "    </tr>\n",
       "    <tr>\n",
       "      <th>287662</th>\n",
       "      <td>287662</td>\n",
       "      <td>3710372</td>\n",
       "      <td>3</td>\n",
       "      <td>2</td>\n",
       "      <td>1</td>\n",
       "      <td>8</td>\n",
       "      <td>0</td>\n",
       "    </tr>\n",
       "    <tr>\n",
       "      <th>287663</th>\n",
       "      <td>287663</td>\n",
       "      <td>3710372</td>\n",
       "      <td>2</td>\n",
       "      <td>0</td>\n",
       "      <td>0</td>\n",
       "      <td>0</td>\n",
       "      <td>0</td>\n",
       "    </tr>\n",
       "  </tbody>\n",
       "</table>\n",
       "<p>287664 rows × 7 columns</p>\n",
       "</div>"
      ],
      "text/plain": [
       "        home_id  game_id  H_goals  H_goals_conceded  H_HorA  H_yellow_cards  \\\n",
       "0             0  2459586        1                 0       0               3   \n",
       "1             1  2459593        0                 1       1               1   \n",
       "2             2  2459595        1                 0       1               5   \n",
       "3             3  2459595        1                 3       1               3   \n",
       "4             4  2459595        1                 2       0               2   \n",
       "...         ...      ...      ...               ...     ...             ...   \n",
       "287659   287659  3710372        3                 4       0               2   \n",
       "287660   287660  3710372        2                 2       0               2   \n",
       "287661   287661  3710372        1                 0       1               4   \n",
       "287662   287662  3710372        3                 2       1               8   \n",
       "287663   287663  3710372        2                 0       0               0   \n",
       "\n",
       "        H_red_cards  \n",
       "0                 0  \n",
       "1                 0  \n",
       "2                 0  \n",
       "3                 0  \n",
       "4                 0  \n",
       "...             ...  \n",
       "287659            0  \n",
       "287660            0  \n",
       "287661            0  \n",
       "287662            0  \n",
       "287663            0  \n",
       "\n",
       "[287664 rows x 7 columns]"
      ]
     },
     "execution_count": 94,
     "metadata": {},
     "output_type": "execute_result"
    }
   ],
   "source": [
    "home_history"
   ]
  },
  {
   "cell_type": "code",
   "execution_count": 100,
   "metadata": {},
   "outputs": [
    {
     "name": "stdout",
     "output_type": "stream",
     "text": [
      "[]\n",
      "[4 5]\n"
     ]
    }
   ],
   "source": [
    "x =train_df.game_id.values[11]\n",
    "print(home_history.loc[home_history.game_id == x,'home_id'].unique() )\n",
    "print(away_history.loc[away_history.game_id == x,'away_id'].unique())"
   ]
  },
  {
   "cell_type": "code",
   "execution_count": 129,
   "metadata": {},
   "outputs": [
    {
     "name": "stderr",
     "output_type": "stream",
     "text": [
      "100%|██████████| 29545/29545 [00:15<00:00, 1881.08it/s]\n",
      "/var/folders/fw/vk6b0tfx7kvg_95mz0b5mts80000gn/T/ipykernel_11308/1431477703.py:1: PerformanceWarning: DataFrame is highly fragmented.  This is usually the result of calling `frame.insert` many times, which has poor performance.  Consider joining all columns at once using pd.concat(axis=1) instead.  To get a de-fragmented frame, use `newframe = frame.copy()`\n",
      "  train_df['home_history'] = game_ids.progress_apply(lambda x : home_history.loc[home_history.game_id == x,'home_id'].unique())\n"
     ]
    }
   ],
   "source": [
    "train_df['home_history'] = game_ids.progress_apply(lambda x : home_history.loc[home_history.game_id == x,'home_id'].unique())"
   ]
  },
  {
   "cell_type": "code",
   "execution_count": 130,
   "metadata": {},
   "outputs": [
    {
     "name": "stderr",
     "output_type": "stream",
     "text": [
      "100%|██████████| 29545/29545 [00:15<00:00, 1864.44it/s]\n",
      "/var/folders/fw/vk6b0tfx7kvg_95mz0b5mts80000gn/T/ipykernel_11308/1015295018.py:1: PerformanceWarning: DataFrame is highly fragmented.  This is usually the result of calling `frame.insert` many times, which has poor performance.  Consider joining all columns at once using pd.concat(axis=1) instead.  To get a de-fragmented frame, use `newframe = frame.copy()`\n",
      "  train_df['away_history'] = game_ids.progress_apply(lambda x : away_history.loc[away_history.game_id == x,'away_id'].unique())\n"
     ]
    }
   ],
   "source": [
    "train_df['away_history'] = game_ids.progress_apply(lambda x : away_history.loc[away_history.game_id == x,'away_id'].unique())"
   ]
  },
  {
   "cell_type": "code",
   "execution_count": 132,
   "metadata": {},
   "outputs": [],
   "source": [
    "train_df = train_df.loc[:,np.concatenate((['game_id', 'home_history', 'away_history'],train_df.columns[1:-2]))]"
   ]
  },
  {
   "cell_type": "code",
   "execution_count": 134,
   "metadata": {},
   "outputs": [],
   "source": [
    "train_df.to_csv('data/train_LSTM/train_LSTM.csv')"
   ]
  },
  {
   "cell_type": "code",
   "execution_count": 137,
   "metadata": {},
   "outputs": [],
   "source": [
    "test= pd.read_csv('data/train_LSTM/train_LSTM.csv', index_col=0)"
   ]
  },
  {
   "cell_type": "code",
   "execution_count": 140,
   "metadata": {},
   "outputs": [
    {
     "data": {
      "text/plain": [
       "0                                                       []\n",
       "1                                                       []\n",
       "2                                                       []\n",
       "3                                                      [0]\n",
       "4                                                       []\n",
       "                               ...                        \n",
       "29540    [287614 287615 287616 287617 287618 287619 287...\n",
       "29541    [287624 287625 287626 287627 287628 287629 287...\n",
       "29542    [287634 287635 287636 287637 287638 287639 287...\n",
       "29543    [287644 287645 287646 287647 287648 287649 287...\n",
       "29544    [287654 287655 287656 287657 287658 287659 287...\n",
       "Name: home_history, Length: 29545, dtype: object"
      ]
     },
     "execution_count": 140,
     "metadata": {},
     "output_type": "execute_result"
    }
   ],
   "source": [
    "test.home_history"
   ]
  },
  {
   "cell_type": "code",
   "execution_count": 147,
   "metadata": {},
   "outputs": [],
   "source": [
    "import ast # ast is part of python standard's library. \n",
    "import re\n",
    "def transform_int_column(x):\n",
    "    if x[0] == r'[':\n",
    "        res = re.sub(r'(\\d)\\s+(\\d)',r'\\1 , \\2',x.replace('\\n',''))\n",
    "        res = re.sub(r'(\\d)\\s+(\\d)',r'\\1 , \\2',res.replace('\\n',''))\n",
    "        res = ast.literal_eval(res) \n",
    "        res = np.asarray([int(y) for y in res])\n",
    "    else:\n",
    "        res = np.asarray([])\n",
    "    return res\n"
   ]
  },
  {
   "cell_type": "code",
   "execution_count": 149,
   "metadata": {},
   "outputs": [
    {
     "data": {
      "text/plain": [
       "array([287634, 287635, 287636, 287637, 287638, 287639, 287640, 287641,\n",
       "       287642, 287643])"
      ]
     },
     "execution_count": 149,
     "metadata": {},
     "output_type": "execute_result"
    }
   ],
   "source": [
    "test.home_history.apply(transform_int_column)"
   ]
  },
  {
   "cell_type": "markdown",
   "metadata": {},
   "source": [
    "## Train dataframe only for training the LSTM, using all of games.csv"
   ]
  },
  {
   "cell_type": "code",
   "execution_count": 154,
   "metadata": {},
   "outputs": [
    {
     "name": "stderr",
     "output_type": "stream",
     "text": [
      "100%|██████████| 42592/42592 [18:36<00:00, 38.16it/s]\n"
     ]
    }
   ],
   "source": [
    "home_history_full = games.game_id.progress_apply(get_home_history)"
   ]
  },
  {
   "cell_type": "code",
   "execution_count": 155,
   "metadata": {},
   "outputs": [],
   "source": [
    "home_history_full = pd.concat(home_history_full.values)\n",
    "home_history_full = home_history_full.reset_index(drop = True).reset_index().rename(columns={'index':'home_id'})\n",
    "home_history_full.to_csv('data/train_LSTM/home_history_full.csv')"
   ]
  },
  {
   "cell_type": "code",
   "execution_count": 157,
   "metadata": {},
   "outputs": [
    {
     "name": "stderr",
     "output_type": "stream",
     "text": [
      "100%|██████████| 42592/42592 [18:20<00:00, 38.69it/s]\n"
     ]
    }
   ],
   "source": [
    "away_history_full = games.game_id.progress_apply(get_away_history)\n",
    "away_history_full = pd.concat(away_history_full.values)\n",
    "away_history_full = away_history_full.reset_index(drop = True).reset_index().rename(columns={'index':'away_id'})\n",
    "away_history_full.to_csv('data/train_LSTM/away_history_full.csv')"
   ]
  },
  {
   "cell_type": "code",
   "execution_count": 165,
   "metadata": {},
   "outputs": [
    {
     "data": {
      "text/html": [
       "<div>\n",
       "<style scoped>\n",
       "    .dataframe tbody tr th:only-of-type {\n",
       "        vertical-align: middle;\n",
       "    }\n",
       "\n",
       "    .dataframe tbody tr th {\n",
       "        vertical-align: top;\n",
       "    }\n",
       "\n",
       "    .dataframe thead th {\n",
       "        text-align: right;\n",
       "    }\n",
       "</style>\n",
       "<table border=\"1\" class=\"dataframe\">\n",
       "  <thead>\n",
       "    <tr style=\"text-align: right;\">\n",
       "      <th></th>\n",
       "      <th>away_id</th>\n",
       "      <th>game_id</th>\n",
       "      <th>A_goals</th>\n",
       "      <th>A_goals_conceded</th>\n",
       "      <th>A_HorA</th>\n",
       "      <th>A_yellow_cards</th>\n",
       "      <th>A_red_cards</th>\n",
       "    </tr>\n",
       "  </thead>\n",
       "  <tbody>\n",
       "    <tr>\n",
       "      <th>0</th>\n",
       "      <td>0</td>\n",
       "      <td>2484338</td>\n",
       "      <td>0</td>\n",
       "      <td>0</td>\n",
       "      <td>0</td>\n",
       "      <td>2</td>\n",
       "      <td>0</td>\n",
       "    </tr>\n",
       "    <tr>\n",
       "      <th>1</th>\n",
       "      <td>1</td>\n",
       "      <td>2484338</td>\n",
       "      <td>1</td>\n",
       "      <td>0</td>\n",
       "      <td>1</td>\n",
       "      <td>2</td>\n",
       "      <td>0</td>\n",
       "    </tr>\n",
       "    <tr>\n",
       "      <th>2</th>\n",
       "      <td>2</td>\n",
       "      <td>2459774</td>\n",
       "      <td>3</td>\n",
       "      <td>1</td>\n",
       "      <td>0</td>\n",
       "      <td>2</td>\n",
       "      <td>0</td>\n",
       "    </tr>\n",
       "    <tr>\n",
       "      <th>3</th>\n",
       "      <td>3</td>\n",
       "      <td>2459774</td>\n",
       "      <td>0</td>\n",
       "      <td>3</td>\n",
       "      <td>1</td>\n",
       "      <td>3</td>\n",
       "      <td>0</td>\n",
       "    </tr>\n",
       "    <tr>\n",
       "      <th>4</th>\n",
       "      <td>4</td>\n",
       "      <td>2459774</td>\n",
       "      <td>1</td>\n",
       "      <td>1</td>\n",
       "      <td>1</td>\n",
       "      <td>3</td>\n",
       "      <td>0</td>\n",
       "    </tr>\n",
       "    <tr>\n",
       "      <th>...</th>\n",
       "      <td>...</td>\n",
       "      <td>...</td>\n",
       "      <td>...</td>\n",
       "      <td>...</td>\n",
       "      <td>...</td>\n",
       "      <td>...</td>\n",
       "      <td>...</td>\n",
       "    </tr>\n",
       "    <tr>\n",
       "      <th>359165</th>\n",
       "      <td>359165</td>\n",
       "      <td>3612889</td>\n",
       "      <td>3</td>\n",
       "      <td>3</td>\n",
       "      <td>0</td>\n",
       "      <td>1</td>\n",
       "      <td>0</td>\n",
       "    </tr>\n",
       "    <tr>\n",
       "      <th>359166</th>\n",
       "      <td>359166</td>\n",
       "      <td>3612889</td>\n",
       "      <td>2</td>\n",
       "      <td>1</td>\n",
       "      <td>0</td>\n",
       "      <td>1</td>\n",
       "      <td>0</td>\n",
       "    </tr>\n",
       "    <tr>\n",
       "      <th>359167</th>\n",
       "      <td>359167</td>\n",
       "      <td>3612865</td>\n",
       "      <td>1</td>\n",
       "      <td>1</td>\n",
       "      <td>0</td>\n",
       "      <td>0</td>\n",
       "      <td>0</td>\n",
       "    </tr>\n",
       "    <tr>\n",
       "      <th>359168</th>\n",
       "      <td>359168</td>\n",
       "      <td>3612865</td>\n",
       "      <td>1</td>\n",
       "      <td>1</td>\n",
       "      <td>1</td>\n",
       "      <td>5</td>\n",
       "      <td>0</td>\n",
       "    </tr>\n",
       "    <tr>\n",
       "      <th>359169</th>\n",
       "      <td>359169</td>\n",
       "      <td>3612865</td>\n",
       "      <td>0</td>\n",
       "      <td>1</td>\n",
       "      <td>0</td>\n",
       "      <td>1</td>\n",
       "      <td>0</td>\n",
       "    </tr>\n",
       "  </tbody>\n",
       "</table>\n",
       "<p>359170 rows × 7 columns</p>\n",
       "</div>"
      ],
      "text/plain": [
       "        away_id  game_id  A_goals  A_goals_conceded  A_HorA  A_yellow_cards  \\\n",
       "0             0  2484338        0                 0       0               2   \n",
       "1             1  2484338        1                 0       1               2   \n",
       "2             2  2459774        3                 1       0               2   \n",
       "3             3  2459774        0                 3       1               3   \n",
       "4             4  2459774        1                 1       1               3   \n",
       "...         ...      ...      ...               ...     ...             ...   \n",
       "359165   359165  3612889        3                 3       0               1   \n",
       "359166   359166  3612889        2                 1       0               1   \n",
       "359167   359167  3612865        1                 1       0               0   \n",
       "359168   359168  3612865        1                 1       1               5   \n",
       "359169   359169  3612865        0                 1       0               1   \n",
       "\n",
       "        A_red_cards  \n",
       "0                 0  \n",
       "1                 0  \n",
       "2                 0  \n",
       "3                 0  \n",
       "4                 0  \n",
       "...             ...  \n",
       "359165            0  \n",
       "359166            0  \n",
       "359167            0  \n",
       "359168            0  \n",
       "359169            0  \n",
       "\n",
       "[359170 rows x 7 columns]"
      ]
     },
     "execution_count": 165,
     "metadata": {},
     "output_type": "execute_result"
    }
   ],
   "source": [
    "away_history_full"
   ]
  },
  {
   "cell_type": "markdown",
   "metadata": {},
   "source": [
    "### on rajoute encore des features? allez! L'historique des rencontres entre les 2 équipes dont on cherche à prédire le résultat."
   ]
  },
  {
   "cell_type": "code",
   "execution_count": 170,
   "metadata": {},
   "outputs": [
    {
     "data": {
      "text/html": [
       "<div>\n",
       "<style scoped>\n",
       "    .dataframe tbody tr th:only-of-type {\n",
       "        vertical-align: middle;\n",
       "    }\n",
       "\n",
       "    .dataframe tbody tr th {\n",
       "        vertical-align: top;\n",
       "    }\n",
       "\n",
       "    .dataframe thead th {\n",
       "        text-align: right;\n",
       "    }\n",
       "</style>\n",
       "<table border=\"1\" class=\"dataframe\">\n",
       "  <thead>\n",
       "    <tr style=\"text-align: right;\">\n",
       "      <th></th>\n",
       "      <th>game_id</th>\n",
       "      <th>date</th>\n",
       "      <th>home_club_id</th>\n",
       "      <th>away_club_id</th>\n",
       "      <th>home_club_goals</th>\n",
       "      <th>away_club_goals</th>\n",
       "    </tr>\n",
       "  </thead>\n",
       "  <tbody>\n",
       "  </tbody>\n",
       "</table>\n",
       "</div>"
      ],
      "text/plain": [
       "Empty DataFrame\n",
       "Columns: [game_id, date, home_club_id, away_club_id, home_club_goals, away_club_goals]\n",
       "Index: []"
      ]
     },
     "execution_count": 170,
     "metadata": {},
     "output_type": "execute_result"
    }
   ],
   "source": [
    "game_id = game_ids[100]\n",
    "N = 5\n",
    "target_game = games.loc[games.game_id == game_id,:]\n",
    "club_home_id = target_game['home_club_id'].values[0]\n",
    "club_away_id = target_game['away_club_id'].values[0]\n",
    "\n",
    "N_last_games = games.loc[((games.home_club_id == club_home_id) | (games.away_club_id == club_home_id))\\\n",
    "    & ((games.home_club_id == club_away_id) | (games.away_club_id == club_away_id))\\\n",
    "    & (games.date < target_game['date'].values[0]) ,:].sort_values('date',ascending=False)[:N]\n",
    "N_last_games"
   ]
  },
  {
   "cell_type": "code",
   "execution_count": 171,
   "metadata": {},
   "outputs": [],
   "source": [
    "def get_game_history(game_id):\n",
    "\n",
    "    N = 5\n",
    "    target_game = games.loc[games.game_id == game_id,:]\n",
    "    club_home_id = target_game['home_club_id'].values[0]\n",
    "    club_away_id = target_game['away_club_id'].values[0]\n",
    "\n",
    "    N_last_games = games.loc[((games.home_club_id == club_home_id) | (games.away_club_id == club_home_id))\\\n",
    "        & ((games.home_club_id == club_away_id) | (games.away_club_id == club_away_id))\\\n",
    "        & (games.date < target_game['date'].values[0]) ,:].sort_values('date',ascending=False)[:N]\n",
    "    \n",
    "    if N_last_games.shape[0]==0:\n",
    "        return None\n",
    "\n",
    "    else:\n",
    "        N_last_games[['H_goals','H_goals_conceded','H_HorA']] = N_last_games.apply(lambda x: \\\n",
    "        pd.Series([x['home_club_goals'], x['away_club_goals'],0]) if x['home_club_id']==club_home_id else pd.Series([x['away_club_goals'], x['home_club_goals'],1])\\\n",
    "        , axis = 1)\n",
    "\n",
    "        H_cards = appearance.loc[(appearance.game_id.isin(N_last_games.game_id.values)) \\\n",
    "                & (appearance.player_club_id == club_home_id),\\\n",
    "                    ['game_id','yellow_cards','red_cards']].groupby('game_id').sum().reset_index()\\\n",
    "                        .rename(columns={'yellow_cards': 'H_yellow_cards' ,'red_cards' : 'H_red_cards'})\n",
    "\n",
    "        A_cards = appearance.loc[(appearance.game_id.isin(N_last_games.game_id.values)) \\\n",
    "                & (appearance.player_club_id == club_away_id),\\\n",
    "                    ['game_id','yellow_cards','red_cards']].groupby('game_id').sum().reset_index()\\\n",
    "                        .rename(columns={'yellow_cards': 'A_yellow_cards' ,'red_cards' : 'A_red_cards'})\n",
    "\n",
    "        N_last_games.drop(columns = ['date','home_club_id','away_club_id','home_club_goals','away_club_goals'],inplace = True)\n",
    "        res = pd.merge(N_last_games, H_cards, on='game_id')\n",
    "        res = pd.merge(res, A_cards, on='game_id')\n",
    "        res.game_id= game_id\n",
    "        return res"
   ]
  },
  {
   "cell_type": "code",
   "execution_count": 172,
   "metadata": {},
   "outputs": [
    {
     "name": "stderr",
     "output_type": "stream",
     "text": [
      "100%|██████████| 29545/29545 [26:13<00:00, 18.78it/s]  \n"
     ]
    }
   ],
   "source": [
    "game_history = game_ids.progress_apply(get_game_history)\n",
    "game_history = pd.concat(game_history.values)\n",
    "game_history = game_history.reset_index(drop = True).reset_index().rename(columns={'index':'game_history_id'})\n"
   ]
  },
  {
   "cell_type": "code",
   "execution_count": 175,
   "metadata": {},
   "outputs": [
    {
     "data": {
      "text/plain": [
       "25136"
      ]
     },
     "execution_count": 175,
     "metadata": {},
     "output_type": "execute_result"
    }
   ],
   "source": [
    "len(game_history.game_id.unique())"
   ]
  },
  {
   "cell_type": "code",
   "execution_count": 188,
   "metadata": {},
   "outputs": [
    {
     "data": {
      "text/plain": [
       "game_history_id\n",
       "5                  12875\n",
       "1                   4242\n",
       "2                   2942\n",
       "3                   2755\n",
       "4                   2322\n",
       "dtype: int64"
      ]
     },
     "execution_count": 188,
     "metadata": {},
     "output_type": "execute_result"
    }
   ],
   "source": [
    "game_history.groupby('game_id')[['game_history_id']].count().value_counts()"
   ]
  },
  {
   "cell_type": "code",
   "execution_count": 176,
   "metadata": {},
   "outputs": [
    {
     "data": {
      "text/plain": [
       "29545"
      ]
     },
     "execution_count": 176,
     "metadata": {},
     "output_type": "execute_result"
    }
   ],
   "source": [
    "len(train_df.game_id.unique())"
   ]
  },
  {
   "cell_type": "code",
   "execution_count": 178,
   "metadata": {},
   "outputs": [
    {
     "data": {
      "text/plain": [
       "array([2459642, 2459657, 2459672, ..., 3700967, 3700970, 3710372])"
      ]
     },
     "execution_count": 178,
     "metadata": {},
     "output_type": "execute_result"
    }
   ],
   "source": [
    "game_history.game_id.unique() "
   ]
  },
  {
   "cell_type": "code",
   "execution_count": 189,
   "metadata": {},
   "outputs": [],
   "source": [
    "game_history.to_csv('data/train_LSTM/game_history_full.csv')"
   ]
  },
  {
   "cell_type": "code",
   "execution_count": null,
   "metadata": {},
   "outputs": [],
   "source": []
  }
 ],
 "metadata": {
  "interpreter": {
   "hash": "7487845996c7ba5663e8475bda763caf28d03a7733caf66b680b36d8ed7e8fd6"
  },
  "kernelspec": {
   "display_name": "Python 3.9.7 64-bit ('foot_env': conda)",
   "language": "python",
   "name": "python3"
  },
  "language_info": {
   "codemirror_mode": {
    "name": "ipython",
    "version": 3
   },
   "file_extension": ".py",
   "mimetype": "text/x-python",
   "name": "python",
   "nbconvert_exporter": "python",
   "pygments_lexer": "ipython3",
   "version": "3.9.7"
  },
  "orig_nbformat": 4
 },
 "nbformat": 4,
 "nbformat_minor": 2
}
