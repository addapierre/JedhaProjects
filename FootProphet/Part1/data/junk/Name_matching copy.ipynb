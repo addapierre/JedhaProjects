{
 "cells": [
  {
   "cell_type": "markdown",
   "metadata": {},
   "source": [
    "# Name matching\n",
    "*Author: Pierre Adda*\n",
    "## context:\n",
    "We want to try models using  players statistics for each games, in order to predict that game's outcome. </br>\n",
    "the players stats that we will use are the FIFA player's stats, found at [this url](https://www.kaggle.com/stefanoleone992/fifa-22-complete-player-dataset \"Kaggle Fifa complete dataset\").</br>\n",
    "The games results with the players appearance can be found at [this url](https://data.world/dcereijo/player-scores).\n",
    "This dataset includes 40k+ games from european leagues (including russia) with 20k+ players from 300+ clubs</br></br>\n",
    "The main focus of this notebook is to link the players from the latter dataset to those in the FIFA dataset, in order to build our model training dataframe. </br>\n",
    "This is not a trivial task as the names are either not always properly registered, not registered the same way, are not present from one dataset to another, or several players have the exact same name or a very similar name.\n",
    "\n",
    "## Requirements\n",
    "\n",
    "1. Python 3.8 or higher\n",
    "2. Pandas and Numpy\n",
    "3. the following libraries: unicode, tqdm (for loading bars), python-Levenshtein and fuzzywuzzy for \"fuzzy\" string matching:\n",
    "\n",
    "<code>\n",
    "!pip install unidecode -q  \n",
    "\n",
    "!pip install python-Levenshtein -q  \n",
    "!pip install fuzzywuzzy -q  \n",
    "!pip install \"tqdm>=4.9.0\"\n",
    "</code>\n",
    "<br><br><br><br>"
   ]
  },
  {
   "cell_type": "markdown",
   "metadata": {},
   "source": [
    "## 1. Imports"
   ]
  },
  {
   "cell_type": "code",
   "execution_count": 2,
   "metadata": {},
   "outputs": [],
   "source": [
    "import pandas as pd\n",
    "import numpy as np\n",
    "import unidecode\n",
    "from fuzzywuzzy import fuzz #this amazing library uses levenshtein distance (string similarity scores) to match somewhat similar strings\n",
    "from tqdm import tqdm\n",
    "import re\n",
    "tqdm.pandas()"
   ]
  },
  {
   "cell_type": "code",
   "execution_count": 3,
   "metadata": {},
   "outputs": [],
   "source": [
    "pd.options.display.max_columns =None"
   ]
  },
  {
   "cell_type": "markdown",
   "metadata": {},
   "source": [
    "## 2. Functions"
   ]
  },
  {
   "cell_type": "code",
   "execution_count": 4,
   "metadata": {},
   "outputs": [],
   "source": [
    "# This function preprocesses the FIFA datasets\n",
    "# it removes diacritics, hyphens, apostrophes on player names and club. \n",
    "# \"dj\" is replaced to \"d\" to avoid recurrent ambiguity related to eastern european names\n",
    "\n",
    "def decode_fifa(fifa_df):\n",
    "    fifa_df.short_name = fifa_df.short_name.apply(unidecode.unidecode)\n",
    "    fifa_df.long_name = fifa_df.long_name.apply(unidecode.unidecode)\n",
    "    fifa_df.club_name = fifa_df.club_name.apply(unidecode.unidecode)\n",
    "\n",
    "    fifa_df.short_name = fifa_df.short_name.str.lower().str.replace(\"'\",\"\").str.replace(\"-\",\" \").str.replace('dj','d')\n",
    "    fifa_df.long_name = fifa_df.long_name.str.lower().str.replace(\"'\",\"\").str.replace(\"-\",\" \").str.replace('dj','d')\n",
    "        \n",
    "        \n",
    "    return None"
   ]
  },
  {
   "cell_type": "code",
   "execution_count": 5,
   "metadata": {},
   "outputs": [],
   "source": [
    "#This function returns a list of the best matching names index(es) and the the corresponding fuzz.token_set_ratio max value ( = string similarity max score)\n",
    "\n",
    "def search_name(x,fifa_N):\n",
    "    fuzz_scores = fifa_N.long_name.apply(lambda y: fuzz.token_set_ratio(x,y)).values   \n",
    "    #each name in the \"fifa\" dataframe is assigned a similarity score with the selected name from the \"players\" dataset\n",
    "    \n",
    "    return np.argwhere(fuzz_scores == fuzz_scores.max()).squeeze() , fuzz_scores.max()"
   ]
  },
  {
   "cell_type": "code",
   "execution_count": 6,
   "metadata": {},
   "outputs": [],
   "source": [
    "# This function uses the function search_name() on all names from the \"players\" dataframe \n",
    "# The function adds the best matching name(s) index(es) and fuzz score to the link dataframe\n",
    "# it returns the number of names that might have matched correctly\n",
    "\n",
    "def search_all_names(fifa_N):\n",
    "    results = link.name.progress_apply(lambda x:search_name(x,fifa_N))\n",
    "    \n",
    "    link['fifa_index']= results.apply(lambda x : x[0])\n",
    "    link['fuzz_score'] = results.apply(lambda x : x[1])\n",
    "    \n",
    "    return link.iloc[:10,:].loc[link.fuzz_score > 90,'fuzz_score'].shape"
   ]
  },
  {
   "cell_type": "markdown",
   "metadata": {},
   "source": [
    "## 3. Data"
   ]
  },
  {
   "cell_type": "markdown",
   "metadata": {},
   "source": [
    "### Game dataset\n",
    "##### If you do not have the \"game\" dataset (players.csv, games.csv, appearance.csv, clubs.csv), please take the following steps:\n",
    "\n",
    "\n",
    "1. create ``./data`` and ``./data/games/`` folders.  \n",
    "\n",
    "2. execute the cell below\n",
    "\n",
    "##### If you already have this dataset, make sure it is in the right folder and ignore the next cell"
   ]
  },
  {
   "cell_type": "code",
   "execution_count": 12,
   "metadata": {},
   "outputs": [],
   "source": [
    "# Downloads all the dataset and store it in ./data/games/\n",
    "\n",
    "appearance = pd.read_csv('https://query.data.world/s/xemgpklltd3hlau4swg2vafdctgacf')\n",
    "clubs = pd.read_csv('https://query.data.world/s/bmpof22nmwcl7dc4s5kf5l2pjf6l62')\n",
    "leagues = pd.read_csv('https://query.data.world/s/zmlqmpvqs4atuxn3rsdkdqv5wa6c5o')\n",
    "games = pd.read_csv('https://query.data.world/s/ntedgrx2r6shpsvskopamknbnl7sfk')\n",
    "players = pd.read_csv('https://query.data.world/s/jyeqrkxvhxmqxzqfac2s6kquuxrfuo')\n",
    "\n",
    "appearance.to_csv(\"data/games/appearance.csv\")\n",
    "clubs.to_csv(\"data/games/clubs.csv\")\n",
    "leagues.to_csv(\"data/games/leagues.csv\")\n",
    "games.to_csv(\"data/games/games.csv\")\n",
    "players.to_csv(\"data/games/players.csv\")"
   ]
  },
  {
   "cell_type": "code",
   "execution_count": 7,
   "metadata": {},
   "outputs": [],
   "source": [
    "appearance = pd.read_csv(\"data/games/appearance.csv\")\n",
    "clubs = pd.read_csv(\"data/games/clubs.csv\")\n",
    "leagues = pd.read_csv(\"data/games/leagues.csv\")\n",
    "games = pd.read_csv(\"data/games/games.csv\")\n",
    "players = pd.read_csv(\"data/games/players.csv\")\n"
   ]
  },
  {
   "cell_type": "markdown",
   "metadata": {},
   "source": [
    "### Fifa Dataset\n",
    "if you don't have this dataset, you can download it at [this url](https://www.kaggle.com/stefanoleone992/fifa-22-complete-player-dataset \"fifa dataset\").  \n",
    "This dataset should be stored in `` ./data/FIFA/ ``"
   ]
  },
  {
   "cell_type": "code",
   "execution_count": 87,
   "metadata": {},
   "outputs": [],
   "source": [
    "#Choose one of the FIFA dataset.\n",
    "#The find_name function was initially designed to be used on all FIFA dataset at once, but trust me it's long enough using only one FIFA dataset\n",
    "\n",
    "#Here we chose FIFA15.csv\n",
    "fifa_df = pd.read_csv(\"data/FIFA/players_15.csv\")"
   ]
  },
  {
   "cell_type": "markdown",
   "metadata": {},
   "source": [
    "## 4. Preprocessing"
   ]
  },
  {
   "cell_type": "code",
   "execution_count": 88,
   "metadata": {},
   "outputs": [],
   "source": [
    "\n",
    "fifa_df = fifa_df.loc[:,['sofifa_id','short_name','long_name','club_team_id','club_name']]\n",
    "\n",
    "# Some club_name values are NaN obect. Problem: None and Nan object cannot be treated as strings. \n",
    "# Thus, in order to preprocess all names, we will replace missing names with unmistakingly non existing names, i.e. \"ZZZZZ\"\n",
    "fifa_df.loc[fifa_df.club_name.isnull(),'club_name']=\"ZZZZZ\"\n",
    "\n",
    "# Only now can we apply the function decode_fifa\n",
    "decode_fifa(fifa_df)"
   ]
  },
  {
   "cell_type": "code",
   "execution_count": 8,
   "metadata": {},
   "outputs": [],
   "source": [
    "players.name = players.name.str.replace(\"-\",\" \").str.replace('dj','d')"
   ]
  },
  {
   "cell_type": "markdown",
   "metadata": {},
   "source": [
    "## 5. Name matching"
   ]
  },
  {
   "cell_type": "code",
   "execution_count": 100,
   "metadata": {},
   "outputs": [
    {
     "data": {
      "text/html": [
       "<div>\n",
       "<style scoped>\n",
       "    .dataframe tbody tr th:only-of-type {\n",
       "        vertical-align: middle;\n",
       "    }\n",
       "\n",
       "    .dataframe tbody tr th {\n",
       "        vertical-align: top;\n",
       "    }\n",
       "\n",
       "    .dataframe thead th {\n",
       "        text-align: right;\n",
       "    }\n",
       "</style>\n",
       "<table border=\"1\" class=\"dataframe\">\n",
       "  <thead>\n",
       "    <tr style=\"text-align: right;\">\n",
       "      <th></th>\n",
       "      <th>player_id</th>\n",
       "      <th>name</th>\n",
       "    </tr>\n",
       "  </thead>\n",
       "  <tbody>\n",
       "    <tr>\n",
       "      <th>0</th>\n",
       "      <td>38790</td>\n",
       "      <td>dmitri golubov</td>\n",
       "    </tr>\n",
       "  </tbody>\n",
       "</table>\n",
       "</div>"
      ],
      "text/plain": [
       "   player_id            name\n",
       "0      38790  dmitri golubov"
      ]
     },
     "execution_count": 100,
     "metadata": {},
     "output_type": "execute_result"
    }
   ],
   "source": [
    "#This dataframe will be used to link the players from the 'appearance' dataset\n",
    "link=players.loc[:,['player_id','name']].copy()\n",
    "link.head(1)"
   ]
  },
  {
   "cell_type": "code",
   "execution_count": 101,
   "metadata": {},
   "outputs": [
    {
     "name": "stderr",
     "output_type": "stream",
     "text": [
      "100%|██████████| 22432/22432 [00:26<00:00, 855.16it/s]\n"
     ]
    }
   ],
   "source": [
    "# Adds to each player the list of clubs in which that player has played at least one game, according to the \"appearance\" dataset\n",
    "\n",
    "link['clubs'] = link.player_id.progress_apply(lambda x:\n",
    "                    appearance.loc[appearance.player_id == x,'player_club_id'].unique() if type(x) == int\n",
    "                                     else [appearance.loc[appearance.player_id == y,'player_club_id'].unique() for y in x]\n",
    "                                    )"
   ]
  },
  {
   "cell_type": "code",
   "execution_count": 106,
   "metadata": {},
   "outputs": [
    {
     "name": "stdout",
     "output_type": "stream",
     "text": [
      "number of players that haven't played a single game: 0\n"
     ]
    }
   ],
   "source": [
    "# Some players are not found in the appearance dataset. Since we use players that played games to train our models, we can get rid of those missing players.\n",
    "print(\"number of players that haven't played a single game:\",link.loc[ link.clubs.apply(len) == 0 ,:].shape[0])\n",
    "link.drop(link.loc[ link.clubs.apply(len) == 0 ,:].index, inplace = True)\n",
    "link.reset_index(drop = True,inplace = True)"
   ]
  },
  {
   "cell_type": "markdown",
   "metadata": {},
   "source": [
    "***The actual name searching cell :***"
   ]
  },
  {
   "cell_type": "code",
   "execution_count": 107,
   "metadata": {},
   "outputs": [
    {
     "name": "stderr",
     "output_type": "stream",
     "text": [
      "100%|██████████| 17639/17639 [1:41:52<00:00,  2.89it/s]\n"
     ]
    },
    {
     "data": {
      "text/plain": [
       "(7,)"
      ]
     },
     "execution_count": 107,
     "metadata": {},
     "output_type": "execute_result"
    }
   ],
   "source": [
    "# this function will apply the fuzz.token_set_ratio function on (number of lines in fifa_df)*(number of lines in players df)\n",
    "# for fifa15, this is ~300 million times. It is what it is... and it takes somewhat 1h30 to compute.\n",
    "# So THIS IS A WARNING: it takes a LONG time.\n",
    "\n",
    "search_all_names(fifa_df)\n"
   ]
  },
  {
   "cell_type": "code",
   "execution_count": 9,
   "metadata": {},
   "outputs": [
    {
     "name": "stderr",
     "output_type": "stream",
     "text": [
      "/Users/pierreadda/opt/anaconda3/envs/foot_env/lib/python3.9/site-packages/IPython/core/interactiveshell.py:3457: DtypeWarning: Columns (104) have mixed types.Specify dtype option on import or set low_memory=False.\n",
      "  exec(code_obj, self.user_global_ns, self.user_ns)\n",
      "100%|██████████| 22432/22432 [00:27<00:00, 811.72it/s]\n",
      "100%|██████████| 17639/17639 [1:35:08<00:00,  3.09it/s]\n"
     ]
    }
   ],
   "source": [
    "fifa_df = pd.read_csv(\"data/FIFA/players_16.csv\")\n",
    "fifa_df = fifa_df.loc[:,['sofifa_id','short_name','long_name','club_team_id','club_name']]\n",
    "\n",
    "fifa_df.loc[fifa_df.club_name.isnull(),'club_name']=\"ZZZZZ\"\n",
    "\n",
    "decode_fifa(fifa_df)\n",
    "\n",
    "link=players.loc[:,['player_id','name']].copy()\n",
    "link['clubs'] = link.player_id.progress_apply(lambda x:\n",
    "                    appearance.loc[appearance.player_id == x,'player_club_id'].unique() if type(x) == int\n",
    "                                     else [appearance.loc[appearance.player_id == y,'player_club_id'].unique() for y in x]\n",
    "                                    )\n",
    "link.drop(link.loc[ link.clubs.apply(len) == 0 ,:].index, inplace = True)\n",
    "link.reset_index(drop = True,inplace = True)\n",
    "search_all_names(fifa_df)\n",
    "link.to_csv(\"fifa16_res.csv\")"
   ]
  },
  {
   "cell_type": "code",
   "execution_count": 10,
   "metadata": {},
   "outputs": [
    {
     "name": "stderr",
     "output_type": "stream",
     "text": [
      "100%|██████████| 22432/22432 [00:23<00:00, 971.95it/s] \n",
      "100%|██████████| 17639/17639 [8:42:06<00:00,  1.78s/it]      \n"
     ]
    }
   ],
   "source": [
    "fifa_df = pd.read_csv(\"data/FIFA/players_17.csv\")\n",
    "fifa_df = fifa_df.loc[:,['sofifa_id','short_name','long_name','club_team_id','club_name']]\n",
    "\n",
    "fifa_df.loc[fifa_df.club_name.isnull(),'club_name']=\"ZZZZZ\"\n",
    "\n",
    "decode_fifa(fifa_df)\n",
    "\n",
    "link=players.loc[:,['player_id','name']].copy()\n",
    "link['clubs'] = link.player_id.progress_apply(lambda x:\n",
    "                    appearance.loc[appearance.player_id == x,'player_club_id'].unique() if type(x) == int\n",
    "                                     else [appearance.loc[appearance.player_id == y,'player_club_id'].unique() for y in x]\n",
    "                                    )\n",
    "link.drop(link.loc[ link.clubs.apply(len) == 0 ,:].index, inplace = True)\n",
    "link.reset_index(drop = True,inplace = True)\n",
    "search_all_names(fifa_df)\n",
    "link.to_csv(\"fifa17_res.csv\")"
   ]
  },
  {
   "cell_type": "code",
   "execution_count": 11,
   "metadata": {},
   "outputs": [
    {
     "name": "stderr",
     "output_type": "stream",
     "text": [
      "/Users/pierreadda/opt/anaconda3/envs/foot_env/lib/python3.9/site-packages/IPython/core/interactiveshell.py:3457: DtypeWarning: Columns (81,82,83,84,85) have mixed types.Specify dtype option on import or set low_memory=False.\n",
      "  exec(code_obj, self.user_global_ns, self.user_ns)\n",
      "100%|██████████| 22432/22432 [00:24<00:00, 918.79it/s] \n",
      "100%|██████████| 17639/17639 [1:50:51<00:00,  2.65it/s]\n"
     ]
    }
   ],
   "source": [
    "fifa_df = pd.read_csv(\"data/FIFA/players_18.csv\")\n",
    "fifa_df = fifa_df.loc[:,['sofifa_id','short_name','long_name','club_team_id','club_name']]\n",
    "\n",
    "fifa_df.loc[fifa_df.club_name.isnull(),'club_name']=\"ZZZZZ\"\n",
    "\n",
    "decode_fifa(fifa_df)\n",
    "\n",
    "link=players.loc[:,['player_id','name']].copy()\n",
    "link['clubs'] = link.player_id.progress_apply(lambda x:\n",
    "                    appearance.loc[appearance.player_id == x,'player_club_id'].unique() if type(x) == int\n",
    "                                     else [appearance.loc[appearance.player_id == y,'player_club_id'].unique() for y in x]\n",
    "                                    )\n",
    "link.drop(link.loc[ link.clubs.apply(len) == 0 ,:].index, inplace = True)\n",
    "link.reset_index(drop = True,inplace = True)\n",
    "search_all_names(fifa_df)\n",
    "link.to_csv(\"fifa18_res.csv\")"
   ]
  },
  {
   "cell_type": "code",
   "execution_count": 12,
   "metadata": {},
   "outputs": [
    {
     "name": "stderr",
     "output_type": "stream",
     "text": [
      "100%|██████████| 22432/22432 [00:26<00:00, 860.10it/s]\n",
      "100%|██████████| 17639/17639 [1:53:33<00:00,  2.59it/s]\n"
     ]
    }
   ],
   "source": [
    "fifa_df = pd.read_csv(\"data/FIFA/players_19.csv\")\n",
    "fifa_df = fifa_df.loc[:,['sofifa_id','short_name','long_name','club_team_id','club_name']]\n",
    "\n",
    "fifa_df.loc[fifa_df.club_name.isnull(),'club_name']=\"ZZZZZ\"\n",
    "\n",
    "decode_fifa(fifa_df)\n",
    "\n",
    "link=players.loc[:,['player_id','name']].copy()\n",
    "link['clubs'] = link.player_id.progress_apply(lambda x:\n",
    "                    appearance.loc[appearance.player_id == x,'player_club_id'].unique() if type(x) == int\n",
    "                                     else [appearance.loc[appearance.player_id == y,'player_club_id'].unique() for y in x]\n",
    "                                    )\n",
    "link.drop(link.loc[ link.clubs.apply(len) == 0 ,:].index, inplace = True)\n",
    "link.reset_index(drop = True,inplace = True)\n",
    "search_all_names(fifa_df)\n",
    "link.to_csv(\"fifa19_res.csv\")"
   ]
  },
  {
   "cell_type": "code",
   "execution_count": 109,
   "metadata": {},
   "outputs": [],
   "source": [
    "# Let's save this dataframe that took so long to compute in the root folder\n",
    "# To store this file somewhere else is left to the user's discretion\n",
    "\n",
    "#don't forget to change the name if you used another fifa dataframe\n",
    "#link.to_csv(\"fifa15_res.csv\")"
   ]
  },
  {
   "cell_type": "markdown",
   "metadata": {},
   "source": [
    "# 6. Name filtering"
   ]
  },
  {
   "cell_type": "markdown",
   "metadata": {},
   "source": [
    "**if you want to open a \"link\" dataframe that was previously saved, compile the following cell**"
   ]
  },
  {
   "cell_type": "code",
   "execution_count": 69,
   "metadata": {},
   "outputs": [
    {
     "name": "stderr",
     "output_type": "stream",
     "text": [
      "100%|██████████| 17639/17639 [00:00<00:00, 82665.52it/s]\n"
     ]
    }
   ],
   "source": [
    "link = pd.read_csv('fifa16_res.csv', index_col=0)\n",
    "\n",
    "# Reading a .csv tranforms lists into strings.\n",
    "# now let's apply some preprocessing to transform a string of a list back into a list again \n",
    "\n",
    "import ast # ast is part of python standard's library. \n",
    "def transform_int_column(x):\n",
    "    if x[0] == r'[':\n",
    "        res = re.sub(r'(\\d)\\s+(\\d)',r'\\1 , \\2',x.replace('\\n',''))\n",
    "        res = re.sub(r'(\\d)\\s+(\\d)',r'\\1 , \\2',res)\n",
    "        res = ast.literal_eval(res) \n",
    "        res = [int(y) for y in res]\n",
    "    else:\n",
    "        res = int(x)\n",
    "    return res\n",
    "link.fifa_index = link.fifa_index.progress_apply(transform_int_column)"
   ]
  },
  {
   "cell_type": "markdown",
   "metadata": {},
   "source": [
    "##### remove names with similarity score <90, which are unlikely to be correct"
   ]
  },
  {
   "cell_type": "code",
   "execution_count": 70,
   "metadata": {},
   "outputs": [
    {
     "data": {
      "text/html": [
       "<div>\n",
       "<style scoped>\n",
       "    .dataframe tbody tr th:only-of-type {\n",
       "        vertical-align: middle;\n",
       "    }\n",
       "\n",
       "    .dataframe tbody tr th {\n",
       "        vertical-align: top;\n",
       "    }\n",
       "\n",
       "    .dataframe thead th {\n",
       "        text-align: right;\n",
       "    }\n",
       "</style>\n",
       "<table border=\"1\" class=\"dataframe\">\n",
       "  <thead>\n",
       "    <tr style=\"text-align: right;\">\n",
       "      <th></th>\n",
       "      <th>player_id</th>\n",
       "      <th>name</th>\n",
       "      <th>clubs</th>\n",
       "      <th>fifa_index</th>\n",
       "      <th>fuzz_score</th>\n",
       "    </tr>\n",
       "  </thead>\n",
       "  <tbody>\n",
       "    <tr>\n",
       "      <th>3302</th>\n",
       "      <td>14127</td>\n",
       "      <td>alan</td>\n",
       "      <td>[1075]</td>\n",
       "      <td>[481, 576, 1261, 2110, 3646, 3908, 3959, 4180,...</td>\n",
       "      <td>100</td>\n",
       "    </tr>\n",
       "  </tbody>\n",
       "</table>\n",
       "</div>"
      ],
      "text/plain": [
       "      player_id  name   clubs  \\\n",
       "3302      14127  alan  [1075]   \n",
       "\n",
       "                                             fifa_index  fuzz_score  \n",
       "3302  [481, 576, 1261, 2110, 3646, 3908, 3959, 4180,...         100  "
      ]
     },
     "execution_count": 70,
     "metadata": {},
     "output_type": "execute_result"
    }
   ],
   "source": [
    "link.loc[link.player_id == 14127,:]"
   ]
  },
  {
   "cell_type": "code",
   "execution_count": 71,
   "metadata": {},
   "outputs": [
    {
     "name": "stdout",
     "output_type": "stream",
     "text": [
      "(17639, 5)\n",
      "(7446, 5)\n"
     ]
    }
   ],
   "source": [
    "print(link.shape)\n",
    "link = link.loc[link.fuzz_score > 90,:]\n",
    "link.reset_index(drop = True,inplace = True)\n",
    "print(link.shape)"
   ]
  },
  {
   "cell_type": "markdown",
   "metadata": {},
   "source": [
    "##### for informative purpose, let's add the names corresponding to the fifa_index in a new column"
   ]
  },
  {
   "cell_type": "code",
   "execution_count": 75,
   "metadata": {},
   "outputs": [
    {
     "data": {
      "text/html": [
       "<div>\n",
       "<style scoped>\n",
       "    .dataframe tbody tr th:only-of-type {\n",
       "        vertical-align: middle;\n",
       "    }\n",
       "\n",
       "    .dataframe tbody tr th {\n",
       "        vertical-align: top;\n",
       "    }\n",
       "\n",
       "    .dataframe thead th {\n",
       "        text-align: right;\n",
       "    }\n",
       "</style>\n",
       "<table border=\"1\" class=\"dataframe\">\n",
       "  <thead>\n",
       "    <tr style=\"text-align: right;\">\n",
       "      <th></th>\n",
       "      <th>player_id</th>\n",
       "      <th>name</th>\n",
       "      <th>clubs</th>\n",
       "      <th>fifa_index</th>\n",
       "      <th>fuzz_score</th>\n",
       "    </tr>\n",
       "  </thead>\n",
       "  <tbody>\n",
       "  </tbody>\n",
       "</table>\n",
       "</div>"
      ],
      "text/plain": [
       "Empty DataFrame\n",
       "Columns: [player_id, name, clubs, fifa_index, fuzz_score]\n",
       "Index: []"
      ]
     },
     "execution_count": 75,
     "metadata": {},
     "output_type": "execute_result"
    }
   ],
   "source": [
    "# This is our way of accessing the names with multiple matches. \n",
    "link.loc[(link.fifa_index.apply(type)!=int) & (link.fuzz_score < 100),:].head(4)"
   ]
  },
  {
   "cell_type": "code",
   "execution_count": 67,
   "metadata": {},
   "outputs": [],
   "source": [
    "link.loc[link.fifa_index.apply(type)!=int,'name_compare'] = \\\n",
    "link.loc[link.fifa_index.apply(type)!=int,'fifa_index'].apply(lambda x : [fifa_df.long_name[y]for y in x])\n",
    "\n",
    "link.loc[link.fifa_index.apply(type)==int,'name_compare'] = \\\n",
    "link.loc[link.fifa_index.apply(type)==int,'fifa_index'].apply(lambda x : fifa_df.long_name[x])"
   ]
  },
  {
   "cell_type": "markdown",
   "metadata": {},
   "source": [
    "### for names with multiple matches: \n",
    "##### we can check if any clubs in which the player have played can be found in the clubs from the fifa dataset\n",
    "\n",
    "We will compare the club names of the fifa 'candidates' to the list of clubs we can somehow link to the target player:</br>\n",
    "from the appearance dataset, we have every player for every games with the club ID of those players. Therefore, we can have a partial player's club appartenance history, given that the player has played games...</br>\n",
    "We can also add to that list the players current club found the player's dataset</br>\n",
    "It is assumed that a club having multiple players with the very same name is very unlikely"
   ]
  },
  {
   "cell_type": "code",
   "execution_count": 52,
   "metadata": {},
   "outputs": [
    {
     "name": "stderr",
     "output_type": "stream",
     "text": [
      "100%|██████████| 8224/8224 [00:09<00:00, 829.87it/s]\n",
      "100%|██████████| 8224/8224 [00:02<00:00, 2962.96it/s]\n",
      "100%|██████████| 8224/8224 [00:05<00:00, 1639.26it/s]\n",
      "100%|██████████| 8224/8224 [00:00<00:00, 24700.11it/s]\n"
     ]
    }
   ],
   "source": [
    "link['clubs'] = link.player_id.progress_apply(lambda x:\n",
    "                    appearance.loc[appearance.player_id == x,'player_club_id'].unique() if type(x) == int\n",
    "                                     else [appearance.loc[appearance.player_id == y,'player_club_id'].unique() for y in x]\n",
    "                                    )\n",
    "\n",
    "#let's add the \"current club\" from the players dataset to the clubs obtained from appearance dataset, if that club is not already in that list:\n",
    "\n",
    "link.clubs = link.progress_apply(lambda x: \n",
    "                                 np.append(x['clubs'],players.loc[players.player_id == x['player_id'],'current_club_id']) \n",
    "                                 if players.loc[players.player_id == x['player_id'],'current_club_id'].values[0] not in x['clubs']\n",
    "                                 else x['clubs']\n",
    "                                 ,axis = 1)\n",
    "\n",
    "#Replace club_id with club names:\n",
    "\n",
    "link.clubs = link.clubs.progress_apply(lambda x:\n",
    "                                      [clubs.loc[clubs.club_id == y, 'name'] for y in x])\n",
    "link.clubs = link.clubs.apply(lambda x: list(np.concatenate(x).flat))\n",
    "\n",
    "# Now let's add the clubs corresponding to the FIFA indexes in a new column:\n",
    "\n",
    "link['fifa_clubs'] = link.fifa_index.progress_apply(lambda x : \n",
    "                                         fifa_df.loc[x,'club_name']\n",
    "                                        )"
   ]
  },
  {
   "cell_type": "code",
   "execution_count": 53,
   "metadata": {},
   "outputs": [
    {
     "data": {
      "text/html": [
       "<div>\n",
       "<style scoped>\n",
       "    .dataframe tbody tr th:only-of-type {\n",
       "        vertical-align: middle;\n",
       "    }\n",
       "\n",
       "    .dataframe tbody tr th {\n",
       "        vertical-align: top;\n",
       "    }\n",
       "\n",
       "    .dataframe thead th {\n",
       "        text-align: right;\n",
       "    }\n",
       "</style>\n",
       "<table border=\"1\" class=\"dataframe\">\n",
       "  <thead>\n",
       "    <tr style=\"text-align: right;\">\n",
       "      <th></th>\n",
       "      <th>player_id</th>\n",
       "      <th>name</th>\n",
       "      <th>clubs</th>\n",
       "      <th>fifa_index</th>\n",
       "      <th>fuzz_score</th>\n",
       "      <th>name_compare</th>\n",
       "      <th>fifa_clubs</th>\n",
       "    </tr>\n",
       "  </thead>\n",
       "  <tbody>\n",
       "    <tr>\n",
       "      <th>22</th>\n",
       "      <td>49899</td>\n",
       "      <td>william</td>\n",
       "      <td>[fk-ufa]</td>\n",
       "      <td>[126, 1033, 1110, 1227, 2007, 3076, 3468, 4095...</td>\n",
       "      <td>100</td>\n",
       "      <td>[willian borges da silva, giovanni guy yann si...</td>\n",
       "      <td>[Chelsea, Montpellier Herault SC, Borussia Dor...</td>\n",
       "    </tr>\n",
       "  </tbody>\n",
       "</table>\n",
       "</div>"
      ],
      "text/plain": [
       "    player_id     name     clubs  \\\n",
       "22      49899  william  [fk-ufa]   \n",
       "\n",
       "                                           fifa_index  fuzz_score  \\\n",
       "22  [126, 1033, 1110, 1227, 2007, 3076, 3468, 4095...         100   \n",
       "\n",
       "                                         name_compare  \\\n",
       "22  [willian borges da silva, giovanni guy yann si...   \n",
       "\n",
       "                                           fifa_clubs  \n",
       "22  [Chelsea, Montpellier Herault SC, Borussia Dor...  "
      ]
     },
     "execution_count": 53,
     "metadata": {},
     "output_type": "execute_result"
    }
   ],
   "source": [
    "#last cell created pandas series while we would have preferred numpy arrays... Let's fix this:\n",
    "link.loc[link.fifa_clubs.apply(type) != str,'fifa_clubs'] = link.loc[link.fifa_clubs.apply(type) != str,'fifa_clubs'].apply(lambda x : x.values)\n",
    "link.loc[link.fifa_clubs.apply(type) != str,:].head(1)"
   ]
  },
  {
   "cell_type": "code",
   "execution_count": 54,
   "metadata": {},
   "outputs": [
    {
     "name": "stdout",
     "output_type": "stream",
     "text": [
      "(0, 7)\n",
      "(0, 7)\n",
      "(0, 7)\n",
      "(0, 7)\n"
     ]
    }
   ],
   "source": [
    "# There are some club_id that cannot be found in the \"clubs\" dataset\n",
    "# Remove rows in \"link\" that have no clubs, and that have a similarity score inferior to 100 (max similarity) or multiple matches.\n",
    "# Supposedly this should not be removing any rows, but we'll do it anyway. \n",
    "\n",
    "print(link.loc[(link.clubs.apply(len) == 0)&(link.name_compare.apply(type)!= str),:].shape)\n",
    "print(link.loc[(link.clubs.apply(len) == 0)&(link.fuzz_score<100),:].shape)\n",
    "\n",
    "link.drop(link.loc[(link.clubs.apply(len) == 0)&(link.name_compare.apply(type)!= str),:].index, inplace = True)\n",
    "link.drop(link.loc[(link.clubs.apply(len) == 0)&(link.fuzz_score<100),:].index, inplace = True)\n",
    "\n",
    "print(link.loc[(link.clubs.apply(len) == 0)&(link.name_compare.apply(type)!= str),:].shape)\n",
    "print(link.loc[(link.clubs.apply(len) == 0)&(link.fuzz_score<100),:].shape)"
   ]
  },
  {
   "cell_type": "markdown",
   "metadata": {},
   "source": [
    "<b> The next 2 cells' goal is to check the name similarity between 2 club lists.</br>\n",
    "    - The first cell returns a list of the max string similarity score between all of fifa_index clubs and ANY of the clubs in which the \"target\" player has played.</br>\n",
    "    - The second cell returns the position of the max string similarity score in that list, if this score is >90. This should correspond to the right player."
   ]
  },
  {
   "cell_type": "code",
   "execution_count": 55,
   "metadata": {},
   "outputs": [
    {
     "name": "stderr",
     "output_type": "stream",
     "text": [
      "100%|██████████| 662/662 [00:00<00:00, 1481.05it/s]\n"
     ]
    }
   ],
   "source": [
    "link['club_corr'] = None\n",
    "link.loc[link.fifa_index.apply(type) != int,'club_corr'] = link.loc[link.fifa_index.apply(type) != int,:].progress_apply(lambda x:\n",
    "                                                   [max([fuzz.token_set_ratio(z,y) for z in x['clubs']]) for y in x['fifa_clubs']]\n",
    "                                                   ,axis = 1\n",
    "                                                  )            "
   ]
  },
  {
   "cell_type": "code",
   "execution_count": 56,
   "metadata": {},
   "outputs": [],
   "source": [
    "link.loc[link.fifa_index.apply(type) != int,'club_corr'] = link.loc[link.fifa_index.apply(type) != int,:].club_corr.apply(lambda x : \n",
    "                     np.argmax(x) if max(x)>90 else None\n",
    "                     )\n",
    "\n",
    "#The column club_corr contains now the position of the right fifa_index when fifa_index is a list of pultiple indexes\n"
   ]
  },
  {
   "cell_type": "markdown",
   "metadata": {},
   "source": [
    "<b> At this point, the names with multiple matches and no corresponding club names can be removed"
   ]
  },
  {
   "cell_type": "code",
   "execution_count": 57,
   "metadata": {},
   "outputs": [],
   "source": [
    "link = link.loc[(link.club_corr.notnull()) | (link.fifa_index.apply(type) == int),:]"
   ]
  },
  {
   "cell_type": "markdown",
   "metadata": {},
   "source": [
    "<b> For names with multiple matches, we found the right fifa_index.  \n",
    "Let's keep it and get rid of the others in the columns fifa_index, fifa_club and name_compare"
   ]
  },
  {
   "cell_type": "code",
   "execution_count": 58,
   "metadata": {},
   "outputs": [
    {
     "data": {
      "text/html": [
       "<div>\n",
       "<style scoped>\n",
       "    .dataframe tbody tr th:only-of-type {\n",
       "        vertical-align: middle;\n",
       "    }\n",
       "\n",
       "    .dataframe tbody tr th {\n",
       "        vertical-align: top;\n",
       "    }\n",
       "\n",
       "    .dataframe thead th {\n",
       "        text-align: right;\n",
       "    }\n",
       "</style>\n",
       "<table border=\"1\" class=\"dataframe\">\n",
       "  <thead>\n",
       "    <tr style=\"text-align: right;\">\n",
       "      <th></th>\n",
       "      <th>player_id</th>\n",
       "      <th>name</th>\n",
       "      <th>clubs</th>\n",
       "      <th>fifa_index</th>\n",
       "      <th>fuzz_score</th>\n",
       "      <th>name_compare</th>\n",
       "      <th>fifa_clubs</th>\n",
       "      <th>club_corr</th>\n",
       "    </tr>\n",
       "  </thead>\n",
       "  <tbody>\n",
       "    <tr>\n",
       "      <th>1223</th>\n",
       "      <td>14127</td>\n",
       "      <td>alan</td>\n",
       "      <td>[sc-braga]</td>\n",
       "      <td>2001</td>\n",
       "      <td>100</td>\n",
       "      <td>ailton ferreira silva</td>\n",
       "      <td>SC Braga</td>\n",
       "      <td>2.0</td>\n",
       "    </tr>\n",
       "    <tr>\n",
       "      <th>2936</th>\n",
       "      <td>130635</td>\n",
       "      <td>vitor bruno</td>\n",
       "      <td>[fc-penafiel, cd-feirense, boavista-porto-fc]</td>\n",
       "      <td>5392</td>\n",
       "      <td>100</td>\n",
       "      <td>tiago manuel oliveira mesquita</td>\n",
       "      <td>CD Feirense</td>\n",
       "      <td>0.0</td>\n",
       "    </tr>\n",
       "  </tbody>\n",
       "</table>\n",
       "</div>"
      ],
      "text/plain": [
       "      player_id         name                                          clubs  \\\n",
       "1223      14127         alan                                     [sc-braga]   \n",
       "2936     130635  vitor bruno  [fc-penafiel, cd-feirense, boavista-porto-fc]   \n",
       "\n",
       "     fifa_index  fuzz_score                    name_compare   fifa_clubs  \\\n",
       "1223       2001         100           ailton ferreira silva     SC Braga   \n",
       "2936       5392         100  tiago manuel oliveira mesquita  CD Feirense   \n",
       "\n",
       "     club_corr  \n",
       "1223       2.0  \n",
       "2936       0.0  "
      ]
     },
     "execution_count": 58,
     "metadata": {},
     "output_type": "execute_result"
    }
   ],
   "source": [
    "link.loc[~link.club_corr.isnull(),'fifa_index'] = \\\n",
    "link.loc[~link.club_corr.isnull(),:].apply(lambda x:\n",
    "                                                         x['fifa_index'][int(x['club_corr'])]\n",
    "                                                         ,axis = 1)\n",
    "\n",
    "link.loc[~link.club_corr.isnull(),'name_compare'] = \\\n",
    "link.loc[~link.club_corr.isnull(),:].apply(lambda x:\n",
    "                                                         x['name_compare'][int(x['club_corr'])]\n",
    "                                                         ,axis = 1)\n",
    "\n",
    "link.loc[~link.club_corr.isnull(),'fifa_clubs'] = \\\n",
    "link.loc[~link.club_corr.isnull(),:].apply(lambda x:\n",
    "                                                         x['fifa_clubs'][int(x['club_corr'])]\n",
    "                                                         ,axis = 1)\n",
    "\n",
    "link.loc[~link.club_corr.isnull(),:].head(2)"
   ]
  },
  {
   "cell_type": "code",
   "execution_count": 59,
   "metadata": {},
   "outputs": [
    {
     "data": {
      "text/plain": [
       "29"
      ]
     },
     "execution_count": 59,
     "metadata": {},
     "output_type": "execute_result"
    }
   ],
   "source": [
    "fuzz.token_set_ratio('tiago manuel oliveira mesquita','vitor bruno')"
   ]
  },
  {
   "cell_type": "markdown",
   "metadata": {},
   "source": [
    "**We checked club name correpondance on players with multiple matches, but for good measure we can also check this on other players with a fuzz score <95**"
   ]
  },
  {
   "cell_type": "code",
   "execution_count": 149,
   "metadata": {},
   "outputs": [
    {
     "name": "stderr",
     "output_type": "stream",
     "text": [
      "100%|██████████| 6941/6941 [00:00<00:00, 11720.05it/s]\n"
     ]
    }
   ],
   "source": [
    "# get a list of fuzz score between fifa clubs and clubs from appearance and players datasets\n",
    "mask = link.loc[link.club_corr.isnull(),:].index\n",
    "link.loc[mask,'club_corr'] = link.progress_apply(lambda x:\\\n",
    "    [fuzz.token_set_ratio(x['fifa_clubs'],y) for y in x['clubs']]\\\n",
    "    ,axis = 1\\\n",
    "    )\n"
   ]
  },
  {
   "cell_type": "code",
   "execution_count": 160,
   "metadata": {},
   "outputs": [],
   "source": [
    "#keep the results for clubs with fuzz score > 80 (completely arbitrary)\n",
    "mask = link.loc[link.club_corr.apply(type) == list,:].index #pretty much the same mask, obtained differently as link.club_corr.isnull() doesn't work anymore\n",
    "link.loc[mask ,'club_corr'] = link.loc[mask ,'club_corr'].apply(lambda x:\\\n",
    "    np.argmax(x) if max(x) > 80 else x\\\n",
    "    )"
   ]
  },
  {
   "cell_type": "code",
   "execution_count": 208,
   "metadata": {},
   "outputs": [],
   "source": [
    "# now we get rid of the players with a fuzz_score<95 and those with non-matching club name.\n",
    "# for FIFA15 it amounts to ~60 players, so even if there might be some mistakes it's not very significant\n",
    "\n",
    "link = link.loc[~((link.club_corr.apply(type)==list) & (link.fuzz_score<96) ),:]\n",
    "link.drop(columns = ['club_corr','fuzz_score'], inplace = True)"
   ]
  },
  {
   "cell_type": "code",
   "execution_count": 209,
   "metadata": {},
   "outputs": [
    {
     "data": {
      "text/html": [
       "<div>\n",
       "<style scoped>\n",
       "    .dataframe tbody tr th:only-of-type {\n",
       "        vertical-align: middle;\n",
       "    }\n",
       "\n",
       "    .dataframe tbody tr th {\n",
       "        vertical-align: top;\n",
       "    }\n",
       "\n",
       "    .dataframe thead th {\n",
       "        text-align: right;\n",
       "    }\n",
       "</style>\n",
       "<table border=\"1\" class=\"dataframe\">\n",
       "  <thead>\n",
       "    <tr style=\"text-align: right;\">\n",
       "      <th></th>\n",
       "      <th>player_id</th>\n",
       "      <th>name</th>\n",
       "      <th>clubs</th>\n",
       "      <th>fifa_index</th>\n",
       "      <th>name_compare</th>\n",
       "      <th>fifa_clubs</th>\n",
       "      <th>sofifa_id</th>\n",
       "    </tr>\n",
       "  </thead>\n",
       "  <tbody>\n",
       "    <tr>\n",
       "      <th>0</th>\n",
       "      <td>38790</td>\n",
       "      <td>dmitri golubov</td>\n",
       "      <td>[fk-ufa]</td>\n",
       "      <td>5626</td>\n",
       "      <td>dmitriy golubov</td>\n",
       "      <td>FC Ufa</td>\n",
       "      <td>147752</td>\n",
       "    </tr>\n",
       "  </tbody>\n",
       "</table>\n",
       "</div>"
      ],
      "text/plain": [
       "   player_id            name     clubs fifa_index     name_compare fifa_clubs  \\\n",
       "0      38790  dmitri golubov  [fk-ufa]       5626  dmitriy golubov     FC Ufa   \n",
       "\n",
       "   sofifa_id  \n",
       "0     147752  "
      ]
     },
     "execution_count": 209,
     "metadata": {},
     "output_type": "execute_result"
    }
   ],
   "source": [
    "link[\"sofifa_id\"] = link.fifa_index.apply(lambda x: fifa_df.sofifa_id[x])\n",
    "link.head(1)"
   ]
  },
  {
   "cell_type": "code",
   "execution_count": 210,
   "metadata": {},
   "outputs": [],
   "source": [
    "#Now let's save it\n",
    "link.to_csv('link_fifa15.csv')"
   ]
  }
 ],
 "metadata": {
  "interpreter": {
   "hash": "7487845996c7ba5663e8475bda763caf28d03a7733caf66b680b36d8ed7e8fd6"
  },
  "kernelspec": {
   "display_name": "Python 3.9.7 64-bit ('foot_env': conda)",
   "language": "python",
   "name": "python3"
  },
  "language_info": {
   "codemirror_mode": {
    "name": "ipython",
    "version": 3
   },
   "file_extension": ".py",
   "mimetype": "text/x-python",
   "name": "python",
   "nbconvert_exporter": "python",
   "pygments_lexer": "ipython3",
   "version": "3.9.7"
  },
  "orig_nbformat": 4
 },
 "nbformat": 4,
 "nbformat_minor": 2
}
