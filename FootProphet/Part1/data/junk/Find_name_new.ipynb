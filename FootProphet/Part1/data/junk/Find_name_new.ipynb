{
 "cells": [
  {
   "cell_type": "markdown",
   "metadata": {},
   "source": [
    "# Name matching\n",
    "## context:\n",
    "We want to try models using the players statistics of a game in order to predict that game's outcome. </br>\n",
    "the players stats that we will use are the FIFA player's stats, found at [this url](https://www.kaggle.com/stefanoleone992/fifa-22-complete-player-dataset \"Kaggle Fifa complete dataset\").</br>\n",
    "The games results with the players appearance can be found at [this url](https://data.world/dcereijo/player-scores).\n",
    "This dataset includes 40k+ games with 20k+ players from 300+ clubs</br></br>\n",
    "The main focus of this notebook is to link the players from the latter dataset to those in the FIFA dataset, in order to build our model training dataframe. </br>\n",
    "This is not a trivial task as the names are not always properly registered or simply not registered the same way, are not present from one dataset to another, and several players have the exact same name or a very similar name."
   ]
  },
  {
   "cell_type": "code",
   "execution_count": 1,
   "metadata": {},
   "outputs": [
    {
     "name": "stdout",
     "output_type": "stream",
     "text": [
      "Requirement already satisfied: tqdm>=4.9.0 in /opt/conda/lib/python3.8/site-packages (4.50.2)\n"
     ]
    }
   ],
   "source": [
    "!pip install unidecode -q\n",
    "!pip install python-Levenshtein -q\n",
    "!pip install fuzzywuzzy -q\n",
    "!pip install \"tqdm>=4.9.0\""
   ]
  },
  {
   "cell_type": "code",
   "execution_count": 1,
   "metadata": {},
   "outputs": [],
   "source": [
    "import pandas as pd\n",
    "import numpy as np\n",
    "import unidecode\n",
    "from fuzzywuzzy import fuzz #this amazing library uses levenshtein distance (string similarity scores) to match similar strings\n",
    "import inspect\n",
    "from tqdm import tqdm\n",
    "import re\n",
    "tqdm.pandas()\n",
    "pd.options.display.max_columns = None"
   ]
  },
  {
   "cell_type": "code",
   "execution_count": 8,
   "metadata": {},
   "outputs": [
    {
     "name": "stdout",
     "output_type": "stream",
     "text": [
      "a\n"
     ]
    },
    {
     "data": {
      "text/plain": [
       "['a', 'b']"
      ]
     },
     "execution_count": 8,
     "metadata": {},
     "output_type": "execute_result"
    }
   ],
   "source": [
    "#Use this function into a function that is itself into a list comprehension to retrieve the name of a variable passed as an argument of the function\n",
    "#to use this into a function, delete one '.f_back', to use it in the script, delete two\n",
    "def retrieve_name_list(var):\n",
    "    callers_local_vars = inspect.currentframe().f_back.f_back.f_back.f_locals.items()\n",
    "    return [var_name for var_name, var_val in callers_local_vars if var_val is var][0]\n",
    "\n",
    "def retrieve_name(var):\n",
    "    callers_local_vars = inspect.currentframe().f_back.f_back.f_locals.items()\n",
    "    return [var_name for var_name, var_val in callers_local_vars if var_val is var][0]\n",
    "\n",
    "#example\n",
    "a=2\n",
    "b=3\n",
    "\n",
    "def foo(bar):\n",
    "    return retrieve_name_list(bar)\n",
    "\n",
    "def foo2(bar):\n",
    "    return retrieve_name(bar)\n",
    "\n",
    "print(foo2(a))\n",
    "[foo(x) for x in [a,b]]\n"
   ]
  },
  {
   "cell_type": "markdown",
   "metadata": {},
   "source": [
    "# Data"
   ]
  },
  {
   "cell_type": "code",
   "execution_count": 9,
   "metadata": {},
   "outputs": [],
   "source": [
    "#read data\n",
    "#data source url: https://data.world/dcereijo/player-scores\n",
    "appearance = pd.read_csv('https://query.data.world/s/xemgpklltd3hlau4swg2vafdctgacf')"
   ]
  },
  {
   "cell_type": "code",
   "execution_count": 10,
   "metadata": {},
   "outputs": [],
   "source": [
    "clubs = pd.read_csv('https://query.data.world/s/bmpof22nmwcl7dc4s5kf5l2pjf6l62')"
   ]
  },
  {
   "cell_type": "code",
   "execution_count": 11,
   "metadata": {},
   "outputs": [],
   "source": [
    "leagues = pd.read_csv('https://query.data.world/s/zmlqmpvqs4atuxn3rsdkdqv5wa6c5o')"
   ]
  },
  {
   "cell_type": "code",
   "execution_count": 12,
   "metadata": {},
   "outputs": [],
   "source": [
    "games = pd.read_csv('https://query.data.world/s/ntedgrx2r6shpsvskopamknbnl7sfk')"
   ]
  },
  {
   "cell_type": "code",
   "execution_count": 13,
   "metadata": {},
   "outputs": [],
   "source": [
    "players = pd.read_csv('https://query.data.world/s/jyeqrkxvhxmqxzqfac2s6kquuxrfuo')"
   ]
  },
  {
   "cell_type": "code",
   "execution_count": 14,
   "metadata": {},
   "outputs": [
    {
     "data": {
      "text/plain": [
       "array([2014, 2013, 2015, 2016, 2017, 2018, 2019, 2020, 2021])"
      ]
     },
     "execution_count": 14,
     "metadata": {},
     "output_type": "execute_result"
    }
   ],
   "source": [
    "games.season.unique()"
   ]
  },
  {
   "cell_type": "code",
   "execution_count": 15,
   "metadata": {},
   "outputs": [
    {
     "data": {
      "text/html": [
       "<div>\n",
       "<style scoped>\n",
       "    .dataframe tbody tr th:only-of-type {\n",
       "        vertical-align: middle;\n",
       "    }\n",
       "\n",
       "    .dataframe tbody tr th {\n",
       "        vertical-align: top;\n",
       "    }\n",
       "\n",
       "    .dataframe thead th {\n",
       "        text-align: right;\n",
       "    }\n",
       "</style>\n",
       "<table border=\"1\" class=\"dataframe\">\n",
       "  <thead>\n",
       "    <tr style=\"text-align: right;\">\n",
       "      <th></th>\n",
       "      <th>club_id</th>\n",
       "      <th>name</th>\n",
       "      <th>pretty_name</th>\n",
       "      <th>domestic_competition_id</th>\n",
       "      <th>total_market_value</th>\n",
       "      <th>squad_size</th>\n",
       "      <th>average_age</th>\n",
       "      <th>foreigners_number</th>\n",
       "      <th>foreigners_percentage</th>\n",
       "      <th>national_team_players</th>\n",
       "      <th>stadium_name</th>\n",
       "      <th>stadium_seats</th>\n",
       "      <th>net_transfer_record</th>\n",
       "      <th>coach_name</th>\n",
       "      <th>url</th>\n",
       "    </tr>\n",
       "  </thead>\n",
       "  <tbody>\n",
       "    <tr>\n",
       "      <th>341</th>\n",
       "      <td>417</td>\n",
       "      <td>ogc-nizza</td>\n",
       "      <td>Ogc Nizza</td>\n",
       "      <td>FR1</td>\n",
       "      <td>212.45</td>\n",
       "      <td>27</td>\n",
       "      <td>24.2</td>\n",
       "      <td>18</td>\n",
       "      <td>66.7</td>\n",
       "      <td>8</td>\n",
       "      <td>Allianz Riviera</td>\n",
       "      <td>36178</td>\n",
       "      <td>£-22.32m</td>\n",
       "      <td>Christophe Galtier</td>\n",
       "      <td>https://www.transfermarkt.co.uk/ogc-nizza/star...</td>\n",
       "    </tr>\n",
       "  </tbody>\n",
       "</table>\n",
       "</div>"
      ],
      "text/plain": [
       "     club_id       name pretty_name domestic_competition_id  \\\n",
       "341      417  ogc-nizza   Ogc Nizza                     FR1   \n",
       "\n",
       "     total_market_value  squad_size  average_age  foreigners_number  \\\n",
       "341              212.45          27         24.2                 18   \n",
       "\n",
       "     foreigners_percentage  national_team_players     stadium_name  \\\n",
       "341                   66.7                      8  Allianz Riviera   \n",
       "\n",
       "     stadium_seats net_transfer_record          coach_name  \\\n",
       "341          36178            £-22.32m  Christophe Galtier   \n",
       "\n",
       "                                                   url  \n",
       "341  https://www.transfermarkt.co.uk/ogc-nizza/star...  "
      ]
     },
     "metadata": {},
     "output_type": "display_data"
    },
    {
     "data": {
      "text/html": [
       "<div>\n",
       "<style scoped>\n",
       "    .dataframe tbody tr th:only-of-type {\n",
       "        vertical-align: middle;\n",
       "    }\n",
       "\n",
       "    .dataframe tbody tr th {\n",
       "        vertical-align: top;\n",
       "    }\n",
       "\n",
       "    .dataframe thead th {\n",
       "        text-align: right;\n",
       "    }\n",
       "</style>\n",
       "<table border=\"1\" class=\"dataframe\">\n",
       "  <thead>\n",
       "    <tr style=\"text-align: right;\">\n",
       "      <th></th>\n",
       "      <th>club_id</th>\n",
       "      <th>name</th>\n",
       "      <th>pretty_name</th>\n",
       "      <th>domestic_competition_id</th>\n",
       "      <th>total_market_value</th>\n",
       "      <th>squad_size</th>\n",
       "      <th>average_age</th>\n",
       "      <th>foreigners_number</th>\n",
       "      <th>foreigners_percentage</th>\n",
       "      <th>national_team_players</th>\n",
       "      <th>stadium_name</th>\n",
       "      <th>stadium_seats</th>\n",
       "      <th>net_transfer_record</th>\n",
       "      <th>coach_name</th>\n",
       "      <th>url</th>\n",
       "    </tr>\n",
       "  </thead>\n",
       "  <tbody>\n",
       "    <tr>\n",
       "      <th>341</th>\n",
       "      <td>417</td>\n",
       "      <td>ogc-nice</td>\n",
       "      <td>OGC Nice</td>\n",
       "      <td>FR1</td>\n",
       "      <td>212.45</td>\n",
       "      <td>27</td>\n",
       "      <td>24.2</td>\n",
       "      <td>18</td>\n",
       "      <td>66.7</td>\n",
       "      <td>8</td>\n",
       "      <td>Allianz Riviera</td>\n",
       "      <td>36178</td>\n",
       "      <td>£-22.32m</td>\n",
       "      <td>Christophe Galtier</td>\n",
       "      <td>https://www.transfermarkt.co.uk/ogc-nizza/star...</td>\n",
       "    </tr>\n",
       "  </tbody>\n",
       "</table>\n",
       "</div>"
      ],
      "text/plain": [
       "     club_id      name pretty_name domestic_competition_id  \\\n",
       "341      417  ogc-nice    OGC Nice                     FR1   \n",
       "\n",
       "     total_market_value  squad_size  average_age  foreigners_number  \\\n",
       "341              212.45          27         24.2                 18   \n",
       "\n",
       "     foreigners_percentage  national_team_players     stadium_name  \\\n",
       "341                   66.7                      8  Allianz Riviera   \n",
       "\n",
       "     stadium_seats net_transfer_record          coach_name  \\\n",
       "341          36178            £-22.32m  Christophe Galtier   \n",
       "\n",
       "                                                   url  \n",
       "341  https://www.transfermarkt.co.uk/ogc-nizza/star...  "
      ]
     },
     "execution_count": 15,
     "metadata": {},
     "output_type": "execute_result"
    }
   ],
   "source": [
    "display(clubs.loc[clubs.name.str.contains('ogc-'),:])\n",
    "clubs.loc[clubs.name.str.contains('ogc-'),'name'] = 'ogc-nice'\n",
    "clubs.loc[clubs.name.str.contains('ogc-'),'pretty_name'] = 'OGC Nice'\n",
    "clubs.loc[clubs.name.str.contains('ogc-'),:]"
   ]
  },
  {
   "cell_type": "code",
   "execution_count": 16,
   "metadata": {},
   "outputs": [],
   "source": [
    "players.name = players.name.str.replace(\"-\",\" \").str.replace('dj','d')"
   ]
  },
  {
   "cell_type": "code",
   "execution_count": 17,
   "metadata": {},
   "outputs": [
    {
     "name": "stderr",
     "output_type": "stream",
     "text": [
      "/opt/conda/lib/python3.8/site-packages/IPython/core/interactiveshell.py:3145: DtypeWarning: Columns (25,108) have mixed types.Specify dtype option on import or set low_memory=False.\n",
      "  has_raised = await self.run_ast_nodes(code_ast.body, cell_name,\n"
     ]
    }
   ],
   "source": [
    "fifa22 = pd.read_csv('FIFA_stats/FIFA22.csv')\n",
    "fifa21 = pd.read_csv('FIFA_stats/FIFA21.csv')\n",
    "fifa20 = pd.read_csv('FIFA_stats/FIFA20.csv')\n",
    "fifa19 = pd.read_csv('FIFA_stats/FIFA19.csv')\n",
    "fifa18 = pd.read_csv('FIFA_stats/FIFA18.csv')\n",
    "fifa17 = pd.read_csv('FIFA_stats/FIFA17.csv')\n",
    "fifa16 = pd.read_csv('FIFA_stats/FIFA16.csv')\n",
    "fifa15 = pd.read_csv('FIFA_stats/FIFA15.csv')"
   ]
  },
  {
   "cell_type": "code",
   "execution_count": 18,
   "metadata": {},
   "outputs": [],
   "source": [
    "#replace columns name for consistency\n",
    "fifa22.rename(columns={'club_name' : 'club'}, inplace = True)\n",
    "fifa21.rename(columns={'club_name' : 'club'}, inplace = True)\n",
    "\n",
    "#set Nan values in the club columns to an unmistakingly special string in order to apply string operation on the columns\n",
    "fifa22.loc[fifa22.club.apply(type) != str , 'club'] = 'ZZZZZZ'\n",
    "fifa21.loc[fifa21.club.apply(type) != str , 'club'] = 'ZZZZZZ'"
   ]
  },
  {
   "cell_type": "code",
   "execution_count": 19,
   "metadata": {},
   "outputs": [],
   "source": [
    "#removes diacritics, hyphens, apostrophes on player names and club. \n",
    "#\"dj\" is replaced to \"d\" to avoid recurrent ambiguity related to eastern european names\n",
    "def decode_fifa_list(fifalist):\n",
    "    for fifa_df in fifalist:\n",
    "        fifa_df.short_name = fifa_df.short_name.apply(unidecode.unidecode)\n",
    "        fifa_df.long_name = fifa_df.long_name.apply(unidecode.unidecode)\n",
    "        fifa_df.club = fifa_df.club.apply(unidecode.unidecode)\n",
    "\n",
    "        fifa_df.short_name = fifa_df.short_name.str.lower().str.replace(\"'\",\"\").str.replace(\"-\",\" \").str.replace('dj','d')\n",
    "        fifa_df.long_name = fifa_df.long_name.str.lower().str.replace(\"'\",\"\").str.replace(\"-\",\" \").str.replace('dj','d')\n",
    "        \n",
    "        \n",
    "    return None\n",
    "\n",
    "fifa_list = [fifa22,fifa21,fifa20,fifa19,fifa18,fifa17,fifa16,fifa15]\n",
    "decode_fifa_list(fifa_list)"
   ]
  },
  {
   "cell_type": "code",
   "execution_count": 20,
   "metadata": {},
   "outputs": [],
   "source": [
    "#players name columns is already preprocessed, execpt for that 'dj' issue\n",
    "players.name = players.name.str.replace('dj','d')"
   ]
  },
  {
   "cell_type": "code",
   "execution_count": 74,
   "metadata": {},
   "outputs": [
    {
     "data": {
      "text/html": [
       "<div>\n",
       "<style scoped>\n",
       "    .dataframe tbody tr th:only-of-type {\n",
       "        vertical-align: middle;\n",
       "    }\n",
       "\n",
       "    .dataframe tbody tr th {\n",
       "        vertical-align: top;\n",
       "    }\n",
       "\n",
       "    .dataframe thead th {\n",
       "        text-align: right;\n",
       "    }\n",
       "</style>\n",
       "<table border=\"1\" class=\"dataframe\">\n",
       "  <thead>\n",
       "    <tr style=\"text-align: right;\">\n",
       "      <th></th>\n",
       "      <th>player_id</th>\n",
       "      <th>name</th>\n",
       "      <th>name_compare</th>\n",
       "      <th>fuzz_score</th>\n",
       "    </tr>\n",
       "  </thead>\n",
       "  <tbody>\n",
       "    <tr>\n",
       "      <th>0</th>\n",
       "      <td>38790</td>\n",
       "      <td>dmitri golubov</td>\n",
       "      <td>None</td>\n",
       "      <td>None</td>\n",
       "    </tr>\n",
       "  </tbody>\n",
       "</table>\n",
       "</div>"
      ],
      "text/plain": [
       "   player_id            name name_compare fuzz_score\n",
       "0      38790  dmitri golubov         None       None"
      ]
     },
     "execution_count": 74,
     "metadata": {},
     "output_type": "execute_result"
    }
   ],
   "source": [
    "link=players.loc[:,['player_id','name']]\n",
    "link['name_compare'] = None\n",
    "link['fuzz_score'] = None\n",
    "link.head(1)"
   ]
  },
  {
   "cell_type": "code",
   "execution_count": 75,
   "metadata": {},
   "outputs": [
    {
     "name": "stderr",
     "output_type": "stream",
     "text": [
      "100%|██████████| 22432/22432 [00:28<00:00, 794.57it/s]\n"
     ]
    }
   ],
   "source": [
    "#ajoute la liste des clubs avec lesquels les joueurs ont joué un match\n",
    "link['clubs'] = link.player_id.progress_apply(lambda x:\n",
    "                    appearance.loc[appearance.player_id == x,'player_club_id'].unique() if type(x) == int\n",
    "                                     else [appearance.loc[appearance.player_id == y,'player_club_id'].unique() for y in x]\n",
    "                                    )"
   ]
  },
  {
   "cell_type": "code",
   "execution_count": 76,
   "metadata": {},
   "outputs": [
    {
     "name": "stdout",
     "output_type": "stream",
     "text": [
      "(4793, 5)\n"
     ]
    }
   ],
   "source": [
    "# Supprime les joueurs n'ayant jamais joué un seul match (~4800 joueurs quand même)\n",
    "print(link.loc[ link.clubs.apply(len) == 0 ,:].shape)\n",
    "link.drop(link.loc[ link.clubs.apply(len) == 0 ,:].index, inplace = True)\n",
    "link.reset_index(drop = True,inplace = True)"
   ]
  },
  {
   "cell_type": "code",
   "execution_count": 77,
   "metadata": {},
   "outputs": [],
   "source": [
    "#returns a list of the best matching names index, the corresponding fuzz.token_set_ratio max value and the corresponding names\n",
    "def search_name(x,fifa_N):\n",
    "    m = fifa_N.long_name.apply(lambda y: fuzz.token_set_ratio(x,y)).values   \n",
    "    #each line in the fifa dataset is assign a similatiy score with the selected name from the players dataset\n",
    "    \n",
    "    return (n := np.argwhere(m == m.max()).squeeze()) , m.max()#, fifa_N.long_name[n] \n",
    "#returns 3 values: 1. the index of the best matching name(s) 2. the corresponding similarity score 3. the corresponding names"
   ]
  },
  {
   "cell_type": "code",
   "execution_count": 78,
   "metadata": {},
   "outputs": [],
   "source": [
    "def search_all_names(fifa_N):\n",
    "    k = link.name.progress_apply(lambda x:search_name(x,fifa_N))\n",
    "    display(k.head(10))\n",
    "    link.loc[:,retrieve_name(fifa_N)] = k.apply(lambda x : x[0])\n",
    "    link.fuzz_score = k.apply(lambda x : x[1])\n",
    "    #link.iloc[:10,:].name_compare = k.apply(lambda x : x[2])\n",
    "    return link.loc[link.fuzz_score > 90,'fuzz_score'].shape\n",
    "\n"
   ]
  },
  {
   "cell_type": "code",
   "execution_count": 42,
   "metadata": {},
   "outputs": [
    {
     "name": "stderr",
     "output_type": "stream",
     "text": [
      "100%|██████████| 17639/17639 [1:23:18<00:00,  3.53it/s]\n"
     ]
    },
    {
     "data": {
      "text/plain": [
       "0                            ([1694, 4286], 65)\n",
       "1                            ([2434, 3514], 80)\n",
       "2                                   (17443, 71)\n",
       "3                                   (15840, 73)\n",
       "4                                     (831, 69)\n",
       "5                                    (3003, 75)\n",
       "6                                    (4842, 62)\n",
       "7    ([187, 316, 3650, 9040, 11898, 16374], 70)\n",
       "8                                     (463, 71)\n",
       "9                                   (10388, 79)\n",
       "Name: name, dtype: object"
      ]
     },
     "metadata": {},
     "output_type": "display_data"
    }
   ],
   "source": [
    "#applies the above functions to a fifa dataset.\n",
    "#### WARNING, this takes ~1h to compute ####\n",
    "[search_all_names(x) for x in [fifa21]]\n",
    "link.to_csv('fifa21_res.csv')"
   ]
  },
  {
   "cell_type": "code",
   "execution_count": null,
   "metadata": {},
   "outputs": [
    {
     "name": "stderr",
     "output_type": "stream",
     "text": [
      " 50%|████▉     | 8741/17639 [39:19<39:39,  3.74it/s]  "
     ]
    }
   ],
   "source": [
    "search_all_names(fifa20)\n",
    "link.to_csv('fifa20_res.csv')"
   ]
  },
  {
   "cell_type": "code",
   "execution_count": null,
   "metadata": {},
   "outputs": [],
   "source": [
    "search_all_names(fifa19)\n",
    "link.to_csv('fifa19_res.csv')"
   ]
  },
  {
   "cell_type": "code",
   "execution_count": null,
   "metadata": {},
   "outputs": [],
   "source": [
    "search_all_names(fifa18)\n",
    "link.to_csv('fifa18_res.csv')"
   ]
  },
  {
   "cell_type": "code",
   "execution_count": null,
   "metadata": {},
   "outputs": [],
   "source": [
    "search_all_names(fifa17)\n",
    "link.to_csv('fifa17_res.csv')"
   ]
  },
  {
   "cell_type": "code",
   "execution_count": 83,
   "metadata": {},
   "outputs": [],
   "source": [
    "#link.to_csv('fifa22_res.csv')"
   ]
  },
  {
   "cell_type": "markdown",
   "metadata": {},
   "source": [
    "## name filtering\n",
    "#### 1. remove names with similarity score <90, which are unlikely to be correct"
   ]
  },
  {
   "cell_type": "code",
   "execution_count": 47,
   "metadata": {},
   "outputs": [
    {
     "data": {
      "text/html": [
       "<div>\n",
       "<style scoped>\n",
       "    .dataframe tbody tr th:only-of-type {\n",
       "        vertical-align: middle;\n",
       "    }\n",
       "\n",
       "    .dataframe tbody tr th {\n",
       "        vertical-align: top;\n",
       "    }\n",
       "\n",
       "    .dataframe thead th {\n",
       "        text-align: right;\n",
       "    }\n",
       "</style>\n",
       "<table border=\"1\" class=\"dataframe\">\n",
       "  <thead>\n",
       "    <tr style=\"text-align: right;\">\n",
       "      <th></th>\n",
       "      <th>player_id</th>\n",
       "      <th>name</th>\n",
       "      <th>name_compare</th>\n",
       "      <th>fuzz_score</th>\n",
       "      <th>clubs</th>\n",
       "      <th>fifa21</th>\n",
       "    </tr>\n",
       "  </thead>\n",
       "  <tbody>\n",
       "    <tr>\n",
       "      <th>0</th>\n",
       "      <td>38790</td>\n",
       "      <td>dmitri golubov</td>\n",
       "      <td>NaN</td>\n",
       "      <td>65</td>\n",
       "      <td>[28095]</td>\n",
       "      <td>[1694 4286]</td>\n",
       "    </tr>\n",
       "  </tbody>\n",
       "</table>\n",
       "</div>"
      ],
      "text/plain": [
       "   player_id            name  name_compare  fuzz_score    clubs       fifa21\n",
       "0      38790  dmitri golubov           NaN          65  [28095]  [1694 4286]"
      ]
     },
     "execution_count": 47,
     "metadata": {},
     "output_type": "execute_result"
    }
   ],
   "source": [
    "link = pd.read_csv('fifa21_res.csv', index_col=0)\n",
    "link.head(1)"
   ]
  },
  {
   "cell_type": "code",
   "execution_count": 48,
   "metadata": {},
   "outputs": [
    {
     "name": "stdout",
     "output_type": "stream",
     "text": [
      "(17639, 6)\n",
      "(7948, 6)\n"
     ]
    },
    {
     "data": {
      "text/html": [
       "<div>\n",
       "<style scoped>\n",
       "    .dataframe tbody tr th:only-of-type {\n",
       "        vertical-align: middle;\n",
       "    }\n",
       "\n",
       "    .dataframe tbody tr th {\n",
       "        vertical-align: top;\n",
       "    }\n",
       "\n",
       "    .dataframe thead th {\n",
       "        text-align: right;\n",
       "    }\n",
       "</style>\n",
       "<table border=\"1\" class=\"dataframe\">\n",
       "  <thead>\n",
       "    <tr style=\"text-align: right;\">\n",
       "      <th></th>\n",
       "      <th>player_id</th>\n",
       "      <th>name</th>\n",
       "      <th>name_compare</th>\n",
       "      <th>fuzz_score</th>\n",
       "      <th>clubs</th>\n",
       "      <th>fifa21</th>\n",
       "    </tr>\n",
       "  </thead>\n",
       "  <tbody>\n",
       "    <tr>\n",
       "      <th>0</th>\n",
       "      <td>73048</td>\n",
       "      <td>ivan martic</td>\n",
       "      <td>NaN</td>\n",
       "      <td>100</td>\n",
       "      <td>[276]</td>\n",
       "      <td>4665</td>\n",
       "    </tr>\n",
       "    <tr>\n",
       "      <th>1</th>\n",
       "      <td>37633</td>\n",
       "      <td>guillermo rodriguez</td>\n",
       "      <td>NaN</td>\n",
       "      <td>100</td>\n",
       "      <td>[276]</td>\n",
       "      <td>11159</td>\n",
       "    </tr>\n",
       "    <tr>\n",
       "      <th>2</th>\n",
       "      <td>54921</td>\n",
       "      <td>massimo volta</td>\n",
       "      <td>NaN</td>\n",
       "      <td>100</td>\n",
       "      <td>[1429]</td>\n",
       "      <td>6417</td>\n",
       "    </tr>\n",
       "    <tr>\n",
       "      <th>3</th>\n",
       "      <td>108198</td>\n",
       "      <td>sebastian ernst</td>\n",
       "      <td>NaN</td>\n",
       "      <td>100</td>\n",
       "      <td>[42]</td>\n",
       "      <td>7828</td>\n",
       "    </tr>\n",
       "    <tr>\n",
       "      <th>4</th>\n",
       "      <td>110885</td>\n",
       "      <td>florian ballas</td>\n",
       "      <td>NaN</td>\n",
       "      <td>100</td>\n",
       "      <td>[42]</td>\n",
       "      <td>6736</td>\n",
       "    </tr>\n",
       "  </tbody>\n",
       "</table>\n",
       "</div>"
      ],
      "text/plain": [
       "   player_id                 name  name_compare  fuzz_score   clubs fifa21\n",
       "0      73048          ivan martic           NaN         100   [276]   4665\n",
       "1      37633  guillermo rodriguez           NaN         100   [276]  11159\n",
       "2      54921        massimo volta           NaN         100  [1429]   6417\n",
       "3     108198      sebastian ernst           NaN         100    [42]   7828\n",
       "4     110885       florian ballas           NaN         100    [42]   6736"
      ]
     },
     "execution_count": 48,
     "metadata": {},
     "output_type": "execute_result"
    }
   ],
   "source": [
    "#link.drop(columns = ['Unnamed: 0','Unnamed: 0.1'], inplace = True)\n",
    "print(link.shape)\n",
    "link = link.loc[link.fuzz_score > 90,:]\n",
    "link.reset_index(drop = True,inplace = True)\n",
    "print(link.shape)\n",
    "link.head()"
   ]
  },
  {
   "cell_type": "markdown",
   "metadata": {},
   "source": [
    "#### Reading a .csv tranforms lists into strings. next we apply some preprocessing to transform string of list into list again "
   ]
  },
  {
   "cell_type": "code",
   "execution_count": 50,
   "metadata": {},
   "outputs": [],
   "source": [
    "import ast\n",
    "def transform_int_column(x):\n",
    "    if x[0] == r'[':\n",
    "        res = re.sub(r'(\\d)\\s+(\\d)',r'\\1 , \\2',x.replace('\\n',''))\n",
    "        res = ast.literal_eval(res) #tranforme un string d'une liste en liste\n",
    "        res = [int(y) for y in res]\n",
    "    else:\n",
    "        res = int(x)\n",
    "    return res\n",
    "    \n",
    "link.fifa21 = link.fifa21.apply(transform_int_column)"
   ]
  },
  {
   "cell_type": "code",
   "execution_count": 51,
   "metadata": {},
   "outputs": [],
   "source": [
    "link.loc[link.fifa21.apply(type)!=int,'name_compare'] = \\\n",
    "link.loc[link.fifa21.apply(type)!=int,'fifa21'].apply(lambda x : [fifa21.long_name[y]for y in x])\n"
   ]
  },
  {
   "cell_type": "code",
   "execution_count": 52,
   "metadata": {},
   "outputs": [
    {
     "name": "stderr",
     "output_type": "stream",
     "text": [
      "100%|██████████| 7948/7948 [00:10<00:00, 760.93it/s]\n"
     ]
    }
   ],
   "source": [
    "link['clubs'] = link.player_id.progress_apply(lambda x:\n",
    "                    appearance.loc[appearance.player_id == x,'player_club_id'].unique() if type(x) == int\n",
    "                                     else [appearance.loc[appearance.player_id == y,'player_club_id'].unique() for y in x]\n",
    "                                    )"
   ]
  },
  {
   "cell_type": "code",
   "execution_count": 54,
   "metadata": {},
   "outputs": [
    {
     "name": "stderr",
     "output_type": "stream",
     "text": [
      "100%|██████████| 7948/7948 [00:04<00:00, 1655.47it/s]\n"
     ]
    }
   ],
   "source": [
    "#let's append the club from the players dataset to the clubs obtained from appearance dataset, if that club is not already in that list\n",
    "link.clubs = link.progress_apply(lambda x: \n",
    "                                 np.append(x['clubs'],players.loc[players.player_id == x['player_id'],'current_club_id']) \n",
    "                                 if players.loc[players.player_id == x['player_id'],'current_club_id'].values[0] not in x['clubs']\n",
    "                                 else x['clubs']\n",
    "                                 ,axis = 1)\n"
   ]
  },
  {
   "cell_type": "markdown",
   "metadata": {},
   "source": [
    "#### 2. for names with multiple matches, we can check the clubs in which the player have played\n",
    "\n",
    "We will compare the club names of the fifa 'candidates' to the list of clubs we can somehow link to the target player:</br>\n",
    "from the appearance dataset, we have every player for every games with the club ID of those players. Therefore, we can have a partial player's club appartenance history, given that the player has played games...</br>\n",
    "We can also add to that list the players current club found the player's dataset</br>\n",
    "It is assumed that a club having multiple players with the very same name is very unlikely"
   ]
  },
  {
   "cell_type": "code",
   "execution_count": 56,
   "metadata": {},
   "outputs": [
    {
     "data": {
      "text/html": [
       "<div>\n",
       "<style scoped>\n",
       "    .dataframe tbody tr th:only-of-type {\n",
       "        vertical-align: middle;\n",
       "    }\n",
       "\n",
       "    .dataframe tbody tr th {\n",
       "        vertical-align: top;\n",
       "    }\n",
       "\n",
       "    .dataframe thead th {\n",
       "        text-align: right;\n",
       "    }\n",
       "</style>\n",
       "<table border=\"1\" class=\"dataframe\">\n",
       "  <thead>\n",
       "    <tr style=\"text-align: right;\">\n",
       "      <th></th>\n",
       "      <th>player_id</th>\n",
       "      <th>name</th>\n",
       "      <th>name_compare</th>\n",
       "      <th>fuzz_score</th>\n",
       "      <th>clubs</th>\n",
       "      <th>fifa21</th>\n",
       "    </tr>\n",
       "  </thead>\n",
       "  <tbody>\n",
       "    <tr>\n",
       "      <th>8</th>\n",
       "      <td>49899</td>\n",
       "      <td>william</td>\n",
       "      <td>[raphael william anjos rochedo, daniel william...</td>\n",
       "      <td>100</td>\n",
       "      <td>[28095]</td>\n",
       "      <td>[268, 410, 438, 1051, 1424, 2468, 2775, 2785, ...</td>\n",
       "    </tr>\n",
       "    <tr>\n",
       "      <th>10</th>\n",
       "      <td>23345</td>\n",
       "      <td>barreto</td>\n",
       "      <td>[diogo nathan peixe barreto, michael barreto, ...</td>\n",
       "      <td>100</td>\n",
       "      <td>[416]</td>\n",
       "      <td>[5975, 6580, 6748, 9159, 11470, 12453, 16334, ...</td>\n",
       "    </tr>\n",
       "    <tr>\n",
       "      <th>12</th>\n",
       "      <td>167501</td>\n",
       "      <td>fabio tavares</td>\n",
       "      <td>[fabio henrique tavares, fabio tavares]</td>\n",
       "      <td>100</td>\n",
       "      <td>[3060, 5219]</td>\n",
       "      <td>[41, 17891]</td>\n",
       "    </tr>\n",
       "    <tr>\n",
       "      <th>14</th>\n",
       "      <td>218470</td>\n",
       "      <td>cassio</td>\n",
       "      <td>[joelinton cassio apolinario de lira, cassio a...</td>\n",
       "      <td>100</td>\n",
       "      <td>[21957]</td>\n",
       "      <td>[1838, 2062, 15376]</td>\n",
       "    </tr>\n",
       "    <tr>\n",
       "      <th>15</th>\n",
       "      <td>130963</td>\n",
       "      <td>rudy</td>\n",
       "      <td>[sebastian rudy, rudy alejandro cardozo fernan...</td>\n",
       "      <td>100</td>\n",
       "      <td>[128]</td>\n",
       "      <td>[950, 4857, 8709]</td>\n",
       "    </tr>\n",
       "  </tbody>\n",
       "</table>\n",
       "</div>"
      ],
      "text/plain": [
       "    player_id           name  \\\n",
       "8       49899        william   \n",
       "10      23345        barreto   \n",
       "12     167501  fabio tavares   \n",
       "14     218470         cassio   \n",
       "15     130963           rudy   \n",
       "\n",
       "                                         name_compare  fuzz_score  \\\n",
       "8   [raphael william anjos rochedo, daniel william...         100   \n",
       "10  [diogo nathan peixe barreto, michael barreto, ...         100   \n",
       "12            [fabio henrique tavares, fabio tavares]         100   \n",
       "14  [joelinton cassio apolinario de lira, cassio a...         100   \n",
       "15  [sebastian rudy, rudy alejandro cardozo fernan...         100   \n",
       "\n",
       "           clubs                                             fifa21  \n",
       "8        [28095]  [268, 410, 438, 1051, 1424, 2468, 2775, 2785, ...  \n",
       "10         [416]  [5975, 6580, 6748, 9159, 11470, 12453, 16334, ...  \n",
       "12  [3060, 5219]                                        [41, 17891]  \n",
       "14       [21957]                                [1838, 2062, 15376]  \n",
       "15         [128]                                  [950, 4857, 8709]  "
      ]
     },
     "execution_count": 56,
     "metadata": {},
     "output_type": "execute_result"
    }
   ],
   "source": [
    "# This is our way of accessing the names with multiple matches. These are pandas Series type, we will change the into numpy arrays\n",
    "link.loc[link.fifa21.apply(type)!=int,:].head(5)"
   ]
  },
  {
   "cell_type": "code",
   "execution_count": 57,
   "metadata": {},
   "outputs": [
    {
     "name": "stderr",
     "output_type": "stream",
     "text": [
      "100%|██████████| 7948/7948 [00:06<00:00, 1312.87it/s]\n"
     ]
    }
   ],
   "source": [
    "#Replace club_id with club names\n",
    "link.clubs = link.clubs.progress_apply(lambda x:\n",
    "                                      [clubs.loc[clubs.club_id == y, 'name'] for y in x])\n",
    "link.clubs = link.clubs.apply(lambda x: list(np.concatenate(x).flat))\n"
   ]
  },
  {
   "cell_type": "code",
   "execution_count": 58,
   "metadata": {},
   "outputs": [
    {
     "name": "stderr",
     "output_type": "stream",
     "text": [
      "100%|██████████| 7948/7948 [00:00<00:00, 28578.23it/s]\n"
     ]
    }
   ],
   "source": [
    "#adds the clubs corresponding to the FIFA indexes\n",
    "link['fifa21_clubs'] = link.fifa21.progress_apply(lambda x : \n",
    "                                         fifa21.loc[x,'club']\n",
    "                                        )"
   ]
  },
  {
   "cell_type": "code",
   "execution_count": 59,
   "metadata": {},
   "outputs": [
    {
     "data": {
      "text/html": [
       "<div>\n",
       "<style scoped>\n",
       "    .dataframe tbody tr th:only-of-type {\n",
       "        vertical-align: middle;\n",
       "    }\n",
       "\n",
       "    .dataframe tbody tr th {\n",
       "        vertical-align: top;\n",
       "    }\n",
       "\n",
       "    .dataframe thead th {\n",
       "        text-align: right;\n",
       "    }\n",
       "</style>\n",
       "<table border=\"1\" class=\"dataframe\">\n",
       "  <thead>\n",
       "    <tr style=\"text-align: right;\">\n",
       "      <th></th>\n",
       "      <th>player_id</th>\n",
       "      <th>name</th>\n",
       "      <th>name_compare</th>\n",
       "      <th>fuzz_score</th>\n",
       "      <th>clubs</th>\n",
       "      <th>fifa21</th>\n",
       "      <th>fifa21_clubs</th>\n",
       "    </tr>\n",
       "  </thead>\n",
       "  <tbody>\n",
       "    <tr>\n",
       "      <th>8</th>\n",
       "      <td>49899</td>\n",
       "      <td>william</td>\n",
       "      <td>[raphael william anjos rochedo, daniel william...</td>\n",
       "      <td>100</td>\n",
       "      <td>[fk-ufa]</td>\n",
       "      <td>[268, 410, 438, 1051, 1424, 2468, 2775, 2785, ...</td>\n",
       "      <td>[Gremio, Southampton, Real Betis Balompie, Cel...</td>\n",
       "    </tr>\n",
       "  </tbody>\n",
       "</table>\n",
       "</div>"
      ],
      "text/plain": [
       "   player_id     name                                       name_compare  \\\n",
       "8      49899  william  [raphael william anjos rochedo, daniel william...   \n",
       "\n",
       "   fuzz_score     clubs                                             fifa21  \\\n",
       "8         100  [fk-ufa]  [268, 410, 438, 1051, 1424, 2468, 2775, 2785, ...   \n",
       "\n",
       "                                        fifa21_clubs  \n",
       "8  [Gremio, Southampton, Real Betis Balompie, Cel...  "
      ]
     },
     "execution_count": 59,
     "metadata": {},
     "output_type": "execute_result"
    }
   ],
   "source": [
    "#last cell created pandas series where we would have preffered arrays. Let's fix this:\n",
    "link.loc[link.fifa21_clubs.apply(type) != str,'fifa21_clubs'] = link.loc[link.fifa21_clubs.apply(type) != str,'fifa21_clubs'].apply(lambda x : x.values)\n",
    "link.loc[link.fifa21_clubs.apply(type) != str,:].head(1)\n"
   ]
  },
  {
   "cell_type": "code",
   "execution_count": 60,
   "metadata": {},
   "outputs": [
    {
     "name": "stdout",
     "output_type": "stream",
     "text": [
      "(0, 7)\n",
      "(0, 7)\n",
      "(0, 7)\n",
      "(0, 7)\n"
     ]
    }
   ],
   "source": [
    "print(link.loc[(link.clubs.apply(len) == 0)&(link.name_compare.apply(type)!= str),:].shape)\n",
    "print(link.loc[(link.clubs.apply(len) == 0)&(link.fuzz_score<100),:].shape)\n",
    "\n",
    "#there are some club_id that cannot be found in the clubs dataset\n",
    "#Remove rows that have no clubs and have a similarity score inferior to 100 (max similarity), and multiple matches.\n",
    "\n",
    "link.drop(link.loc[(link.clubs.apply(len) == 0)&(link.name_compare.apply(type)!= str),:].index, inplace = True)\n",
    "link.drop(link.loc[(link.clubs.apply(len) == 0)&(link.fuzz_score<100),:].index, inplace = True)\n",
    "\n",
    "\n",
    "print(link.loc[(link.clubs.apply(len) == 0)&(link.name_compare.apply(type)!= str),:].shape)\n",
    "print(link.loc[(link.clubs.apply(len) == 0)&(link.fuzz_score<100),:].shape)"
   ]
  },
  {
   "cell_type": "markdown",
   "metadata": {},
   "source": [
    "<b> The next 2 cells goal is to check the name similarity between 2 club lists.</br>\n",
    "    - The first cell returns a LIST of the max similarity score between all of fifa players clubs and ANY of the clubs in which the \"target\" player has played.</br>\n",
    "    - The second cell returns the position of the max similarity score in that list, if this score is >90. This should be the right player.\n"
   ]
  },
  {
   "cell_type": "code",
   "execution_count": 65,
   "metadata": {},
   "outputs": [],
   "source": [
    "link['club_corr'] = None\n"
   ]
  },
  {
   "cell_type": "code",
   "execution_count": 66,
   "metadata": {},
   "outputs": [
    {
     "name": "stderr",
     "output_type": "stream",
     "text": [
      "100%|██████████| 673/673 [00:00<00:00, 2135.63it/s]\n"
     ]
    }
   ],
   "source": [
    "link.loc[link.fifa21.apply(type) != int,'club_corr'] = link.loc[link.fifa21.apply(type) != int,:].progress_apply(lambda x:\n",
    "                                                   [max([fuzz.token_set_ratio(z,y) for z in x['clubs']]) for y in x['fifa21_clubs']]\n",
    "                                                   ,axis = 1\n",
    "                                                  )            "
   ]
  },
  {
   "cell_type": "code",
   "execution_count": 67,
   "metadata": {},
   "outputs": [],
   "source": [
    "link.loc[link.fifa21.apply(type) != int,'club_corr'] = link.loc[link.fifa21.apply(type) != int,:].club_corr.apply(lambda x : \n",
    "                     np.argmax(x) if max(x)>90 else None\n",
    "                     )"
   ]
  },
  {
   "cell_type": "markdown",
   "metadata": {},
   "source": [
    "<b> At this point, the names with multiple matches and no corresponding club names can be removed"
   ]
  },
  {
   "cell_type": "code",
   "execution_count": 68,
   "metadata": {},
   "outputs": [],
   "source": [
    "link_fifa21 = link.loc[(link.club_corr.notnull()) | (link.fifa21.apply(type) == int),:].copy()"
   ]
  },
  {
   "cell_type": "code",
   "execution_count": 70,
   "metadata": {},
   "outputs": [
    {
     "data": {
      "text/html": [
       "<div>\n",
       "<style scoped>\n",
       "    .dataframe tbody tr th:only-of-type {\n",
       "        vertical-align: middle;\n",
       "    }\n",
       "\n",
       "    .dataframe tbody tr th {\n",
       "        vertical-align: top;\n",
       "    }\n",
       "\n",
       "    .dataframe thead th {\n",
       "        text-align: right;\n",
       "    }\n",
       "</style>\n",
       "<table border=\"1\" class=\"dataframe\">\n",
       "  <thead>\n",
       "    <tr style=\"text-align: right;\">\n",
       "      <th></th>\n",
       "      <th>player_id</th>\n",
       "      <th>name</th>\n",
       "      <th>name_compare</th>\n",
       "      <th>fuzz_score</th>\n",
       "      <th>clubs</th>\n",
       "      <th>fifa21</th>\n",
       "      <th>fifa21_clubs</th>\n",
       "      <th>club_corr</th>\n",
       "    </tr>\n",
       "  </thead>\n",
       "  <tbody>\n",
       "    <tr>\n",
       "      <th>491</th>\n",
       "      <td>24633</td>\n",
       "      <td>eduardo</td>\n",
       "      <td>[eduardo antonio salvio, joao mario naval da c...</td>\n",
       "      <td>100</td>\n",
       "      <td>[shakhtar-donetsk]</td>\n",
       "      <td>[289, 449, 689, 1167, 1275, 1428, 1493, 1617, ...</td>\n",
       "      <td>[Boca Juniors, Inter, SD Huesca, Sporting CP, ...</td>\n",
       "      <td>27</td>\n",
       "    </tr>\n",
       "    <tr>\n",
       "      <th>541</th>\n",
       "      <td>238717</td>\n",
       "      <td>pablo perez</td>\n",
       "      <td>[pablo javier perez, pablo perez rodriguez]</td>\n",
       "      <td>100</td>\n",
       "      <td>[sporting-gijon]</td>\n",
       "      <td>[2800, 8908]</td>\n",
       "      <td>[Newell's Old Boys, Real Sporting de Gijon]</td>\n",
       "      <td>1</td>\n",
       "    </tr>\n",
       "  </tbody>\n",
       "</table>\n",
       "</div>"
      ],
      "text/plain": [
       "     player_id         name  \\\n",
       "491      24633      eduardo   \n",
       "541     238717  pablo perez   \n",
       "\n",
       "                                          name_compare  fuzz_score  \\\n",
       "491  [eduardo antonio salvio, joao mario naval da c...         100   \n",
       "541        [pablo javier perez, pablo perez rodriguez]         100   \n",
       "\n",
       "                  clubs                                             fifa21  \\\n",
       "491  [shakhtar-donetsk]  [289, 449, 689, 1167, 1275, 1428, 1493, 1617, ...   \n",
       "541    [sporting-gijon]                                       [2800, 8908]   \n",
       "\n",
       "                                          fifa21_clubs club_corr  \n",
       "491  [Boca Juniors, Inter, SD Huesca, Sporting CP, ...        27  \n",
       "541        [Newell's Old Boys, Real Sporting de Gijon]         1  "
      ]
     },
     "execution_count": 70,
     "metadata": {},
     "output_type": "execute_result"
    }
   ],
   "source": [
    "link_fifa21.loc[~link_fifa21.club_corr.isnull(),:].head(2)"
   ]
  },
  {
   "cell_type": "code",
   "execution_count": 71,
   "metadata": {},
   "outputs": [
    {
     "data": {
      "text/html": [
       "<div>\n",
       "<style scoped>\n",
       "    .dataframe tbody tr th:only-of-type {\n",
       "        vertical-align: middle;\n",
       "    }\n",
       "\n",
       "    .dataframe tbody tr th {\n",
       "        vertical-align: top;\n",
       "    }\n",
       "\n",
       "    .dataframe thead th {\n",
       "        text-align: right;\n",
       "    }\n",
       "</style>\n",
       "<table border=\"1\" class=\"dataframe\">\n",
       "  <thead>\n",
       "    <tr style=\"text-align: right;\">\n",
       "      <th></th>\n",
       "      <th>player_id</th>\n",
       "      <th>name</th>\n",
       "      <th>name_compare</th>\n",
       "      <th>fuzz_score</th>\n",
       "      <th>clubs</th>\n",
       "      <th>fifa21</th>\n",
       "      <th>fifa21_clubs</th>\n",
       "      <th>club_corr</th>\n",
       "    </tr>\n",
       "  </thead>\n",
       "  <tbody>\n",
       "    <tr>\n",
       "      <th>491</th>\n",
       "      <td>24633</td>\n",
       "      <td>eduardo</td>\n",
       "      <td>vitor eduardo da silva matos</td>\n",
       "      <td>100</td>\n",
       "      <td>[shakhtar-donetsk]</td>\n",
       "      <td>6311</td>\n",
       "      <td>Shakhtar Donetsk</td>\n",
       "      <td>27</td>\n",
       "    </tr>\n",
       "    <tr>\n",
       "      <th>541</th>\n",
       "      <td>238717</td>\n",
       "      <td>pablo perez</td>\n",
       "      <td>pablo perez rodriguez</td>\n",
       "      <td>100</td>\n",
       "      <td>[sporting-gijon]</td>\n",
       "      <td>8908</td>\n",
       "      <td>Real Sporting de Gijon</td>\n",
       "      <td>1</td>\n",
       "    </tr>\n",
       "  </tbody>\n",
       "</table>\n",
       "</div>"
      ],
      "text/plain": [
       "     player_id         name                  name_compare  fuzz_score  \\\n",
       "491      24633      eduardo  vitor eduardo da silva matos         100   \n",
       "541     238717  pablo perez         pablo perez rodriguez         100   \n",
       "\n",
       "                  clubs fifa21            fifa21_clubs club_corr  \n",
       "491  [shakhtar-donetsk]   6311        Shakhtar Donetsk        27  \n",
       "541    [sporting-gijon]   8908  Real Sporting de Gijon         1  "
      ]
     },
     "execution_count": 71,
     "metadata": {},
     "output_type": "execute_result"
    }
   ],
   "source": [
    "link_fifa21.loc[~link_fifa21.club_corr.isnull(),'fifa21'] = \\\n",
    "link_fifa21.loc[~link_fifa21.club_corr.isnull(),:].apply(lambda x:\n",
    "                                                         x['fifa21'][int(x['club_corr'])]\n",
    "                                                         ,axis = 1)\n",
    "\n",
    "link_fifa21.loc[~link_fifa21.club_corr.isnull(),'name_compare'] = \\\n",
    "link_fifa21.loc[~link_fifa21.club_corr.isnull(),:].apply(lambda x:\n",
    "                                                         x['name_compare'][int(x['club_corr'])]\n",
    "                                                         ,axis = 1)\n",
    "\n",
    "link_fifa21.loc[~link_fifa21.club_corr.isnull(),'fifa21_clubs'] = \\\n",
    "link_fifa21.loc[~link_fifa21.club_corr.isnull(),:].apply(lambda x:\n",
    "                                                         x['fifa21_clubs'][int(x['club_corr'])]\n",
    "                                                         ,axis = 1)\n",
    "\n",
    "link_fifa21.loc[~link_fifa21.club_corr.isnull(),:].head(2)"
   ]
  },
  {
   "cell_type": "code",
   "execution_count": 72,
   "metadata": {},
   "outputs": [],
   "source": [
    "link_fifa21.to_csv('link_fifa21.csv')"
   ]
  },
  {
   "cell_type": "code",
   "execution_count": 73,
   "metadata": {},
   "outputs": [
    {
     "data": {
      "text/plain": [
       "(7517, 8)"
      ]
     },
     "execution_count": 73,
     "metadata": {},
     "output_type": "execute_result"
    }
   ],
   "source": [
    "link_fifa21.shape"
   ]
  },
  {
   "cell_type": "code",
   "execution_count": 351,
   "metadata": {},
   "outputs": [
    {
     "data": {
      "text/plain": [
       "1"
      ]
     },
     "execution_count": 351,
     "metadata": {},
     "output_type": "execute_result"
    }
   ],
   "source": [
    "gameID = games.game_id[35]\n",
    "game_appearance= appearance.loc[appearance.game_id == gameID,:]\n",
    "game_appearance_playerID = appearance.loc[appearance.game_id == gameID,'player_id'].values\n",
    "game_appearance.apply(lambda x :\n",
    "                      x['player_id'] in link_fifa22.player_id.values\n",
    "                     , axis = 1\n",
    "                     ).value_counts()[0]"
   ]
  },
  {
   "cell_type": "code",
   "execution_count": 358,
   "metadata": {},
   "outputs": [
    {
     "data": {
      "text/html": [
       "<div>\n",
       "<style scoped>\n",
       "    .dataframe tbody tr th:only-of-type {\n",
       "        vertical-align: middle;\n",
       "    }\n",
       "\n",
       "    .dataframe tbody tr th {\n",
       "        vertical-align: top;\n",
       "    }\n",
       "\n",
       "    .dataframe thead th {\n",
       "        text-align: right;\n",
       "    }\n",
       "</style>\n",
       "<table border=\"1\" class=\"dataframe\">\n",
       "  <thead>\n",
       "    <tr style=\"text-align: right;\">\n",
       "      <th></th>\n",
       "      <th>player_id</th>\n",
       "      <th>game_id</th>\n",
       "      <th>appearance_id</th>\n",
       "      <th>competition_id</th>\n",
       "      <th>player_club_id</th>\n",
       "      <th>goals</th>\n",
       "      <th>assists</th>\n",
       "      <th>minutes_played</th>\n",
       "      <th>yellow_cards</th>\n",
       "      <th>red_cards</th>\n",
       "    </tr>\n",
       "  </thead>\n",
       "  <tbody>\n",
       "    <tr>\n",
       "      <th>0</th>\n",
       "      <td>52453</td>\n",
       "      <td>2483937.0</td>\n",
       "      <td>2483937_52453</td>\n",
       "      <td>RU1</td>\n",
       "      <td>28095</td>\n",
       "      <td>0</td>\n",
       "      <td>0</td>\n",
       "      <td>90</td>\n",
       "      <td>0</td>\n",
       "      <td>0</td>\n",
       "    </tr>\n",
       "  </tbody>\n",
       "</table>\n",
       "</div>"
      ],
      "text/plain": [
       "   player_id    game_id  appearance_id competition_id  player_club_id  goals  \\\n",
       "0      52453  2483937.0  2483937_52453            RU1           28095      0   \n",
       "\n",
       "   assists  minutes_played  yellow_cards  red_cards  \n",
       "0        0              90             0          0  "
      ]
     },
     "execution_count": 358,
     "metadata": {},
     "output_type": "execute_result"
    }
   ],
   "source": [
    "appearance.head(1)"
   ]
  },
  {
   "cell_type": "code",
   "execution_count": 362,
   "metadata": {},
   "outputs": [],
   "source": [
    "tt = appearance.loc[:,['game_id','competition_id']].groupby('game_id').count()"
   ]
  },
  {
   "cell_type": "code",
   "execution_count": 367,
   "metadata": {},
   "outputs": [
    {
     "data": {
      "text/html": [
       "<div>\n",
       "<style scoped>\n",
       "    .dataframe tbody tr th:only-of-type {\n",
       "        vertical-align: middle;\n",
       "    }\n",
       "\n",
       "    .dataframe tbody tr th {\n",
       "        vertical-align: top;\n",
       "    }\n",
       "\n",
       "    .dataframe thead th {\n",
       "        text-align: right;\n",
       "    }\n",
       "</style>\n",
       "<table border=\"1\" class=\"dataframe\">\n",
       "  <thead>\n",
       "    <tr style=\"text-align: right;\">\n",
       "      <th></th>\n",
       "      <th>competition_id</th>\n",
       "    </tr>\n",
       "    <tr>\n",
       "      <th>game_id</th>\n",
       "      <th></th>\n",
       "    </tr>\n",
       "  </thead>\n",
       "  <tbody>\n",
       "    <tr>\n",
       "      <th>2457642.0</th>\n",
       "      <td>27</td>\n",
       "    </tr>\n",
       "    <tr>\n",
       "      <th>2458528.0</th>\n",
       "      <td>28</td>\n",
       "    </tr>\n",
       "    <tr>\n",
       "      <th>2458586.0</th>\n",
       "      <td>33</td>\n",
       "    </tr>\n",
       "    <tr>\n",
       "      <th>2459586.0</th>\n",
       "      <td>28</td>\n",
       "    </tr>\n",
       "    <tr>\n",
       "      <th>2459587.0</th>\n",
       "      <td>28</td>\n",
       "    </tr>\n",
       "    <tr>\n",
       "      <th>...</th>\n",
       "      <td>...</td>\n",
       "    </tr>\n",
       "    <tr>\n",
       "      <th>3694723.0</th>\n",
       "      <td>31</td>\n",
       "    </tr>\n",
       "    <tr>\n",
       "      <th>3700967.0</th>\n",
       "      <td>32</td>\n",
       "    </tr>\n",
       "    <tr>\n",
       "      <th>3700970.0</th>\n",
       "      <td>31</td>\n",
       "    </tr>\n",
       "    <tr>\n",
       "      <th>3700972.0</th>\n",
       "      <td>31</td>\n",
       "    </tr>\n",
       "    <tr>\n",
       "      <th>3710372.0</th>\n",
       "      <td>26</td>\n",
       "    </tr>\n",
       "  </tbody>\n",
       "</table>\n",
       "<p>33026 rows × 1 columns</p>\n",
       "</div>"
      ],
      "text/plain": [
       "           competition_id\n",
       "game_id                  \n",
       "2457642.0              27\n",
       "2458528.0              28\n",
       "2458586.0              33\n",
       "2459586.0              28\n",
       "2459587.0              28\n",
       "...                   ...\n",
       "3694723.0              31\n",
       "3700967.0              32\n",
       "3700970.0              31\n",
       "3700972.0              31\n",
       "3710372.0              26\n",
       "\n",
       "[33026 rows x 1 columns]"
      ]
     },
     "execution_count": 367,
     "metadata": {},
     "output_type": "execute_result"
    }
   ],
   "source": [
    "tt.loc[tt.competition_id>22,:]"
   ]
  },
  {
   "cell_type": "code",
   "execution_count": 337,
   "metadata": {},
   "outputs": [
    {
     "name": "stdout",
     "output_type": "stream",
     "text": [
      "(42592, 15)\n"
     ]
    },
    {
     "data": {
      "text/plain": [
       "(3798, 15)"
      ]
     },
     "execution_count": 337,
     "metadata": {},
     "output_type": "execute_result"
    }
   ],
   "source": [
    "#Some games are not in appearance: Almost 4k out of 40k\n",
    "\n",
    "print(games.shape)\n",
    "\n",
    "games_id = games.game_id\n",
    "appearance_id = appearance.game_id.unique()\n",
    "games.loc[games_id.apply(lambda x : x not in appearance_id),:].shape"
   ]
  },
  {
   "cell_type": "code",
   "execution_count": 339,
   "metadata": {},
   "outputs": [
    {
     "data": {
      "text/plain": [
       "(38794, 15)"
      ]
     },
     "execution_count": 339,
     "metadata": {},
     "output_type": "execute_result"
    }
   ],
   "source": [
    "#let's just get rid of those games\n",
    "games.drop(games.loc[games_id.apply(lambda x : x not in appearance_id),:].index, inplace = True)\n",
    "games.reset_index(drop = True,inplace = True)\n",
    "games.shape"
   ]
  },
  {
   "cell_type": "code",
   "execution_count": 342,
   "metadata": {},
   "outputs": [],
   "source": []
  },
  {
   "cell_type": "code",
   "execution_count": 352,
   "metadata": {},
   "outputs": [
    {
     "name": "stderr",
     "output_type": "stream",
     "text": [
      "  0%|          | 35/38794 [00:00<02:56, 219.37it/s]\n"
     ]
    },
    {
     "ename": "KeyError",
     "evalue": "0",
     "output_type": "error",
     "traceback": [
      "\u001b[0;31m---------------------------------------------------------------------------\u001b[0m",
      "\u001b[0;31mKeyError\u001b[0m                                  Traceback (most recent call last)",
      "\u001b[0;32m/opt/conda/lib/python3.8/site-packages/pandas/core/indexes/base.py\u001b[0m in \u001b[0;36mget_loc\u001b[0;34m(self, key, method, tolerance)\u001b[0m\n\u001b[1;32m   2894\u001b[0m             \u001b[0;32mtry\u001b[0m\u001b[0;34m:\u001b[0m\u001b[0;34m\u001b[0m\u001b[0;34m\u001b[0m\u001b[0m\n\u001b[0;32m-> 2895\u001b[0;31m                 \u001b[0;32mreturn\u001b[0m \u001b[0mself\u001b[0m\u001b[0;34m.\u001b[0m\u001b[0m_engine\u001b[0m\u001b[0;34m.\u001b[0m\u001b[0mget_loc\u001b[0m\u001b[0;34m(\u001b[0m\u001b[0mcasted_key\u001b[0m\u001b[0;34m)\u001b[0m\u001b[0;34m\u001b[0m\u001b[0;34m\u001b[0m\u001b[0m\n\u001b[0m\u001b[1;32m   2896\u001b[0m             \u001b[0;32mexcept\u001b[0m \u001b[0mKeyError\u001b[0m \u001b[0;32mas\u001b[0m \u001b[0merr\u001b[0m\u001b[0;34m:\u001b[0m\u001b[0;34m\u001b[0m\u001b[0;34m\u001b[0m\u001b[0m\n",
      "\u001b[0;32mpandas/_libs/index.pyx\u001b[0m in \u001b[0;36mpandas._libs.index.IndexEngine.get_loc\u001b[0;34m()\u001b[0m\n",
      "\u001b[0;32mpandas/_libs/index.pyx\u001b[0m in \u001b[0;36mpandas._libs.index.IndexEngine.get_loc\u001b[0;34m()\u001b[0m\n",
      "\u001b[0;32mpandas/_libs/hashtable_class_helper.pxi\u001b[0m in \u001b[0;36mpandas._libs.hashtable.PyObjectHashTable.get_item\u001b[0;34m()\u001b[0m\n",
      "\u001b[0;32mpandas/_libs/hashtable_class_helper.pxi\u001b[0m in \u001b[0;36mpandas._libs.hashtable.PyObjectHashTable.get_item\u001b[0;34m()\u001b[0m\n",
      "\u001b[0;31mKeyError\u001b[0m: 0",
      "\nThe above exception was the direct cause of the following exception:\n",
      "\u001b[0;31mKeyError\u001b[0m                                  Traceback (most recent call last)",
      "\u001b[0;32m<ipython-input-352-4eed51c9a097>\u001b[0m in \u001b[0;36m<module>\u001b[0;34m\u001b[0m\n\u001b[0;32m----> 1\u001b[0;31m g = games.game_id.progress_apply(lambda y:\n\u001b[0m\u001b[1;32m      2\u001b[0m                                  appearance.loc[appearance.game_id == y,:].apply(lambda x :\n\u001b[1;32m      3\u001b[0m                                                                                  \u001b[0mx\u001b[0m\u001b[0;34m[\u001b[0m\u001b[0;34m'player_id'\u001b[0m\u001b[0;34m]\u001b[0m \u001b[0;32min\u001b[0m \u001b[0mlink_fifa22\u001b[0m\u001b[0;34m.\u001b[0m\u001b[0mplayer_id\u001b[0m\u001b[0;34m.\u001b[0m\u001b[0mvalues\u001b[0m\u001b[0;34m\u001b[0m\u001b[0;34m\u001b[0m\u001b[0m\n\u001b[1;32m      4\u001b[0m                                                                                  , axis = 1).value_counts()[0]\n\u001b[1;32m      5\u001b[0m                                 )\n",
      "\u001b[0;32m/opt/conda/lib/python3.8/site-packages/tqdm/std.py\u001b[0m in \u001b[0;36minner\u001b[0;34m(df, func, *args, **kwargs)\u001b[0m\n\u001b[1;32m    795\u001b[0m                 \u001b[0;31m# on the df using our wrapper (which provides bar updating)\u001b[0m\u001b[0;34m\u001b[0m\u001b[0;34m\u001b[0m\u001b[0;34m\u001b[0m\u001b[0m\n\u001b[1;32m    796\u001b[0m                 \u001b[0;32mtry\u001b[0m\u001b[0;34m:\u001b[0m\u001b[0;34m\u001b[0m\u001b[0;34m\u001b[0m\u001b[0m\n\u001b[0;32m--> 797\u001b[0;31m                     \u001b[0;32mreturn\u001b[0m \u001b[0mgetattr\u001b[0m\u001b[0;34m(\u001b[0m\u001b[0mdf\u001b[0m\u001b[0;34m,\u001b[0m \u001b[0mdf_function\u001b[0m\u001b[0;34m)\u001b[0m\u001b[0;34m(\u001b[0m\u001b[0mwrapper\u001b[0m\u001b[0;34m,\u001b[0m \u001b[0;34m**\u001b[0m\u001b[0mkwargs\u001b[0m\u001b[0;34m)\u001b[0m\u001b[0;34m\u001b[0m\u001b[0;34m\u001b[0m\u001b[0m\n\u001b[0m\u001b[1;32m    798\u001b[0m                 \u001b[0;32mfinally\u001b[0m\u001b[0;34m:\u001b[0m\u001b[0;34m\u001b[0m\u001b[0;34m\u001b[0m\u001b[0m\n\u001b[1;32m    799\u001b[0m                     \u001b[0mt\u001b[0m\u001b[0;34m.\u001b[0m\u001b[0mclose\u001b[0m\u001b[0;34m(\u001b[0m\u001b[0;34m)\u001b[0m\u001b[0;34m\u001b[0m\u001b[0;34m\u001b[0m\u001b[0m\n",
      "\u001b[0;32m/opt/conda/lib/python3.8/site-packages/pandas/core/series.py\u001b[0m in \u001b[0;36mapply\u001b[0;34m(self, func, convert_dtype, args, **kwds)\u001b[0m\n\u001b[1;32m   4198\u001b[0m             \u001b[0;32melse\u001b[0m\u001b[0;34m:\u001b[0m\u001b[0;34m\u001b[0m\u001b[0;34m\u001b[0m\u001b[0m\n\u001b[1;32m   4199\u001b[0m                 \u001b[0mvalues\u001b[0m \u001b[0;34m=\u001b[0m \u001b[0mself\u001b[0m\u001b[0;34m.\u001b[0m\u001b[0mastype\u001b[0m\u001b[0;34m(\u001b[0m\u001b[0mobject\u001b[0m\u001b[0;34m)\u001b[0m\u001b[0;34m.\u001b[0m\u001b[0m_values\u001b[0m\u001b[0;34m\u001b[0m\u001b[0;34m\u001b[0m\u001b[0m\n\u001b[0;32m-> 4200\u001b[0;31m                 \u001b[0mmapped\u001b[0m \u001b[0;34m=\u001b[0m \u001b[0mlib\u001b[0m\u001b[0;34m.\u001b[0m\u001b[0mmap_infer\u001b[0m\u001b[0;34m(\u001b[0m\u001b[0mvalues\u001b[0m\u001b[0;34m,\u001b[0m \u001b[0mf\u001b[0m\u001b[0;34m,\u001b[0m \u001b[0mconvert\u001b[0m\u001b[0;34m=\u001b[0m\u001b[0mconvert_dtype\u001b[0m\u001b[0;34m)\u001b[0m\u001b[0;34m\u001b[0m\u001b[0;34m\u001b[0m\u001b[0m\n\u001b[0m\u001b[1;32m   4201\u001b[0m \u001b[0;34m\u001b[0m\u001b[0m\n\u001b[1;32m   4202\u001b[0m         \u001b[0;32mif\u001b[0m \u001b[0mlen\u001b[0m\u001b[0;34m(\u001b[0m\u001b[0mmapped\u001b[0m\u001b[0;34m)\u001b[0m \u001b[0;32mand\u001b[0m \u001b[0misinstance\u001b[0m\u001b[0;34m(\u001b[0m\u001b[0mmapped\u001b[0m\u001b[0;34m[\u001b[0m\u001b[0;36m0\u001b[0m\u001b[0;34m]\u001b[0m\u001b[0;34m,\u001b[0m \u001b[0mSeries\u001b[0m\u001b[0;34m)\u001b[0m\u001b[0;34m:\u001b[0m\u001b[0;34m\u001b[0m\u001b[0;34m\u001b[0m\u001b[0m\n",
      "\u001b[0;32mpandas/_libs/lib.pyx\u001b[0m in \u001b[0;36mpandas._libs.lib.map_infer\u001b[0;34m()\u001b[0m\n",
      "\u001b[0;32m/opt/conda/lib/python3.8/site-packages/tqdm/std.py\u001b[0m in \u001b[0;36mwrapper\u001b[0;34m(*args, **kwargs)\u001b[0m\n\u001b[1;32m    790\u001b[0m                     \u001b[0;31m# take a fast or slow code path; so stop when t.total==t.n\u001b[0m\u001b[0;34m\u001b[0m\u001b[0;34m\u001b[0m\u001b[0;34m\u001b[0m\u001b[0m\n\u001b[1;32m    791\u001b[0m                     \u001b[0mt\u001b[0m\u001b[0;34m.\u001b[0m\u001b[0mupdate\u001b[0m\u001b[0;34m(\u001b[0m\u001b[0mn\u001b[0m\u001b[0;34m=\u001b[0m\u001b[0;36m1\u001b[0m \u001b[0;32mif\u001b[0m \u001b[0;32mnot\u001b[0m \u001b[0mt\u001b[0m\u001b[0;34m.\u001b[0m\u001b[0mtotal\u001b[0m \u001b[0;32mor\u001b[0m \u001b[0mt\u001b[0m\u001b[0;34m.\u001b[0m\u001b[0mn\u001b[0m \u001b[0;34m<\u001b[0m \u001b[0mt\u001b[0m\u001b[0;34m.\u001b[0m\u001b[0mtotal\u001b[0m \u001b[0;32melse\u001b[0m \u001b[0;36m0\u001b[0m\u001b[0;34m)\u001b[0m\u001b[0;34m\u001b[0m\u001b[0;34m\u001b[0m\u001b[0m\n\u001b[0;32m--> 792\u001b[0;31m                     \u001b[0;32mreturn\u001b[0m \u001b[0mfunc\u001b[0m\u001b[0;34m(\u001b[0m\u001b[0;34m*\u001b[0m\u001b[0margs\u001b[0m\u001b[0;34m,\u001b[0m \u001b[0;34m**\u001b[0m\u001b[0mkwargs\u001b[0m\u001b[0;34m)\u001b[0m\u001b[0;34m\u001b[0m\u001b[0;34m\u001b[0m\u001b[0m\n\u001b[0m\u001b[1;32m    793\u001b[0m \u001b[0;34m\u001b[0m\u001b[0m\n\u001b[1;32m    794\u001b[0m                 \u001b[0;31m# Apply the provided function (in **kwargs)\u001b[0m\u001b[0;34m\u001b[0m\u001b[0;34m\u001b[0m\u001b[0;34m\u001b[0m\u001b[0m\n",
      "\u001b[0;32m<ipython-input-352-4eed51c9a097>\u001b[0m in \u001b[0;36m<lambda>\u001b[0;34m(y)\u001b[0m\n\u001b[1;32m      1\u001b[0m g = games.game_id.progress_apply(lambda y:\n\u001b[0;32m----> 2\u001b[0;31m                                  appearance.loc[appearance.game_id == y,:].apply(lambda x :\n\u001b[0m\u001b[1;32m      3\u001b[0m                                                                                  \u001b[0mx\u001b[0m\u001b[0;34m[\u001b[0m\u001b[0;34m'player_id'\u001b[0m\u001b[0;34m]\u001b[0m \u001b[0;32min\u001b[0m \u001b[0mlink_fifa22\u001b[0m\u001b[0;34m.\u001b[0m\u001b[0mplayer_id\u001b[0m\u001b[0;34m.\u001b[0m\u001b[0mvalues\u001b[0m\u001b[0;34m\u001b[0m\u001b[0;34m\u001b[0m\u001b[0m\n\u001b[1;32m      4\u001b[0m                                                                                  , axis = 1).value_counts()[0]\n\u001b[1;32m      5\u001b[0m                                 )\n",
      "\u001b[0;32m/opt/conda/lib/python3.8/site-packages/pandas/core/series.py\u001b[0m in \u001b[0;36m__getitem__\u001b[0;34m(self, key)\u001b[0m\n\u001b[1;32m    880\u001b[0m \u001b[0;34m\u001b[0m\u001b[0m\n\u001b[1;32m    881\u001b[0m         \u001b[0;32melif\u001b[0m \u001b[0mkey_is_scalar\u001b[0m\u001b[0;34m:\u001b[0m\u001b[0;34m\u001b[0m\u001b[0;34m\u001b[0m\u001b[0m\n\u001b[0;32m--> 882\u001b[0;31m             \u001b[0;32mreturn\u001b[0m \u001b[0mself\u001b[0m\u001b[0;34m.\u001b[0m\u001b[0m_get_value\u001b[0m\u001b[0;34m(\u001b[0m\u001b[0mkey\u001b[0m\u001b[0;34m)\u001b[0m\u001b[0;34m\u001b[0m\u001b[0;34m\u001b[0m\u001b[0m\n\u001b[0m\u001b[1;32m    883\u001b[0m \u001b[0;34m\u001b[0m\u001b[0m\n\u001b[1;32m    884\u001b[0m         \u001b[0;32mif\u001b[0m \u001b[0mis_hashable\u001b[0m\u001b[0;34m(\u001b[0m\u001b[0mkey\u001b[0m\u001b[0;34m)\u001b[0m\u001b[0;34m:\u001b[0m\u001b[0;34m\u001b[0m\u001b[0;34m\u001b[0m\u001b[0m\n",
      "\u001b[0;32m/opt/conda/lib/python3.8/site-packages/pandas/core/series.py\u001b[0m in \u001b[0;36m_get_value\u001b[0;34m(self, label, takeable)\u001b[0m\n\u001b[1;32m    987\u001b[0m \u001b[0;34m\u001b[0m\u001b[0m\n\u001b[1;32m    988\u001b[0m         \u001b[0;31m# Similar to Index.get_value, but we do not fall back to positional\u001b[0m\u001b[0;34m\u001b[0m\u001b[0;34m\u001b[0m\u001b[0;34m\u001b[0m\u001b[0m\n\u001b[0;32m--> 989\u001b[0;31m         \u001b[0mloc\u001b[0m \u001b[0;34m=\u001b[0m \u001b[0mself\u001b[0m\u001b[0;34m.\u001b[0m\u001b[0mindex\u001b[0m\u001b[0;34m.\u001b[0m\u001b[0mget_loc\u001b[0m\u001b[0;34m(\u001b[0m\u001b[0mlabel\u001b[0m\u001b[0;34m)\u001b[0m\u001b[0;34m\u001b[0m\u001b[0;34m\u001b[0m\u001b[0m\n\u001b[0m\u001b[1;32m    990\u001b[0m         \u001b[0;32mreturn\u001b[0m \u001b[0mself\u001b[0m\u001b[0;34m.\u001b[0m\u001b[0mindex\u001b[0m\u001b[0;34m.\u001b[0m\u001b[0m_get_values_for_loc\u001b[0m\u001b[0;34m(\u001b[0m\u001b[0mself\u001b[0m\u001b[0;34m,\u001b[0m \u001b[0mloc\u001b[0m\u001b[0;34m,\u001b[0m \u001b[0mlabel\u001b[0m\u001b[0;34m)\u001b[0m\u001b[0;34m\u001b[0m\u001b[0;34m\u001b[0m\u001b[0m\n\u001b[1;32m    991\u001b[0m \u001b[0;34m\u001b[0m\u001b[0m\n",
      "\u001b[0;32m/opt/conda/lib/python3.8/site-packages/pandas/core/indexes/base.py\u001b[0m in \u001b[0;36mget_loc\u001b[0;34m(self, key, method, tolerance)\u001b[0m\n\u001b[1;32m   2895\u001b[0m                 \u001b[0;32mreturn\u001b[0m \u001b[0mself\u001b[0m\u001b[0;34m.\u001b[0m\u001b[0m_engine\u001b[0m\u001b[0;34m.\u001b[0m\u001b[0mget_loc\u001b[0m\u001b[0;34m(\u001b[0m\u001b[0mcasted_key\u001b[0m\u001b[0;34m)\u001b[0m\u001b[0;34m\u001b[0m\u001b[0;34m\u001b[0m\u001b[0m\n\u001b[1;32m   2896\u001b[0m             \u001b[0;32mexcept\u001b[0m \u001b[0mKeyError\u001b[0m \u001b[0;32mas\u001b[0m \u001b[0merr\u001b[0m\u001b[0;34m:\u001b[0m\u001b[0;34m\u001b[0m\u001b[0;34m\u001b[0m\u001b[0m\n\u001b[0;32m-> 2897\u001b[0;31m                 \u001b[0;32mraise\u001b[0m \u001b[0mKeyError\u001b[0m\u001b[0;34m(\u001b[0m\u001b[0mkey\u001b[0m\u001b[0;34m)\u001b[0m \u001b[0;32mfrom\u001b[0m \u001b[0merr\u001b[0m\u001b[0;34m\u001b[0m\u001b[0;34m\u001b[0m\u001b[0m\n\u001b[0m\u001b[1;32m   2898\u001b[0m \u001b[0;34m\u001b[0m\u001b[0m\n\u001b[1;32m   2899\u001b[0m         \u001b[0;32mif\u001b[0m \u001b[0mtolerance\u001b[0m \u001b[0;32mis\u001b[0m \u001b[0;32mnot\u001b[0m \u001b[0;32mNone\u001b[0m\u001b[0;34m:\u001b[0m\u001b[0;34m\u001b[0m\u001b[0;34m\u001b[0m\u001b[0m\n",
      "\u001b[0;31mKeyError\u001b[0m: 0"
     ]
    }
   ],
   "source": [
    "g = games.game_id.progress_apply(lambda y:\n",
    "                                 appearance.loc[appearance.game_id == y,:].apply(lambda x :\n",
    "                                                                                 x['player_id'] in link_fifa22.player_id.values\n",
    "                                                                                 , axis = 1).value_counts()[0]\n",
    "                                )"
   ]
  },
  {
   "cell_type": "code",
   "execution_count": null,
   "metadata": {},
   "outputs": [],
   "source": []
  }
 ],
 "metadata": {
  "kernelspec": {
   "display_name": "Python 3",
   "language": "python",
   "name": "python3"
  },
  "language_info": {
   "codemirror_mode": {
    "name": "ipython",
    "version": 3
   },
   "file_extension": ".py",
   "mimetype": "text/x-python",
   "name": "python",
   "nbconvert_exporter": "python",
   "pygments_lexer": "ipython3",
   "version": "3.9.7"
  }
 },
 "nbformat": 4,
 "nbformat_minor": 4
}
