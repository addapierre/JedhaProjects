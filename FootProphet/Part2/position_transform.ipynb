{
 "cells": [
  {
   "cell_type": "code",
   "execution_count": 165,
   "metadata": {},
   "outputs": [],
   "source": [
    "import pandas as pd\n",
    "import numpy as np\n",
    "from fuzzywuzzy import fuzz\n",
    "import re\n",
    "import unidecode\n",
    "from tqdm import tqdm\n",
    "tqdm.pandas()\n",
    "\n",
    "pd.options.display.max_columns=None"
   ]
  },
  {
   "cell_type": "code",
   "execution_count": 253,
   "metadata": {},
   "outputs": [],
   "source": [
    "pos = pd.read_csv('data/raw_from_scrape/players_position.csv')\n",
    "players_sofifa = pd.read_csv('data/players_sofifa.csv')\n"
   ]
  },
  {
   "cell_type": "markdown",
   "metadata": {},
   "source": [
    "#transformation de la position"
   ]
  },
  {
   "cell_type": "code",
   "execution_count": 254,
   "metadata": {},
   "outputs": [
    {
     "name": "stderr",
     "output_type": "stream",
     "text": [
      "100%|██████████| 220/220 [00:00<00:00, 79912.26it/s]\n"
     ]
    }
   ],
   "source": [
    "# Extract horizontal and vertical position on the field\n",
    "pos['horizontal'] = pos.field_pos.progress_apply(lambda x: np.float16(re.findall(r'\\d+\\.*\\d*%',x)[0].replace('%','')))\n",
    "pos['vertical'] = pos.field_pos.apply(lambda x: np.float16(re.findall(r'\\d+\\.*\\d*%',x)[1].replace('%','')))\n",
    "pos.drop(columns = ['field_pos'], inplace = True)"
   ]
  },
  {
   "cell_type": "code",
   "execution_count": 255,
   "metadata": {},
   "outputs": [],
   "source": [
    "def search_position(x,to_search):\n",
    "    try:\n",
    "       res = players_sofifa.loc[(players_sofifa.club_id == x['club_id']) & (players_sofifa.number == x['number']) ,to_search].values[0] \n",
    "    except:\n",
    "        try:\n",
    "            res = players_sofifa.loc[(players_sofifa.club_id == x['club_id']) & (players_sofifa.short_name == x['name']) ,to_search].values[0]\n",
    "        except:\n",
    "            res = None\n",
    "    return res\n",
    "\n"
   ]
  },
  {
   "cell_type": "code",
   "execution_count": 256,
   "metadata": {},
   "outputs": [
    {
     "data": {
      "text/html": [
       "<div>\n",
       "<style scoped>\n",
       "    .dataframe tbody tr th:only-of-type {\n",
       "        vertical-align: middle;\n",
       "    }\n",
       "\n",
       "    .dataframe tbody tr th {\n",
       "        vertical-align: top;\n",
       "    }\n",
       "\n",
       "    .dataframe thead th {\n",
       "        text-align: right;\n",
       "    }\n",
       "</style>\n",
       "<table border=\"1\" class=\"dataframe\">\n",
       "  <thead>\n",
       "    <tr style=\"text-align: right;\">\n",
       "      <th></th>\n",
       "      <th>club</th>\n",
       "      <th>club_id</th>\n",
       "      <th>number</th>\n",
       "      <th>name</th>\n",
       "      <th>short_name</th>\n",
       "      <th>DoB</th>\n",
       "      <th>poste</th>\n",
       "      <th>lequipe_id</th>\n",
       "      <th>sofifa_id</th>\n",
       "    </tr>\n",
       "  </thead>\n",
       "  <tbody>\n",
       "    <tr>\n",
       "      <th>0</th>\n",
       "      <td>Angers</td>\n",
       "      <td>374</td>\n",
       "      <td>16.0</td>\n",
       "      <td>Anthony Mandrea</td>\n",
       "      <td>A. Mandrea</td>\n",
       "      <td>1996-12-25</td>\n",
       "      <td>Gar.</td>\n",
       "      <td>50523</td>\n",
       "      <td>220833.0</td>\n",
       "    </tr>\n",
       "    <tr>\n",
       "      <th>1</th>\n",
       "      <td>Angers</td>\n",
       "      <td>374</td>\n",
       "      <td>30.0</td>\n",
       "      <td>Danijel Petkovic</td>\n",
       "      <td>D. Petkovic</td>\n",
       "      <td>1993-05-25</td>\n",
       "      <td>Gar.</td>\n",
       "      <td>53178</td>\n",
       "      <td>240212.0</td>\n",
       "    </tr>\n",
       "    <tr>\n",
       "      <th>2</th>\n",
       "      <td>Angers</td>\n",
       "      <td>374</td>\n",
       "      <td>25.0</td>\n",
       "      <td>Abdoulaye Bamba</td>\n",
       "      <td>A. Bamba</td>\n",
       "      <td>1990-04-25</td>\n",
       "      <td>Déf.</td>\n",
       "      <td>34789</td>\n",
       "      <td>199313.0</td>\n",
       "    </tr>\n",
       "    <tr>\n",
       "      <th>3</th>\n",
       "      <td>Angers</td>\n",
       "      <td>374</td>\n",
       "      <td>20.0</td>\n",
       "      <td>Kevin Boma</td>\n",
       "      <td>K. Boma</td>\n",
       "      <td>2002-11-20</td>\n",
       "      <td>Déf.</td>\n",
       "      <td>77429</td>\n",
       "      <td>258457.0</td>\n",
       "    </tr>\n",
       "    <tr>\n",
       "      <th>4</th>\n",
       "      <td>Angers</td>\n",
       "      <td>374</td>\n",
       "      <td>NaN</td>\n",
       "      <td>Elhadji Pape Diaw</td>\n",
       "      <td>E. Diaw</td>\n",
       "      <td>1994-12-31</td>\n",
       "      <td>Déf.</td>\n",
       "      <td>71974</td>\n",
       "      <td>NaN</td>\n",
       "    </tr>\n",
       "    <tr>\n",
       "      <th>...</th>\n",
       "      <td>...</td>\n",
       "      <td>...</td>\n",
       "      <td>...</td>\n",
       "      <td>...</td>\n",
       "      <td>...</td>\n",
       "      <td>...</td>\n",
       "      <td>...</td>\n",
       "      <td>...</td>\n",
       "      <td>...</td>\n",
       "    </tr>\n",
       "    <tr>\n",
       "      <th>710</th>\n",
       "      <td>Bordeaux</td>\n",
       "      <td>18</td>\n",
       "      <td>11.0</td>\n",
       "      <td>Sekou Mara</td>\n",
       "      <td>S. Mara</td>\n",
       "      <td>2002-07-30</td>\n",
       "      <td>Att.</td>\n",
       "      <td>82623</td>\n",
       "      <td>257612.0</td>\n",
       "    </tr>\n",
       "    <tr>\n",
       "      <th>711</th>\n",
       "      <td>Bordeaux</td>\n",
       "      <td>18</td>\n",
       "      <td>23.0</td>\n",
       "      <td>M'Baye Niang</td>\n",
       "      <td>M. Niang</td>\n",
       "      <td>1994-12-19</td>\n",
       "      <td>Att.</td>\n",
       "      <td>37439</td>\n",
       "      <td>204077.0</td>\n",
       "    </tr>\n",
       "    <tr>\n",
       "      <th>712</th>\n",
       "      <td>Bordeaux</td>\n",
       "      <td>18</td>\n",
       "      <td>NaN</td>\n",
       "      <td>Moudja Sie Ouattara</td>\n",
       "      <td>M. Ouattara</td>\n",
       "      <td>2002-05-20</td>\n",
       "      <td>Att.</td>\n",
       "      <td>82622</td>\n",
       "      <td>NaN</td>\n",
       "    </tr>\n",
       "    <tr>\n",
       "      <th>713</th>\n",
       "      <td>Bordeaux</td>\n",
       "      <td>18</td>\n",
       "      <td>28.0</td>\n",
       "      <td>Rémi Oudin</td>\n",
       "      <td>R. Oudin</td>\n",
       "      <td>1996-11-18</td>\n",
       "      <td>Att.</td>\n",
       "      <td>59643</td>\n",
       "      <td>233265.0</td>\n",
       "    </tr>\n",
       "    <tr>\n",
       "      <th>714</th>\n",
       "      <td>Bordeaux</td>\n",
       "      <td>18</td>\n",
       "      <td>31.0</td>\n",
       "      <td>Amadou Traoré</td>\n",
       "      <td>A. Traoré</td>\n",
       "      <td>2002-07-03</td>\n",
       "      <td>Att.</td>\n",
       "      <td>70282</td>\n",
       "      <td>250790.0</td>\n",
       "    </tr>\n",
       "  </tbody>\n",
       "</table>\n",
       "<p>715 rows × 9 columns</p>\n",
       "</div>"
      ],
      "text/plain": [
       "          club  club_id  number                 name   short_name         DoB  \\\n",
       "0      Angers       374    16.0      Anthony Mandrea   A. Mandrea  1996-12-25   \n",
       "1      Angers       374    30.0     Danijel Petkovic  D. Petkovic  1993-05-25   \n",
       "2      Angers       374    25.0      Abdoulaye Bamba     A. Bamba  1990-04-25   \n",
       "3      Angers       374    20.0           Kevin Boma      K. Boma  2002-11-20   \n",
       "4      Angers       374     NaN    Elhadji Pape Diaw      E. Diaw  1994-12-31   \n",
       "..         ...      ...     ...                  ...          ...         ...   \n",
       "710  Bordeaux        18    11.0           Sekou Mara      S. Mara  2002-07-30   \n",
       "711  Bordeaux        18    23.0         M'Baye Niang     M. Niang  1994-12-19   \n",
       "712  Bordeaux        18     NaN  Moudja Sie Ouattara  M. Ouattara  2002-05-20   \n",
       "713  Bordeaux        18    28.0           Rémi Oudin     R. Oudin  1996-11-18   \n",
       "714  Bordeaux        18    31.0        Amadou Traoré    A. Traoré  2002-07-03   \n",
       "\n",
       "    poste lequipe_id  sofifa_id  \n",
       "0    Gar.      50523   220833.0  \n",
       "1    Gar.      53178   240212.0  \n",
       "2    Déf.      34789   199313.0  \n",
       "3    Déf.      77429   258457.0  \n",
       "4    Déf.      71974        NaN  \n",
       "..    ...        ...        ...  \n",
       "710  Att.      82623   257612.0  \n",
       "711  Att.      37439   204077.0  \n",
       "712  Att.      82622        NaN  \n",
       "713  Att.      59643   233265.0  \n",
       "714  Att.      70282   250790.0  \n",
       "\n",
       "[715 rows x 9 columns]"
      ]
     },
     "execution_count": 256,
     "metadata": {},
     "output_type": "execute_result"
    }
   ],
   "source": [
    "players_sofifa"
   ]
  },
  {
   "cell_type": "code",
   "execution_count": 257,
   "metadata": {},
   "outputs": [
    {
     "name": "stderr",
     "output_type": "stream",
     "text": [
      "100%|██████████| 220/220 [00:00<00:00, 1529.70it/s]\n",
      "100%|██████████| 220/220 [00:00<00:00, 1571.40it/s]\n",
      "100%|██████████| 220/220 [00:00<00:00, 1364.22it/s]\n"
     ]
    }
   ],
   "source": [
    "# seek for player id and sofifa_id from l'equipe.fr\n",
    "pos['player_id'] = pos.progress_apply(lambda x: search_position(x,'lequipe_id')\\\n",
    "    , axis = 1)\n",
    "pos['sofifa_id'] = pos.progress_apply(lambda x: search_position(x,'sofifa_id')\\\n",
    "    , axis = 1)\n",
    "pos['poste'] = pos.progress_apply(lambda x: search_position(x,'poste')\\\n",
    ", axis = 1)\n",
    "\n"
   ]
  },
  {
   "cell_type": "code",
   "execution_count": 258,
   "metadata": {},
   "outputs": [
    {
     "data": {
      "text/html": [
       "<div>\n",
       "<style scoped>\n",
       "    .dataframe tbody tr th:only-of-type {\n",
       "        vertical-align: middle;\n",
       "    }\n",
       "\n",
       "    .dataframe tbody tr th {\n",
       "        vertical-align: top;\n",
       "    }\n",
       "\n",
       "    .dataframe thead th {\n",
       "        text-align: right;\n",
       "    }\n",
       "</style>\n",
       "<table border=\"1\" class=\"dataframe\">\n",
       "  <thead>\n",
       "    <tr style=\"text-align: right;\">\n",
       "      <th></th>\n",
       "      <th>journee</th>\n",
       "      <th>game_id</th>\n",
       "      <th>club_id</th>\n",
       "      <th>number</th>\n",
       "      <th>name</th>\n",
       "      <th>horizontal</th>\n",
       "      <th>vertical</th>\n",
       "      <th>player_id</th>\n",
       "      <th>sofifa_id</th>\n",
       "      <th>poste</th>\n",
       "    </tr>\n",
       "  </thead>\n",
       "  <tbody>\n",
       "  </tbody>\n",
       "</table>\n",
       "</div>"
      ],
      "text/plain": [
       "Empty DataFrame\n",
       "Columns: [journee, game_id, club_id, number, name, horizontal, vertical, player_id, sofifa_id, poste]\n",
       "Index: []"
      ]
     },
     "metadata": {},
     "output_type": "display_data"
    },
    {
     "data": {
      "text/html": [
       "<div>\n",
       "<style scoped>\n",
       "    .dataframe tbody tr th:only-of-type {\n",
       "        vertical-align: middle;\n",
       "    }\n",
       "\n",
       "    .dataframe tbody tr th {\n",
       "        vertical-align: top;\n",
       "    }\n",
       "\n",
       "    .dataframe thead th {\n",
       "        text-align: right;\n",
       "    }\n",
       "</style>\n",
       "<table border=\"1\" class=\"dataframe\">\n",
       "  <thead>\n",
       "    <tr style=\"text-align: right;\">\n",
       "      <th></th>\n",
       "      <th>journee</th>\n",
       "      <th>game_id</th>\n",
       "      <th>club_id</th>\n",
       "      <th>number</th>\n",
       "      <th>name</th>\n",
       "      <th>horizontal</th>\n",
       "      <th>vertical</th>\n",
       "      <th>player_id</th>\n",
       "      <th>sofifa_id</th>\n",
       "      <th>poste</th>\n",
       "    </tr>\n",
       "  </thead>\n",
       "  <tbody>\n",
       "    <tr>\n",
       "      <th>16</th>\n",
       "      <td>22</td>\n",
       "      <td>515694</td>\n",
       "      <td>38</td>\n",
       "      <td>33</td>\n",
       "      <td>A. Bakayoko</td>\n",
       "      <td>73.75</td>\n",
       "      <td>80.625</td>\n",
       "      <td>86331</td>\n",
       "      <td>NaN</td>\n",
       "      <td>Déf.</td>\n",
       "    </tr>\n",
       "  </tbody>\n",
       "</table>\n",
       "</div>"
      ],
      "text/plain": [
       "    journee  game_id  club_id  number         name  horizontal  vertical  \\\n",
       "16       22   515694       38      33  A. Bakayoko       73.75    80.625   \n",
       "\n",
       "   player_id  sofifa_id poste  \n",
       "16     86331        NaN  Déf.  "
      ]
     },
     "metadata": {},
     "output_type": "display_data"
    },
    {
     "data": {
      "text/html": [
       "<div>\n",
       "<style scoped>\n",
       "    .dataframe tbody tr th:only-of-type {\n",
       "        vertical-align: middle;\n",
       "    }\n",
       "\n",
       "    .dataframe tbody tr th {\n",
       "        vertical-align: top;\n",
       "    }\n",
       "\n",
       "    .dataframe thead th {\n",
       "        text-align: right;\n",
       "    }\n",
       "</style>\n",
       "<table border=\"1\" class=\"dataframe\">\n",
       "  <thead>\n",
       "    <tr style=\"text-align: right;\">\n",
       "      <th></th>\n",
       "      <th>journee</th>\n",
       "      <th>game_id</th>\n",
       "      <th>club_id</th>\n",
       "      <th>number</th>\n",
       "      <th>name</th>\n",
       "      <th>horizontal</th>\n",
       "      <th>vertical</th>\n",
       "      <th>player_id</th>\n",
       "      <th>sofifa_id</th>\n",
       "      <th>poste</th>\n",
       "    </tr>\n",
       "  </thead>\n",
       "  <tbody>\n",
       "  </tbody>\n",
       "</table>\n",
       "</div>"
      ],
      "text/plain": [
       "Empty DataFrame\n",
       "Columns: [journee, game_id, club_id, number, name, horizontal, vertical, player_id, sofifa_id, poste]\n",
       "Index: []"
      ]
     },
     "metadata": {},
     "output_type": "display_data"
    }
   ],
   "source": [
    "\n",
    "display(pos.loc[pos.player_id.isnull(),:])\n",
    "display(pos.loc[pos.sofifa_id.isnull(),:])\n",
    "display(pos.loc[pos.poste.isnull(),:])\n",
    "\n"
   ]
  },
  {
   "cell_type": "code",
   "execution_count": 259,
   "metadata": {},
   "outputs": [],
   "source": [
    "\n",
    "pos.loc[:,['journee','game_id','club_id','player_id', 'sofifa_id', 'poste', 'horizontal','vertical']].to_csv('data/players_positions.csv' ,index = False)"
   ]
  },
  {
   "cell_type": "code",
   "execution_count": 260,
   "metadata": {},
   "outputs": [],
   "source": [
    "pos = pd.read_csv('data/players_positions.csv')"
   ]
  },
  {
   "cell_type": "code",
   "execution_count": null,
   "metadata": {},
   "outputs": [],
   "source": []
  },
  {
   "cell_type": "code",
   "execution_count": null,
   "metadata": {},
   "outputs": [],
   "source": []
  },
  {
   "cell_type": "code",
   "execution_count": null,
   "metadata": {},
   "outputs": [],
   "source": []
  },
  {
   "cell_type": "code",
   "execution_count": 228,
   "metadata": {},
   "outputs": [],
   "source": [
    "stat = np.asarray(['overall' ,'potential', \n",
    "'team', 'nat_team', 'best_overall_rating', \n",
    "'attacking_crossing', 'attacking_finishing', 'attacking_heading_accuracy', 'attacking_short_passing', 'attacking_volleys',\n",
    "'skill_dribbling','skill_curve','skill_fk_accuracy','skill_long_passing','skill_ball_control', \n",
    "'movement_acceleration', 'movement_sprint_speed', 'movement_agility', 'movement_reactions', 'movement_balance', \n",
    "'power_shot_power', 'power_jumping', 'power_stamina', 'power_strength', 'power_long_shots',\n",
    "'mentality_aggression', 'mentality_interceptions', 'mentality_positioning', 'mentality_vision', 'mentality_penalties', 'mentality_composure', \n",
    "'defending_marking_awareness', 'defending_standing_tackle', 'defending_sliding_tackle',\n",
    "'goalkeeping_diving','goalkeeping_handling','goalkeeping_kicking','goalkeeping_positioning','goalkeeping_reflexes','goalkeeping_speed'])"
   ]
  }
 ],
 "metadata": {
  "interpreter": {
   "hash": "7487845996c7ba5663e8475bda763caf28d03a7733caf66b680b36d8ed7e8fd6"
  },
  "kernelspec": {
   "display_name": "Python 3.9.7 64-bit ('foot_env': conda)",
   "language": "python",
   "name": "python3"
  },
  "language_info": {
   "codemirror_mode": {
    "name": "ipython",
    "version": 3
   },
   "file_extension": ".py",
   "mimetype": "text/x-python",
   "name": "python",
   "nbconvert_exporter": "python",
   "pygments_lexer": "ipython3",
   "version": "3.9.7"
  },
  "orig_nbformat": 4
 },
 "nbformat": 4,
 "nbformat_minor": 2
}
