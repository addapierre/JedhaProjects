{
 "cells": [
  {
   "cell_type": "code",
   "execution_count": 1,
   "metadata": {},
   "outputs": [],
   "source": [
    "import pandas as pd\n",
    "import numpy as np\n",
    "from tqdm import tqdm\n",
    "tqdm.pandas()\n",
    "\n",
    "pd.options.display.max_columns=None"
   ]
  },
  {
   "cell_type": "code",
   "execution_count": 2,
   "metadata": {},
   "outputs": [],
   "source": [
    "pos = pd.read_csv('data/players_positions.csv')"
   ]
  },
  {
   "cell_type": "code",
   "execution_count": null,
   "metadata": {},
   "outputs": [],
   "source": [
    "# this function attributes the role (att, def or midfielder) to each player according to their position on the field.\n",
    "# If a player position is close enough to the goal, he is a defender regardless of his usual role.\n",
    "# if a player position is close enough to the opposing team half, he is an attacker regardless of his usual role.\n",
    "# anything in between can be either midfielder, defender or attacker, according to his usual role. \n",
    "\n",
    "def field_post(x):\n",
    "    if x['poste'] == 'Gar.':\n",
    "        field_pos = x['poste']\n",
    "    elif (v := x['vertical']) < 50:\n",
    "        if v < 12:\n",
    "            field_pos = 'Déf.'\n",
    "        elif v > 35:\n",
    "            field_pos = 'Att.'\n",
    "        else:\n",
    "            field_pos = x['poste']\n",
    "    else:\n",
    "        if v >= 80:\n",
    "            field_pos = 'Déf.'\n",
    "        elif v < 55:\n",
    "            field_pos = 'Att.'\n",
    "        else:\n",
    "            field_pos = x['poste']\n",
    "    return field_pos"
   ]
  },
  {
   "cell_type": "code",
   "execution_count": null,
   "metadata": {},
   "outputs": [],
   "source": [
    "pos['field_poste'] = pos.apply(field_post, axis=1)"
   ]
  },
  {
   "cell_type": "code",
   "execution_count": 147,
   "metadata": {},
   "outputs": [],
   "source": [
    "pos.to_csv('data/players_positions.csv', index = False)"
   ]
  },
  {
   "cell_type": "markdown",
   "metadata": {},
   "source": [
    "# 343"
   ]
  },
  {
   "cell_type": "code",
   "execution_count": 78,
   "metadata": {},
   "outputs": [],
   "source": [
    "H343 = pos.loc[(pos.game_id == 515694) & (pos.club_id == 22) & (pos.poste !='Gar.'),['horizontal','vertical', 'poste']].sort_values('vertical').reset_index(drop=True).copy()\n",
    "H343['system'] = '3-4-3'\n",
    "H343['HomeOrAway'] = 'H'\n",
    "H343.loc[0:2,'poste'] = 'DEF'\n",
    "H343.loc[3:6,'poste'] = 'MID'\n",
    "H343.loc[7:9,'poste'] = 'ATK'"
   ]
  },
  {
   "cell_type": "code",
   "execution_count": 79,
   "metadata": {},
   "outputs": [],
   "source": [
    "H343.to_csv('data/system_position.csv', index = False)"
   ]
  },
  {
   "cell_type": "markdown",
   "metadata": {},
   "source": [
    "# 442"
   ]
  },
  {
   "cell_type": "code",
   "execution_count": 80,
   "metadata": {},
   "outputs": [],
   "source": [
    "H442 = pos.loc[(pos.game_id == 515691) & (pos.club_id == 267) & (pos.poste !='Gar.'),['horizontal','vertical', 'poste']].sort_values('vertical').reset_index(drop=True).copy()\n",
    "H442['system'] = '4-4-2'\n",
    "H442['HomeOrAway'] = 'H'\n",
    "H442.loc[0:3,'poste'] = 'DEF'\n",
    "H442.loc[4:7,'poste'] = 'MID'\n",
    "H442.loc[8:9,'poste'] = 'ATK'\n",
    "\n",
    "system = pd.read_csv('data/system_position.csv')\n",
    "system = pd.concat([system, H442], ignore_index = True)\n",
    "system.to_csv('data/system_position.csv', index = False)"
   ]
  },
  {
   "cell_type": "code",
   "execution_count": 81,
   "metadata": {},
   "outputs": [],
   "source": [
    "A442 = pos.loc[(pos.game_id == 515691) & (pos.club_id == 43) & (pos.poste !='Gar.'),['horizontal','vertical', 'poste']].sort_values('vertical', ascending = False).reset_index(drop=True).copy()\n",
    "A442['system'] = '4-4-2'\n",
    "A442['HomeOrAway'] = 'A'\n",
    "A442.loc[0:3,'poste'] = 'DEF'\n",
    "A442.loc[4:7,'poste'] = 'MID'\n",
    "A442.loc[8:9,'poste'] = 'ATK'\n",
    "\n",
    "system = pd.read_csv('data/system_position.csv')\n",
    "system = pd.concat([system, A442], ignore_index = True)\n",
    "system.to_csv('data/system_position.csv', index = False)"
   ]
  },
  {
   "cell_type": "markdown",
   "metadata": {},
   "source": [
    "# 433"
   ]
  },
  {
   "cell_type": "code",
   "execution_count": 108,
   "metadata": {},
   "outputs": [],
   "source": [
    "H433 = pos.loc[(pos.game_id == 515698) & (pos.club_id == 26) & (pos.poste !='Gar.'),['horizontal','vertical', 'poste']].sort_values('vertical').reset_index(drop=True).copy()\n",
    "H433['system'] = '4-3-3'\n",
    "H433['HomeOrAway'] = 'H'\n",
    "H433.loc[0:3,'poste'] = 'DEF'\n",
    "H433.loc[4:6,'poste'] = 'MID'\n",
    "H433.loc[7:9,'poste'] = 'ATK'\n",
    "\n",
    "system = pd.read_csv('data/system_position.csv')\n",
    "system = pd.concat([system, H433], ignore_index = True)\n",
    "system.to_csv('data/system_position.csv', index = False)"
   ]
  },
  {
   "cell_type": "code",
   "execution_count": 110,
   "metadata": {},
   "outputs": [],
   "source": [
    "A433 = pos.loc[(pos.game_id == 515697) & (pos.club_id == 11) & (pos.poste !='Gar.'),['horizontal','vertical', 'poste']].sort_values('vertical', ascending = False).reset_index(drop=True).copy()\n",
    "A433['system'] = '4-3-3'\n",
    "A433['HomeOrAway'] = 'A'\n",
    "A433.loc[0:3,'poste'] = 'DEF'\n",
    "A433.loc[4:6,'poste'] = 'MID'\n",
    "A433.loc[7:9,'poste'] = 'ATK'\n",
    "\n",
    "system = pd.read_csv('data/system_position.csv')\n",
    "system = pd.concat([system, A433], ignore_index = True)\n",
    "system.to_csv('data/system_position.csv', index = False)"
   ]
  },
  {
   "cell_type": "markdown",
   "metadata": {},
   "source": [
    "# 532"
   ]
  },
  {
   "cell_type": "code",
   "execution_count": 85,
   "metadata": {},
   "outputs": [],
   "source": [
    "A532 = pos.loc[(pos.game_id == 515694) & (pos.club_id == 38) & (pos.poste !='Gar.'),['horizontal','vertical', 'poste']].sort_values('vertical', ascending = False).reset_index(drop=True).copy()\n",
    "A532['system'] = '5-3-2'\n",
    "A532['HomeOrAway'] = 'A'\n",
    "A532.loc[0:4,'poste'] = 'DEF'\n",
    "A532.loc[5:7,'poste'] = 'MID'\n",
    "A532.loc[8:9,'poste'] = 'ATK'\n",
    "\n",
    "system = pd.read_csv('data/system_position.csv')\n",
    "system = pd.concat([system, A532], ignore_index = True)\n",
    "system.to_csv('data/system_position.csv', index = False)"
   ]
  },
  {
   "cell_type": "markdown",
   "metadata": {},
   "source": [
    "# 523"
   ]
  },
  {
   "cell_type": "code",
   "execution_count": 90,
   "metadata": {},
   "outputs": [],
   "source": [
    "\n",
    "H523 = pos.loc[(pos.game_id == 515695) & (pos.club_id == 20) & (pos.poste !='Gar.'),['horizontal','vertical', 'poste']].sort_values('vertical').reset_index(drop=True).copy()\n",
    "H523['system'] = '5-2-3'\n",
    "H523['HomeOrAway'] = 'H'\n",
    "H523.loc[0:4,'poste'] = 'DEF'\n",
    "H523.loc[5:6,'poste'] = 'MID'\n",
    "H523.loc[7:9,'poste'] = 'ATK'\n",
    "\n",
    "system = pd.read_csv('data/system_position.csv')\n",
    "system = pd.concat([system, H523], ignore_index = True)\n",
    "system.to_csv('data/system_position.csv', index = False)"
   ]
  },
  {
   "cell_type": "markdown",
   "metadata": {},
   "source": [
    "# 4231"
   ]
  },
  {
   "cell_type": "code",
   "execution_count": 96,
   "metadata": {},
   "outputs": [],
   "source": [
    "H4231 = pos.loc[(pos.game_id == 515690) & (pos.club_id == 18) & (pos.poste !='Gar.'),['horizontal','vertical', 'poste']].sort_values('vertical').reset_index(drop=True).copy()\n",
    "H4231['system'] = '4-2-3-1'\n",
    "H4231['HomeOrAway'] = 'H'\n",
    "H4231.loc[0:3,'poste'] = 'DEF'\n",
    "H4231.loc[4:5,'poste'] = 'MID'\n",
    "H4231.loc[6:8,'poste'] = 'MID-ATK'\n",
    "H4231.loc[9,'poste'] = 'ATK'\n",
    "\n",
    "system = pd.read_csv('data/system_position.csv')\n",
    "system = pd.concat([system, H4231], ignore_index = True)\n",
    "system.to_csv('data/system_position.csv', index = False)"
   ]
  },
  {
   "cell_type": "code",
   "execution_count": 103,
   "metadata": {},
   "outputs": [],
   "source": [
    "A4231 = pos.loc[(pos.game_id == 515696) & (pos.club_id == 25) & (pos.poste !='Gar.'),['horizontal','vertical', 'poste']].sort_values('vertical', ascending = False).reset_index(drop=True).copy()\n",
    "\n",
    "A4231['system'] = '4-2-3-1'\n",
    "A4231['HomeOrAway'] = 'A'\n",
    "A4231.loc[0:3,'poste'] = 'DEF'\n",
    "A4231.loc[4:5,'poste'] = 'MID'\n",
    "A4231.loc[6:8,'poste'] = 'MID-ATK'\n",
    "A4231.loc[9,'poste'] = 'ATK'\n",
    "\n",
    "system = pd.read_csv('data/system_position.csv')\n",
    "system = pd.concat([system, A4231], ignore_index = True)\n",
    "system.to_csv('data/system_position.csv', index = False)"
   ]
  },
  {
   "cell_type": "markdown",
   "metadata": {},
   "source": [
    "# 3232"
   ]
  },
  {
   "cell_type": "code",
   "execution_count": 101,
   "metadata": {},
   "outputs": [],
   "source": [
    "A3232 = pos.loc[(pos.game_id == 515690) & (pos.club_id == 13) & (pos.poste !='Gar.'),['horizontal','vertical', 'poste']].sort_values('vertical', ascending = False).reset_index(drop=True).copy()\n",
    "A3232['system'] = '3-2-3-2'\n",
    "A3232['HomeOrAway'] = 'A'\n",
    "A3232.loc[0:2,'poste'] = 'DEF'\n",
    "A3232.loc[3:4,'poste'] = 'DEF-MID'\n",
    "A3232.loc[5:7,'poste'] = 'MID'\n",
    "A3232.loc[8:9,'poste'] = 'ATK'\n",
    "\n",
    "system = pd.read_csv('data/system_position.csv')\n",
    "system = pd.concat([system, A3232], ignore_index = True)\n",
    "system.to_csv('data/system_position.csv', index = False)"
   ]
  },
  {
   "cell_type": "code",
   "execution_count": 132,
   "metadata": {},
   "outputs": [],
   "source": []
  },
  {
   "cell_type": "code",
   "execution_count": 139,
   "metadata": {},
   "outputs": [],
   "source": []
  },
  {
   "cell_type": "code",
   "execution_count": null,
   "metadata": {},
   "outputs": [],
   "source": []
  }
 ],
 "metadata": {
  "interpreter": {
   "hash": "7487845996c7ba5663e8475bda763caf28d03a7733caf66b680b36d8ed7e8fd6"
  },
  "kernelspec": {
   "display_name": "Python 3.9.7 64-bit ('foot_env': conda)",
   "language": "python",
   "name": "python3"
  },
  "language_info": {
   "codemirror_mode": {
    "name": "ipython",
    "version": 3
   },
   "file_extension": ".py",
   "mimetype": "text/x-python",
   "name": "python",
   "nbconvert_exporter": "python",
   "pygments_lexer": "ipython3",
   "version": "3.9.7"
  },
  "orig_nbformat": 4
 },
 "nbformat": 4,
 "nbformat_minor": 2
}
