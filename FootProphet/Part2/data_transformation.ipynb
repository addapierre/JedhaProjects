{
 "cells": [
  {
   "cell_type": "code",
   "execution_count": 20,
   "metadata": {},
   "outputs": [],
   "source": [
    "import pandas as pd\n",
    "import numpy as np\n",
    "from fuzzywuzzy import fuzz\n",
    "import re\n",
    "import unidecode\n",
    "from tqdm import tqdm\n",
    "tqdm.pandas()\n",
    "\n",
    "pd.options.display.max_columns=None"
   ]
  },
  {
   "cell_type": "code",
   "execution_count": 58,
   "metadata": {},
   "outputs": [],
   "source": [
    "players = pd.read_csv('data/players.csv')\n",
    "players.DoB = pd.to_datetime(players.DoB)"
   ]
  },
  {
   "cell_type": "code",
   "execution_count": 36,
   "metadata": {},
   "outputs": [],
   "source": [
    "games = pd.read_csv('data/games.csv')"
   ]
  },
  {
   "cell_type": "code",
   "execution_count": 47,
   "metadata": {},
   "outputs": [],
   "source": [
    "clubs = players.groupby('club_id').count().reset_index().loc[:,['club_id','club']]\n",
    "clubs.to_csv('data/clubs.csv', index = False)"
   ]
  },
  {
   "cell_type": "code",
   "execution_count": 70,
   "metadata": {},
   "outputs": [],
   "source": [
    "fifa22 = pd.read_csv('../../footprophet/Padda/data/Fifa/players_22.csv', usecols = ['sofifa_id','short_name','long_name','dob'])"
   ]
  },
  {
   "cell_type": "code",
   "execution_count": 71,
   "metadata": {},
   "outputs": [],
   "source": [
    "fifa22.dob = pd.to_datetime(fifa22.dob)"
   ]
  },
  {
   "cell_type": "code",
   "execution_count": 232,
   "metadata": {},
   "outputs": [],
   "source": [
    "players_bis = players.copy()\n",
    "\n",
    "players_bis.name = players_bis.name.apply(unidecode.unidecode)\n",
    "players_bis.short_name = players_bis.short_name.apply(unidecode.unidecode)\n",
    "\n",
    "fifa22.long_name = fifa22.long_name.apply(unidecode.unidecode)\n",
    "fifa22.short_name = fifa22.short_name.apply(unidecode.unidecode)\n",
    "\n"
   ]
  },
  {
   "cell_type": "code",
   "execution_count": 234,
   "metadata": {},
   "outputs": [],
   "source": [
    "def search_name(x,fifa_N):\n",
    "    fuzz_scores_ln = fifa_N.long_name.apply(lambda y: fuzz.token_set_ratio(x,y)).values   \n",
    "    #each name in the \"fifa\" dataframe is assigned a similarity score with the selected name from the \"players\" dataset\n",
    "    fuzz_scores_sn = fifa_N.short_name.apply(lambda y: fuzz.token_set_ratio(x,y)).values\n",
    "\n",
    "    return np.argwhere(fuzz_scores_ln == fuzz_scores_ln.max()).squeeze() , fuzz_scores_ln.max(),\\\n",
    "        np.argwhere(fuzz_scores_sn == fuzz_scores_sn.max()).squeeze() , fuzz_scores_sn.max()"
   ]
  },
  {
   "cell_type": "code",
   "execution_count": 236,
   "metadata": {},
   "outputs": [],
   "source": [
    "def search_all_names(fifa_N):\n",
    "    results = players_bis.name.progress_apply(lambda x:search_name(x,fifa_N))\n",
    "    \n",
    "    players_bis['fifa_index_ln']= results.apply(lambda x : x[0])\n",
    "    players_bis['fuzz_score_ln'] = results.apply(lambda x : x[1])\n",
    "    players_bis['fifa_index_sn']= results.apply(lambda x : x[2])\n",
    "    players_bis['fuzz_score_sn'] = results.apply(lambda x : x[3])\n",
    "    \n",
    "    return players_bis.loc[players_bis.fuzz_score_ln > 90,'fuzz_score_ln'].shape"
   ]
  },
  {
   "cell_type": "code",
   "execution_count": 237,
   "metadata": {},
   "outputs": [
    {
     "name": "stderr",
     "output_type": "stream",
     "text": [
      "100%|██████████| 715/715 [10:17<00:00,  1.16it/s]\n"
     ]
    },
    {
     "data": {
      "text/plain": [
       "(547,)"
      ]
     },
     "execution_count": 237,
     "metadata": {},
     "output_type": "execute_result"
    }
   ],
   "source": [
    "search_all_names(fifa22)"
   ]
  },
  {
   "cell_type": "markdown",
   "metadata": {},
   "source": [
    "### long names don't match but short names match"
   ]
  },
  {
   "cell_type": "code",
   "execution_count": 238,
   "metadata": {},
   "outputs": [],
   "source": [
    "players1 = players_bis.loc[(players.fuzz_score_ln < 80) & (players.fuzz_score_sn > 80),:].copy()\n",
    "players1 = players1.drop(columns = ['fifa_index_ln','fuzz_score_ln']).reset_index(drop=True)"
   ]
  },
  {
   "cell_type": "code",
   "execution_count": 239,
   "metadata": {},
   "outputs": [
    {
     "name": "stderr",
     "output_type": "stream",
     "text": [
      "100%|██████████| 71/71 [00:00<00:00, 21560.64it/s]\n",
      "100%|██████████| 71/71 [00:00<00:00, 12867.08it/s]\n"
     ]
    }
   ],
   "source": [
    "players1['name_compare'] = players1.fifa_index_sn.progress_apply(lambda x: [fifa22.loc[y,'long_name'] for y in x] if type(x)==np.ndarray else fifa22.loc[x,'long_name'])\n",
    "players1['dob_compare'] = players1.fifa_index_sn.progress_apply(lambda x: [fifa22.loc[y,'dob'] for y in x] if type(x)==np.ndarray else fifa22.loc[x,'dob'])"
   ]
  },
  {
   "cell_type": "code",
   "execution_count": 316,
   "metadata": {},
   "outputs": [
    {
     "data": {
      "text/plain": [
       "(0, 12)"
      ]
     },
     "execution_count": 316,
     "metadata": {},
     "output_type": "execute_result"
    }
   ],
   "source": [
    "players1.shape"
   ]
  },
  {
   "cell_type": "code",
   "execution_count": null,
   "metadata": {},
   "outputs": [],
   "source": [
    "print(players1.loc[0,'lequipe_id'])\n",
    "print(players1.loc[0,'name'])\n",
    "print(players1.loc[0,'name_compare'])\n",
    "print(players1.loc[0,'DoB'])\n",
    "print(players1.loc[0,'dob_compare'])\n",
    "print(players1.loc[0,'fifa_index_sn'])\n",
    "\n",
    "players1 = players1.drop(0).reset_index(drop=True)\n"
   ]
  },
  {
   "cell_type": "markdown",
   "metadata": {},
   "source": [
    "Da Silva Fabio (29842) => 3180  \n",
    "Eiji Kawashima (36275) => 2476   \n",
    "Habib Diallo (54331) => 1779  \n",
    "Marquinhos (46961) => 39  \n",
    "Metinho (87695) => 15050  \n",
    "Hyun-jun Suk (35942) => 6539  \n",
    "Pau Lopez (53546) => 462  \n",
    "Alvaro Gonzalez (41014) => 562  \n",
    "Tiago Djalo (76323) => 2412\n",
    "Vital Nsimba (42262) => 4283  \n",
    "Capita (83797) => 14163  \n",
    "Bruno Guimaraes (68534) => 659  \n",
    "Lucas Paqueta (70628) => 374  \n",
    "Lucien Agoume (70963) => 10706\n",
    "Xeka (61723) => 1089  \n",
    "Tino Kadewere (69206) => 1050  \n",
    "Edson Mexer (35518) => 3224  \n",
    "Fransergio (52475) => 713  \n",
    "Otavio (58019) => 1327\n"
   ]
  },
  {
   "cell_type": "markdown",
   "metadata": {},
   "source": [
    "### long name match but multiple fifa_index"
   ]
  },
  {
   "cell_type": "code",
   "execution_count": 332,
   "metadata": {},
   "outputs": [],
   "source": [
    "players1 = players_bis.loc[(players_bis.fifa_index_ln.apply(type) != int) & (players_bis.fuzz_score_ln >=80) , : ].reset_index(drop=True).copy()"
   ]
  },
  {
   "cell_type": "code",
   "execution_count": 333,
   "metadata": {},
   "outputs": [
    {
     "name": "stderr",
     "output_type": "stream",
     "text": [
      "100%|██████████| 20/20 [00:00<00:00, 10172.94it/s]\n",
      "100%|██████████| 20/20 [00:00<00:00, 5434.80it/s]\n"
     ]
    }
   ],
   "source": [
    "players1['name_compare'] = players1.fifa_index_ln.progress_apply(lambda x: [fifa22.loc[y,'long_name'] for y in x] if type(x)==np.ndarray else fifa22.loc[x,'long_name'])\n",
    "players1['dob_compare'] = players1.fifa_index_ln.progress_apply(lambda x: [fifa22.loc[y,'dob'] for y in x] if type(x)==np.ndarray else fifa22.loc[x,'dob'])"
   ]
  },
  {
   "cell_type": "code",
   "execution_count": 334,
   "metadata": {},
   "outputs": [
    {
     "data": {
      "text/plain": [
       "(20, 14)"
      ]
     },
     "execution_count": 334,
     "metadata": {},
     "output_type": "execute_result"
    }
   ],
   "source": [
    "players1.shape"
   ]
  },
  {
   "cell_type": "code",
   "execution_count": null,
   "metadata": {},
   "outputs": [],
   "source": [
    "\n",
    "print(players1.loc[0,'lequipe_id'])\n",
    "print(players1.loc[0,'name'])\n",
    "print(players1.loc[0,'name_compare'])\n",
    "print(players1.loc[0,'DoB'])\n",
    "print(players1.loc[0,'dob_compare'])\n",
    "print(players1.loc[0,'fifa_index_ln'])\n",
    "\n",
    "players1 = players1.drop(0).reset_index(drop=True)"
   ]
  },
  {
   "cell_type": "markdown",
   "metadata": {},
   "source": [
    "Mohamed-Ali Cho (82985) => 9686  \n",
    "Nuno Mendes (76513) => 861  \n",
    "Dante (20255) => 1147  \n",
    "Danilo Pereira (41511) => 317  \n",
    "Gabriel Silva (44649) => 3229  \n",
    "Justin Smith (91006) => 16495  \n",
    "Sambou Sissoko (64659) => 16061  \n",
    "Emerson (55093) => 751  \n",
    "Gerson (60412) => 483  \n",
    "Pape Gueye (63063) => 1428  \n",
    "Igor Silva(57877) => 7192  \n",
    "Henrique (73302) => 4153  \n",
    "Boubacar Traore (77098) => 14831  \n",
    "Jonathan David (68269) => 848   \n",
    "Ibrahima Balde (83030) => 17379  \n",
    "Gideon Mensah (65406) => 4525  \n",
    "Otavio (58019) => 1327\n"
   ]
  },
  {
   "cell_type": "markdown",
   "metadata": {},
   "source": [
    "### long names that almost match (>80 < 95)"
   ]
  },
  {
   "cell_type": "code",
   "execution_count": 358,
   "metadata": {},
   "outputs": [],
   "source": [
    "players1 = players_bis.loc[(players_bis.fuzz_score_ln >= 80) & (players_bis.fuzz_score_ln <=95) & (players_bis.fifa_index_ln.apply(type) == int), : ].reset_index(drop=True).copy()"
   ]
  },
  {
   "cell_type": "code",
   "execution_count": 359,
   "metadata": {},
   "outputs": [
    {
     "name": "stderr",
     "output_type": "stream",
     "text": [
      "100%|██████████| 27/27 [00:00<00:00, 27493.62it/s]\n",
      "100%|██████████| 27/27 [00:00<00:00, 11905.61it/s]\n"
     ]
    }
   ],
   "source": [
    "players1['name_compare'] = players1.fifa_index_ln.progress_apply(lambda x: [fifa22.loc[y,'long_name'] for y in x] if type(x)==np.ndarray else fifa22.loc[x,'long_name'])\n",
    "players1['dob_compare'] = players1.fifa_index_ln.progress_apply(lambda x: [fifa22.loc[y,'dob'] for y in x] if type(x)==np.ndarray else fifa22.loc[x,'dob'])"
   ]
  },
  {
   "cell_type": "code",
   "execution_count": null,
   "metadata": {},
   "outputs": [],
   "source": [
    "print(players1.loc[0,'lequipe_id'])\n",
    "print(players1.loc[0,'name'])\n",
    "print(players1.loc[0,'name_compare'])\n",
    "print(players1.loc[0,'DoB'])\n",
    "print(players1.loc[0,'dob_compare'])\n",
    "print(players1.loc[0,'fifa_index_ln'])\n",
    "\n",
    "players1 = players1.drop(0).reset_index(drop=True)"
   ]
  },
  {
   "cell_type": "markdown",
   "metadata": {},
   "source": [
    "Alexandre Golovine (56524)  => 616  \n",
    "Boubacar Kouyate (71973) => 3049  \n",
    "Papa Ndiaga Yade (76413) => 8471  \n",
    "Hianga'a Mbock (75905) => 10789\n"
   ]
  },
  {
   "cell_type": "markdown",
   "metadata": {},
   "source": [
    "### correction du df players"
   ]
  },
  {
   "cell_type": "markdown",
   "metadata": {},
   "source": [
    "Da Silva Fabio (29842) => 3180  \n",
    "Eiji Kawashima (36275) => 2476   \n",
    "Habib Diallo (54331) => 1779  \n",
    "Marquinhos (46961) => 39  \n",
    "Metinho (87695) => 15050  \n",
    "Hyun-jun Suk (35942) => 6539  \n",
    "Pau Lopez (53546) => 462  \n",
    "Alvaro Gonzalez (41014) => 562  \n",
    "Tiago Djalo (76323) => 2412\n",
    "Vital Nsimba (42262) => 4283  \n",
    "Capita (83797) => 14163  \n",
    "Bruno Guimaraes (68534) => 659  \n",
    "Lucas Paqueta (70628) => 374  \n",
    "Lucien Agoume (70963) => 10706\n",
    "Xeka (61723) => 1089  \n",
    "Tino Kadewere (69206) => 1050  \n",
    "Edson Mexer (35518) => 3224  \n",
    "Fransergio (52475) => 713  \n",
    "Otavio (58019) => 1327\n",
    "\n",
    "Mohamed-Ali Cho (82985) => 9686  \n",
    "Nuno Mendes (76513) => 861  \n",
    "Dante (20255) => 1147  \n",
    "Danilo Pereira (41511) => 317  \n",
    "Gabriel Silva (44649) => 3229  \n",
    "Justin Smith (91006) => 16495  \n",
    "Sambou Sissoko (64659) => 16061  \n",
    "Emerson (55093) => 751  \n",
    "Gerson (60412) => 483  \n",
    "Pape Gueye (63063) => 1428  \n",
    "Igor Silva(57877) => 7192  \n",
    "Henrique (73302) => 4153  \n",
    "Boubacar Traore (77098) => 14831  \n",
    "Jonathan David (68269) => 848   \n",
    "Ibrahima Balde (83030) => 17379  \n",
    "Gideon Mensah (65406) => 4525  \n",
    "Otavio (58019) => 1327\n",
    "\n",
    "Alexandre Golovine (56524)  => 616  \n",
    "Boubacar Kouyate (71973) => 3049  \n",
    "Papa Ndiaga Yade (76413) => 8471  \n",
    "Hianga'a Mbock (75905) => 10789"
   ]
  },
  {
   "cell_type": "code",
   "execution_count": 411,
   "metadata": {},
   "outputs": [
    {
     "data": {
      "text/plain": [
       "39"
      ]
     },
     "execution_count": 411,
     "metadata": {},
     "output_type": "execute_result"
    }
   ],
   "source": []
  },
  {
   "cell_type": "code",
   "execution_count": 412,
   "metadata": {},
   "outputs": [
    {
     "data": {
      "text/plain": [
       "(39, 39)"
      ]
     },
     "execution_count": 412,
     "metadata": {},
     "output_type": "execute_result"
    }
   ],
   "source": [
    "player_change_list = [29842, 36275, 54331, 46961, 87695, 35942, 53546, 41014, 76323, 42262, 83797, 68534, 70628, 70963, 61723, 69206, 35518, 52475, 82985, \\\n",
    "    76513, 20255, 41511, 44649, 91006, 64659, 55093, 60412, 63063, 57877, 73302, 77098, 68269, 83030, 65406, 58019, 56524, 71973, 76413, 75905]\n",
    "fifa_index_list = [3180,2476,1779,39,15050,6539,462,562,2412,4283,14163,659,374,10706,1089,1050,3224,713,9686,861,1147,317,3229,16495,16061,751,483,\\\n",
    "    1428,7192,4153,14831,848,17379,4525,1327,616,3049,8471,10789]\n",
    "len(player_change_list), len(fifa_index_list)"
   ]
  },
  {
   "cell_type": "code",
   "execution_count": 420,
   "metadata": {},
   "outputs": [
    {
     "data": {
      "text/html": [
       "<div>\n",
       "<style scoped>\n",
       "    .dataframe tbody tr th:only-of-type {\n",
       "        vertical-align: middle;\n",
       "    }\n",
       "\n",
       "    .dataframe tbody tr th {\n",
       "        vertical-align: top;\n",
       "    }\n",
       "\n",
       "    .dataframe thead th {\n",
       "        text-align: right;\n",
       "    }\n",
       "</style>\n",
       "<table border=\"1\" class=\"dataframe\">\n",
       "  <thead>\n",
       "    <tr style=\"text-align: right;\">\n",
       "      <th></th>\n",
       "      <th>club</th>\n",
       "      <th>club_id</th>\n",
       "      <th>number</th>\n",
       "      <th>name</th>\n",
       "      <th>short_name</th>\n",
       "      <th>DoB</th>\n",
       "      <th>poste</th>\n",
       "      <th>lequipe_id</th>\n",
       "      <th>fifa_index_ln</th>\n",
       "      <th>fuzz_score_ln</th>\n",
       "      <th>fifa_index_sn</th>\n",
       "      <th>fuzz_score_sn</th>\n",
       "    </tr>\n",
       "  </thead>\n",
       "  <tbody>\n",
       "    <tr>\n",
       "      <th>0</th>\n",
       "      <td>Angers</td>\n",
       "      <td>374</td>\n",
       "      <td>16.0</td>\n",
       "      <td>Anthony Mandrea</td>\n",
       "      <td>A. Mandrea</td>\n",
       "      <td>1996-12-25</td>\n",
       "      <td>Gar.</td>\n",
       "      <td>50523</td>\n",
       "      <td>12485</td>\n",
       "      <td>100</td>\n",
       "      <td>[11751, 12485]</td>\n",
       "      <td>88</td>\n",
       "    </tr>\n",
       "  </tbody>\n",
       "</table>\n",
       "</div>"
      ],
      "text/plain": [
       "      club  club_id  number             name  short_name        DoB poste  \\\n",
       "0  Angers       374    16.0  Anthony Mandrea  A. Mandrea 1996-12-25  Gar.   \n",
       "\n",
       "  lequipe_id fifa_index_ln  fuzz_score_ln   fifa_index_sn  fuzz_score_sn  \n",
       "0      50523         12485            100  [11751, 12485]             88  "
      ]
     },
     "execution_count": 420,
     "metadata": {},
     "output_type": "execute_result"
    }
   ],
   "source": [
    "players_bis.head(1)"
   ]
  },
  {
   "cell_type": "code",
   "execution_count": 422,
   "metadata": {},
   "outputs": [],
   "source": [
    "for i, player_id in enumerate(player_change_list):\n",
    "    players_bis.loc[players_bis.lequipe_id == player_id,'fuzz_score_ln'] = 100\n",
    "    players_bis.loc[players_bis.lequipe_id == player_id,'fifa_index_ln'] = fifa_index_list[i]"
   ]
  },
  {
   "cell_type": "code",
   "execution_count": 442,
   "metadata": {},
   "outputs": [],
   "source": [
    "#players_bis.loc[(players_bis.fuzz_score_ln < 95) & (~players_bis.number.isnull()),:]"
   ]
  },
  {
   "cell_type": "code",
   "execution_count": 438,
   "metadata": {},
   "outputs": [
    {
     "data": {
      "text/html": [
       "<div>\n",
       "<style scoped>\n",
       "    .dataframe tbody tr th:only-of-type {\n",
       "        vertical-align: middle;\n",
       "    }\n",
       "\n",
       "    .dataframe tbody tr th {\n",
       "        vertical-align: top;\n",
       "    }\n",
       "\n",
       "    .dataframe thead th {\n",
       "        text-align: right;\n",
       "    }\n",
       "</style>\n",
       "<table border=\"1\" class=\"dataframe\">\n",
       "  <thead>\n",
       "    <tr style=\"text-align: right;\">\n",
       "      <th></th>\n",
       "      <th>club</th>\n",
       "      <th>club_id</th>\n",
       "      <th>number</th>\n",
       "      <th>name</th>\n",
       "      <th>short_name</th>\n",
       "      <th>DoB</th>\n",
       "      <th>poste</th>\n",
       "      <th>lequipe_id</th>\n",
       "      <th>fifa_index_ln</th>\n",
       "      <th>fuzz_score_ln</th>\n",
       "      <th>fifa_index_sn</th>\n",
       "      <th>fuzz_score_sn</th>\n",
       "    </tr>\n",
       "  </thead>\n",
       "  <tbody>\n",
       "    <tr>\n",
       "      <th>432</th>\n",
       "      <td>Monaco</td>\n",
       "      <td>25</td>\n",
       "      <td>28.0</td>\n",
       "      <td>Judilson Pele</td>\n",
       "      <td>J. Pele</td>\n",
       "      <td>1991-09-29</td>\n",
       "      <td>Mil.</td>\n",
       "      <td>40096</td>\n",
       "      <td>3215</td>\n",
       "      <td>100</td>\n",
       "      <td>3215</td>\n",
       "      <td>100</td>\n",
       "    </tr>\n",
       "  </tbody>\n",
       "</table>\n",
       "</div>"
      ],
      "text/plain": [
       "        club  club_id  number           name short_name        DoB poste  \\\n",
       "432  Monaco        25    28.0  Judilson Pele    J. Pele 1991-09-29  Mil.   \n",
       "\n",
       "    lequipe_id fifa_index_ln  fuzz_score_ln fifa_index_sn  fuzz_score_sn  \n",
       "432      40096          3215            100          3215            100  "
      ]
     },
     "metadata": {},
     "output_type": "display_data"
    }
   ],
   "source": [
    "display(players_bis.loc[players_bis.lequipe_id==40096,:])\n",
    "players_bis.loc[players_bis.lequipe_id==40096,'fuzz_score_ln'] = 100\n",
    "players_bis.loc[players_bis.lequipe_id==40096,'fifa_index_ln'] = 3215"
   ]
  },
  {
   "cell_type": "code",
   "execution_count": 436,
   "metadata": {},
   "outputs": [],
   "source": [
    "players_bis.loc[players_bis.lequipe_id ==69885,'fuzz_score_ln']=100"
   ]
  },
  {
   "cell_type": "code",
   "execution_count": 441,
   "metadata": {},
   "outputs": [
    {
     "data": {
      "text/html": [
       "<div>\n",
       "<style scoped>\n",
       "    .dataframe tbody tr th:only-of-type {\n",
       "        vertical-align: middle;\n",
       "    }\n",
       "\n",
       "    .dataframe tbody tr th {\n",
       "        vertical-align: top;\n",
       "    }\n",
       "\n",
       "    .dataframe thead th {\n",
       "        text-align: right;\n",
       "    }\n",
       "</style>\n",
       "<table border=\"1\" class=\"dataframe\">\n",
       "  <thead>\n",
       "    <tr style=\"text-align: right;\">\n",
       "      <th></th>\n",
       "      <th>sofifa_id</th>\n",
       "      <th>short_name</th>\n",
       "      <th>long_name</th>\n",
       "      <th>dob</th>\n",
       "    </tr>\n",
       "  </thead>\n",
       "  <tbody>\n",
       "  </tbody>\n",
       "</table>\n",
       "</div>"
      ],
      "text/plain": [
       "Empty DataFrame\n",
       "Columns: [sofifa_id, short_name, long_name, dob]\n",
       "Index: []"
      ]
     },
     "execution_count": 441,
     "metadata": {},
     "output_type": "execute_result"
    }
   ],
   "source": [
    "fifa22.loc[fifa22.sofifa_id==161648,:]"
   ]
  },
  {
   "cell_type": "markdown",
   "metadata": {},
   "source": [
    "# new entries\n",
    "\n",
    "bradley barcola (83812) => sofifa :264652  \n",
    "Loum Tchaouna (88826) => 264880  \n",
    "Kayne Bonnevie (72364) => 264871  \n",
    "Yanis Lhery (87893) => 265687  \n",
    "Felix Lemarechal (90544) => 264869  \n",
    "Jean-Armel Kana-Biyik (28316) => 183975  \n",
    "Theo Le Bris (77183) => 265544  \n",
    "Louis Mafouta (58777)=> 266586  \n",
    "Yadaly Diaby (93026) => 265689  \n",
    "Paul Lasne (255000000000000000000025947)=> 192242  \n",
    "Hatem Ben Arfa (20671) => 161648  \n",
    "Samba Sow (18955) => 191151  \n",
    "Nabil Bentaleb (50329) => 213296  \n",
    "Maghnes Akliouche (83186)=> 264862  \n",
    "Dango Ouattara (87013)=> 265552"
   ]
  },
  {
   "cell_type": "code",
   "execution_count": 457,
   "metadata": {},
   "outputs": [
    {
     "data": {
      "text/plain": [
       "(15, 15)"
      ]
     },
     "execution_count": 457,
     "metadata": {},
     "output_type": "execute_result"
    }
   ],
   "source": [
    "player_change_list = [83812, 88826, 72364, 87893, 90544, 28316, 77183, 58777, 93026, 255000000000000000000025947, 20671, 18955, 50329, 83186, 87013]\n",
    "sofifa_id_list =[\n",
    "    264652, 264880, 264871, 265687, 264869, 183975, 265544, 266586, 265689, 192242, 161648, 191151, 213296, 264862, 265552\n",
    "]\n",
    "len(player_change_list), len(fifa_index_list)"
   ]
  },
  {
   "cell_type": "code",
   "execution_count": 446,
   "metadata": {},
   "outputs": [],
   "source": [
    "for i, player_id in enumerate(player_change_list):\n",
    "    players_bis.loc[players_bis.lequipe_id == player_id,'fuzz_score_ln'] = 100\n",
    "    players_bis.loc[players_bis.lequipe_id == player_id,'fifa_index_ln'] = None"
   ]
  },
  {
   "cell_type": "code",
   "execution_count": 450,
   "metadata": {},
   "outputs": [],
   "source": [
    "players_good = players_bis.loc[players_bis.fuzz_score_ln>=95,['club','club_id','number','name','short_name','DoB','poste','lequipe_id','fifa_index_ln']].reset_index(drop=True).copy()"
   ]
  },
  {
   "cell_type": "code",
   "execution_count": 455,
   "metadata": {},
   "outputs": [
    {
     "name": "stdout",
     "output_type": "stream",
     "text": [
      "il manque 138 joueurs sur 715\n"
     ]
    }
   ],
   "source": [
    "print(f'il manque {players_bis.shape[0] - players_good.shape[0]} joueurs sur {players_bis.shape[0]}')"
   ]
  },
  {
   "cell_type": "code",
   "execution_count": 458,
   "metadata": {},
   "outputs": [
    {
     "data": {
      "text/html": [
       "<div>\n",
       "<style scoped>\n",
       "    .dataframe tbody tr th:only-of-type {\n",
       "        vertical-align: middle;\n",
       "    }\n",
       "\n",
       "    .dataframe tbody tr th {\n",
       "        vertical-align: top;\n",
       "    }\n",
       "\n",
       "    .dataframe thead th {\n",
       "        text-align: right;\n",
       "    }\n",
       "</style>\n",
       "<table border=\"1\" class=\"dataframe\">\n",
       "  <thead>\n",
       "    <tr style=\"text-align: right;\">\n",
       "      <th></th>\n",
       "      <th>club</th>\n",
       "      <th>club_id</th>\n",
       "      <th>number</th>\n",
       "      <th>name</th>\n",
       "      <th>short_name</th>\n",
       "      <th>DoB</th>\n",
       "      <th>poste</th>\n",
       "      <th>lequipe_id</th>\n",
       "      <th>fifa_index_ln</th>\n",
       "      <th>sofifa_id</th>\n",
       "    </tr>\n",
       "  </thead>\n",
       "  <tbody>\n",
       "    <tr>\n",
       "      <th>10</th>\n",
       "      <td>Angers</td>\n",
       "      <td>374</td>\n",
       "      <td>23.0</td>\n",
       "      <td>Nabil Bentaleb</td>\n",
       "      <td>N. Bentaleb</td>\n",
       "      <td>1994-11-24</td>\n",
       "      <td>Mil.</td>\n",
       "      <td>50329</td>\n",
       "      <td>None</td>\n",
       "      <td>None</td>\n",
       "    </tr>\n",
       "    <tr>\n",
       "      <th>197</th>\n",
       "      <td>Rennes</td>\n",
       "      <td>14</td>\n",
       "      <td>17.0</td>\n",
       "      <td>Loum Tchaouna</td>\n",
       "      <td>L. Tchaouna</td>\n",
       "      <td>2003-08-09</td>\n",
       "      <td>Att.</td>\n",
       "      <td>88826</td>\n",
       "      <td>None</td>\n",
       "      <td>None</td>\n",
       "    </tr>\n",
       "    <tr>\n",
       "      <th>291</th>\n",
       "      <td>Monaco</td>\n",
       "      <td>25</td>\n",
       "      <td>35.0</td>\n",
       "      <td>Maghnes Akliouche</td>\n",
       "      <td>M. Akliouche</td>\n",
       "      <td>2002-02-25</td>\n",
       "      <td>Mil.</td>\n",
       "      <td>83186</td>\n",
       "      <td>None</td>\n",
       "      <td>None</td>\n",
       "    </tr>\n",
       "    <tr>\n",
       "      <th>323</th>\n",
       "      <td>Lyon (OL)</td>\n",
       "      <td>22</td>\n",
       "      <td>40.0</td>\n",
       "      <td>Kayne Bonnevie</td>\n",
       "      <td>K. Bonnevie</td>\n",
       "      <td>NaT</td>\n",
       "      <td>Gar.</td>\n",
       "      <td>72364</td>\n",
       "      <td>None</td>\n",
       "      <td>None</td>\n",
       "    </tr>\n",
       "    <tr>\n",
       "      <th>332</th>\n",
       "      <td>Saint-Étienne (ASSE)</td>\n",
       "      <td>38</td>\n",
       "      <td>34.0</td>\n",
       "      <td>Yanis Lhery</td>\n",
       "      <td>Y. Lhery</td>\n",
       "      <td>2003-07-05</td>\n",
       "      <td>Att.</td>\n",
       "      <td>87893</td>\n",
       "      <td>None</td>\n",
       "      <td>None</td>\n",
       "    </tr>\n",
       "    <tr>\n",
       "      <th>342</th>\n",
       "      <td>Monaco</td>\n",
       "      <td>25</td>\n",
       "      <td>41.0</td>\n",
       "      <td>Felix Lemarechal</td>\n",
       "      <td>F. Lemarechal</td>\n",
       "      <td>2003-07-08</td>\n",
       "      <td>Mil.</td>\n",
       "      <td>90544</td>\n",
       "      <td>None</td>\n",
       "      <td>None</td>\n",
       "    </tr>\n",
       "    <tr>\n",
       "      <th>346</th>\n",
       "      <td>Metz</td>\n",
       "      <td>20</td>\n",
       "      <td>27.0</td>\n",
       "      <td>Jean-Armel Kana-Biyik</td>\n",
       "      <td>J. Kana-Biyik</td>\n",
       "      <td>1989-03-07</td>\n",
       "      <td>Déf.</td>\n",
       "      <td>28316</td>\n",
       "      <td>None</td>\n",
       "      <td>None</td>\n",
       "    </tr>\n",
       "    <tr>\n",
       "      <th>376</th>\n",
       "      <td>Lorient</td>\n",
       "      <td>11</td>\n",
       "      <td>37.0</td>\n",
       "      <td>Theo Le Bris</td>\n",
       "      <td>T. Le Bris</td>\n",
       "      <td>2002-01-10</td>\n",
       "      <td>Mil.</td>\n",
       "      <td>77183</td>\n",
       "      <td>None</td>\n",
       "      <td>None</td>\n",
       "    </tr>\n",
       "    <tr>\n",
       "      <th>428</th>\n",
       "      <td>Metz</td>\n",
       "      <td>20</td>\n",
       "      <td>34.0</td>\n",
       "      <td>Louis Mafouta</td>\n",
       "      <td>L. Mafouta</td>\n",
       "      <td>1994-02-07</td>\n",
       "      <td>Att.</td>\n",
       "      <td>58777</td>\n",
       "      <td>None</td>\n",
       "      <td>None</td>\n",
       "    </tr>\n",
       "    <tr>\n",
       "      <th>455</th>\n",
       "      <td>Lorient</td>\n",
       "      <td>11</td>\n",
       "      <td>38.0</td>\n",
       "      <td>Dango Ouattara</td>\n",
       "      <td>D. Ouattara</td>\n",
       "      <td>2002-11-02</td>\n",
       "      <td>Att.</td>\n",
       "      <td>87013</td>\n",
       "      <td>None</td>\n",
       "      <td>None</td>\n",
       "    </tr>\n",
       "    <tr>\n",
       "      <th>482</th>\n",
       "      <td>Clermont</td>\n",
       "      <td>242</td>\n",
       "      <td>28.0</td>\n",
       "      <td>Yadaly Diaby</td>\n",
       "      <td>Y. Diaby</td>\n",
       "      <td>2000-09-08</td>\n",
       "      <td>Mil.</td>\n",
       "      <td>93026</td>\n",
       "      <td>None</td>\n",
       "      <td>None</td>\n",
       "    </tr>\n",
       "    <tr>\n",
       "      <th>505</th>\n",
       "      <td>Brest</td>\n",
       "      <td>267</td>\n",
       "      <td>8.0</td>\n",
       "      <td>Paul Lasne</td>\n",
       "      <td>P. Lasne</td>\n",
       "      <td>1989-01-16</td>\n",
       "      <td>Mil.</td>\n",
       "      <td>255000000000000000000025947</td>\n",
       "      <td>None</td>\n",
       "      <td>None</td>\n",
       "    </tr>\n",
       "    <tr>\n",
       "      <th>513</th>\n",
       "      <td>Lille</td>\n",
       "      <td>43</td>\n",
       "      <td>11.0</td>\n",
       "      <td>Hatem Ben Arfa</td>\n",
       "      <td>H. Ben Arfa</td>\n",
       "      <td>1987-07-03</td>\n",
       "      <td>Att.</td>\n",
       "      <td>20671</td>\n",
       "      <td>None</td>\n",
       "      <td>None</td>\n",
       "    </tr>\n",
       "    <tr>\n",
       "      <th>517</th>\n",
       "      <td>Lyon (OL)</td>\n",
       "      <td>22</td>\n",
       "      <td>45.0</td>\n",
       "      <td>Bradley Barcola</td>\n",
       "      <td>B. Barcola</td>\n",
       "      <td>NaT</td>\n",
       "      <td>Att.</td>\n",
       "      <td>83812</td>\n",
       "      <td>None</td>\n",
       "      <td>None</td>\n",
       "    </tr>\n",
       "    <tr>\n",
       "      <th>525</th>\n",
       "      <td>Lens</td>\n",
       "      <td>9</td>\n",
       "      <td>27.0</td>\n",
       "      <td>Samba Sow</td>\n",
       "      <td>S. Sow</td>\n",
       "      <td>1989-04-29</td>\n",
       "      <td>Mil.</td>\n",
       "      <td>18955</td>\n",
       "      <td>None</td>\n",
       "      <td>None</td>\n",
       "    </tr>\n",
       "  </tbody>\n",
       "</table>\n",
       "</div>"
      ],
      "text/plain": [
       "                      club  club_id  number                   name  \\\n",
       "10                 Angers       374    23.0         Nabil Bentaleb   \n",
       "197                Rennes        14    17.0          Loum Tchaouna   \n",
       "291                Monaco        25    35.0      Maghnes Akliouche   \n",
       "323             Lyon (OL)        22    40.0         Kayne Bonnevie   \n",
       "332  Saint-Étienne (ASSE)        38    34.0            Yanis Lhery   \n",
       "342                Monaco        25    41.0       Felix Lemarechal   \n",
       "346                  Metz        20    27.0  Jean-Armel Kana-Biyik   \n",
       "376               Lorient        11    37.0           Theo Le Bris   \n",
       "428                  Metz        20    34.0          Louis Mafouta   \n",
       "455               Lorient        11    38.0         Dango Ouattara   \n",
       "482               Clermont      242    28.0           Yadaly Diaby   \n",
       "505                 Brest       267     8.0             Paul Lasne   \n",
       "513                 Lille        43    11.0         Hatem Ben Arfa   \n",
       "517             Lyon (OL)        22    45.0        Bradley Barcola   \n",
       "525                  Lens         9    27.0              Samba Sow   \n",
       "\n",
       "        short_name        DoB poste                   lequipe_id  \\\n",
       "10     N. Bentaleb 1994-11-24  Mil.                        50329   \n",
       "197    L. Tchaouna 2003-08-09  Att.                        88826   \n",
       "291   M. Akliouche 2002-02-25  Mil.                        83186   \n",
       "323    K. Bonnevie        NaT  Gar.                        72364   \n",
       "332       Y. Lhery 2003-07-05  Att.                        87893   \n",
       "342  F. Lemarechal 2003-07-08  Mil.                        90544   \n",
       "346  J. Kana-Biyik 1989-03-07  Déf.                        28316   \n",
       "376     T. Le Bris 2002-01-10  Mil.                        77183   \n",
       "428     L. Mafouta 1994-02-07  Att.                        58777   \n",
       "455    D. Ouattara 2002-11-02  Att.                        87013   \n",
       "482       Y. Diaby 2000-09-08  Mil.                        93026   \n",
       "505       P. Lasne 1989-01-16  Mil.  255000000000000000000025947   \n",
       "513    H. Ben Arfa 1987-07-03  Att.                        20671   \n",
       "517     B. Barcola        NaT  Att.                        83812   \n",
       "525         S. Sow 1989-04-29  Mil.                        18955   \n",
       "\n",
       "    fifa_index_ln sofifa_id  \n",
       "10           None      None  \n",
       "197          None      None  \n",
       "291          None      None  \n",
       "323          None      None  \n",
       "332          None      None  \n",
       "342          None      None  \n",
       "346          None      None  \n",
       "376          None      None  \n",
       "428          None      None  \n",
       "455          None      None  \n",
       "482          None      None  \n",
       "505          None      None  \n",
       "513          None      None  \n",
       "517          None      None  \n",
       "525          None      None  "
      ]
     },
     "execution_count": 458,
     "metadata": {},
     "output_type": "execute_result"
    }
   ],
   "source": [
    "players_good['sofifa_id'] = None\n",
    "players_good.loc[players_good.fifa_index_ln.isnull(),:]"
   ]
  },
  {
   "cell_type": "code",
   "execution_count": 459,
   "metadata": {},
   "outputs": [
    {
     "data": {
      "text/html": [
       "<div>\n",
       "<style scoped>\n",
       "    .dataframe tbody tr th:only-of-type {\n",
       "        vertical-align: middle;\n",
       "    }\n",
       "\n",
       "    .dataframe tbody tr th {\n",
       "        vertical-align: top;\n",
       "    }\n",
       "\n",
       "    .dataframe thead th {\n",
       "        text-align: right;\n",
       "    }\n",
       "</style>\n",
       "<table border=\"1\" class=\"dataframe\">\n",
       "  <thead>\n",
       "    <tr style=\"text-align: right;\">\n",
       "      <th></th>\n",
       "      <th>club</th>\n",
       "      <th>club_id</th>\n",
       "      <th>number</th>\n",
       "      <th>name</th>\n",
       "      <th>short_name</th>\n",
       "      <th>DoB</th>\n",
       "      <th>poste</th>\n",
       "      <th>lequipe_id</th>\n",
       "      <th>fifa_index_ln</th>\n",
       "      <th>sofifa_id</th>\n",
       "    </tr>\n",
       "  </thead>\n",
       "  <tbody>\n",
       "    <tr>\n",
       "      <th>10</th>\n",
       "      <td>Angers</td>\n",
       "      <td>374</td>\n",
       "      <td>23.0</td>\n",
       "      <td>Nabil Bentaleb</td>\n",
       "      <td>N. Bentaleb</td>\n",
       "      <td>1994-11-24</td>\n",
       "      <td>Mil.</td>\n",
       "      <td>50329</td>\n",
       "      <td>None</td>\n",
       "      <td>213296</td>\n",
       "    </tr>\n",
       "    <tr>\n",
       "      <th>197</th>\n",
       "      <td>Rennes</td>\n",
       "      <td>14</td>\n",
       "      <td>17.0</td>\n",
       "      <td>Loum Tchaouna</td>\n",
       "      <td>L. Tchaouna</td>\n",
       "      <td>2003-08-09</td>\n",
       "      <td>Att.</td>\n",
       "      <td>88826</td>\n",
       "      <td>None</td>\n",
       "      <td>264880</td>\n",
       "    </tr>\n",
       "    <tr>\n",
       "      <th>291</th>\n",
       "      <td>Monaco</td>\n",
       "      <td>25</td>\n",
       "      <td>35.0</td>\n",
       "      <td>Maghnes Akliouche</td>\n",
       "      <td>M. Akliouche</td>\n",
       "      <td>2002-02-25</td>\n",
       "      <td>Mil.</td>\n",
       "      <td>83186</td>\n",
       "      <td>None</td>\n",
       "      <td>264862</td>\n",
       "    </tr>\n",
       "    <tr>\n",
       "      <th>323</th>\n",
       "      <td>Lyon (OL)</td>\n",
       "      <td>22</td>\n",
       "      <td>40.0</td>\n",
       "      <td>Kayne Bonnevie</td>\n",
       "      <td>K. Bonnevie</td>\n",
       "      <td>NaT</td>\n",
       "      <td>Gar.</td>\n",
       "      <td>72364</td>\n",
       "      <td>None</td>\n",
       "      <td>264871</td>\n",
       "    </tr>\n",
       "    <tr>\n",
       "      <th>332</th>\n",
       "      <td>Saint-Étienne (ASSE)</td>\n",
       "      <td>38</td>\n",
       "      <td>34.0</td>\n",
       "      <td>Yanis Lhery</td>\n",
       "      <td>Y. Lhery</td>\n",
       "      <td>2003-07-05</td>\n",
       "      <td>Att.</td>\n",
       "      <td>87893</td>\n",
       "      <td>None</td>\n",
       "      <td>265687</td>\n",
       "    </tr>\n",
       "    <tr>\n",
       "      <th>342</th>\n",
       "      <td>Monaco</td>\n",
       "      <td>25</td>\n",
       "      <td>41.0</td>\n",
       "      <td>Felix Lemarechal</td>\n",
       "      <td>F. Lemarechal</td>\n",
       "      <td>2003-07-08</td>\n",
       "      <td>Mil.</td>\n",
       "      <td>90544</td>\n",
       "      <td>None</td>\n",
       "      <td>264869</td>\n",
       "    </tr>\n",
       "    <tr>\n",
       "      <th>346</th>\n",
       "      <td>Metz</td>\n",
       "      <td>20</td>\n",
       "      <td>27.0</td>\n",
       "      <td>Jean-Armel Kana-Biyik</td>\n",
       "      <td>J. Kana-Biyik</td>\n",
       "      <td>1989-03-07</td>\n",
       "      <td>Déf.</td>\n",
       "      <td>28316</td>\n",
       "      <td>None</td>\n",
       "      <td>183975</td>\n",
       "    </tr>\n",
       "    <tr>\n",
       "      <th>376</th>\n",
       "      <td>Lorient</td>\n",
       "      <td>11</td>\n",
       "      <td>37.0</td>\n",
       "      <td>Theo Le Bris</td>\n",
       "      <td>T. Le Bris</td>\n",
       "      <td>2002-01-10</td>\n",
       "      <td>Mil.</td>\n",
       "      <td>77183</td>\n",
       "      <td>None</td>\n",
       "      <td>265544</td>\n",
       "    </tr>\n",
       "    <tr>\n",
       "      <th>428</th>\n",
       "      <td>Metz</td>\n",
       "      <td>20</td>\n",
       "      <td>34.0</td>\n",
       "      <td>Louis Mafouta</td>\n",
       "      <td>L. Mafouta</td>\n",
       "      <td>1994-02-07</td>\n",
       "      <td>Att.</td>\n",
       "      <td>58777</td>\n",
       "      <td>None</td>\n",
       "      <td>266586</td>\n",
       "    </tr>\n",
       "    <tr>\n",
       "      <th>455</th>\n",
       "      <td>Lorient</td>\n",
       "      <td>11</td>\n",
       "      <td>38.0</td>\n",
       "      <td>Dango Ouattara</td>\n",
       "      <td>D. Ouattara</td>\n",
       "      <td>2002-11-02</td>\n",
       "      <td>Att.</td>\n",
       "      <td>87013</td>\n",
       "      <td>None</td>\n",
       "      <td>265552</td>\n",
       "    </tr>\n",
       "    <tr>\n",
       "      <th>482</th>\n",
       "      <td>Clermont</td>\n",
       "      <td>242</td>\n",
       "      <td>28.0</td>\n",
       "      <td>Yadaly Diaby</td>\n",
       "      <td>Y. Diaby</td>\n",
       "      <td>2000-09-08</td>\n",
       "      <td>Mil.</td>\n",
       "      <td>93026</td>\n",
       "      <td>None</td>\n",
       "      <td>265689</td>\n",
       "    </tr>\n",
       "    <tr>\n",
       "      <th>505</th>\n",
       "      <td>Brest</td>\n",
       "      <td>267</td>\n",
       "      <td>8.0</td>\n",
       "      <td>Paul Lasne</td>\n",
       "      <td>P. Lasne</td>\n",
       "      <td>1989-01-16</td>\n",
       "      <td>Mil.</td>\n",
       "      <td>255000000000000000000025947</td>\n",
       "      <td>None</td>\n",
       "      <td>192242</td>\n",
       "    </tr>\n",
       "    <tr>\n",
       "      <th>513</th>\n",
       "      <td>Lille</td>\n",
       "      <td>43</td>\n",
       "      <td>11.0</td>\n",
       "      <td>Hatem Ben Arfa</td>\n",
       "      <td>H. Ben Arfa</td>\n",
       "      <td>1987-07-03</td>\n",
       "      <td>Att.</td>\n",
       "      <td>20671</td>\n",
       "      <td>None</td>\n",
       "      <td>161648</td>\n",
       "    </tr>\n",
       "    <tr>\n",
       "      <th>517</th>\n",
       "      <td>Lyon (OL)</td>\n",
       "      <td>22</td>\n",
       "      <td>45.0</td>\n",
       "      <td>Bradley Barcola</td>\n",
       "      <td>B. Barcola</td>\n",
       "      <td>NaT</td>\n",
       "      <td>Att.</td>\n",
       "      <td>83812</td>\n",
       "      <td>None</td>\n",
       "      <td>264652</td>\n",
       "    </tr>\n",
       "    <tr>\n",
       "      <th>525</th>\n",
       "      <td>Lens</td>\n",
       "      <td>9</td>\n",
       "      <td>27.0</td>\n",
       "      <td>Samba Sow</td>\n",
       "      <td>S. Sow</td>\n",
       "      <td>1989-04-29</td>\n",
       "      <td>Mil.</td>\n",
       "      <td>18955</td>\n",
       "      <td>None</td>\n",
       "      <td>191151</td>\n",
       "    </tr>\n",
       "  </tbody>\n",
       "</table>\n",
       "</div>"
      ],
      "text/plain": [
       "                      club  club_id  number                   name  \\\n",
       "10                 Angers       374    23.0         Nabil Bentaleb   \n",
       "197                Rennes        14    17.0          Loum Tchaouna   \n",
       "291                Monaco        25    35.0      Maghnes Akliouche   \n",
       "323             Lyon (OL)        22    40.0         Kayne Bonnevie   \n",
       "332  Saint-Étienne (ASSE)        38    34.0            Yanis Lhery   \n",
       "342                Monaco        25    41.0       Felix Lemarechal   \n",
       "346                  Metz        20    27.0  Jean-Armel Kana-Biyik   \n",
       "376               Lorient        11    37.0           Theo Le Bris   \n",
       "428                  Metz        20    34.0          Louis Mafouta   \n",
       "455               Lorient        11    38.0         Dango Ouattara   \n",
       "482               Clermont      242    28.0           Yadaly Diaby   \n",
       "505                 Brest       267     8.0             Paul Lasne   \n",
       "513                 Lille        43    11.0         Hatem Ben Arfa   \n",
       "517             Lyon (OL)        22    45.0        Bradley Barcola   \n",
       "525                  Lens         9    27.0              Samba Sow   \n",
       "\n",
       "        short_name        DoB poste                   lequipe_id  \\\n",
       "10     N. Bentaleb 1994-11-24  Mil.                        50329   \n",
       "197    L. Tchaouna 2003-08-09  Att.                        88826   \n",
       "291   M. Akliouche 2002-02-25  Mil.                        83186   \n",
       "323    K. Bonnevie        NaT  Gar.                        72364   \n",
       "332       Y. Lhery 2003-07-05  Att.                        87893   \n",
       "342  F. Lemarechal 2003-07-08  Mil.                        90544   \n",
       "346  J. Kana-Biyik 1989-03-07  Déf.                        28316   \n",
       "376     T. Le Bris 2002-01-10  Mil.                        77183   \n",
       "428     L. Mafouta 1994-02-07  Att.                        58777   \n",
       "455    D. Ouattara 2002-11-02  Att.                        87013   \n",
       "482       Y. Diaby 2000-09-08  Mil.                        93026   \n",
       "505       P. Lasne 1989-01-16  Mil.  255000000000000000000025947   \n",
       "513    H. Ben Arfa 1987-07-03  Att.                        20671   \n",
       "517     B. Barcola        NaT  Att.                        83812   \n",
       "525         S. Sow 1989-04-29  Mil.                        18955   \n",
       "\n",
       "    fifa_index_ln sofifa_id  \n",
       "10           None    213296  \n",
       "197          None    264880  \n",
       "291          None    264862  \n",
       "323          None    264871  \n",
       "332          None    265687  \n",
       "342          None    264869  \n",
       "346          None    183975  \n",
       "376          None    265544  \n",
       "428          None    266586  \n",
       "455          None    265552  \n",
       "482          None    265689  \n",
       "505          None    192242  \n",
       "513          None    161648  \n",
       "517          None    264652  \n",
       "525          None    191151  "
      ]
     },
     "execution_count": 459,
     "metadata": {},
     "output_type": "execute_result"
    }
   ],
   "source": [
    "for i, player_id in enumerate(player_change_list):\n",
    "    players_good.loc[players_good.lequipe_id==player_id, 'sofifa_id'] = sofifa_id_list[i]\n",
    "    \n",
    "players_good.loc[players_good.fifa_index_ln.isnull(),:]"
   ]
  },
  {
   "cell_type": "code",
   "execution_count": 467,
   "metadata": {},
   "outputs": [
    {
     "data": {
      "text/html": [
       "<div>\n",
       "<style scoped>\n",
       "    .dataframe tbody tr th:only-of-type {\n",
       "        vertical-align: middle;\n",
       "    }\n",
       "\n",
       "    .dataframe tbody tr th {\n",
       "        vertical-align: top;\n",
       "    }\n",
       "\n",
       "    .dataframe thead th {\n",
       "        text-align: right;\n",
       "    }\n",
       "</style>\n",
       "<table border=\"1\" class=\"dataframe\">\n",
       "  <thead>\n",
       "    <tr style=\"text-align: right;\">\n",
       "      <th></th>\n",
       "      <th>club</th>\n",
       "      <th>club_id</th>\n",
       "      <th>number</th>\n",
       "      <th>name</th>\n",
       "      <th>short_name</th>\n",
       "      <th>DoB</th>\n",
       "      <th>poste</th>\n",
       "      <th>lequipe_id</th>\n",
       "      <th>fifa_index_ln</th>\n",
       "      <th>sofifa_id</th>\n",
       "    </tr>\n",
       "  </thead>\n",
       "  <tbody>\n",
       "    <tr>\n",
       "      <th>0</th>\n",
       "      <td>Angers</td>\n",
       "      <td>374</td>\n",
       "      <td>16.0</td>\n",
       "      <td>Anthony Mandrea</td>\n",
       "      <td>A. Mandrea</td>\n",
       "      <td>1996-12-25</td>\n",
       "      <td>Gar.</td>\n",
       "      <td>50523</td>\n",
       "      <td>12485</td>\n",
       "      <td>220833</td>\n",
       "    </tr>\n",
       "  </tbody>\n",
       "</table>\n",
       "</div>"
      ],
      "text/plain": [
       "      club  club_id  number             name  short_name        DoB poste  \\\n",
       "0  Angers       374    16.0  Anthony Mandrea  A. Mandrea 1996-12-25  Gar.   \n",
       "\n",
       "  lequipe_id fifa_index_ln sofifa_id  \n",
       "0      50523         12485    220833  "
      ]
     },
     "execution_count": 467,
     "metadata": {},
     "output_type": "execute_result"
    }
   ],
   "source": [
    "players_good.head(1)"
   ]
  },
  {
   "cell_type": "code",
   "execution_count": 464,
   "metadata": {},
   "outputs": [
    {
     "data": {
      "text/plain": [
       "220833"
      ]
     },
     "execution_count": 464,
     "metadata": {},
     "output_type": "execute_result"
    }
   ],
   "source": [
    "fifa22.loc[12485,'sofifa_id']"
   ]
  },
  {
   "cell_type": "code",
   "execution_count": 466,
   "metadata": {},
   "outputs": [],
   "source": [
    "players_good.loc[~players_good.fifa_index_ln.isnull(),'sofifa_id'] = \\\n",
    "    players_good.loc[~players_good.fifa_index_ln.isnull(),'fifa_index_ln'].apply(lambda x: fifa22.loc[x,'sofifa_id'])"
   ]
  },
  {
   "cell_type": "code",
   "execution_count": 478,
   "metadata": {},
   "outputs": [],
   "source": [
    "players = pd.merge(players,players_good.loc[:,['lequipe_id','sofifa_id']], on = ['lequipe_id'], how = 'left')"
   ]
  },
  {
   "cell_type": "code",
   "execution_count": 480,
   "metadata": {},
   "outputs": [],
   "source": [
    "players.to_csv('players_sofifa.csv', index=False)"
   ]
  },
  {
   "cell_type": "code",
   "execution_count": null,
   "metadata": {},
   "outputs": [],
   "source": []
  }
 ],
 "metadata": {
  "interpreter": {
   "hash": "7487845996c7ba5663e8475bda763caf28d03a7733caf66b680b36d8ed7e8fd6"
  },
  "kernelspec": {
   "display_name": "Python 3.9.7 64-bit ('foot_env': conda)",
   "language": "python",
   "name": "python3"
  },
  "language_info": {
   "codemirror_mode": {
    "name": "ipython",
    "version": 3
   },
   "file_extension": ".py",
   "mimetype": "text/x-python",
   "name": "python",
   "nbconvert_exporter": "python",
   "pygments_lexer": "ipython3",
   "version": "3.9.7"
  },
  "orig_nbformat": 4
 },
 "nbformat": 4,
 "nbformat_minor": 2
}
