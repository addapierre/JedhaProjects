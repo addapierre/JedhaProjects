{
 "cells": [
  {
   "cell_type": "code",
   "execution_count": 4,
   "metadata": {},
   "outputs": [],
   "source": [
    "import pandas as pd\n",
    "import json\n",
    "import numpy as np"
   ]
  },
  {
   "cell_type": "code",
   "execution_count": 2,
   "metadata": {},
   "outputs": [
    {
     "data": {
      "text/html": [
       "<div>\n",
       "<style scoped>\n",
       "    .dataframe tbody tr th:only-of-type {\n",
       "        vertical-align: middle;\n",
       "    }\n",
       "\n",
       "    .dataframe tbody tr th {\n",
       "        vertical-align: top;\n",
       "    }\n",
       "\n",
       "    .dataframe thead th {\n",
       "        text-align: right;\n",
       "    }\n",
       "</style>\n",
       "<table border=\"1\" class=\"dataframe\">\n",
       "  <thead>\n",
       "    <tr style=\"text-align: right;\">\n",
       "      <th></th>\n",
       "      <th>day0</th>\n",
       "      <th>day1</th>\n",
       "      <th>day2</th>\n",
       "      <th>day3</th>\n",
       "      <th>day4</th>\n",
       "      <th>day5</th>\n",
       "      <th>day6</th>\n",
       "      <th>day7</th>\n",
       "    </tr>\n",
       "  </thead>\n",
       "  <tbody>\n",
       "    <tr>\n",
       "      <th>0</th>\n",
       "      <td>{'dt': 1644494400, 'sunrise': 1644477754, 'sun...</td>\n",
       "      <td>{'dt': 1644580800, 'sunrise': 1644564057, 'sun...</td>\n",
       "      <td>{'dt': 1644667200, 'sunrise': 1644650359, 'sun...</td>\n",
       "      <td>{'dt': 1644753600, 'sunrise': 1644736659, 'sun...</td>\n",
       "      <td>{'dt': 1644840000, 'sunrise': 1644822958, 'sun...</td>\n",
       "      <td>{'dt': 1644926400, 'sunrise': 1644909256, 'sun...</td>\n",
       "      <td>{'dt': 1645012800, 'sunrise': 1644995552, 'sun...</td>\n",
       "      <td>{'dt': 1645099200, 'sunrise': 1645081847, 'sun...</td>\n",
       "    </tr>\n",
       "  </tbody>\n",
       "</table>\n",
       "</div>"
      ],
      "text/plain": [
       "                                                day0  \\\n",
       "0  {'dt': 1644494400, 'sunrise': 1644477754, 'sun...   \n",
       "\n",
       "                                                day1  \\\n",
       "0  {'dt': 1644580800, 'sunrise': 1644564057, 'sun...   \n",
       "\n",
       "                                                day2  \\\n",
       "0  {'dt': 1644667200, 'sunrise': 1644650359, 'sun...   \n",
       "\n",
       "                                                day3  \\\n",
       "0  {'dt': 1644753600, 'sunrise': 1644736659, 'sun...   \n",
       "\n",
       "                                                day4  \\\n",
       "0  {'dt': 1644840000, 'sunrise': 1644822958, 'sun...   \n",
       "\n",
       "                                                day5  \\\n",
       "0  {'dt': 1644926400, 'sunrise': 1644909256, 'sun...   \n",
       "\n",
       "                                                day6  \\\n",
       "0  {'dt': 1645012800, 'sunrise': 1644995552, 'sun...   \n",
       "\n",
       "                                                day7  \n",
       "0  {'dt': 1645099200, 'sunrise': 1645081847, 'sun...  "
      ]
     },
     "metadata": {},
     "output_type": "display_data"
    },
    {
     "data": {
      "text/html": [
       "<div>\n",
       "<style scoped>\n",
       "    .dataframe tbody tr th:only-of-type {\n",
       "        vertical-align: middle;\n",
       "    }\n",
       "\n",
       "    .dataframe tbody tr th {\n",
       "        vertical-align: top;\n",
       "    }\n",
       "\n",
       "    .dataframe thead th {\n",
       "        text-align: right;\n",
       "    }\n",
       "</style>\n",
       "<table border=\"1\" class=\"dataframe\">\n",
       "  <thead>\n",
       "    <tr style=\"text-align: right;\">\n",
       "      <th></th>\n",
       "      <th>Places</th>\n",
       "      <th>latitude</th>\n",
       "      <th>longitude</th>\n",
       "    </tr>\n",
       "  </thead>\n",
       "  <tbody>\n",
       "    <tr>\n",
       "      <th>0</th>\n",
       "      <td>Mont Saint Michel</td>\n",
       "      <td>48.635523</td>\n",
       "      <td>-1.510257</td>\n",
       "    </tr>\n",
       "  </tbody>\n",
       "</table>\n",
       "</div>"
      ],
      "text/plain": [
       "              Places   latitude  longitude\n",
       "0  Mont Saint Michel  48.635523  -1.510257"
      ]
     },
     "execution_count": 2,
     "metadata": {},
     "output_type": "execute_result"
    }
   ],
   "source": [
    "meteo=pd.read_json('meteo.json')\n",
    "display(meteo.head(1))\n",
    "df_ville = pd.read_csv('villes.csv')\n",
    "df_ville.head(1)"
   ]
  },
  {
   "cell_type": "code",
   "execution_count": 6,
   "metadata": {},
   "outputs": [
    {
     "data": {
      "text/html": [
       "<div>\n",
       "<style scoped>\n",
       "    .dataframe tbody tr th:only-of-type {\n",
       "        vertical-align: middle;\n",
       "    }\n",
       "\n",
       "    .dataframe tbody tr th {\n",
       "        vertical-align: top;\n",
       "    }\n",
       "\n",
       "    .dataframe thead th {\n",
       "        text-align: right;\n",
       "    }\n",
       "</style>\n",
       "<table border=\"1\" class=\"dataframe\">\n",
       "  <thead>\n",
       "    <tr style=\"text-align: right;\">\n",
       "      <th></th>\n",
       "      <th>Places</th>\n",
       "      <th>latitude</th>\n",
       "      <th>longitude</th>\n",
       "      <th>jour</th>\n",
       "      <th>date</th>\n",
       "      <th>Tmin</th>\n",
       "      <th>Tmax</th>\n",
       "      <th>Humidity</th>\n",
       "      <th>Weather</th>\n",
       "      <th>clouds</th>\n",
       "      <th>WeatherCode</th>\n",
       "      <th>icone</th>\n",
       "    </tr>\n",
       "  </thead>\n",
       "  <tbody>\n",
       "    <tr>\n",
       "      <th>0</th>\n",
       "      <td>Mont Saint Michel</td>\n",
       "      <td>48.635523</td>\n",
       "      <td>-1.510257</td>\n",
       "      <td>0.0</td>\n",
       "      <td>2022-02-10 12:00:00</td>\n",
       "      <td>4.34</td>\n",
       "      <td>9.06</td>\n",
       "      <td>84.0</td>\n",
       "      <td>Rain (light rain)</td>\n",
       "      <td>99.0</td>\n",
       "      <td>500.0</td>\n",
       "      <td>http://openweathermap.org/img/wn/10d.png</td>\n",
       "    </tr>\n",
       "  </tbody>\n",
       "</table>\n",
       "</div>"
      ],
      "text/plain": [
       "              Places   latitude  longitude  jour                date  Tmin  \\\n",
       "0  Mont Saint Michel  48.635523  -1.510257   0.0 2022-02-10 12:00:00  4.34   \n",
       "\n",
       "   Tmax  Humidity            Weather  clouds  WeatherCode  \\\n",
       "0  9.06      84.0  Rain (light rain)    99.0        500.0   \n",
       "\n",
       "                                      icone  \n",
       "0  http://openweathermap.org/img/wn/10d.png  "
      ]
     },
     "execution_count": 6,
     "metadata": {},
     "output_type": "execute_result"
    }
   ],
   "source": [
    "def rempli_jour(jour,j):\n",
    "    \n",
    "    for i in range(jour.shape[0]):\n",
    "        jour.loc[i,'jour'] = int(j)\n",
    "        jour.loc[i,'date'] = meteo.iloc[i,j]['dt']\n",
    "        jour.loc[i,'Tmin'] = meteo.iloc[i,j]['temp']['min']-273.15\n",
    "        jour.loc[i,'Tmax'] = meteo.iloc[i,j]['temp']['max']-273.15\n",
    "        jour.loc[i,'Humidity'] = meteo.iloc[i,j]['humidity']\n",
    "        jour.loc[i,'Weather'] = meteo.iloc[i,j]['weather'][0]['main'] + \" (\" + meteo.iloc[i,j]['weather'][0]['description'] + ')'\n",
    "        jour.loc[i,'clouds'] = meteo.iloc[i,j]['clouds']\n",
    "        jour.loc[i,'WeatherCode'] = meteo.iloc[i,j]['weather'][0]['id']\n",
    "        jour.loc[i,'icone'] = 'http://openweathermap.org/img/wn/'+meteo.iloc[i,j]['weather'][0]['icon']+'.png'\n",
    "    jour.date = pd.to_datetime(jour.date, unit = 's')\n",
    "    return None\n",
    "\n",
    "locs = locals()\n",
    "for i in range(8):\n",
    "    locs['jour_'+str(i)] = df_ville.copy()\n",
    "    rempli_jour( locs['jour_'+str(i)] ,i)\n",
    "    \n",
    "jour_0.head(1)"
   ]
  },
  {
   "cell_type": "code",
   "execution_count": 9,
   "metadata": {},
   "outputs": [],
   "source": [
    "# construisons un grand dataframe avec les données de toute la semaine\n",
    "meteo_week = pd.concat([locs['jour_'+str(i)] for i in range(8)]).reset_index(drop = True)"
   ]
  },
  {
   "cell_type": "code",
   "execution_count": 10,
   "metadata": {},
   "outputs": [],
   "source": [
    "meteo_week.to_csv(\"meteo_week.csv\", index = False)"
   ]
  },
  {
   "cell_type": "code",
   "execution_count": null,
   "metadata": {},
   "outputs": [],
   "source": []
  }
 ],
 "metadata": {
  "interpreter": {
   "hash": "dc828690f4a5a1e139d778a9da2b25ae0eb3628e122c41d57ce95a321c89e00f"
  },
  "kernelspec": {
   "display_name": "Python 3.9.7 ('uberenv')",
   "language": "python",
   "name": "python3"
  },
  "language_info": {
   "codemirror_mode": {
    "name": "ipython",
    "version": 3
   },
   "file_extension": ".py",
   "mimetype": "text/x-python",
   "name": "python",
   "nbconvert_exporter": "python",
   "pygments_lexer": "ipython3",
   "version": "3.9.7"
  },
  "orig_nbformat": 4
 },
 "nbformat": 4,
 "nbformat_minor": 2
}
